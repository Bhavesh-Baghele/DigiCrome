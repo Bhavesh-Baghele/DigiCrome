{
 "cells": [
  {
   "cell_type": "code",
   "execution_count": 1,
   "id": "b659edf2",
   "metadata": {},
   "outputs": [
    {
     "name": "stdout",
     "output_type": "stream",
     "text": [
      "enter wg: 98\n",
      "You are over wg!!!\n"
     ]
    }
   ],
   "source": [
    "wg=int(input(\"enter wg: \"))\n",
    "\n",
    "if wg>90:\n",
    "    print(\"You are over wg!!!\")"
   ]
  },
  {
   "cell_type": "code",
   "execution_count": 2,
   "id": "6bd6fad2",
   "metadata": {},
   "outputs": [
    {
     "name": "stdout",
     "output_type": "stream",
     "text": [
      "enter wg: 45\n"
     ]
    }
   ],
   "source": [
    "wg=int(input(\"enter wg: \"))\n",
    "\n",
    "if wg>90:\n",
    "    print(\"You are over wg!!!\")"
   ]
  },
  {
   "cell_type": "code",
   "execution_count": 4,
   "id": "10bea31b",
   "metadata": {},
   "outputs": [
    {
     "name": "stdout",
     "output_type": "stream",
     "text": [
      "enter wg: 67\n",
      "Normal Wg\n"
     ]
    }
   ],
   "source": [
    "wg=int(input(\"enter wg: \"))\n",
    "\n",
    "if wg>90:\n",
    "    print(\"You are over wg!!!\")\n",
    "else:\n",
    "    print(\"Normal Wg\")"
   ]
  },
  {
   "cell_type": "code",
   "execution_count": 5,
   "id": "4d49524b",
   "metadata": {},
   "outputs": [],
   "source": [
    "if False:\n",
    "    \n",
    "    print(\"hello1\")\n",
    "    print(\"hello2\")\n",
    "    print(\"hello3\")\n",
    "    print(\"hello4\")\n",
    "    print(\"hello5\")\n",
    "    print(\"hello6\")\n",
    "    "
   ]
  },
  {
   "cell_type": "code",
   "execution_count": 6,
   "id": "afd24278",
   "metadata": {},
   "outputs": [
    {
     "name": "stdout",
     "output_type": "stream",
     "text": [
      "Enter Your Age: 56\n"
     ]
    },
    {
     "data": {
      "text/plain": [
       "False"
      ]
     },
     "execution_count": 6,
     "metadata": {},
     "output_type": "execute_result"
    }
   ],
   "source": [
    "# ex\n",
    "age=int(input(\"Enter Your Age: \"))\n",
    "age>12 and age<20  # then its a teen category"
   ]
  },
  {
   "cell_type": "markdown",
   "id": "07074273",
   "metadata": {},
   "source": [
    "### Logical Gates and Logical Operators"
   ]
  },
  {
   "cell_type": "code",
   "execution_count": 7,
   "id": "6a6f8466",
   "metadata": {},
   "outputs": [
    {
     "name": "stdout",
     "output_type": "stream",
     "text": [
      "body execute\n",
      "body execute\n"
     ]
    }
   ],
   "source": [
    "if True:\n",
    "    print(\"body execute\")\n",
    " #===========================\n",
    "if 55>6:\n",
    "    print(\"body execute\")"
   ]
  },
  {
   "cell_type": "code",
   "execution_count": 3,
   "id": "65384b9c",
   "metadata": {},
   "outputs": [],
   "source": [
    "if False:\n",
    "    print(\"body execute\")\n",
    " #===========================\n",
    "if 55>62:\n",
    "    print(\"body execute\")"
   ]
  },
  {
   "cell_type": "code",
   "execution_count": 8,
   "id": "a5cf438c",
   "metadata": {},
   "outputs": [
    {
     "data": {
      "text/plain": [
       "True"
      ]
     },
     "execution_count": 8,
     "metadata": {},
     "output_type": "execute_result"
    }
   ],
   "source": [
    "10>9"
   ]
  },
  {
   "cell_type": "code",
   "execution_count": 9,
   "id": "5e1eea7f",
   "metadata": {},
   "outputs": [
    {
     "data": {
      "text/plain": [
       "False"
      ]
     },
     "execution_count": 9,
     "metadata": {},
     "output_type": "execute_result"
    }
   ],
   "source": [
    "53<6"
   ]
  },
  {
   "cell_type": "code",
   "execution_count": 10,
   "id": "d0080cf1",
   "metadata": {},
   "outputs": [
    {
     "data": {
      "text/plain": [
       "True"
      ]
     },
     "execution_count": 10,
     "metadata": {},
     "output_type": "execute_result"
    }
   ],
   "source": [
    "4==4  # both are equals"
   ]
  },
  {
   "cell_type": "code",
   "execution_count": 11,
   "id": "66a9ac3a",
   "metadata": {},
   "outputs": [
    {
     "data": {
      "text/plain": [
       "False"
      ]
     },
     "execution_count": 11,
     "metadata": {},
     "output_type": "execute_result"
    }
   ],
   "source": [
    "4>4"
   ]
  },
  {
   "cell_type": "code",
   "execution_count": 12,
   "id": "468e2f9f",
   "metadata": {},
   "outputs": [
    {
     "data": {
      "text/plain": [
       "True"
      ]
     },
     "execution_count": 12,
     "metadata": {},
     "output_type": "execute_result"
    }
   ],
   "source": [
    "4>=4  # left is gr8 or eq too"
   ]
  },
  {
   "cell_type": "markdown",
   "id": "f25a2220",
   "metadata": {},
   "source": [
    "### And or Not"
   ]
  },
  {
   "cell_type": "code",
   "execution_count": 13,
   "id": "888c5899",
   "metadata": {},
   "outputs": [
    {
     "data": {
      "text/plain": [
       "True"
      ]
     },
     "execution_count": 13,
     "metadata": {},
     "output_type": "execute_result"
    }
   ],
   "source": [
    "True and True  # only when both the conditions are true"
   ]
  },
  {
   "cell_type": "code",
   "execution_count": 14,
   "id": "723e833f",
   "metadata": {},
   "outputs": [
    {
     "data": {
      "text/plain": [
       "False"
      ]
     },
     "execution_count": 14,
     "metadata": {},
     "output_type": "execute_result"
    }
   ],
   "source": [
    "3>4 and 4>5  # both has to be true      # y for coding cell and m for markdown"
   ]
  },
  {
   "cell_type": "code",
   "execution_count": 15,
   "id": "415865ca",
   "metadata": {},
   "outputs": [
    {
     "name": "stdout",
     "output_type": "stream",
     "text": [
      "Enter Your Age: 56\n"
     ]
    },
    {
     "data": {
      "text/plain": [
       "False"
      ]
     },
     "execution_count": 15,
     "metadata": {},
     "output_type": "execute_result"
    }
   ],
   "source": [
    "# ex\n",
    "age=int(input(\"Enter Your Age: \"))\n",
    "age>12 and age<20  # then its a teen category"
   ]
  },
  {
   "cell_type": "code",
   "execution_count": 16,
   "id": "e9baf79a",
   "metadata": {},
   "outputs": [
    {
     "data": {
      "text/plain": [
       "False"
      ]
     },
     "execution_count": 16,
     "metadata": {},
     "output_type": "execute_result"
    }
   ],
   "source": [
    "False or False # both has to be false to get a False"
   ]
  },
  {
   "cell_type": "code",
   "execution_count": 17,
   "id": "650acff0",
   "metadata": {},
   "outputs": [
    {
     "data": {
      "text/plain": [
       "True"
      ]
     },
     "execution_count": 17,
     "metadata": {},
     "output_type": "execute_result"
    }
   ],
   "source": [
    "True or False # only one of them is true it will be a true"
   ]
  },
  {
   "cell_type": "code",
   "execution_count": 18,
   "id": "afdbfcea",
   "metadata": {},
   "outputs": [
    {
     "data": {
      "text/plain": [
       "bool"
      ]
     },
     "execution_count": 18,
     "metadata": {},
     "output_type": "execute_result"
    }
   ],
   "source": [
    "type(True)"
   ]
  },
  {
   "cell_type": "code",
   "execution_count": 19,
   "id": "ce0f14e0",
   "metadata": {},
   "outputs": [
    {
     "data": {
      "text/plain": [
       "False"
      ]
     },
     "execution_count": 19,
     "metadata": {},
     "output_type": "execute_result"
    }
   ],
   "source": [
    "3>4 or 2>3"
   ]
  },
  {
   "cell_type": "code",
   "execution_count": 20,
   "id": "5d314946",
   "metadata": {
    "scrolled": true
   },
   "outputs": [
    {
     "name": "stdout",
     "output_type": "stream",
     "text": [
      "Enter Your Age: 67\n"
     ]
    },
    {
     "data": {
      "text/plain": [
       "True"
      ]
     },
     "execution_count": 20,
     "metadata": {},
     "output_type": "execute_result"
    }
   ],
   "source": [
    "# ex\n",
    "age=int(input(\"Enter Your Age: \"))\n",
    "age>12 or age<20  # then its a teen category"
   ]
  },
  {
   "cell_type": "code",
   "execution_count": 21,
   "id": "46fbe335",
   "metadata": {},
   "outputs": [
    {
     "data": {
      "text/plain": [
       "False"
      ]
     },
     "execution_count": 21,
     "metadata": {},
     "output_type": "execute_result"
    }
   ],
   "source": [
    "not True  # not symbol !"
   ]
  },
  {
   "cell_type": "code",
   "execution_count": 22,
   "id": "4b18a22b",
   "metadata": {},
   "outputs": [
    {
     "data": {
      "text/plain": [
       "False"
      ]
     },
     "execution_count": 22,
     "metadata": {},
     "output_type": "execute_result"
    }
   ],
   "source": [
    "4!=4  # NOT-->  ! # not equals too"
   ]
  },
  {
   "cell_type": "code",
   "execution_count": 23,
   "id": "96696eca",
   "metadata": {},
   "outputs": [
    {
     "data": {
      "text/plain": [
       "True"
      ]
     },
     "execution_count": 23,
     "metadata": {},
     "output_type": "execute_result"
    }
   ],
   "source": [
    "4!=9"
   ]
  },
  {
   "cell_type": "code",
   "execution_count": 6,
   "id": "c6e7f682",
   "metadata": {},
   "outputs": [
    {
     "data": {
      "text/plain": [
       "True"
      ]
     },
     "execution_count": 6,
     "metadata": {},
     "output_type": "execute_result"
    }
   ],
   "source": [
    "4!3"
   ]
  },
  {
   "cell_type": "markdown",
   "id": "3675029c",
   "metadata": {},
   "source": [
    "### If Condition"
   ]
  },
  {
   "cell_type": "code",
   "execution_count": 7,
   "id": "641023b7",
   "metadata": {},
   "outputs": [],
   "source": [
    "if True:\n",
    "    \"BODY\""
   ]
  },
  {
   "cell_type": "code",
   "execution_count": 25,
   "id": "0c0dd869",
   "metadata": {},
   "outputs": [
    {
     "name": "stdout",
     "output_type": "stream",
     "text": [
      "body execute\n"
     ]
    }
   ],
   "source": [
    "condition=True\n",
    "\n",
    "if condition==True:\n",
    "    print(\"body execute\")"
   ]
  },
  {
   "cell_type": "code",
   "execution_count": 26,
   "id": "0611abd4",
   "metadata": {},
   "outputs": [],
   "source": [
    "condition=False\n",
    "\n",
    "if condition==True:\n",
    "    print(\"body execute\")\n",
    "    \n",
    "# NO OUTPUT"
   ]
  },
  {
   "cell_type": "code",
   "execution_count": 27,
   "id": "882d9ce7",
   "metadata": {},
   "outputs": [
    {
     "name": "stdout",
     "output_type": "stream",
     "text": [
      "OUT OF IF BODY \n",
      " NO RELATION WITH IF\n"
     ]
    }
   ],
   "source": [
    "condition=False\n",
    "\n",
    "if condition==True:\n",
    "    print(\"body execute\")\n",
    "    \n",
    "print(\"OUT OF IF BODY \\n NO RELATION WITH IF\")\n",
    "#NO OUTPUT"
   ]
  },
  {
   "cell_type": "code",
   "execution_count": 30,
   "id": "8c2a70fc",
   "metadata": {},
   "outputs": [
    {
     "name": "stdout",
     "output_type": "stream",
     "text": [
      "x= 2\n",
      "Welcome Again!!!\n",
      "Thanks\n"
     ]
    }
   ],
   "source": [
    "x=int(input(\"x= \")) # 0-old ,1-new customer\n",
    "if x==1:\n",
    "    print(\"Welcome\")\n",
    "\n",
    "else:# Default Statement\n",
    "    print(\"Welcome Again!!!\")\n",
    "    \n",
    "print(\"Thanks\")  # no relation with if condition"
   ]
  },
  {
   "cell_type": "markdown",
   "id": "4bc825ba",
   "metadata": {},
   "source": [
    "### Que\n",
    "\n",
    "* Age--input\n",
    "* age>18 allow\n",
    "* age<18 do not allow to vote"
   ]
  },
  {
   "cell_type": "code",
   "execution_count": 31,
   "id": "5aea2ec9",
   "metadata": {},
   "outputs": [],
   "source": [
    "#Que\n",
    "#Age--input \n",
    "#age>18 allow \n",
    "#age<18 do not allow to vote"
   ]
  },
  {
   "cell_type": "code",
   "execution_count": 33,
   "id": "b3da4f14",
   "metadata": {},
   "outputs": [
    {
     "name": "stdout",
     "output_type": "stream",
     "text": [
      "Enter the age: 18\n",
      "Allow\n"
     ]
    }
   ],
   "source": [
    "Age = int(input(\"Enter the age: \"))\n",
    "if Age>=18:\n",
    "    print(\"Allow\")\n",
    "else:\n",
    "    print(\"Do not allow to vote\")\n",
    "print(\"Thank You\")"
   ]
  },
  {
   "cell_type": "code",
   "execution_count": 34,
   "id": "75022530",
   "metadata": {},
   "outputs": [
    {
     "name": "stdout",
     "output_type": "stream",
     "text": [
      "age= 18\n",
      "adult\n",
      "Thank You\n"
     ]
    }
   ],
   "source": [
    "x=int(input(\"age= \"))\n",
    "if x>=18:\n",
    "    print(\"adult\")\n",
    "elif x>13:   # we use elif for multiple condition\n",
    "    print(\"Teen\")\n",
    "elif x>1:\n",
    "    print(\"Minor\")\n",
    "else:\n",
    "    print(\"wrong input\")  # default statement\n",
    "print(\"Thank You\")"
   ]
  },
  {
   "cell_type": "markdown",
   "id": "7fd45038",
   "metadata": {},
   "source": [
    "### Que\n",
    "\n",
    "* age<13 minor\n",
    "\n",
    "* age<19 teen\n",
    "\n",
    "* age<45 adult\n",
    "\n",
    "* age<60 mid age\n",
    "\n",
    "* age<100 old\n",
    "\n",
    "* any other input above 100 is Wrong Input"
   ]
  },
  {
   "cell_type": "code",
   "execution_count": 3,
   "id": "aefbd266",
   "metadata": {},
   "outputs": [
    {
     "name": "stdout",
     "output_type": "stream",
     "text": [
      "age= 0\n",
      "minor\n",
      "Thank You\n"
     ]
    }
   ],
   "source": [
    "x=int(input(\"age= \"))\n",
    "if x<13:\n",
    "    print(\"minor\")\n",
    "elif x<19:   \n",
    "    print(\"Teen\")\n",
    "elif x<45:\n",
    "    print(\"Adult\")\n",
    "elif x<60:\n",
    "    print(\"Mid age\")\n",
    "elif x<100:\n",
    "    print(\"old\")\n",
    "elif x>100:\n",
    "    print(\"Wrong Input\")\n",
    "\n",
    "print(\"Thank You\")"
   ]
  },
  {
   "cell_type": "markdown",
   "id": "7fef23d6",
   "metadata": {},
   "source": [
    "### Date - 30/10/2022"
   ]
  },
  {
   "cell_type": "markdown",
   "id": "6e278ac0",
   "metadata": {},
   "source": [
    "### Nested if condition"
   ]
  },
  {
   "cell_type": "code",
   "execution_count": 10,
   "id": "6a53cc7a",
   "metadata": {},
   "outputs": [
    {
     "name": "stdout",
     "output_type": "stream",
     "text": [
      "Your age is=77\n",
      "Old\n",
      "Thanks\n"
     ]
    }
   ],
   "source": [
    "age=int(input(\"Your age is=\"))\n",
    "if age>0:\n",
    "    if age<13:\n",
    "        print(\"Minor\")\n",
    "    elif age<19:\n",
    "        print(\"Teen\")\n",
    "    elif age<45:\n",
    "        print(\"Adult\")\n",
    "    elif age<60:\n",
    "        print(\"Mid Age\")\n",
    "    elif age<100:\n",
    "        print(\"Old\")\n",
    "    else:\n",
    "        print(\"Wrong\")\n",
    "else:\n",
    "    print(\"Wrong\")\n",
    "print(\"Thanks\")"
   ]
  },
  {
   "cell_type": "code",
   "execution_count": 3,
   "id": "66ebf30a",
   "metadata": {},
   "outputs": [
    {
     "name": "stdout",
     "output_type": "stream",
     "text": [
      "age= -9\n",
      "wrong input\n"
     ]
    }
   ],
   "source": [
    "x=int(input(\"age= \"))\n",
    "if x>0 and x<=13:\n",
    "    print(\"minor\")\n",
    "elif x>0 and x<19:\n",
    "    print(\"teen\")\n",
    "elif x>0 and x<=45:\n",
    "    print(\"adult\")\n",
    "elif x>0 and x<=60:\n",
    "    print(\"mid age\")\n",
    "elif x>=0 and x<=100:\n",
    "    print(\"old\")\n",
    "else:\n",
    "    print(\"wrong input\")"
   ]
  },
  {
   "cell_type": "code",
   "execution_count": 4,
   "id": "03314e05",
   "metadata": {},
   "outputs": [
    {
     "name": "stdout",
     "output_type": "stream",
     "text": [
      "Please enter an int: 7\n",
      "number is odd\n"
     ]
    }
   ],
   "source": [
    "# question\n",
    "\n",
    "num = int(input(\"Please enter an int: \"))\n",
    "if num%2 == 0:\n",
    "    print(\"number is even\")\n",
    "else:\n",
    "    print(\"number is odd\")"
   ]
  },
  {
   "cell_type": "markdown",
   "id": "fa5b3ac7",
   "metadata": {},
   "source": [
    "### check if the password length is correct\n",
    "\n",
    "len(password)>5\n",
    "\n",
    "if len of pasd>5  ok otherwise not "
   ]
  },
  {
   "cell_type": "code",
   "execution_count": 5,
   "id": "0dcce785",
   "metadata": {},
   "outputs": [
    {
     "name": "stdout",
     "output_type": "stream",
     "text": [
      "Enter the Password: nagpur65\n",
      "ok\n"
     ]
    }
   ],
   "source": [
    "password = input(\"Enter the Password: \")\n",
    "if len(password)>5:\n",
    "    print(\"ok\")\n",
    "else:\n",
    "    print(\"not\")"
   ]
  },
  {
   "cell_type": "markdown",
   "id": "1fa77cc5",
   "metadata": {},
   "source": [
    "### Calculate the grade of student\n",
    "\n",
    "A if>90\n",
    "\n",
    "B if 80-90\n",
    "\n",
    "C if 60-80\n",
    "\n",
    "D below 60 and above 35\n",
    "\n",
    "F below 35"
   ]
  },
  {
   "cell_type": "code",
   "execution_count": 11,
   "id": "ad41da19",
   "metadata": {},
   "outputs": [
    {
     "name": "stdout",
     "output_type": "stream",
     "text": [
      "Enter the Marks: 75\n",
      "Grade C\n",
      "Thanks\n"
     ]
    }
   ],
   "source": [
    "Marks = int(input(\"Enter the Marks: \"))\n",
    "if Marks>90:\n",
    "    print(\"Grade A\")\n",
    "elif Marks>=80 and Marks<=90:\n",
    "    print(\"Grade B\")\n",
    "elif Marks>=60 and Marks<80:\n",
    "    print(\"Grade C\")\n",
    "elif Marks<60 and Marks>35:\n",
    "    print(\"Grade D\")\n",
    "elif Marks<35:\n",
    "    print(\"Fail\")\n",
    "    \n",
    "else:\n",
    "    print(\"Wrong Input\")\n",
    "    \n",
    "print(\"Thanks\")"
   ]
  },
  {
   "cell_type": "code",
   "execution_count": null,
   "id": "636c11c1",
   "metadata": {},
   "outputs": [],
   "source": [
    "grade = int(input(\"What are your grade \"))\n",
    "if grade>90:\n",
    "    print(\"You got an A\")\n",
    "elif grade>80:\n",
    "    print(\"You got a B\")\n",
    "elif grade>60:\n",
    "    print(\"You got a C\")\n",
    "elif grade>35:\n",
    "    print(\"You got a D\")\n",
    "elif grade>0:\n",
    "    print(\"You got a F\")\n",
    "else:\n",
    "    \n",
    "    "
   ]
  },
  {
   "cell_type": "markdown",
   "id": "671767a0",
   "metadata": {},
   "source": [
    "### Calculate electricity bill\n",
    "\n",
    "input of unit 100 -- no charge\n",
    "\n",
    "  every unit above 100 charge 5 bug # eg 103=3*5bug\n",
    "  \n",
    "  every unit above 200 charge 10 bug\n",
    "  \n",
    "  every unit above 300 plus charge 20 bug\n",
    "  \n",
    "     unit input=> 360: 100*0+100*5+100*10+60*20  , tip: 500\n",
    "       please enter the number of units you consume in a month  360\n",
    "       electricity bill = 2700.00"
   ]
  },
  {
   "cell_type": "code",
   "execution_count": 24,
   "id": "3e6f0bf5",
   "metadata": {},
   "outputs": [
    {
     "name": "stdout",
     "output_type": "stream",
     "text": [
      "Enter the number of units: 360\n",
      "Electricity bill=2700\n",
      "\n",
      "Electricity bill= 2700\n"
     ]
    }
   ],
   "source": [
    "units = int(input(\"Enter the number of units: \"))\n",
    "\n",
    "if(units>100 and units<200):\n",
    "    payAmount=(100*0)+(units-100)*5\n",
    "elif(units>200 and units<300):\n",
    "    payAmount=500+(units-200)*10\n",
    "elif(units>300):\n",
    "    payAmount=1500+(units-300)*20\n",
    "else:\n",
    "    payAmount=0\n",
    "Total=payAmount;\n",
    "print(f\"Electricity bill={Total}\")\n",
    "print(\"\\nElectricity bill=\",Total)\n",
    "   \n"
   ]
  },
  {
   "cell_type": "code",
   "execution_count": 25,
   "id": "234da107",
   "metadata": {},
   "outputs": [
    {
     "name": "stdout",
     "output_type": "stream",
     "text": [
      "Enter the number of units consumed: 360\n",
      "Amount to be charged: Rs. 2700\n"
     ]
    }
   ],
   "source": [
    "unit = int(input(\"Enter the number of units consumed: \"))\n",
    "if unit<=100:\n",
    "    print(\"Amount to be charged: Rs. 0\")\n",
    "elif unit<=200:\n",
    "    cost = (unit-100)*5\n",
    "    print(\"Amount to be charged: Rs.\",cost)\n",
    "elif unit<=300:\n",
    "    cost = (unit-200)*10 + 500\n",
    "    print(\"Amount to be charged: Rs.\",cost)\n",
    "else:\n",
    "    cost = (unit-300)*20 + 1500\n",
    "    print(\"Amount to be charged: Rs.\",cost)"
   ]
  },
  {
   "cell_type": "code",
   "execution_count": 3,
   "id": "648b88d5",
   "metadata": {},
   "outputs": [
    {
     "name": "stdout",
     "output_type": "stream",
     "text": [
      "Please input the units of elec used:360\n",
      "The total elec bill is: 2700\n"
     ]
    }
   ],
   "source": [
    "total_elec_units = int(input(\"Please input the units of elec used:\"))\n",
    "elec_bill = 0\n",
    "\n",
    "if total_elec_units > 300:\n",
    "    elec_bill = (total_elec_units-300)*20 + 1500\n",
    "    \n",
    "elif total_elec_units > 200:\n",
    "    elec_bill = (total_elec_units-200)*10 + 500\n",
    "    \n",
    "elif total_elec_units > 100:\n",
    "    elec_bill = (total_elec_units-100)*5\n",
    "    \n",
    "else:   # first 100 units is free\n",
    "    elec_bill = 0\n",
    "    \n",
    "print(\"The total elec bill is:\", elec_bill)"
   ]
  },
  {
   "cell_type": "code",
   "execution_count": 2,
   "id": "3add2ed6",
   "metadata": {},
   "outputs": [
    {
     "name": "stdout",
     "output_type": "stream",
     "text": [
      "Enter the number of units consumed: 360\n",
      "Amount to be charged: Rs. 2700\n"
     ]
    }
   ],
   "source": [
    "unit = int(input(\"Enter the number of units consumed: \"))\n",
    "if unit<=100:\n",
    "    print(\"Amount to be charged: Rs. 0\")\n",
    "elif unit<=200:\n",
    "    \n",
    "    print(\"Amount to be charged: Rs.\",(unit-100)*5)\n",
    "elif unit<=300:\n",
    "    \n",
    "    print(\"Amount to be charged: Rs.\",(unit-200)*10 + 500)\n",
    "else:\n",
    "    \n",
    "    print(\"Amount to be charged: Rs.\", (unit-300)*20 + 1500)"
   ]
  },
  {
   "cell_type": "code",
   "execution_count": null,
   "id": "5b1972b1",
   "metadata": {},
   "outputs": [],
   "source": []
  }
 ],
 "metadata": {
  "kernelspec": {
   "display_name": "Python 3 (ipykernel)",
   "language": "python",
   "name": "python3"
  },
  "language_info": {
   "codemirror_mode": {
    "name": "ipython",
    "version": 3
   },
   "file_extension": ".py",
   "mimetype": "text/x-python",
   "name": "python",
   "nbconvert_exporter": "python",
   "pygments_lexer": "ipython3",
   "version": "3.9.12"
  }
 },
 "nbformat": 4,
 "nbformat_minor": 5
}
