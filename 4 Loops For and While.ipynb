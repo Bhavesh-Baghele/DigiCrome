{
 "cells": [
  {
   "cell_type": "markdown",
   "id": "ed94cfde",
   "metadata": {},
   "source": [
    "#### Date - 5/11/22"
   ]
  },
  {
   "cell_type": "code",
   "execution_count": 1,
   "id": "81dc0028",
   "metadata": {
    "scrolled": false
   },
   "outputs": [
    {
     "name": "stdout",
     "output_type": "stream",
     "text": [
      "h\n",
      "e\n",
      "l\n",
      "l\n",
      "o\n"
     ]
    }
   ],
   "source": [
    "for i in \"hello\":\n",
    "    print(i)"
   ]
  },
  {
   "cell_type": "code",
   "execution_count": 1,
   "id": "e6db503a",
   "metadata": {
    "scrolled": true
   },
   "outputs": [
    {
     "name": "stdout",
     "output_type": "stream",
     "text": [
      "b\n",
      "h\n",
      "a\n",
      "v\n",
      "e\n",
      "s\n",
      "h\n"
     ]
    }
   ],
   "source": [
    "for i in \"bhavesh\":\n",
    "    print(i)"
   ]
  },
  {
   "cell_type": "code",
   "execution_count": 2,
   "id": "23744a05",
   "metadata": {
    "scrolled": true
   },
   "outputs": [
    {
     "name": "stdout",
     "output_type": "stream",
     "text": [
      "3\n",
      "4\n",
      "5\n",
      "6\n"
     ]
    }
   ],
   "source": [
    "for i in [3,4,5,6]:\n",
    "    print(i)"
   ]
  },
  {
   "cell_type": "code",
   "execution_count": 3,
   "id": "2380b6fd",
   "metadata": {
    "scrolled": true
   },
   "outputs": [
    {
     "name": "stdout",
     "output_type": "stream",
     "text": [
      "9\n",
      "16\n",
      "25\n",
      "36\n"
     ]
    }
   ],
   "source": [
    "for i in [3,4,5,6]:\n",
    "    print(i**2)"
   ]
  },
  {
   "cell_type": "code",
   "execution_count": 4,
   "id": "fb8359eb",
   "metadata": {},
   "outputs": [
    {
     "name": "stdout",
     "output_type": "stream",
     "text": [
      "2\n",
      "4\n",
      "6\n",
      "8\n",
      "10\n",
      "12\n",
      "14\n",
      "16\n",
      "18\n",
      "20\n"
     ]
    }
   ],
   "source": [
    "for i in [1,2,3,4,5,6,7,8,9,10]:\n",
    "    print(i*2)"
   ]
  },
  {
   "cell_type": "code",
   "execution_count": 5,
   "id": "77189761",
   "metadata": {
    "scrolled": true
   },
   "outputs": [
    {
     "name": "stdout",
     "output_type": "stream",
     "text": [
      "2 x 1 = 2\n",
      "2 x 2 = 4\n",
      "2 x 3 = 6\n",
      "2 x 4 = 8\n",
      "2 x 5 = 10\n",
      "2 x 6 = 12\n",
      "2 x 7 = 14\n",
      "2 x 8 = 16\n",
      "2 x 9 = 18\n",
      "2 x 10 = 20\n"
     ]
    }
   ],
   "source": [
    "for i in [1,2,3,4,5,6,7,8,9,10]:\n",
    "    print(f\"2 x {i} = {i*2}\")"
   ]
  },
  {
   "cell_type": "code",
   "execution_count": 7,
   "id": "6a49fa15",
   "metadata": {
    "scrolled": true
   },
   "outputs": [
    {
     "name": "stdout",
     "output_type": "stream",
     "text": [
      "2 x  1 = 2\n",
      "2 x  2 = 4\n",
      "2 x  3 = 6\n",
      "2 x  4 = 8\n",
      "2 x  5 = 10\n",
      "2 x  6 = 12\n",
      "2 x  7 = 14\n",
      "2 x  8 = 16\n",
      "2 x  9 = 18\n",
      "2 x  10 = 20\n"
     ]
    }
   ],
   "source": [
    "for i in [1,2,3,4,5,6,7,8,9,10]:\n",
    "    print(\"2 x \",i, \"=\",i*2)"
   ]
  },
  {
   "cell_type": "code",
   "execution_count": 17,
   "id": "b223ed57",
   "metadata": {},
   "outputs": [
    {
     "name": "stdout",
     "output_type": "stream",
     "text": [
      "3\n",
      "3 x 1 = 3\n",
      "3 x 2 = 6\n",
      "3 x 3 = 9\n",
      "3 x 4 = 12\n",
      "3 x 5 = 15\n",
      "3 x 6 = 18\n",
      "3 x 7 = 21\n",
      "3 x 8 = 24\n",
      "3 x 9 = 27\n",
      "3 x 10 = 30\n"
     ]
    }
   ],
   "source": [
    "m = int(input())\n",
    "for i in [1,2,3,4,5,6,7,8,9,10]:\n",
    "    print(m,\"x\",i,\"=\",i*m)\n"
   ]
  },
  {
   "cell_type": "code",
   "execution_count": 21,
   "id": "647fa005",
   "metadata": {
    "scrolled": true
   },
   "outputs": [
    {
     "name": "stdout",
     "output_type": "stream",
     "text": [
      "2\n",
      "2 x 1 = 2\n",
      "2 x 2 = 4\n",
      "2 x 3 = 6\n",
      "2 x 4 = 8\n",
      "2 x 5 = 10\n",
      "2 x 6 = 12\n",
      "2 x 7 = 14\n",
      "2 x 8 = 16\n",
      "2 x 9 = 18\n",
      "2 x 10 = 20\n"
     ]
    }
   ],
   "source": [
    "a=int(input())\n",
    "for i in range(1,11):\n",
    "    print(a,\"x\",i,\"=\",i*a)"
   ]
  },
  {
   "cell_type": "code",
   "execution_count": 2,
   "id": "78bc3a8a",
   "metadata": {},
   "outputs": [
    {
     "name": "stdout",
     "output_type": "stream",
     "text": [
      "2\n",
      "2x1=2\n",
      "2x2=4\n",
      "2x3=6\n",
      "2x4=8\n",
      "2x5=10\n",
      "2x6=12\n",
      "2x7=14\n",
      "2x8=16\n",
      "2x9=18\n",
      "2x10=20\n"
     ]
    }
   ],
   "source": [
    "## self\n",
    "a=int(input())\n",
    "for i in range(1,11):\n",
    "    print(f\"{a}x{i}={i*a}\")"
   ]
  },
  {
   "cell_type": "code",
   "execution_count": 20,
   "id": "62950f62",
   "metadata": {},
   "outputs": [
    {
     "name": "stdout",
     "output_type": "stream",
     "text": [
      "[0, 1, 2, 3, 4]\n",
      "i is =  0\n",
      "i is =  1\n",
      "i is =  2\n",
      "i is =  3\n",
      "i is =  4\n"
     ]
    }
   ],
   "source": [
    "print(list(range(5)))\n",
    "\n",
    "for i in range(5):\n",
    "    print(\"i is = \",i)"
   ]
  },
  {
   "cell_type": "code",
   "execution_count": 3,
   "id": "8368ea00",
   "metadata": {
    "scrolled": true
   },
   "outputs": [
    {
     "name": "stdout",
     "output_type": "stream",
     "text": [
      "[0, 1, 2, 3, 4]\n",
      "2 x 0 = 0\n",
      "2 x 1 = 2\n",
      "2 x 2 = 4\n",
      "2 x 3 = 6\n",
      "2 x 4 = 8\n"
     ]
    }
   ],
   "source": [
    "### self\n",
    "\n",
    "print(list(range(5)))\n",
    "for i in range(5):\n",
    "    print(\"2 x\",i,\"=\",2*i)"
   ]
  },
  {
   "cell_type": "code",
   "execution_count": 8,
   "id": "3758ef41",
   "metadata": {
    "scrolled": true
   },
   "outputs": [
    {
     "name": "stdout",
     "output_type": "stream",
     "text": [
      "i is = 0!!! \n",
      "i is = 1!!! \n",
      "i is = 2!!! \n",
      "i is = 3!!! \n",
      "i is = 4!!! \n"
     ]
    }
   ],
   "source": [
    "### self\n",
    "\n",
    "for i in range(5):\n",
    "    print(\"i is =\",i,end=\"!!! \\n\")"
   ]
  },
  {
   "cell_type": "code",
   "execution_count": 4,
   "id": "e6fe28c3",
   "metadata": {},
   "outputs": [
    {
     "name": "stdout",
     "output_type": "stream",
     "text": [
      "i is = 0 !!! \n",
      "\n",
      "i is = 1 !!! \n",
      "\n",
      "i is = 2 !!! \n",
      "\n",
      "i is = 3 !!! \n",
      "\n",
      "i is = 4 !!! \n",
      "\n"
     ]
    }
   ],
   "source": [
    "## self\n",
    "\n",
    "for i in range(5):\n",
    "    print(f'i is = {i} !!! \\n')"
   ]
  },
  {
   "cell_type": "code",
   "execution_count": 3,
   "id": "7165c3e3",
   "metadata": {},
   "outputs": [
    {
     "name": "stdout",
     "output_type": "stream",
     "text": [
      "hello\n",
      "hello\n",
      "hello\n",
      "hello\n",
      "hello\n"
     ]
    }
   ],
   "source": [
    "for i in range(5):\n",
    "    print(\"hello\")"
   ]
  },
  {
   "cell_type": "code",
   "execution_count": null,
   "id": "e9d736de",
   "metadata": {},
   "outputs": [],
   "source": [
    "input(\"name= \") # *5 NOT EASY"
   ]
  },
  {
   "cell_type": "code",
   "execution_count": 1,
   "id": "d9658d9a",
   "metadata": {},
   "outputs": [
    {
     "data": {
      "text/plain": [
       "range(0, 3)"
      ]
     },
     "execution_count": 1,
     "metadata": {},
     "output_type": "execute_result"
    }
   ],
   "source": [
    "range(3)"
   ]
  },
  {
   "cell_type": "code",
   "execution_count": 7,
   "id": "071921ef",
   "metadata": {},
   "outputs": [
    {
     "name": "stdout",
     "output_type": "stream",
     "text": [
      "name=  0\n",
      "x\n",
      "name=  1\n",
      "y\n",
      "name=  2\n",
      "z\n"
     ]
    }
   ],
   "source": [
    "for x in range(3):\n",
    "    print(\"name= \",x)\n",
    "    input()"
   ]
  },
  {
   "cell_type": "code",
   "execution_count": 6,
   "id": "4eba6431",
   "metadata": {},
   "outputs": [
    {
     "name": "stdout",
     "output_type": "stream",
     "text": [
      "q\n",
      "w\n",
      "e\n",
      "r\n",
      "t\n"
     ]
    }
   ],
   "source": [
    "for variable_name in \"qwert\":\n",
    "    print(variable_name)\n"
   ]
  },
  {
   "cell_type": "markdown",
   "id": "79899fe5",
   "metadata": {},
   "source": [
    "## Date - 5/11/22"
   ]
  },
  {
   "cell_type": "code",
   "execution_count": 22,
   "id": "a49bfd0d",
   "metadata": {},
   "outputs": [
    {
     "name": "stdout",
     "output_type": "stream",
     "text": [
      "q\n",
      "w\n",
      "e\n",
      "r\n",
      "t\n"
     ]
    }
   ],
   "source": [
    "for var in \"qwert\":\n",
    "    print(var)"
   ]
  },
  {
   "cell_type": "code",
   "execution_count": 23,
   "id": "bf6dab61",
   "metadata": {},
   "outputs": [
    {
     "name": "stdout",
     "output_type": "stream",
     "text": [
      "qwert\n",
      "abc\n",
      "xyz\n"
     ]
    }
   ],
   "source": [
    "for var in [\"qwert\",\"abc\",\"xyz\"]:\n",
    "    print(var)"
   ]
  },
  {
   "cell_type": "code",
   "execution_count": 25,
   "id": "f59ffeac",
   "metadata": {},
   "outputs": [
    {
     "name": "stdout",
     "output_type": "stream",
     "text": [
      "qwert\n",
      "q\n",
      "w\n",
      "e\n",
      "r\n",
      "t\n",
      "abc\n",
      "a\n",
      "b\n",
      "c\n",
      "xyz\n",
      "x\n",
      "y\n",
      "z\n"
     ]
    }
   ],
   "source": [
    "for var in [\"qwert\",\"abc\",\"xyz\"]:\n",
    "    print(var)\n",
    "    for char in var:\n",
    "        printnt(char)"
   ]
  },
  {
   "cell_type": "code",
   "execution_count": 12,
   "id": "43965d7d",
   "metadata": {
    "scrolled": true
   },
   "outputs": [
    {
     "name": "stdout",
     "output_type": "stream",
     "text": [
      "adf\n",
      "a\n",
      "d\n",
      "f\n",
      "jhg\n",
      "j\n",
      "h\n",
      "g\n",
      "hgf\n",
      "h\n",
      "g\n",
      "f\n"
     ]
    }
   ],
   "source": [
    "### Self\n",
    "for hgj in ['adf','jhg','hgf']:\n",
    "    print(hgj)\n",
    "    for char in hgj:\n",
    "        print(char)"
   ]
  },
  {
   "cell_type": "code",
   "execution_count": 17,
   "id": "d27df954",
   "metadata": {},
   "outputs": [
    {
     "name": "stdout",
     "output_type": "stream",
     "text": [
      "hgj\n",
      "h\n",
      "g\n",
      "j\n",
      "tre\n",
      "t\n",
      "r\n",
      "e\n",
      "ytr\n",
      "y\n",
      "t\n",
      "r\n"
     ]
    }
   ],
   "source": [
    "#### self\n",
    "\n",
    "for ght in [\"hgj\",\"tre\",\"ytr\"]:\n",
    "    print(ght)\n",
    "    for hgf in ght:\n",
    "        print(hgf)"
   ]
  },
  {
   "cell_type": "code",
   "execution_count": 26,
   "id": "7d3c391d",
   "metadata": {},
   "outputs": [
    {
     "name": "stdout",
     "output_type": "stream",
     "text": [
      "qwert\n",
      "cbast\n",
      "oxmynz\n",
      "p list = [['q', 'w', 'e', 'r', 't'], ['c', 'b', 'a', 's', 't'], ['o', 'x', 'm', 'y', 'n', 'z']]\n",
      "\n",
      "['q', 'w', 'e', 'r', 't'] => ['e', 'q', 'r', 't', 'w']\n",
      "['c', 'b', 'a', 's', 't'] => ['a', 'b', 'c', 's', 't']\n",
      "['o', 'x', 'm', 'y', 'n', 'z'] => ['m', 'n', 'o', 'x', 'y', 'z']\n"
     ]
    }
   ],
   "source": [
    "p=[]  # sorting words in list\n",
    "for var in[\"qwert\",\"cbast\",\"oxmynz\"]:\n",
    "    print(var)\n",
    "    p.append(list(var))\n",
    "    \n",
    "print(\"p list =\",p) # out of the loop\n",
    "print()\n",
    "\n",
    "for c in p:\n",
    "    print(c,\"=>\",sorted(c))"
   ]
  },
  {
   "cell_type": "code",
   "execution_count": 28,
   "id": "0610e8e8",
   "metadata": {},
   "outputs": [
    {
     "name": "stdout",
     "output_type": "stream",
     "text": [
      "O \n",
      "O O \n",
      "O O O \n",
      "O O O O \n",
      "O O O O O \n",
      "O O O O O O \n",
      "O O O O O O O \n",
      "O O O O O O O O \n",
      "O O O O O O O O O \n"
     ]
    }
   ],
   "source": [
    "for i in range(1,10):\n",
    "    print(\"O \"*i)"
   ]
  },
  {
   "cell_type": "code",
   "execution_count": 31,
   "id": "1a5ee779",
   "metadata": {},
   "outputs": [
    {
     "name": "stdout",
     "output_type": "stream",
     "text": [
      "[0]\n",
      "[0, 1]\n",
      "[0, 1, 2]\n",
      "[0, 1, 2, 3]\n",
      "[0, 1, 2, 3, 4]\n",
      "[0, 1, 2, 3, 4, 5]\n",
      "[0, 1, 2, 3, 4, 5, 6]\n",
      "[0, 1, 2, 3, 4, 5, 6, 7]\n",
      "[0, 1, 2, 3, 4, 5, 6, 7, 8]\n"
     ]
    }
   ],
   "source": [
    "for i in range(1,10):\n",
    "    print(list(range(i)))"
   ]
  },
  {
   "cell_type": "code",
   "execution_count": 32,
   "id": "c42b5ae4",
   "metadata": {},
   "outputs": [
    {
     "data": {
      "text/plain": [
       "[10, 9, 8, 7, 6, 5, 4, 3, 2, 1]"
      ]
     },
     "execution_count": 32,
     "metadata": {},
     "output_type": "execute_result"
    }
   ],
   "source": [
    "list(range(10,0,-1))"
   ]
  },
  {
   "cell_type": "code",
   "execution_count": 33,
   "id": "631b59df",
   "metadata": {},
   "outputs": [
    {
     "name": "stdout",
     "output_type": "stream",
     "text": [
      "O O O O O O O O O O \n",
      "O O O O O O O O O \n",
      "O O O O O O O O \n",
      "O O O O O O O \n",
      "O O O O O O \n",
      "O O O O O \n",
      "O O O O \n",
      "O O O \n",
      "O O \n",
      "O \n"
     ]
    }
   ],
   "source": [
    "for i in range(10,0,-1):\n",
    "    print(\"O \"*i)"
   ]
  },
  {
   "cell_type": "code",
   "execution_count": 34,
   "id": "8ad80ebb",
   "metadata": {},
   "outputs": [
    {
     "name": "stdout",
     "output_type": "stream",
     "text": [
      "O \n",
      "O O \n",
      "O O O \n",
      "O O O O \n",
      "O O O O O \n",
      "O O O O O O \n",
      "O O O O O O O \n",
      "O O O O O O O O \n",
      "O O O O O O O O O \n",
      "O O O O O O O O O O \n",
      "O O O O O O O O O \n",
      "O O O O O O O O \n",
      "O O O O O O O \n",
      "O O O O O O \n",
      "O O O O O \n",
      "O O O O \n",
      "O O O \n",
      "O O \n",
      "O \n"
     ]
    }
   ],
   "source": [
    "for i in range(1,10):\n",
    "    print(\"O \"*i)\n",
    "    \n",
    "for i in range(10,0,-1):\n",
    "    print(\"O \"*i)"
   ]
  },
  {
   "cell_type": "code",
   "execution_count": 35,
   "id": "c20debc4",
   "metadata": {},
   "outputs": [
    {
     "name": "stdout",
     "output_type": "stream",
     "text": [
      "      * \n",
      "     * * \n",
      "    * * * \n",
      "   * * * * \n",
      "  * * * * * \n",
      " * * * * * * \n",
      "  * * * * * \n",
      "   * * * * \n",
      "    * * * \n",
      "     * * \n",
      "      * \n"
     ]
    }
   ],
   "source": [
    "j=5\n",
    "for i in range(1,6):\n",
    "    print(j*\" \",\"* \"*i)\n",
    "    j-=1       # j=j-1\n",
    "for i in range(6,0,-1):\n",
    "    print(j*\" \",\"* \"*i)\n",
    "    j+=1      # j=j+1"
   ]
  },
  {
   "cell_type": "code",
   "execution_count": 36,
   "id": "946360d5",
   "metadata": {},
   "outputs": [
    {
     "name": "stdout",
     "output_type": "stream",
     "text": [
      "      * * * * * * \n",
      "       * * * * * \n",
      "        * * * * \n",
      "         * * * \n",
      "          * * \n",
      "           * \n",
      "            \n",
      "           * \n",
      "          * * \n",
      "         * * * \n",
      "        * * * * \n",
      "       * * * * * \n",
      "      * * * * * * \n"
     ]
    }
   ],
   "source": [
    "j=5\n",
    "for i in range (6,0,-1):\n",
    "    print(j*\" \",\"* \" *i)\n",
    "    j +=1 # means j= j+1\n",
    "for i in range (0,7):\n",
    "    print(j* \" \", \"* \" *i)\n",
    "    j -=1 # means j= j -1\n"
   ]
  },
  {
   "cell_type": "markdown",
   "id": "13a40f96",
   "metadata": {},
   "source": [
    "### Date - 6/11/22"
   ]
  },
  {
   "cell_type": "markdown",
   "id": "4166cf7f",
   "metadata": {},
   "source": [
    "### While Loop"
   ]
  },
  {
   "cell_type": "code",
   "execution_count": 1,
   "id": "69cc4558",
   "metadata": {},
   "outputs": [
    {
     "name": "stdout",
     "output_type": "stream",
     "text": [
      "hello\n"
     ]
    }
   ],
   "source": [
    "while 5>3:   # false to break\n",
    "    print(\"hello\")\n",
    "    break # or u use break"
   ]
  },
  {
   "cell_type": "code",
   "execution_count": 2,
   "id": "4161c9de",
   "metadata": {},
   "outputs": [
    {
     "name": "stdout",
     "output_type": "stream",
     "text": [
      "hello a is = 1\n",
      "hello a is = 2\n",
      "hello a is = 3\n",
      "hello a is = 4\n"
     ]
    }
   ],
   "source": [
    "a=1\n",
    "while a<5:\n",
    "    print(\"hello a is =\",a)\n",
    "    a+=1  # a=a+1"
   ]
  },
  {
   "cell_type": "code",
   "execution_count": 3,
   "id": "cde168b6",
   "metadata": {},
   "outputs": [
    {
     "name": "stdout",
     "output_type": "stream",
     "text": [
      "hello a is = 1\n",
      "hello a is = 2\n",
      "hello a is = 3\n",
      "hello a is = 4\n",
      "a is > 4 now it is = 5\n"
     ]
    }
   ],
   "source": [
    "a=1\n",
    "while True:\n",
    "    print(\"hello a is =\",a)\n",
    "    a+=1\n",
    "    if a>4:\n",
    "        print(\"a is > 4 now it is =\",a)\n",
    "        break"
   ]
  },
  {
   "cell_type": "code",
   "execution_count": 6,
   "id": "754103a8",
   "metadata": {},
   "outputs": [
    {
     "name": "stdout",
     "output_type": "stream",
     "text": [
      "hello \n",
      "y to break= n\n",
      "hello \n",
      "y to break= n\n",
      "hello \n",
      "y to break= n\n",
      "hello \n",
      "y to break= y\n",
      "Thank you\n"
     ]
    }
   ],
   "source": [
    "while True:\n",
    "    print(\"hello \")\n",
    "    a=input(\"y to break= \")\n",
    "    if a==\"y\":\n",
    "        print(\"Thank you\")\n",
    "        break"
   ]
  },
  {
   "cell_type": "markdown",
   "id": "732394d6",
   "metadata": {},
   "source": [
    "### QUE\n",
    "\n",
    "try all pattern print with while "
   ]
  },
  {
   "cell_type": "markdown",
   "id": "cf2786ed",
   "metadata": {},
   "source": [
    "### Que\n",
    "\n",
    "* d={\"name\":[\"a\",\"b\"],\"Exp\":[2,3]\",Age\":[34,23]}\n",
    "* use while\n",
    "* for 3 emp\n",
    "* user input\n",
    "    * 3 list --- append value to it"
   ]
  },
  {
   "cell_type": "code",
   "execution_count": 1,
   "id": "53b01d85",
   "metadata": {},
   "outputs": [
    {
     "name": "stdout",
     "output_type": "stream",
     "text": [
      "Name of e1 Ayush\n",
      "Name of e2 Bhavesh\n",
      "Name of e3Chirag\n",
      "['Ayush', 'Bhavesh', 'Chirag']\n"
     ]
    }
   ],
   "source": [
    "name=[]\n",
    "e1=input(\"Name of e1 \")\n",
    "name.append(e1)\n",
    "\n",
    "e2=input(\"Name of e2 \")\n",
    "name.append(e2)\n",
    "\n",
    "e3=input(\"Name of e3\")\n",
    "name.append(e3)\n",
    "\n",
    "print(name)\n",
    "d={\"Name\":name}"
   ]
  },
  {
   "cell_type": "code",
   "execution_count": 2,
   "id": "45ba2927",
   "metadata": {},
   "outputs": [
    {
     "name": "stdout",
     "output_type": "stream",
     "text": [
      "Enter employee name:N\n",
      "‘Enter employee age: ‘M\n",
      "‘Enter employee exp: ‘N\n",
      "Enter employee name:N\n",
      "‘Enter employee age: ‘54\n",
      "‘Enter employee exp: ‘6\n",
      "Enter employee name:RYY\n",
      "‘Enter employee age: ‘67\n",
      "‘Enter employee exp: ‘6\n"
     ]
    },
    {
     "data": {
      "text/plain": [
       "{'Name': ['N', 'N', 'RYY'], 'Age': ['M', '54', '67'], 'exp': ['N', '6', '6']}"
      ]
     },
     "execution_count": 2,
     "metadata": {},
     "output_type": "execute_result"
    }
   ],
   "source": [
    "### OJAS\n",
    "name=[]\n",
    "age=[]\n",
    "exp=[]\n",
    "c=0\n",
    "    \n",
    "while c<3:\n",
    "        n= input(\"Enter employee name:\" )\n",
    "        name.append(n)\n",
    "        m= input(\"‘Enter employee age: ‘\")\n",
    "        age.append(m)\n",
    "        o= input(\"‘Enter employee exp: ‘\")\n",
    "        exp.append(o)\n",
    "        c+=1\n",
    "d={\"Name\":name,\"Age\":age,\"exp\":exp} \n",
    "d\n"
   ]
  },
  {
   "cell_type": "code",
   "execution_count": 1,
   "id": "d4e4bf99",
   "metadata": {},
   "outputs": [
    {
     "name": "stdout",
     "output_type": "stream",
     "text": [
      "Enter employee name:a\n",
      "‘Enter employee age: ‘43\n",
      "‘Enter employee exp: ‘2\n",
      "Enter employee name:b\n",
      "‘Enter employee age: ‘41\n",
      "‘Enter employee exp: ‘3\n",
      "Enter employee name:r\n",
      "‘Enter employee age: ‘32\n",
      "‘Enter employee exp: ‘4\n"
     ]
    },
    {
     "data": {
      "text/plain": [
       "{'Name': ['a', 'b', 'r'], 'Age': ['43', '41', '32'], 'exp': ['2', '3', '4']}"
      ]
     },
     "execution_count": 1,
     "metadata": {},
     "output_type": "execute_result"
    }
   ],
   "source": [
    "name=[]\n",
    "age=[]\n",
    "exp=[]\n",
    "c=1\n",
    "    \n",
    "while c<4:\n",
    "        n= input(\"Enter employee name:\" )\n",
    "        name.append(n)\n",
    "        m= input(\"‘Enter employee age: ‘\")\n",
    "        age.append(m)\n",
    "        o= input(\"‘Enter employee exp: ‘\")\n",
    "        exp.append(o)\n",
    "        c+=1\n",
    "d={\"Name\":name,\"Age\":age,\"exp\":exp} \n",
    "d\n"
   ]
  },
  {
   "cell_type": "markdown",
   "id": "872c2a67",
   "metadata": {},
   "source": [
    "#### Pass and Continue"
   ]
  },
  {
   "cell_type": "code",
   "execution_count": 5,
   "id": "79664ba1",
   "metadata": {},
   "outputs": [],
   "source": [
    "for i in range(10):\n",
    "    pass"
   ]
  },
  {
   "cell_type": "code",
   "execution_count": null,
   "id": "7dbf8d6a",
   "metadata": {},
   "outputs": [],
   "source": [
    "for i in \"sas\":\n",
    "    if i==\"s\"\n",
    "    "
   ]
  },
  {
   "cell_type": "code",
   "execution_count": 10,
   "id": "a56c79a0",
   "metadata": {},
   "outputs": [
    {
     "name": "stdout",
     "output_type": "stream",
     "text": [
      "hello 0\n",
      "hello 1\n",
      "hello 2\n",
      "hello 3\n",
      "hello 4\n",
      "hello 5\n"
     ]
    }
   ],
   "source": [
    "for i in range(10):\n",
    "    print(\"hello\",i)\n",
    "    if i>4:  # True\n",
    "        break"
   ]
  },
  {
   "cell_type": "code",
   "execution_count": 11,
   "id": "617f503f",
   "metadata": {},
   "outputs": [],
   "source": [
    "for i in range(5):\n",
    "    pass\n",
    "# when u dont know what to give\n",
    "#in the body for now"
   ]
  },
  {
   "cell_type": "code",
   "execution_count": 12,
   "id": "9ac99a60",
   "metadata": {},
   "outputs": [],
   "source": [
    "if 5>4:\n",
    "    pass"
   ]
  },
  {
   "cell_type": "code",
   "execution_count": 13,
   "id": "9a29a2cb",
   "metadata": {},
   "outputs": [
    {
     "name": "stdout",
     "output_type": "stream",
     "text": [
      "q\n",
      "w\n",
      "r\n",
      "t\n"
     ]
    }
   ],
   "source": [
    "# continue\n",
    "for i in \"qwert\":\n",
    "    if i==\"e\":\n",
    "        continue\n",
    "    print(i)"
   ]
  },
  {
   "cell_type": "code",
   "execution_count": 14,
   "id": "4c44f92b",
   "metadata": {},
   "outputs": [
    {
     "name": "stdout",
     "output_type": "stream",
     "text": [
      "q\n",
      "w\n",
      "\ti==e now\n",
      "r\n",
      "t\n"
     ]
    }
   ],
   "source": [
    "# continue\n",
    "for i in \"qwert\":\n",
    "    if i==\"e\":\n",
    "        print(\"\\ti==e now\")  #\\t for tab\n",
    "        continue\n",
    "    print(i)    "
   ]
  },
  {
   "cell_type": "code",
   "execution_count": 15,
   "id": "963419be",
   "metadata": {},
   "outputs": [
    {
     "name": "stdout",
     "output_type": "stream",
     "text": [
      "s\n",
      "a\n",
      "s\n"
     ]
    }
   ],
   "source": [
    "# continue\n",
    "for i in \"stats\":\n",
    "    if i==\"t\":\n",
    "        #print(\"i==e now\")\n",
    "        continue\n",
    "    print(i)"
   ]
  },
  {
   "cell_type": "code",
   "execution_count": 16,
   "id": "b962f53e",
   "metadata": {},
   "outputs": [],
   "source": [
    "# QUE: convert statement to sound less akward\n",
    "# eg WHAT !!!! ----> What"
   ]
  },
  {
   "cell_type": "code",
   "execution_count": 17,
   "id": "d1c7e48c",
   "metadata": {},
   "outputs": [
    {
     "name": "stdout",
     "output_type": "stream",
     "text": [
      "What  are you talking about "
     ]
    }
   ],
   "source": [
    "s=\"WHAT !!! ARE YOU TALKING ABOUT !!!\"\n",
    "s=s.lower()\n",
    "s=s.capitalize()\n",
    "for i in s:\n",
    "    if i==\"!\":\n",
    "        continue\n",
    "    print(i,end=\"\")"
   ]
  },
  {
   "cell_type": "code",
   "execution_count": null,
   "id": "52206004",
   "metadata": {},
   "outputs": [],
   "source": []
  }
 ],
 "metadata": {
  "kernelspec": {
   "display_name": "Python 3 (ipykernel)",
   "language": "python",
   "name": "python3"
  },
  "language_info": {
   "codemirror_mode": {
    "name": "ipython",
    "version": 3
   },
   "file_extension": ".py",
   "mimetype": "text/x-python",
   "name": "python",
   "nbconvert_exporter": "python",
   "pygments_lexer": "ipython3",
   "version": "3.9.12"
  }
 },
 "nbformat": 4,
 "nbformat_minor": 5
}
