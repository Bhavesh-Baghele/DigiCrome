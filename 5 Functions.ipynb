{
 "cells": [
  {
   "cell_type": "markdown",
   "id": "c131896f",
   "metadata": {},
   "source": [
    "### Functions"
   ]
  },
  {
   "cell_type": "code",
   "execution_count": 1,
   "id": "1970d7cc",
   "metadata": {},
   "outputs": [],
   "source": [
    "def say_hello():\n",
    "    print('hello')"
   ]
  },
  {
   "cell_type": "markdown",
   "id": "de70f005",
   "metadata": {},
   "source": [
    "### Call the function"
   ]
  },
  {
   "cell_type": "code",
   "execution_count": 2,
   "id": "90993d31",
   "metadata": {},
   "outputs": [
    {
     "name": "stdout",
     "output_type": "stream",
     "text": [
      "hello\n"
     ]
    }
   ],
   "source": [
    "say_hello()"
   ]
  },
  {
   "cell_type": "code",
   "execution_count": 3,
   "id": "da63be84",
   "metadata": {},
   "outputs": [],
   "source": [
    "# 1st WAY\n",
    "def greeting(name):  # i will pass a arg\n",
    "    print(\"hello\",name)"
   ]
  },
  {
   "cell_type": "code",
   "execution_count": 4,
   "id": "df05cff9",
   "metadata": {},
   "outputs": [
    {
     "ename": "TypeError",
     "evalue": "greeting() missing 1 required positional argument: 'name'",
     "output_type": "error",
     "traceback": [
      "\u001b[1;31m---------------------------------------------------------------------------\u001b[0m",
      "\u001b[1;31mTypeError\u001b[0m                                 Traceback (most recent call last)",
      "Input \u001b[1;32mIn [4]\u001b[0m, in \u001b[0;36m<cell line: 1>\u001b[1;34m()\u001b[0m\n\u001b[1;32m----> 1\u001b[0m \u001b[43mgreeting\u001b[49m\u001b[43m(\u001b[49m\u001b[43m)\u001b[49m\n",
      "\u001b[1;31mTypeError\u001b[0m: greeting() missing 1 required positional argument: 'name'"
     ]
    }
   ],
   "source": [
    "greeting()   # value is not given therefore error is coming"
   ]
  },
  {
   "cell_type": "code",
   "execution_count": 5,
   "id": "64d44a11",
   "metadata": {},
   "outputs": [
    {
     "name": "stdout",
     "output_type": "stream",
     "text": [
      "hello Sam\n"
     ]
    }
   ],
   "source": [
    "greeting('Sam')"
   ]
  },
  {
   "cell_type": "code",
   "execution_count": 1,
   "id": "03ce72ae",
   "metadata": {},
   "outputs": [],
   "source": [
    "# 2nd WAY\n",
    "def take():\n",
    "    var=input(\"whats ur name? \")\n",
    "    print(\"your name is \",var) #2nd Way"
   ]
  },
  {
   "cell_type": "code",
   "execution_count": 2,
   "id": "587e3ca0",
   "metadata": {},
   "outputs": [
    {
     "name": "stdout",
     "output_type": "stream",
     "text": [
      "whats ur name? nbv\n",
      "your name is  nbv\n"
     ]
    }
   ],
   "source": [
    "take()"
   ]
  },
  {
   "cell_type": "code",
   "execution_count": 7,
   "id": "67b68637",
   "metadata": {},
   "outputs": [
    {
     "name": "stdout",
     "output_type": "stream",
     "text": [
      "whats ur name? Sam\n",
      "your name is  Sam\n"
     ]
    }
   ],
   "source": [
    "take()"
   ]
  },
  {
   "cell_type": "code",
   "execution_count": 9,
   "id": "ea4ce0db",
   "metadata": {},
   "outputs": [
    {
     "name": "stdout",
     "output_type": "stream",
     "text": [
      "hello sam\n"
     ]
    }
   ],
   "source": [
    "def abc(var):\n",
    "    print(\"hello\",var)\n",
    "    \n",
    "abc(\"sam\")"
   ]
  },
  {
   "cell_type": "code",
   "execution_count": 10,
   "id": "b8ad7c14",
   "metadata": {},
   "outputs": [
    {
     "name": "stdout",
     "output_type": "stream",
     "text": [
      "hello sam\n",
      "Give ur input= sammy\n",
      "hello sammy\n"
     ]
    }
   ],
   "source": [
    "def abc(var):\n",
    "    print(\"hello\",var)\n",
    "    \n",
    "abc(\"sam\")\n",
    "\n",
    "abc(input(\"Give ur input= \"))   #3rd way"
   ]
  },
  {
   "cell_type": "markdown",
   "id": "ae0e91c4",
   "metadata": {},
   "source": [
    "### take input, pass it in a function and multiply it with 10"
   ]
  },
  {
   "cell_type": "code",
   "execution_count": 3,
   "id": "fcd9f01c",
   "metadata": {},
   "outputs": [],
   "source": [
    "def multiply():\n",
    "    num = int(input())\n",
    "    print(num*10)"
   ]
  },
  {
   "cell_type": "code",
   "execution_count": 6,
   "id": "b3da941c",
   "metadata": {
    "scrolled": true
   },
   "outputs": [
    {
     "name": "stdout",
     "output_type": "stream",
     "text": [
      "90\n",
      "900\n"
     ]
    }
   ],
   "source": [
    "multiply()"
   ]
  },
  {
   "cell_type": "markdown",
   "id": "f885eeef",
   "metadata": {},
   "source": [
    "### date - 12/11/22"
   ]
  },
  {
   "cell_type": "markdown",
   "id": "5c5aa119",
   "metadata": {},
   "source": [
    "## Create a FUNCTION\n",
    "\n"
   ]
  },
  {
   "cell_type": "code",
   "execution_count": 20,
   "id": "3cc2ad47",
   "metadata": {},
   "outputs": [],
   "source": [
    "def Table():\n",
    "    while True:\n",
    "        a=int(input())\n",
    "        for i in range(1,11):\n",
    "            print(a,\"x\",i,\"=\",i*a)\n",
    "        a=input(\"y to break = \")\n",
    "        if a==\"y\":\n",
    "            print(\"Thank you\")\n",
    "            break\n",
    "            \n",
    "        \n",
    "        \n",
    "    \n",
    "\n",
    "            \n",
    "        \n",
    "            \n",
    "        \n",
    "      \n",
    "        \n",
    "            \n",
    "        \n",
    "    \n",
    "\n",
    "    \n"
   ]
  },
  {
   "cell_type": "code",
   "execution_count": 18,
   "id": "437047c8",
   "metadata": {},
   "outputs": [
    {
     "ename": "NameError",
     "evalue": "name 'a' is not defined",
     "output_type": "error",
     "traceback": [
      "\u001b[1;31m---------------------------------------------------------------------------\u001b[0m",
      "\u001b[1;31mNameError\u001b[0m                                 Traceback (most recent call last)",
      "Input \u001b[1;32mIn [18]\u001b[0m, in \u001b[0;36m<cell line: 7>\u001b[1;34m()\u001b[0m\n\u001b[0;32m      4\u001b[0m         \u001b[38;5;28;01mfor\u001b[39;00m i \u001b[38;5;129;01min\u001b[39;00m \u001b[38;5;28mrange\u001b[39m(\u001b[38;5;241m1\u001b[39m,\u001b[38;5;241m11\u001b[39m):\n\u001b[0;32m      5\u001b[0m             \u001b[38;5;28mprint\u001b[39m(a,\u001b[38;5;124m\"\u001b[39m\u001b[38;5;124mx\u001b[39m\u001b[38;5;124m\"\u001b[39m,i,\u001b[38;5;124m\"\u001b[39m\u001b[38;5;124m=\u001b[39m\u001b[38;5;124m\"\u001b[39m,i\u001b[38;5;241m*\u001b[39ma)\n\u001b[1;32m----> 7\u001b[0m \u001b[38;5;28;01mif\u001b[39;00m \u001b[43ma\u001b[49m\u001b[38;5;241m==\u001b[39mY:\n\u001b[0;32m      8\u001b[0m     \u001b[38;5;28;01mwhile\u001b[39;00m \u001b[38;5;28;01mTrue\u001b[39;00m:\n\u001b[0;32m      9\u001b[0m         a\u001b[38;5;241m=\u001b[39m\u001b[38;5;28mint\u001b[39m(\u001b[38;5;28minput\u001b[39m())\n",
      "\u001b[1;31mNameError\u001b[0m: name 'a' is not defined"
     ]
    }
   ],
   "source": [
    "## SELF\n",
    "\n",
    "\n",
    "def Table():\n",
    "    while True:\n",
    "        a=int(input())\n",
    "        for i in range(1,11):\n",
    "            print(a,\"x\",i,\"=\",i*a)\n",
    "            \n",
    "if a==Y:\n",
    "    while True:\n",
    "        a=int(input())\n",
    "        for i in range(1,11):\n",
    "            print(a,\"x\",i,\"=\",i*a)\n",
    "                \n",
    "if a==N:\n",
    "    break\n",
    "    print(\"Thank you\")\n",
    "        \n",
    "            \n",
    "        \n",
    "        \n",
    "    \n"
   ]
  },
  {
   "cell_type": "code",
   "execution_count": 21,
   "id": "915770f4",
   "metadata": {},
   "outputs": [
    {
     "name": "stdout",
     "output_type": "stream",
     "text": [
      "a\n"
     ]
    },
    {
     "ename": "ValueError",
     "evalue": "invalid literal for int() with base 10: 'a'",
     "output_type": "error",
     "traceback": [
      "\u001b[1;31m---------------------------------------------------------------------------\u001b[0m",
      "\u001b[1;31mValueError\u001b[0m                                Traceback (most recent call last)",
      "Input \u001b[1;32mIn [21]\u001b[0m, in \u001b[0;36m<cell line: 1>\u001b[1;34m()\u001b[0m\n\u001b[1;32m----> 1\u001b[0m \u001b[43mTable\u001b[49m\u001b[43m(\u001b[49m\u001b[43m)\u001b[49m\n",
      "Input \u001b[1;32mIn [20]\u001b[0m, in \u001b[0;36mTable\u001b[1;34m()\u001b[0m\n\u001b[0;32m      1\u001b[0m \u001b[38;5;28;01mdef\u001b[39;00m \u001b[38;5;21mTable\u001b[39m():\n\u001b[0;32m      2\u001b[0m     \u001b[38;5;28;01mwhile\u001b[39;00m \u001b[38;5;28;01mTrue\u001b[39;00m:\n\u001b[1;32m----> 3\u001b[0m         a\u001b[38;5;241m=\u001b[39m\u001b[38;5;28;43mint\u001b[39;49m\u001b[43m(\u001b[49m\u001b[38;5;28;43minput\u001b[39;49m\u001b[43m(\u001b[49m\u001b[43m)\u001b[49m\u001b[43m)\u001b[49m\n\u001b[0;32m      4\u001b[0m         \u001b[38;5;28;01mfor\u001b[39;00m i \u001b[38;5;129;01min\u001b[39;00m \u001b[38;5;28mrange\u001b[39m(\u001b[38;5;241m1\u001b[39m,\u001b[38;5;241m11\u001b[39m):\n\u001b[0;32m      5\u001b[0m             \u001b[38;5;28mprint\u001b[39m(a,\u001b[38;5;124m\"\u001b[39m\u001b[38;5;124mx\u001b[39m\u001b[38;5;124m\"\u001b[39m,i,\u001b[38;5;124m\"\u001b[39m\u001b[38;5;124m=\u001b[39m\u001b[38;5;124m\"\u001b[39m,i\u001b[38;5;241m*\u001b[39ma)\n",
      "\u001b[1;31mValueError\u001b[0m: invalid literal for int() with base 10: 'a'"
     ]
    }
   ],
   "source": [
    "Table()"
   ]
  },
  {
   "cell_type": "code",
   "execution_count": 22,
   "id": "9f11b5dc",
   "metadata": {},
   "outputs": [
    {
     "name": "stdout",
     "output_type": "stream",
     "text": [
      "3\n",
      "3 x 1 = 3\n",
      "3 x 2 = 6\n",
      "3 x 3 = 9\n",
      "3 x 4 = 12\n",
      "3 x 5 = 15\n",
      "3 x 6 = 18\n",
      "3 x 7 = 21\n",
      "3 x 8 = 24\n",
      "3 x 9 = 27\n",
      "3 x 10 = 30\n",
      "y to break = y\n",
      "Thank you\n"
     ]
    }
   ],
   "source": [
    "Table()"
   ]
  },
  {
   "cell_type": "code",
   "execution_count": 23,
   "id": "ebea0b67",
   "metadata": {},
   "outputs": [
    {
     "name": "stdout",
     "output_type": "stream",
     "text": [
      "4\n",
      "4 x 1 = 4\n",
      "4 x 2 = 8\n",
      "4 x 3 = 12\n",
      "4 x 4 = 16\n",
      "4 x 5 = 20\n",
      "4 x 6 = 24\n",
      "4 x 7 = 28\n",
      "4 x 8 = 32\n",
      "4 x 9 = 36\n",
      "4 x 10 = 40\n",
      "y to break = 5\n",
      "5\n",
      "5 x 1 = 5\n",
      "5 x 2 = 10\n",
      "5 x 3 = 15\n",
      "5 x 4 = 20\n",
      "5 x 5 = 25\n",
      "5 x 6 = 30\n",
      "5 x 7 = 35\n",
      "5 x 8 = 40\n",
      "5 x 9 = 45\n",
      "5 x 10 = 50\n",
      "y to break = 8\n",
      "\n"
     ]
    },
    {
     "ename": "ValueError",
     "evalue": "invalid literal for int() with base 10: ''",
     "output_type": "error",
     "traceback": [
      "\u001b[1;31m---------------------------------------------------------------------------\u001b[0m",
      "\u001b[1;31mValueError\u001b[0m                                Traceback (most recent call last)",
      "Input \u001b[1;32mIn [23]\u001b[0m, in \u001b[0;36m<cell line: 1>\u001b[1;34m()\u001b[0m\n\u001b[1;32m----> 1\u001b[0m \u001b[43mTable\u001b[49m\u001b[43m(\u001b[49m\u001b[43m)\u001b[49m\n",
      "Input \u001b[1;32mIn [20]\u001b[0m, in \u001b[0;36mTable\u001b[1;34m()\u001b[0m\n\u001b[0;32m      1\u001b[0m \u001b[38;5;28;01mdef\u001b[39;00m \u001b[38;5;21mTable\u001b[39m():\n\u001b[0;32m      2\u001b[0m     \u001b[38;5;28;01mwhile\u001b[39;00m \u001b[38;5;28;01mTrue\u001b[39;00m:\n\u001b[1;32m----> 3\u001b[0m         a\u001b[38;5;241m=\u001b[39m\u001b[38;5;28;43mint\u001b[39;49m\u001b[43m(\u001b[49m\u001b[38;5;28;43minput\u001b[39;49m\u001b[43m(\u001b[49m\u001b[43m)\u001b[49m\u001b[43m)\u001b[49m\n\u001b[0;32m      4\u001b[0m         \u001b[38;5;28;01mfor\u001b[39;00m i \u001b[38;5;129;01min\u001b[39;00m \u001b[38;5;28mrange\u001b[39m(\u001b[38;5;241m1\u001b[39m,\u001b[38;5;241m11\u001b[39m):\n\u001b[0;32m      5\u001b[0m             \u001b[38;5;28mprint\u001b[39m(a,\u001b[38;5;124m\"\u001b[39m\u001b[38;5;124mx\u001b[39m\u001b[38;5;124m\"\u001b[39m,i,\u001b[38;5;124m\"\u001b[39m\u001b[38;5;124m=\u001b[39m\u001b[38;5;124m\"\u001b[39m,i\u001b[38;5;241m*\u001b[39ma)\n",
      "\u001b[1;31mValueError\u001b[0m: invalid literal for int() with base 10: ''"
     ]
    }
   ],
   "source": [
    "Table()"
   ]
  },
  {
   "cell_type": "code",
   "execution_count": 24,
   "id": "473e457c",
   "metadata": {},
   "outputs": [
    {
     "data": {
      "text/plain": [
       "8"
      ]
     },
     "execution_count": 24,
     "metadata": {},
     "output_type": "execute_result"
    }
   ],
   "source": [
    "8"
   ]
  },
  {
   "cell_type": "code",
   "execution_count": 25,
   "id": "983c8904",
   "metadata": {},
   "outputs": [
    {
     "name": "stdout",
     "output_type": "stream",
     "text": [
      "5\n",
      "5 x 1 = 5\n",
      "5 x 2 = 10\n",
      "5 x 3 = 15\n",
      "5 x 4 = 20\n",
      "5 x 5 = 25\n",
      "5 x 6 = 30\n",
      "5 x 7 = 35\n",
      "5 x 8 = 40\n",
      "5 x 9 = 45\n",
      "5 x 10 = 50\n",
      "y to break = 9\n",
      "\n"
     ]
    },
    {
     "ename": "ValueError",
     "evalue": "invalid literal for int() with base 10: ''",
     "output_type": "error",
     "traceback": [
      "\u001b[1;31m---------------------------------------------------------------------------\u001b[0m",
      "\u001b[1;31mValueError\u001b[0m                                Traceback (most recent call last)",
      "Input \u001b[1;32mIn [25]\u001b[0m, in \u001b[0;36m<cell line: 1>\u001b[1;34m()\u001b[0m\n\u001b[1;32m----> 1\u001b[0m \u001b[43mTable\u001b[49m\u001b[43m(\u001b[49m\u001b[43m)\u001b[49m\n",
      "Input \u001b[1;32mIn [20]\u001b[0m, in \u001b[0;36mTable\u001b[1;34m()\u001b[0m\n\u001b[0;32m      1\u001b[0m \u001b[38;5;28;01mdef\u001b[39;00m \u001b[38;5;21mTable\u001b[39m():\n\u001b[0;32m      2\u001b[0m     \u001b[38;5;28;01mwhile\u001b[39;00m \u001b[38;5;28;01mTrue\u001b[39;00m:\n\u001b[1;32m----> 3\u001b[0m         a\u001b[38;5;241m=\u001b[39m\u001b[38;5;28;43mint\u001b[39;49m\u001b[43m(\u001b[49m\u001b[38;5;28;43minput\u001b[39;49m\u001b[43m(\u001b[49m\u001b[43m)\u001b[49m\u001b[43m)\u001b[49m\n\u001b[0;32m      4\u001b[0m         \u001b[38;5;28;01mfor\u001b[39;00m i \u001b[38;5;129;01min\u001b[39;00m \u001b[38;5;28mrange\u001b[39m(\u001b[38;5;241m1\u001b[39m,\u001b[38;5;241m11\u001b[39m):\n\u001b[0;32m      5\u001b[0m             \u001b[38;5;28mprint\u001b[39m(a,\u001b[38;5;124m\"\u001b[39m\u001b[38;5;124mx\u001b[39m\u001b[38;5;124m\"\u001b[39m,i,\u001b[38;5;124m\"\u001b[39m\u001b[38;5;124m=\u001b[39m\u001b[38;5;124m\"\u001b[39m,i\u001b[38;5;241m*\u001b[39ma)\n",
      "\u001b[1;31mValueError\u001b[0m: invalid literal for int() with base 10: ''"
     ]
    }
   ],
   "source": [
    "Table()"
   ]
  },
  {
   "cell_type": "code",
   "execution_count": 26,
   "id": "49819385",
   "metadata": {},
   "outputs": [
    {
     "name": "stdout",
     "output_type": "stream",
     "text": [
      "7\n",
      "7 x 1 = 7\n",
      "7 x 2 = 14\n",
      "7 x 3 = 21\n",
      "7 x 4 = 28\n",
      "7 x 5 = 35\n",
      "7 x 6 = 42\n",
      "7 x 7 = 49\n",
      "7 x 8 = 56\n",
      "7 x 9 = 63\n",
      "7 x 10 = 70\n",
      "y to break = \n",
      "6\n",
      "6 x 1 = 6\n",
      "6 x 2 = 12\n",
      "6 x 3 = 18\n",
      "6 x 4 = 24\n",
      "6 x 5 = 30\n",
      "6 x 6 = 36\n",
      "6 x 7 = 42\n",
      "6 x 8 = 48\n",
      "6 x 9 = 54\n",
      "6 x 10 = 60\n",
      "y to break = 7\n",
      "\n"
     ]
    },
    {
     "ename": "ValueError",
     "evalue": "invalid literal for int() with base 10: ''",
     "output_type": "error",
     "traceback": [
      "\u001b[1;31m---------------------------------------------------------------------------\u001b[0m",
      "\u001b[1;31mValueError\u001b[0m                                Traceback (most recent call last)",
      "Input \u001b[1;32mIn [26]\u001b[0m, in \u001b[0;36m<cell line: 1>\u001b[1;34m()\u001b[0m\n\u001b[1;32m----> 1\u001b[0m \u001b[43mTable\u001b[49m\u001b[43m(\u001b[49m\u001b[43m)\u001b[49m\n",
      "Input \u001b[1;32mIn [20]\u001b[0m, in \u001b[0;36mTable\u001b[1;34m()\u001b[0m\n\u001b[0;32m      1\u001b[0m \u001b[38;5;28;01mdef\u001b[39;00m \u001b[38;5;21mTable\u001b[39m():\n\u001b[0;32m      2\u001b[0m     \u001b[38;5;28;01mwhile\u001b[39;00m \u001b[38;5;28;01mTrue\u001b[39;00m:\n\u001b[1;32m----> 3\u001b[0m         a\u001b[38;5;241m=\u001b[39m\u001b[38;5;28;43mint\u001b[39;49m\u001b[43m(\u001b[49m\u001b[38;5;28;43minput\u001b[39;49m\u001b[43m(\u001b[49m\u001b[43m)\u001b[49m\u001b[43m)\u001b[49m\n\u001b[0;32m      4\u001b[0m         \u001b[38;5;28;01mfor\u001b[39;00m i \u001b[38;5;129;01min\u001b[39;00m \u001b[38;5;28mrange\u001b[39m(\u001b[38;5;241m1\u001b[39m,\u001b[38;5;241m11\u001b[39m):\n\u001b[0;32m      5\u001b[0m             \u001b[38;5;28mprint\u001b[39m(a,\u001b[38;5;124m\"\u001b[39m\u001b[38;5;124mx\u001b[39m\u001b[38;5;124m\"\u001b[39m,i,\u001b[38;5;124m\"\u001b[39m\u001b[38;5;124m=\u001b[39m\u001b[38;5;124m\"\u001b[39m,i\u001b[38;5;241m*\u001b[39ma)\n",
      "\u001b[1;31mValueError\u001b[0m: invalid literal for int() with base 10: ''"
     ]
    }
   ],
   "source": [
    "Table()"
   ]
  },
  {
   "cell_type": "code",
   "execution_count": 27,
   "id": "25d13d4d",
   "metadata": {},
   "outputs": [
    {
     "data": {
      "text/plain": [
       "7"
      ]
     },
     "execution_count": 27,
     "metadata": {},
     "output_type": "execute_result"
    }
   ],
   "source": [
    "7"
   ]
  },
  {
   "cell_type": "code",
   "execution_count": 28,
   "id": "e2c3c82a",
   "metadata": {},
   "outputs": [
    {
     "name": "stdout",
     "output_type": "stream",
     "text": [
      "8\n",
      "8 x 1 = 8\n",
      "8 x 2 = 16\n",
      "8 x 3 = 24\n",
      "8 x 4 = 32\n",
      "8 x 5 = 40\n",
      "8 x 6 = 48\n",
      "8 x 7 = 56\n",
      "8 x 8 = 64\n",
      "8 x 9 = 72\n",
      "8 x 10 = 80\n",
      "y to break = \n",
      "7\n",
      "7 x 1 = 7\n",
      "7 x 2 = 14\n",
      "7 x 3 = 21\n",
      "7 x 4 = 28\n",
      "7 x 5 = 35\n",
      "7 x 6 = 42\n",
      "7 x 7 = 49\n",
      "7 x 8 = 56\n",
      "7 x 9 = 63\n",
      "7 x 10 = 70\n",
      "y to break = \n",
      "3\n",
      "3 x 1 = 3\n",
      "3 x 2 = 6\n",
      "3 x 3 = 9\n",
      "3 x 4 = 12\n",
      "3 x 5 = 15\n",
      "3 x 6 = 18\n",
      "3 x 7 = 21\n",
      "3 x 8 = 24\n",
      "3 x 9 = 27\n",
      "3 x 10 = 30\n",
      "y to break = y\n",
      "Thank you\n"
     ]
    }
   ],
   "source": [
    "Table()"
   ]
  },
  {
   "cell_type": "code",
   "execution_count": null,
   "id": "3f6bb28c",
   "metadata": {},
   "outputs": [],
   "source": [
    "# IRIS\n",
    "def chk():\n",
    "    # Take any number and print table of it -- in 2X2 format 1 to 10\n",
    "    # Also check Even or ODD\n",
    "    answer='y'\n",
    "    while (answer=='y'):\n",
    "        num=(int(input(\"Give your input number= \")))\n",
    "        if (num%2!=0):\n",
    "            print (\"This is an ODD number\")\n",
    "        else:\n",
    "            print (\"This is an EVEN number\")\n",
    "        for i in range(10):\n",
    "            i+=1\n",
    "            print(num,\"X\",i,\"=\",i*num)\n",
    "        answer=(input(\"Do you want to continue? y/n\"))\n",
    "        if answer ==\"n\":\n",
    "            print(\"Thank You --> EXIT!\")\n",
    "            break\n",
    "chk()\n",
    "#kamini\n",
    "def print_table(var):\n",
    "    for i in range(1, 11):\n",
    "        check = 'EVEN' if var*i % 2 == 0 else 'ODD'\n",
    "        print(var, 'x', i, '=', var*i, '-->', check)\n",
    "        \n",
    "while True:\n",
    "    print_table(int(input(\"enter any number\")))\n",
    "    exit = input(\"DO you want to exit? (Y/N) \")\n",
    "    if exit == 'Y' or exit == 'y':\n",
    "        break\n"
   ]
  },
  {
   "cell_type": "markdown",
   "id": "b9f5427b",
   "metadata": {},
   "source": [
    "### Take 2 number as input and add them, print them by passing it to a fun "
   ]
  },
  {
   "cell_type": "code",
   "execution_count": 32,
   "id": "3e3ba9d4",
   "metadata": {},
   "outputs": [
    {
     "name": "stdout",
     "output_type": "stream",
     "text": [
      "Please enter a first no.34\n",
      "Please enter a second no.43\n",
      "Sum of the two no's is:  77\n"
     ]
    }
   ],
   "source": [
    "def add(num1,num2):\n",
    "    print(\"Sum of the two no's is: \",num1+num2)\n",
    "    \n",
    "a1=int(input(\"Please enter a first no.\"))\n",
    "a2=int(input(\"Please enter a second no.\"))\n",
    "add(a1,a2)"
   ]
  },
  {
   "cell_type": "code",
   "execution_count": 34,
   "id": "949dfca9",
   "metadata": {},
   "outputs": [
    {
     "data": {
      "text/plain": [
       "'hello sam'"
      ]
     },
     "execution_count": 34,
     "metadata": {},
     "output_type": "execute_result"
    }
   ],
   "source": [
    "\"hello\"+\" sam\""
   ]
  },
  {
   "cell_type": "code",
   "execution_count": 1,
   "id": "fb975d61",
   "metadata": {},
   "outputs": [
    {
     "name": "stdout",
     "output_type": "stream",
     "text": [
      "Please enter a first str: hello\n",
      "Please enter a second str: sam\n",
      "Concatination of 2 str is:  hello sam\n"
     ]
    }
   ],
   "source": [
    "def concatinate_str(str1,str2):\n",
    "    print(\"Concatination of 2 str is: \",str1+\" \"+str2)\n",
    "    \n",
    "a1=input(\"Please enter a first str: \")\n",
    "a2=input(\"Please enter a second str: \")\n",
    "concatinate_str(a1,a2)"
   ]
  },
  {
   "cell_type": "code",
   "execution_count": 2,
   "id": "6a19cf08",
   "metadata": {},
   "outputs": [
    {
     "data": {
      "text/plain": [
       "int"
      ]
     },
     "execution_count": 2,
     "metadata": {},
     "output_type": "execute_result"
    }
   ],
   "source": [
    "a=9\n",
    "type(a)"
   ]
  },
  {
   "cell_type": "code",
   "execution_count": 3,
   "id": "eb587997",
   "metadata": {},
   "outputs": [
    {
     "data": {
      "text/plain": [
       "True"
      ]
     },
     "execution_count": 3,
     "metadata": {},
     "output_type": "execute_result"
    }
   ],
   "source": [
    "type(a)==int"
   ]
  },
  {
   "cell_type": "code",
   "execution_count": 4,
   "id": "5c536b07",
   "metadata": {},
   "outputs": [
    {
     "data": {
      "text/plain": [
       "False"
      ]
     },
     "execution_count": 4,
     "metadata": {},
     "output_type": "execute_result"
    }
   ],
   "source": [
    "a=\"9\"\n",
    "type(a)\n",
    "type(a)==int"
   ]
  },
  {
   "cell_type": "code",
   "execution_count": 5,
   "id": "c276acef",
   "metadata": {},
   "outputs": [
    {
     "data": {
      "text/plain": [
       "True"
      ]
     },
     "execution_count": 5,
     "metadata": {},
     "output_type": "execute_result"
    }
   ],
   "source": [
    "a=\"9\"\n",
    "type(a)\n",
    "type(a)==str"
   ]
  },
  {
   "cell_type": "code",
   "execution_count": 6,
   "id": "8a69ca62",
   "metadata": {},
   "outputs": [],
   "source": [
    "def f(a,b):\n",
    "    if type(a)==int and type(b)==int:\n",
    "        print(a+b)\n",
    "    else:\n",
    "        print(str(a)+\" \"+str(b))"
   ]
  },
  {
   "cell_type": "code",
   "execution_count": 7,
   "id": "88fd0cca",
   "metadata": {},
   "outputs": [
    {
     "name": "stdout",
     "output_type": "stream",
     "text": [
      "7\n"
     ]
    }
   ],
   "source": [
    "f(3,4)"
   ]
  },
  {
   "cell_type": "code",
   "execution_count": 8,
   "id": "f19856d9",
   "metadata": {},
   "outputs": [
    {
     "name": "stdout",
     "output_type": "stream",
     "text": [
      "hello ji\n"
     ]
    }
   ],
   "source": [
    "f(\"hello\",\"ji\")"
   ]
  },
  {
   "cell_type": "code",
   "execution_count": 9,
   "id": "10815afb",
   "metadata": {},
   "outputs": [
    {
     "name": "stdout",
     "output_type": "stream",
     "text": [
      "5 ji\n"
     ]
    }
   ],
   "source": [
    "f(5,\"ji\")"
   ]
  },
  {
   "cell_type": "code",
   "execution_count": 10,
   "id": "61588905",
   "metadata": {},
   "outputs": [
    {
     "name": "stdout",
     "output_type": "stream",
     "text": [
      "1 for number , 2 for str1\n",
      "a= 34\n",
      "b= 67\n",
      "101\n"
     ]
    }
   ],
   "source": [
    "choose =input(\"1 for number , 2 for str\")\n",
    "if choose==\"1\":\n",
    "    a=int(input(\"a= \"))\n",
    "    b=int(input(\"b= \"))\n",
    "else:\n",
    "    a=input(\"a= \")\n",
    "    b=input(\"b= \")\n",
    "f(a,b)"
   ]
  },
  {
   "cell_type": "code",
   "execution_count": 3,
   "id": "f2d83d1e",
   "metadata": {},
   "outputs": [
    {
     "name": "stdout",
     "output_type": "stream",
     "text": [
      "5\n",
      "na has=  None type of na is =  <class 'NoneType'>\n"
     ]
    }
   ],
   "source": [
    "### Return\n",
    "\n",
    "def na(a,b):\n",
    "    print(a+b)\n",
    "    \n",
    "v=na(3,2)  # NONE\n",
    "print(\"na has= \",v, \"type of na is = \",type(v))"
   ]
  },
  {
   "cell_type": "code",
   "execution_count": 7,
   "id": "789a283e",
   "metadata": {},
   "outputs": [],
   "source": [
    "def name(a,b,c,d):\n",
    "    return a+b+c+d"
   ]
  },
  {
   "cell_type": "code",
   "execution_count": 13,
   "id": "25a2eff4",
   "metadata": {},
   "outputs": [
    {
     "data": {
      "text/plain": [
       "'abc_qwe_asd_sdf_'"
      ]
     },
     "execution_count": 13,
     "metadata": {},
     "output_type": "execute_result"
    }
   ],
   "source": [
    "name(\"abc_\",\"qwe_\",\"asd_\",\"sdf_\")"
   ]
  },
  {
   "cell_type": "code",
   "execution_count": 14,
   "id": "de18c8c9",
   "metadata": {},
   "outputs": [
    {
     "data": {
      "text/plain": [
       "10"
      ]
     },
     "execution_count": 14,
     "metadata": {},
     "output_type": "execute_result"
    }
   ],
   "source": [
    "name(1,2,3,4)"
   ]
  },
  {
   "cell_type": "code",
   "execution_count": 15,
   "id": "859fa15f",
   "metadata": {},
   "outputs": [],
   "source": [
    "var=name(1,2,3,4)"
   ]
  },
  {
   "cell_type": "code",
   "execution_count": 16,
   "id": "5cd4d42d",
   "metadata": {},
   "outputs": [
    {
     "data": {
      "text/plain": [
       "10"
      ]
     },
     "execution_count": 16,
     "metadata": {},
     "output_type": "execute_result"
    }
   ],
   "source": [
    "var"
   ]
  },
  {
   "cell_type": "markdown",
   "id": "ead30bc6",
   "metadata": {},
   "source": [
    "### After return cursor"
   ]
  },
  {
   "cell_type": "code",
   "execution_count": 18,
   "id": "23c6fa9a",
   "metadata": {},
   "outputs": [],
   "source": [
    "def x():\n",
    "    print(\"hello\")\n",
    "    return \"back\"\n",
    "    print(\"after return will not be there\") ## whatever u put after return will not be executed\n"
   ]
  },
  {
   "cell_type": "code",
   "execution_count": 19,
   "id": "c99e922f",
   "metadata": {},
   "outputs": [
    {
     "name": "stdout",
     "output_type": "stream",
     "text": [
      "hello\n"
     ]
    },
    {
     "data": {
      "text/plain": [
       "'back'"
      ]
     },
     "execution_count": 19,
     "metadata": {},
     "output_type": "execute_result"
    }
   ],
   "source": [
    "x()"
   ]
  },
  {
   "cell_type": "code",
   "execution_count": 20,
   "id": "7af8b282",
   "metadata": {},
   "outputs": [],
   "source": [
    "def n(a,b,c=0,d=0):\n",
    "    return a+b+c+d"
   ]
  },
  {
   "cell_type": "code",
   "execution_count": 21,
   "id": "f38504bc",
   "metadata": {},
   "outputs": [
    {
     "data": {
      "text/plain": [
       "5"
      ]
     },
     "execution_count": 21,
     "metadata": {},
     "output_type": "execute_result"
    }
   ],
   "source": [
    "n(2,3)"
   ]
  },
  {
   "cell_type": "code",
   "execution_count": 22,
   "id": "c421f1fb",
   "metadata": {},
   "outputs": [
    {
     "data": {
      "text/plain": [
       "9"
      ]
     },
     "execution_count": 22,
     "metadata": {},
     "output_type": "execute_result"
    }
   ],
   "source": [
    "n(2,3,4)"
   ]
  },
  {
   "cell_type": "code",
   "execution_count": 23,
   "id": "c33d3553",
   "metadata": {},
   "outputs": [
    {
     "data": {
      "text/plain": [
       "18"
      ]
     },
     "execution_count": 23,
     "metadata": {},
     "output_type": "execute_result"
    }
   ],
   "source": [
    "n(2,3,6,7)"
   ]
  },
  {
   "cell_type": "code",
   "execution_count": 24,
   "id": "3c66ed0f",
   "metadata": {},
   "outputs": [
    {
     "data": {
      "text/plain": [
       "14"
      ]
     },
     "execution_count": 24,
     "metadata": {},
     "output_type": "execute_result"
    }
   ],
   "source": [
    "n(*[2,3,4,5])  # a=2,b=3,c=4,d=5"
   ]
  },
  {
   "cell_type": "code",
   "execution_count": 25,
   "id": "e3bbfcf0",
   "metadata": {},
   "outputs": [],
   "source": [
    "def fun(a,b=0,c=0):\n",
    "    print(a,b,c)"
   ]
  },
  {
   "cell_type": "code",
   "execution_count": 26,
   "id": "4b38c8d6",
   "metadata": {},
   "outputs": [
    {
     "name": "stdout",
     "output_type": "stream",
     "text": [
      "[3, 4, 5] 0 0\n"
     ]
    }
   ],
   "source": [
    "fun([3,4,5])"
   ]
  },
  {
   "cell_type": "code",
   "execution_count": 27,
   "id": "c7e801a8",
   "metadata": {},
   "outputs": [
    {
     "name": "stdout",
     "output_type": "stream",
     "text": [
      "3 4 5\n"
     ]
    }
   ],
   "source": [
    "fun(*[3,4,5])"
   ]
  },
  {
   "cell_type": "markdown",
   "id": "e42aa47d",
   "metadata": {},
   "source": [
    "#### Function with  *Arg and  **Kwarg"
   ]
  },
  {
   "cell_type": "code",
   "execution_count": 28,
   "id": "9d8bbc98",
   "metadata": {},
   "outputs": [],
   "source": [
    "def p(*arg):\n",
    "    print(\"type\",type(arg))\n",
    "    print(arg)"
   ]
  },
  {
   "cell_type": "code",
   "execution_count": 29,
   "id": "c2fe7ab5",
   "metadata": {},
   "outputs": [
    {
     "name": "stdout",
     "output_type": "stream",
     "text": [
      "type <class 'tuple'>\n",
      "(3, 4, 5, 6)\n"
     ]
    }
   ],
   "source": [
    "p(3,4,5,6)"
   ]
  },
  {
   "cell_type": "code",
   "execution_count": 4,
   "id": "4c4717c6",
   "metadata": {},
   "outputs": [],
   "source": [
    "def pf(*arg):\n",
    "    print(arg)\n",
    "    num=0\n",
    "    for i in arg:\n",
    "         num=num+i\n",
    "         print(\"hello \",i,\"-->\",num)\n",
    "            \n",
    "        ## print(\"hello \",i,\"-->\",num)"
   ]
  },
  {
   "cell_type": "code",
   "execution_count": null,
   "id": "7181c78c",
   "metadata": {},
   "outputs": [],
   "source": []
  },
  {
   "cell_type": "code",
   "execution_count": 5,
   "id": "a104ddd4",
   "metadata": {},
   "outputs": [
    {
     "name": "stdout",
     "output_type": "stream",
     "text": [
      "hello num 3 -->num= 3\n",
      "hello num 4 -->num= 7\n",
      "hello num 5 -->num= 12\n",
      "hello num 6 -->num= 18\n"
     ]
    }
   ],
   "source": [
    "num=0\n",
    "for i in [3,4,5,6]:\n",
    "    num=num+i\n",
    "    print(\"hello num\",i,\"-->num=\",num)"
   ]
  },
  {
   "cell_type": "code",
   "execution_count": 32,
   "id": "7fc7b41a",
   "metadata": {},
   "outputs": [
    {
     "name": "stdout",
     "output_type": "stream",
     "text": [
      "(5, 6)\n",
      "hello  5 --> 5\n",
      "hello  6 --> 11\n"
     ]
    }
   ],
   "source": [
    "pf(5,6)"
   ]
  },
  {
   "cell_type": "code",
   "execution_count": 33,
   "id": "90193f5b",
   "metadata": {},
   "outputs": [
    {
     "name": "stdout",
     "output_type": "stream",
     "text": [
      "(3, 3, 4, 5, 6)\n",
      "hello  3 --> 3\n",
      "hello  3 --> 6\n",
      "hello  4 --> 10\n",
      "hello  5 --> 15\n",
      "hello  6 --> 21\n"
     ]
    }
   ],
   "source": [
    "pf(3,3,4,5,6)"
   ]
  },
  {
   "cell_type": "code",
   "execution_count": 34,
   "id": "b28c8cdc",
   "metadata": {},
   "outputs": [],
   "source": [
    "def f(a,b,*arg):\n",
    "    print(a,b,arg)"
   ]
  },
  {
   "cell_type": "code",
   "execution_count": 35,
   "id": "a0073ca5",
   "metadata": {},
   "outputs": [
    {
     "name": "stdout",
     "output_type": "stream",
     "text": [
      "3 4 (5, 6)\n"
     ]
    }
   ],
   "source": [
    "f(3,4,5,6)"
   ]
  },
  {
   "cell_type": "code",
   "execution_count": 36,
   "id": "642ce40f",
   "metadata": {},
   "outputs": [],
   "source": [
    "def ff(a,b,*arg,c):\n",
    "    print(a,b,arg)   ## dont write c after *arg"
   ]
  },
  {
   "cell_type": "markdown",
   "id": "56b090c8",
   "metadata": {},
   "source": [
    "https://drive.google.com/drive/folders/1yEcM48KEYRqDNEbolYEu18PCffzRjzrc?usp=share_link\n"
   ]
  },
  {
   "cell_type": "code",
   "execution_count": 37,
   "id": "90fdf044",
   "metadata": {},
   "outputs": [
    {
     "ename": "TypeError",
     "evalue": "ff() missing 1 required keyword-only argument: 'c'",
     "output_type": "error",
     "traceback": [
      "\u001b[1;31m---------------------------------------------------------------------------\u001b[0m",
      "\u001b[1;31mTypeError\u001b[0m                                 Traceback (most recent call last)",
      "Input \u001b[1;32mIn [37]\u001b[0m, in \u001b[0;36m<cell line: 1>\u001b[1;34m()\u001b[0m\n\u001b[1;32m----> 1\u001b[0m \u001b[43mff\u001b[49m\u001b[43m(\u001b[49m\u001b[38;5;241;43m2\u001b[39;49m\u001b[43m,\u001b[49m\u001b[38;5;241;43m3\u001b[39;49m\u001b[43m,\u001b[49m\u001b[38;5;241;43m5\u001b[39;49m\u001b[43m,\u001b[49m\u001b[38;5;241;43m6\u001b[39;49m\u001b[43m,\u001b[49m\u001b[38;5;241;43m7\u001b[39;49m\u001b[43m,\u001b[49m\u001b[38;5;241;43m8\u001b[39;49m\u001b[43m,\u001b[49m\u001b[38;5;241;43m9\u001b[39;49m\u001b[43m,\u001b[49m\u001b[38;5;241;43m0\u001b[39;49m\u001b[43m)\u001b[49m\n",
      "\u001b[1;31mTypeError\u001b[0m: ff() missing 1 required keyword-only argument: 'c'"
     ]
    }
   ],
   "source": [
    "ff(2,3,5,6,7,8,9,0)"
   ]
  },
  {
   "cell_type": "markdown",
   "id": "4ea0b562",
   "metadata": {},
   "source": [
    "### kwarg"
   ]
  },
  {
   "cell_type": "code",
   "execution_count": 1,
   "id": "ff1cea41",
   "metadata": {},
   "outputs": [],
   "source": [
    "def p(**kwarg):\n",
    "    print(kwarg)"
   ]
  },
  {
   "cell_type": "code",
   "execution_count": 2,
   "id": "d7b9f35e",
   "metadata": {},
   "outputs": [
    {
     "name": "stdout",
     "output_type": "stream",
     "text": [
      "{'p': 12, 't': 9}\n"
     ]
    }
   ],
   "source": [
    "p(p=12,t=9)"
   ]
  },
  {
   "cell_type": "code",
   "execution_count": 3,
   "id": "59cd5269",
   "metadata": {},
   "outputs": [
    {
     "name": "stdout",
     "output_type": "stream",
     "text": [
      "{'p': [300, 12], 't': 9}\n"
     ]
    }
   ],
   "source": [
    "p(p=[300,12],t=9)"
   ]
  },
  {
   "cell_type": "code",
   "execution_count": 4,
   "id": "4535c2cf",
   "metadata": {},
   "outputs": [
    {
     "data": {
      "text/plain": [
       "{'name': 'sam'}"
      ]
     },
     "execution_count": 4,
     "metadata": {},
     "output_type": "execute_result"
    }
   ],
   "source": [
    "dict(name=\"sam\")"
   ]
  },
  {
   "cell_type": "code",
   "execution_count": 5,
   "id": "a36fa6bb",
   "metadata": {},
   "outputs": [],
   "source": [
    "def p(*arg,**kwarg):\n",
    "    print(arg,kwarg)"
   ]
  },
  {
   "cell_type": "code",
   "execution_count": 6,
   "id": "44d35d11",
   "metadata": {},
   "outputs": [
    {
     "name": "stdout",
     "output_type": "stream",
     "text": [
      "(2, 3, 4) {'l': 4, 'k': 9}\n"
     ]
    }
   ],
   "source": [
    "p(2,3,4,l=4,k=9)"
   ]
  },
  {
   "cell_type": "code",
   "execution_count": 7,
   "id": "3ba478c5",
   "metadata": {},
   "outputs": [],
   "source": [
    "def p(a,b,*arg,**kwarg):\n",
    "    print(a,b,\"---\",arg,kwarg)"
   ]
  },
  {
   "cell_type": "code",
   "execution_count": 8,
   "id": "af9f13ca",
   "metadata": {},
   "outputs": [
    {
     "name": "stdout",
     "output_type": "stream",
     "text": [
      "3 4 --- (5, 6, 7, 8, 9) {'k': 9, 'l': '4'}\n"
     ]
    }
   ],
   "source": [
    "p(3,4,5,6,7,8,9,k=9,l=\"4\")"
   ]
  },
  {
   "cell_type": "code",
   "execution_count": 9,
   "id": "7d94cb34",
   "metadata": {},
   "outputs": [
    {
     "name": "stdout",
     "output_type": "stream",
     "text": [
      "hello (3, 4, 5)\n"
     ]
    }
   ],
   "source": [
    "print(\"hello\",(3,4,5))"
   ]
  },
  {
   "cell_type": "code",
   "execution_count": null,
   "id": "58fa2dd4",
   "metadata": {},
   "outputs": [],
   "source": []
  }
 ],
 "metadata": {
  "kernelspec": {
   "display_name": "Python 3 (ipykernel)",
   "language": "python",
   "name": "python3"
  },
  "language_info": {
   "codemirror_mode": {
    "name": "ipython",
    "version": 3
   },
   "file_extension": ".py",
   "mimetype": "text/x-python",
   "name": "python",
   "nbconvert_exporter": "python",
   "pygments_lexer": "ipython3",
   "version": "3.9.12"
  }
 },
 "nbformat": 4,
 "nbformat_minor": 5
}
