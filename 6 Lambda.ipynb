{
 "cells": [
  {
   "cell_type": "code",
   "execution_count": 1,
   "id": "f851736e",
   "metadata": {},
   "outputs": [
    {
     "data": {
      "text/plain": [
       "5"
      ]
     },
     "execution_count": 1,
     "metadata": {},
     "output_type": "execute_result"
    }
   ],
   "source": [
    "def x(a):return a+2\n",
    "x(3)"
   ]
  },
  {
   "cell_type": "code",
   "execution_count": 2,
   "id": "68ec32d4",
   "metadata": {},
   "outputs": [],
   "source": [
    "x=lambda a:a+2      # def x(a):return a+2"
   ]
  },
  {
   "cell_type": "code",
   "execution_count": 3,
   "id": "e8f90f4d",
   "metadata": {},
   "outputs": [
    {
     "data": {
      "text/plain": [
       "4"
      ]
     },
     "execution_count": 3,
     "metadata": {},
     "output_type": "execute_result"
    }
   ],
   "source": [
    "x(2)"
   ]
  },
  {
   "cell_type": "code",
   "execution_count": 1,
   "id": "a6866be9",
   "metadata": {},
   "outputs": [],
   "source": [
    "def add(x,y):return x+y"
   ]
  },
  {
   "cell_type": "code",
   "execution_count": 2,
   "id": "d9e12c9a",
   "metadata": {},
   "outputs": [
    {
     "data": {
      "text/plain": [
       "8"
      ]
     },
     "execution_count": 2,
     "metadata": {},
     "output_type": "execute_result"
    }
   ],
   "source": [
    "add(3,5)"
   ]
  },
  {
   "cell_type": "code",
   "execution_count": 3,
   "id": "f2fa0a1b",
   "metadata": {},
   "outputs": [],
   "source": [
    "add=lambda x,y:x+y"
   ]
  },
  {
   "cell_type": "code",
   "execution_count": 4,
   "id": "1ed322ed",
   "metadata": {},
   "outputs": [
    {
     "data": {
      "text/plain": [
       "8"
      ]
     },
     "execution_count": 4,
     "metadata": {},
     "output_type": "execute_result"
    }
   ],
   "source": [
    "add(3,5)"
   ]
  },
  {
   "cell_type": "markdown",
   "id": "8575654f",
   "metadata": {},
   "source": [
    "### QUE\n",
    "\n",
    "Eco Fun write a lambda for this"
   ]
  },
  {
   "cell_type": "code",
   "execution_count": 9,
   "id": "79bce5ec",
   "metadata": {},
   "outputs": [],
   "source": [
    "def echo(word):\n",
    "    print(word*3)"
   ]
  },
  {
   "cell_type": "code",
   "execution_count": 10,
   "id": "21b80861",
   "metadata": {},
   "outputs": [
    {
     "name": "stdout",
     "output_type": "stream",
     "text": [
      "hihihi\n"
     ]
    }
   ],
   "source": [
    "echo(\"hi\")"
   ]
  },
  {
   "cell_type": "code",
   "execution_count": 11,
   "id": "871f1bae",
   "metadata": {},
   "outputs": [],
   "source": [
    "def echo(word):\n",
    "    print(f\"{word}...{word}.......{word}..!!!\")"
   ]
  },
  {
   "cell_type": "code",
   "execution_count": 12,
   "id": "16994cc2",
   "metadata": {},
   "outputs": [
    {
     "name": "stdout",
     "output_type": "stream",
     "text": [
      "hi...hi.......hi..!!!\n"
     ]
    }
   ],
   "source": [
    "echo(\"hi\")"
   ]
  },
  {
   "cell_type": "code",
   "execution_count": 5,
   "id": "e30de507",
   "metadata": {},
   "outputs": [],
   "source": [
    "echo = lambda word:word*3"
   ]
  },
  {
   "cell_type": "code",
   "execution_count": 7,
   "id": "4fc48610",
   "metadata": {},
   "outputs": [
    {
     "data": {
      "text/plain": [
       "'hihihi'"
      ]
     },
     "execution_count": 7,
     "metadata": {},
     "output_type": "execute_result"
    }
   ],
   "source": [
    "echo(\"hi\")"
   ]
  },
  {
   "cell_type": "code",
   "execution_count": 5,
   "id": "d1f53fd4",
   "metadata": {},
   "outputs": [],
   "source": [
    "y = lambda word:print(f\"{word}.....{word}..........{word}..!!!\")"
   ]
  },
  {
   "cell_type": "code",
   "execution_count": 6,
   "id": "56f760a4",
   "metadata": {},
   "outputs": [
    {
     "name": "stdout",
     "output_type": "stream",
     "text": [
      "hello.....hello..........hello..!!!\n"
     ]
    }
   ],
   "source": [
    "y(\"hello\")"
   ]
  },
  {
   "cell_type": "markdown",
   "id": "17a937a9",
   "metadata": {},
   "source": [
    "### 2 Variables"
   ]
  },
  {
   "cell_type": "code",
   "execution_count": 7,
   "id": "a0126742",
   "metadata": {},
   "outputs": [],
   "source": [
    "f=lambda x,y:x+y  # def f(x,y):return x+y"
   ]
  },
  {
   "cell_type": "code",
   "execution_count": 8,
   "id": "8201c381",
   "metadata": {},
   "outputs": [
    {
     "data": {
      "text/plain": [
       "7"
      ]
     },
     "execution_count": 8,
     "metadata": {},
     "output_type": "execute_result"
    }
   ],
   "source": [
    "f(3,4)"
   ]
  },
  {
   "cell_type": "code",
   "execution_count": 9,
   "id": "701f12c1",
   "metadata": {},
   "outputs": [
    {
     "data": {
      "text/plain": [
       "int"
      ]
     },
     "execution_count": 9,
     "metadata": {},
     "output_type": "execute_result"
    }
   ],
   "source": [
    "pp=f(4,3)\n",
    "type(pp)"
   ]
  },
  {
   "cell_type": "code",
   "execution_count": 2,
   "id": "9959f82a",
   "metadata": {},
   "outputs": [
    {
     "name": "stdout",
     "output_type": "stream",
     "text": [
      "hello\n"
     ]
    }
   ],
   "source": [
    "a=print(\"hello\") # print return type is NONE"
   ]
  },
  {
   "cell_type": "code",
   "execution_count": 3,
   "id": "5a47ff7b",
   "metadata": {},
   "outputs": [
    {
     "data": {
      "text/plain": [
       "NoneType"
      ]
     },
     "execution_count": 3,
     "metadata": {},
     "output_type": "execute_result"
    }
   ],
   "source": [
    "type(a)"
   ]
  },
  {
   "cell_type": "code",
   "execution_count": 4,
   "id": "58379362",
   "metadata": {},
   "outputs": [
    {
     "data": {
      "text/plain": [
       "'hello'"
      ]
     },
     "execution_count": 4,
     "metadata": {},
     "output_type": "execute_result"
    }
   ],
   "source": [
    "i = lambda :\"hello\"\n",
    "i()"
   ]
  },
  {
   "cell_type": "code",
   "execution_count": 5,
   "id": "b463220e",
   "metadata": {},
   "outputs": [],
   "source": [
    "z = lambda :print(\"name is SAM\")  # def z():return print(\"name is sam\")"
   ]
  },
  {
   "cell_type": "code",
   "execution_count": 6,
   "id": "830001a3",
   "metadata": {
    "scrolled": true
   },
   "outputs": [
    {
     "name": "stdout",
     "output_type": "stream",
     "text": [
      "name is SAM\n"
     ]
    }
   ],
   "source": [
    "z()"
   ]
  },
  {
   "cell_type": "code",
   "execution_count": 7,
   "id": "5deb55f3",
   "metadata": {},
   "outputs": [
    {
     "name": "stdout",
     "output_type": "stream",
     "text": [
      "name is SAM\n"
     ]
    },
    {
     "data": {
      "text/plain": [
       "NoneType"
      ]
     },
     "execution_count": 7,
     "metadata": {},
     "output_type": "execute_result"
    }
   ],
   "source": [
    "abc=z()\n",
    "type(abc)"
   ]
  },
  {
   "cell_type": "code",
   "execution_count": 8,
   "id": "a0177df9",
   "metadata": {},
   "outputs": [
    {
     "data": {
      "text/plain": [
       "function"
      ]
     },
     "execution_count": 8,
     "metadata": {},
     "output_type": "execute_result"
    }
   ],
   "source": [
    "type(z)"
   ]
  },
  {
   "cell_type": "markdown",
   "id": "5d647b9b",
   "metadata": {},
   "source": [
    "### Sq of the value"
   ]
  },
  {
   "cell_type": "code",
   "execution_count": 12,
   "id": "f637abd3",
   "metadata": {},
   "outputs": [
    {
     "data": {
      "text/plain": [
       "4"
      ]
     },
     "execution_count": 12,
     "metadata": {},
     "output_type": "execute_result"
    }
   ],
   "source": [
    "l=lambda x:x**2\n",
    "l(2)"
   ]
  },
  {
   "cell_type": "markdown",
   "id": "da8389c4",
   "metadata": {},
   "source": [
    "#### Check even n odd"
   ]
  },
  {
   "cell_type": "code",
   "execution_count": 13,
   "id": "7590bcab",
   "metadata": {},
   "outputs": [],
   "source": [
    "chk=lambda x:x%2==0   # checking the even number"
   ]
  },
  {
   "cell_type": "code",
   "execution_count": 14,
   "id": "65116b18",
   "metadata": {},
   "outputs": [
    {
     "data": {
      "text/plain": [
       "True"
      ]
     },
     "execution_count": 14,
     "metadata": {},
     "output_type": "execute_result"
    }
   ],
   "source": [
    "chk(6)"
   ]
  },
  {
   "cell_type": "code",
   "execution_count": 15,
   "id": "ecbf2f36",
   "metadata": {},
   "outputs": [
    {
     "data": {
      "text/plain": [
       "False"
      ]
     },
     "execution_count": 15,
     "metadata": {},
     "output_type": "execute_result"
    }
   ],
   "source": [
    "chk(3)"
   ]
  },
  {
   "cell_type": "code",
   "execution_count": 16,
   "id": "5fc65b52",
   "metadata": {},
   "outputs": [
    {
     "name": "stdout",
     "output_type": "stream",
     "text": [
      "even\n"
     ]
    }
   ],
   "source": [
    "if chk(6):\n",
    "    print(\"even\")\n",
    "else:\n",
    "    print(\"odd\")"
   ]
  },
  {
   "cell_type": "code",
   "execution_count": 17,
   "id": "f97734c9",
   "metadata": {},
   "outputs": [
    {
     "data": {
      "text/plain": [
       "'hi'"
      ]
     },
     "execution_count": 17,
     "metadata": {},
     "output_type": "execute_result"
    }
   ],
   "source": [
    "\"hello\" if 10>50 else \"hi\""
   ]
  },
  {
   "cell_type": "code",
   "execution_count": 18,
   "id": "40c79542",
   "metadata": {},
   "outputs": [
    {
     "data": {
      "text/plain": [
       "'hi'"
      ]
     },
     "execution_count": 18,
     "metadata": {},
     "output_type": "execute_result"
    }
   ],
   "source": [
    "c=\"hello\" if 10>50 else \"hi\"\n",
    "c"
   ]
  },
  {
   "cell_type": "code",
   "execution_count": 19,
   "id": "f132ff25",
   "metadata": {},
   "outputs": [
    {
     "name": "stdout",
     "output_type": "stream",
     "text": [
      "Number= 45\n"
     ]
    },
    {
     "data": {
      "text/plain": [
       "'odd'"
      ]
     },
     "execution_count": 19,
     "metadata": {},
     "output_type": "execute_result"
    }
   ],
   "source": [
    "x=int(input(\"Number= \"))\n",
    "\"even\" if x%2==0 else \"odd\""
   ]
  },
  {
   "cell_type": "code",
   "execution_count": 20,
   "id": "4f128304",
   "metadata": {},
   "outputs": [],
   "source": [
    "var=lambda a,b:a  if a>b else b # checking for greater number"
   ]
  },
  {
   "cell_type": "code",
   "execution_count": 21,
   "id": "2b09d065",
   "metadata": {},
   "outputs": [
    {
     "data": {
      "text/plain": [
       "6"
      ]
     },
     "execution_count": 21,
     "metadata": {},
     "output_type": "execute_result"
    }
   ],
   "source": [
    "var(3,6)"
   ]
  },
  {
   "cell_type": "code",
   "execution_count": 22,
   "id": "b469eb7c",
   "metadata": {},
   "outputs": [
    {
     "name": "stdout",
     "output_type": "stream",
     "text": [
      "the bigger value is  7\n"
     ]
    }
   ],
   "source": [
    "print(\"the bigger value is \",var(5,7))"
   ]
  },
  {
   "cell_type": "code",
   "execution_count": 23,
   "id": "8efd1d0d",
   "metadata": {},
   "outputs": [],
   "source": [
    "chk=lambda x:\"even\" if x%2==0 else \"odd\"  # checking for even and odd"
   ]
  },
  {
   "cell_type": "code",
   "execution_count": 24,
   "id": "c29fba4a",
   "metadata": {},
   "outputs": [
    {
     "data": {
      "text/plain": [
       "'odd'"
      ]
     },
     "execution_count": 24,
     "metadata": {},
     "output_type": "execute_result"
    }
   ],
   "source": [
    "chk(5)"
   ]
  },
  {
   "cell_type": "code",
   "execution_count": 25,
   "id": "f6c0495e",
   "metadata": {},
   "outputs": [
    {
     "data": {
      "text/plain": [
       "'even'"
      ]
     },
     "execution_count": 25,
     "metadata": {},
     "output_type": "execute_result"
    }
   ],
   "source": [
    "chk(4)"
   ]
  },
  {
   "cell_type": "code",
   "execution_count": 26,
   "id": "3f63d9e1",
   "metadata": {},
   "outputs": [],
   "source": [
    "# % modulo"
   ]
  },
  {
   "cell_type": "code",
   "execution_count": 27,
   "id": "6cd02fd4",
   "metadata": {},
   "outputs": [
    {
     "name": "stdout",
     "output_type": "stream",
     "text": [
      "odd\n",
      "even\n",
      "odd\n",
      "even\n"
     ]
    }
   ],
   "source": [
    "x=lambda x:\"even\"  if x%2==0 else \"odd\"  # lambda goes into for loop\n",
    "\n",
    "for i in range(1,5):\n",
    "    print(x(i))   #x(1,2,3,4)"
   ]
  },
  {
   "cell_type": "code",
   "execution_count": 28,
   "id": "aefcba25",
   "metadata": {},
   "outputs": [
    {
     "data": {
      "text/plain": [
       "'qwe'"
      ]
     },
     "execution_count": 28,
     "metadata": {},
     "output_type": "execute_result"
    }
   ],
   "source": [
    "#  rough raw code  # ADVANCE\n",
    "s=lambda x: \"abc\"  if x<10 else \"xyz\" if x<20 else \"qwe\" # if x<30 else \"pqr\"\n",
    "s(100)"
   ]
  },
  {
   "cell_type": "markdown",
   "id": "aca9da48",
   "metadata": {},
   "source": [
    "### Default Values"
   ]
  },
  {
   "cell_type": "code",
   "execution_count": 29,
   "id": "66e46593",
   "metadata": {},
   "outputs": [
    {
     "data": {
      "text/plain": [
       "'abc'"
      ]
     },
     "execution_count": 29,
     "metadata": {},
     "output_type": "execute_result"
    }
   ],
   "source": [
    "s=lambda x=1: \"abc\" if x<10 else \"xyz\"\n",
    "s()"
   ]
  },
  {
   "cell_type": "code",
   "execution_count": 30,
   "id": "cf225b78",
   "metadata": {},
   "outputs": [
    {
     "data": {
      "text/plain": [
       "'xyz'"
      ]
     },
     "execution_count": 30,
     "metadata": {},
     "output_type": "execute_result"
    }
   ],
   "source": [
    "s=lambda x=1: \"abc\" if x<10 else \"xyz\"\n",
    "s(100)"
   ]
  },
  {
   "cell_type": "markdown",
   "id": "9f3f7965",
   "metadata": {},
   "source": [
    "#### No elif allowed\n",
    "#### end with else n a value"
   ]
  },
  {
   "cell_type": "markdown",
   "id": "17c2df32",
   "metadata": {},
   "source": [
    "### Exercise\n",
    "\n",
    "### Que : Age - input\n",
    "* if age minor or teen or adult or mid age or old\n",
    "* minor<13  teen<19  adult<40  mid age<60  60<old"
   ]
  },
  {
   "cell_type": "code",
   "execution_count": 35,
   "id": "ca837cd1",
   "metadata": {},
   "outputs": [
    {
     "data": {
      "text/plain": [
       "'Old'"
      ]
     },
     "execution_count": 35,
     "metadata": {},
     "output_type": "execute_result"
    }
   ],
   "source": [
    "ageChk=lambda x: \"minor\" if x<13 else \"teen\" if x<20 else \"adult\" if x<40 else \"mid age\" if x<60 else \"Old\"\n",
    "ageChk(100)\n"
   ]
  },
  {
   "cell_type": "code",
   "execution_count": 10,
   "id": "57288b57",
   "metadata": {},
   "outputs": [
    {
     "data": {
      "text/plain": [
       "'teen'"
      ]
     },
     "execution_count": 10,
     "metadata": {},
     "output_type": "execute_result"
    }
   ],
   "source": [
    "var5 = lambda a: \"minor\" if a<13 else \"teen\" if a>13 and a<19 else \"Mid\" if a>19 and a<40 else \"Adult\" if a>40 and a<60 else \"Old\"\n",
    "var5(15)"
   ]
  },
  {
   "cell_type": "code",
   "execution_count": 11,
   "id": "31660c4c",
   "metadata": {},
   "outputs": [
    {
     "data": {
      "text/plain": [
       "'OLd'"
      ]
     },
     "execution_count": 11,
     "metadata": {},
     "output_type": "execute_result"
    }
   ],
   "source": [
    "x=lambda x:\"minor\" if x<13 else \"teen\" if x<20 else \"adult\" if x<40 else \"mid age\" if x<60 else \"OLd\"\n",
    "\n",
    "x(70)"
   ]
  },
  {
   "cell_type": "markdown",
   "id": "77a52695",
   "metadata": {},
   "source": [
    "### Mapping\n",
    "\n",
    "map(func,*iterables)"
   ]
  },
  {
   "cell_type": "code",
   "execution_count": null,
   "id": "dc65abdd",
   "metadata": {},
   "outputs": [],
   "source": []
  },
  {
   "cell_type": "code",
   "execution_count": 36,
   "id": "12ff8461",
   "metadata": {},
   "outputs": [],
   "source": [
    "def f(x):\n",
    "    return x**2"
   ]
  },
  {
   "cell_type": "code",
   "execution_count": 37,
   "id": "f6ad9bfc",
   "metadata": {},
   "outputs": [
    {
     "data": {
      "text/plain": [
       "<function __main__.f(x)>"
      ]
     },
     "execution_count": 37,
     "metadata": {},
     "output_type": "execute_result"
    }
   ],
   "source": [
    "f"
   ]
  },
  {
   "cell_type": "code",
   "execution_count": 38,
   "id": "2782df24",
   "metadata": {},
   "outputs": [
    {
     "data": {
      "text/plain": [
       "9"
      ]
     },
     "execution_count": 38,
     "metadata": {},
     "output_type": "execute_result"
    }
   ],
   "source": [
    "f(3)"
   ]
  },
  {
   "cell_type": "code",
   "execution_count": 39,
   "id": "cb1b3a9b",
   "metadata": {},
   "outputs": [
    {
     "name": "stdout",
     "output_type": "stream",
     "text": [
      "4\n",
      "9\n",
      "16\n"
     ]
    }
   ],
   "source": [
    "for i in [2,3,4]:\n",
    "    print(f(i))"
   ]
  },
  {
   "cell_type": "code",
   "execution_count": 40,
   "id": "8980a62b",
   "metadata": {},
   "outputs": [
    {
     "data": {
      "text/plain": [
       "<map at 0x27f535c5640>"
      ]
     },
     "execution_count": 40,
     "metadata": {},
     "output_type": "execute_result"
    }
   ],
   "source": [
    "map(f,[2,3,4])   #map(func, *iterables) --> map object"
   ]
  },
  {
   "cell_type": "code",
   "execution_count": 41,
   "id": "3acb58ac",
   "metadata": {},
   "outputs": [
    {
     "data": {
      "text/plain": [
       "[4, 9, 16]"
      ]
     },
     "execution_count": 41,
     "metadata": {},
     "output_type": "execute_result"
    }
   ],
   "source": [
    "list(map(f,[2,3,4]))"
   ]
  },
  {
   "cell_type": "code",
   "execution_count": 42,
   "id": "1624c026",
   "metadata": {},
   "outputs": [],
   "source": [
    "var=list(map(f,[2,3,4]))"
   ]
  },
  {
   "cell_type": "code",
   "execution_count": 43,
   "id": "938ff5f0",
   "metadata": {},
   "outputs": [
    {
     "data": {
      "text/plain": [
       "[4, 9, 16]"
      ]
     },
     "execution_count": 43,
     "metadata": {},
     "output_type": "execute_result"
    }
   ],
   "source": [
    "var"
   ]
  },
  {
   "cell_type": "code",
   "execution_count": 44,
   "id": "19b46389",
   "metadata": {},
   "outputs": [
    {
     "data": {
      "text/plain": [
       "[4, 9, 16]"
      ]
     },
     "execution_count": 44,
     "metadata": {},
     "output_type": "execute_result"
    }
   ],
   "source": [
    "list(map(f,[2,3,4]))"
   ]
  },
  {
   "cell_type": "code",
   "execution_count": 47,
   "id": "03919a3a",
   "metadata": {},
   "outputs": [
    {
     "name": "stdout",
     "output_type": "stream",
     "text": [
      "[4, 9, 16]\n"
     ]
    }
   ],
   "source": [
    "# above is same as below\n",
    "def f(x)-> \"sq of value\":  # function\n",
    "    return x**2\n",
    "\n",
    "lst=[]\n",
    "for i in [2,3,4]:\n",
    "    lst.append(f(i))\n",
    "print(lst)"
   ]
  },
  {
   "cell_type": "markdown",
   "id": "a76d129f",
   "metadata": {},
   "source": [
    "* we create a function\n",
    "* we put in a for loop\n",
    "* append value to list\n",
    "* we print"
   ]
  },
  {
   "cell_type": "markdown",
   "id": "b757a7d3",
   "metadata": {},
   "source": [
    "### Mapping with Lambda"
   ]
  },
  {
   "cell_type": "code",
   "execution_count": 48,
   "id": "7f4274f0",
   "metadata": {},
   "outputs": [],
   "source": [
    "# we create lamda for fun\n",
    "# we give list\n",
    "# we use map for the FOR loop\n",
    "# put in the list fun just like appending"
   ]
  },
  {
   "cell_type": "code",
   "execution_count": null,
   "id": "eb02d406",
   "metadata": {},
   "outputs": [],
   "source": [
    "list()"
   ]
  },
  {
   "cell_type": "code",
   "execution_count": 12,
   "id": "d3865ede",
   "metadata": {},
   "outputs": [
    {
     "data": {
      "text/plain": [
       "[16, 25, 36, 49]"
      ]
     },
     "execution_count": 12,
     "metadata": {},
     "output_type": "execute_result"
    }
   ],
   "source": [
    "list(map(lambda x:x**2,[4,5,6,7]))"
   ]
  },
  {
   "cell_type": "markdown",
   "id": "3ade9cf3",
   "metadata": {},
   "source": [
    "### Filters\n",
    "\n",
    "* filter(function or None,iterable)"
   ]
  },
  {
   "cell_type": "code",
   "execution_count": 1,
   "id": "3847267d",
   "metadata": {},
   "outputs": [
    {
     "data": {
      "text/plain": [
       "[11, 12]"
      ]
     },
     "execution_count": 1,
     "metadata": {},
     "output_type": "execute_result"
    }
   ],
   "source": [
    "list(filter(lambda x:x>10,[3,4,5,6,7,11,12]))"
   ]
  },
  {
   "cell_type": "code",
   "execution_count": 2,
   "id": "febe78cf",
   "metadata": {},
   "outputs": [
    {
     "data": {
      "text/plain": [
       "[3, 4, 5, 6, 7, 11, 12]"
      ]
     },
     "execution_count": 2,
     "metadata": {},
     "output_type": "execute_result"
    }
   ],
   "source": [
    "list(filter(None,[3,4,5,6,7,11,12]))"
   ]
  },
  {
   "cell_type": "markdown",
   "id": "d234aad0",
   "metadata": {},
   "source": [
    "### Take the list [2,3,4,5,6,7,8,9,10,11,12]"
   ]
  },
  {
   "cell_type": "code",
   "execution_count": 3,
   "id": "7ba29386",
   "metadata": {},
   "outputs": [
    {
     "data": {
      "text/plain": [
       "[4, 16, 36, 64, 100, 144]"
      ]
     },
     "execution_count": 3,
     "metadata": {},
     "output_type": "execute_result"
    }
   ],
   "source": [
    "l=[2,3,4,5,6,7,8,9,10,11,12]  # list(range(2,13))\n",
    "def filt_sqr(x):\n",
    "    even_l=[]\n",
    "    for i in x:\n",
    "        if i%2==0:\n",
    "            even_l.append(i**2)\n",
    "    return even_l\n",
    "filt_sqr(l)\n"
   ]
  },
  {
   "cell_type": "markdown",
   "id": "ff9aac74",
   "metadata": {},
   "source": [
    "### Filter Map and Lambda"
   ]
  },
  {
   "cell_type": "code",
   "execution_count": 4,
   "id": "2acd4947",
   "metadata": {},
   "outputs": [
    {
     "data": {
      "text/plain": [
       "[2, 4, 6, 8, 10, 12]"
      ]
     },
     "execution_count": 4,
     "metadata": {},
     "output_type": "execute_result"
    }
   ],
   "source": [
    "list(filter(lambda x:x%2==0,[2,3,4,5,6,7,8,9,10,11,12]))"
   ]
  },
  {
   "cell_type": "code",
   "execution_count": 5,
   "id": "77b85db1",
   "metadata": {},
   "outputs": [
    {
     "data": {
      "text/plain": [
       "[4, 16, 36, 64, 100, 144]"
      ]
     },
     "execution_count": 5,
     "metadata": {},
     "output_type": "execute_result"
    }
   ],
   "source": [
    "list(map(lambda x:x**2,filter(lambda x:x%2==0,[2,3,4,5,6,7,8,9,10,11,12])))"
   ]
  },
  {
   "cell_type": "code",
   "execution_count": null,
   "id": "7fabee15",
   "metadata": {},
   "outputs": [],
   "source": []
  }
 ],
 "metadata": {
  "kernelspec": {
   "display_name": "Python 3 (ipykernel)",
   "language": "python",
   "name": "python3"
  },
  "language_info": {
   "codemirror_mode": {
    "name": "ipython",
    "version": 3
   },
   "file_extension": ".py",
   "mimetype": "text/x-python",
   "name": "python",
   "nbconvert_exporter": "python",
   "pygments_lexer": "ipython3",
   "version": "3.9.12"
  }
 },
 "nbformat": 4,
 "nbformat_minor": 5
}
