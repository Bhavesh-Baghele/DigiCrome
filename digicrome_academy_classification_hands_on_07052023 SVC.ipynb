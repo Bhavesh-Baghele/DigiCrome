{
 "cells": [
  {
   "cell_type": "markdown",
   "metadata": {
    "id": "dWtn8Tlt77Hz"
   },
   "source": [
    "# **Importing the Libraries**"
   ]
  },
  {
   "cell_type": "code",
   "execution_count": 1,
   "metadata": {
    "executionInfo": {
     "elapsed": 1974,
     "status": "ok",
     "timestamp": 1683482798341,
     "user": {
      "displayName": "Pronay Ghosh",
      "userId": "02166950010115536194"
     },
     "user_tz": -330
    },
    "id": "Z9jbeeEV7a9Y"
   },
   "outputs": [],
   "source": [
    "import numpy as np\n",
    "import pandas as pd\n",
    "import matplotlib.pyplot as plt\n",
    "import seaborn as sns\n",
    "%matplotlib inline"
   ]
  },
  {
   "cell_type": "markdown",
   "metadata": {
    "id": "b6heoffw8G-B"
   },
   "source": [
    "# **Data Exploration**"
   ]
  },
  {
   "cell_type": "code",
   "execution_count": 2,
   "metadata": {
    "colab": {
     "base_uri": "https://localhost:8080/"
    },
    "executionInfo": {
     "elapsed": 72,
     "status": "ok",
     "timestamp": 1683482798343,
     "user": {
      "displayName": "Pronay Ghosh",
      "userId": "02166950010115536194"
     },
     "user_tz": -330
    },
    "id": "dY37axW48FCe",
    "outputId": "2bf4e08d-dbc4-4017-8b2f-e28b3373aa14"
   },
   "outputs": [
    {
     "name": "stdout",
     "output_type": "stream",
     "text": [
      "The shape of the data is : (768, 9)\n",
      "The number of rows in the data is : 768\n",
      "The number of columns in the data is : 9\n"
     ]
    }
   ],
   "source": [
    "data = pd.read_csv(\"/content/diabetes.csv\", encoding_errors = \"ignore\")\n",
    "print(\"The shape of the data is :\", data.shape)\n",
    "print(\"The number of rows in the data is :\", data.shape[0])\n",
    "print(\"The number of columns in the data is :\", data.shape[1])"
   ]
  },
  {
   "cell_type": "code",
   "execution_count": 3,
   "metadata": {
    "colab": {
     "base_uri": "https://localhost:8080/"
    },
    "executionInfo": {
     "elapsed": 71,
     "status": "ok",
     "timestamp": 1683482798350,
     "user": {
      "displayName": "Pronay Ghosh",
      "userId": "02166950010115536194"
     },
     "user_tz": -330
    },
    "id": "4xE5EQznCLv1",
    "outputId": "63c9384b-0198-4d73-a784-5a50a89616f5"
   },
   "outputs": [
    {
     "data": {
      "text/plain": [
       "Pregnancies                   int64\n",
       "Glucose                       int64\n",
       "BloodPressure                 int64\n",
       "SkinThickness                 int64\n",
       "Insulin                       int64\n",
       "BMI                         float64\n",
       "DiabetesPedigreeFunction    float64\n",
       "Age                           int64\n",
       "Outcome                       int64\n",
       "dtype: object"
      ]
     },
     "execution_count": 3,
     "metadata": {},
     "output_type": "execute_result"
    }
   ],
   "source": [
    "data.dtypes"
   ]
  },
  {
   "cell_type": "code",
   "execution_count": 4,
   "metadata": {
    "colab": {
     "base_uri": "https://localhost:8080/"
    },
    "executionInfo": {
     "elapsed": 72,
     "status": "ok",
     "timestamp": 1683482798355,
     "user": {
      "displayName": "Pronay Ghosh",
      "userId": "02166950010115536194"
     },
     "user_tz": -330
    },
    "id": "OoRRRNp2Cedd",
    "outputId": "9547d516-374d-4306-e290-b7a233e0ad94"
   },
   "outputs": [
    {
     "data": {
      "text/plain": [
       "0"
      ]
     },
     "execution_count": 4,
     "metadata": {},
     "output_type": "execute_result"
    }
   ],
   "source": [
    "data['Pregnancies'].min()"
   ]
  },
  {
   "cell_type": "code",
   "execution_count": 5,
   "metadata": {
    "colab": {
     "base_uri": "https://localhost:8080/"
    },
    "executionInfo": {
     "elapsed": 74,
     "status": "ok",
     "timestamp": 1683482798361,
     "user": {
      "displayName": "Pronay Ghosh",
      "userId": "02166950010115536194"
     },
     "user_tz": -330
    },
    "id": "ypuYAfmFCdL2",
    "outputId": "4dc9fc33-7235-4d7f-836a-6a8ba3d3426f"
   },
   "outputs": [
    {
     "data": {
      "text/plain": [
       "17"
      ]
     },
     "execution_count": 5,
     "metadata": {},
     "output_type": "execute_result"
    }
   ],
   "source": [
    "data['Pregnancies'].max()"
   ]
  },
  {
   "cell_type": "code",
   "execution_count": 6,
   "metadata": {
    "colab": {
     "base_uri": "https://localhost:8080/"
    },
    "executionInfo": {
     "elapsed": 77,
     "status": "ok",
     "timestamp": 1683482798368,
     "user": {
      "displayName": "Pronay Ghosh",
      "userId": "02166950010115536194"
     },
     "user_tz": -330
    },
    "id": "OBOsLK6rCTsn",
    "outputId": "7e11e6bf-53cd-4efe-8c7e-1bbcbe2dd259"
   },
   "outputs": [
    {
     "data": {
      "text/plain": [
       "array([ 6,  1,  8,  1,  0,  5,  3, 10,  2,  8,  4, 10, 10,  1,  5,  7,  0,\n",
       "        7,  1,  1,  3,  8,  7,  9, 11, 10,  7,  1, 13,  5,  5,  3,  3,  6,\n",
       "       10,  4, 11,  9,  2,  4,  3,  7,  7,  9,  7,  0,  1,  2,  7,  7,  1,\n",
       "        1,  5,  8,  7,  1,  7,  0,  0,  0,  2,  8,  5,  2,  7,  5,  0,  2,\n",
       "        1,  4,  2,  5, 13,  4,  1,  1,  7,  5,  0,  2,  3,  2,  7,  0,  5,\n",
       "        2, 13,  2, 15,  1,  1,  4,  7,  4,  2,  6,  2,  1,  6,  1,  1,  1,\n",
       "        0,  1,  2,  1,  1,  4,  3,  0,  3,  8,  1,  4,  7,  4,  5,  5,  4,\n",
       "        4,  0,  6,  2,  5,  0,  1,  3,  1,  1,  0,  4,  9,  3,  8,  2,  2,\n",
       "        0,  0,  0,  5,  3,  5,  2, 10,  4,  0,  9,  2,  5,  2,  1,  4,  9,\n",
       "        1,  8,  7,  2,  1,  2, 17,  4,  7,  0,  2,  0,  6,  3,  4,  4,  3,\n",
       "        6,  6,  2,  1,  2,  8,  6,  0,  5,  5,  6,  0,  1,  5,  4,  7,  8,\n",
       "        1,  8,  5,  3,  9,  7, 11,  8,  5,  1,  3,  4,  4,  0,  1,  0,  2,\n",
       "        6,  5,  8,  5,  1,  7,  2,  0,  7,  0,  9, 12,  5,  6,  5,  5,  0,\n",
       "        2,  7,  7,  1,  1,  0,  3,  4,  0,  4,  6,  1,  4,  3,  4,  7,  0,\n",
       "        9,  0,  1,  4,  3,  6,  2,  9, 10,  0,  9,  1,  9,  2,  2,  0, 12,\n",
       "        1,  3,  2,  1, 11,  3,  3,  4,  3,  4,  5,  0,  2,  0,  2, 10,  2,\n",
       "        3,  1, 13,  2,  7,  0,  5,  2,  0, 10,  7,  7,  2,  7,  5,  1,  4,\n",
       "        5,  0,  0,  2,  1,  0,  6,  2,  0, 14,  8,  0,  2,  5,  5,  3,  2,\n",
       "       10,  0,  0,  2,  6,  0,  2,  3,  7,  2,  3,  3,  3,  6,  4,  3,  0,\n",
       "       13,  2,  1,  1, 10,  2,  6,  8,  2,  1, 12,  1,  0,  0,  5,  9,  7,\n",
       "        1,  1,  1,  5,  8,  8,  1,  3,  3,  5,  4,  4,  3,  1,  3,  9,  1,\n",
       "       13, 12,  1,  5,  5,  5,  4,  4,  5,  6,  0,  3,  1,  3,  0,  0,  2,\n",
       "        2, 12,  0,  1,  4,  0,  1,  0,  1,  1,  1,  1,  5,  8,  5,  3,  1,\n",
       "        5,  1,  4,  4,  2,  3,  0,  3,  3,  4,  6,  5,  9,  5,  2,  4,  0,\n",
       "        8,  1,  6,  1,  1,  1,  0,  3,  1,  4,  1,  3,  1,  2,  0,  2,  8,\n",
       "        4,  0,  1,  0,  1,  2,  3,  1,  2,  1,  0, 12,  5,  1,  6,  0,  2,\n",
       "        4,  8,  4,  0,  1,  0,  0,  0,  1,  2,  0,  2,  2, 14,  1,  5, 10,\n",
       "        9,  9,  1,  8,  5, 10,  0,  0,  0,  8,  6,  1,  0,  0,  7,  4,  0,\n",
       "        2,  7,  8,  4,  3,  0,  4,  0,  0,  0,  1,  0,  4,  8,  2,  2,  4,\n",
       "        4,  3,  6,  5,  2,  7,  6,  2,  3,  6,  7,  3, 10,  0,  1,  2,  8,\n",
       "       12,  0,  9,  2,  3,  3,  9,  7, 13,  6,  2,  3,  6,  9,  3,  3,  1,\n",
       "        3,  0,  0,  2,  0,  1,  6,  1,  4,  0,  0,  0,  3,  8,  3, 10,  4,\n",
       "        1,  8,  5,  4,  1,  4,  1,  3,  6,  1,  1,  7,  1,  8, 11, 11,  6,\n",
       "        0,  1,  6,  0,  2,  1,  6,  4,  0,  3,  2,  3,  2,  1,  1,  6,  2,\n",
       "       10,  2,  0,  6, 12,  8,  8,  1,  8,  6,  3,  0, 11,  2,  3,  2,  6,\n",
       "        0,  0,  1,  1,  1,  1,  6,  1,  7,  4,  1,  1,  1,  0,  1,  3,  3,\n",
       "        7,  6, 11,  3,  6,  2,  9,  0,  2,  2,  6,  0,  2,  4,  0,  0,  5,\n",
       "        4,  7,  0,  2,  1, 10, 13,  5,  2,  7,  1,  0,  4,  6,  4,  3,  2,\n",
       "        1,  0, 11,  0,  1,  1,  5,  2,  1,  2,  2,  1, 11,  3, 10,  1,  8,\n",
       "        9,  6,  1,  4, 10,  6,  9,  6,  1, 10,  3,  8,  6,  9,  0,  3,  2,\n",
       "        2,  0,  0,  4,  5,  2,  3,  1,  1,  1,  8, 13,  2,  7,  2,  7,  3,\n",
       "        0,  4,  4,  2,  6,  1,  2,  4,  6, 10,  2,  9,  2,  3,  5, 10,  0,\n",
       "        3,  7,  3, 10,  1,  5,  4,  1,  1,  5,  1,  4,  1,  0,  2,  2,  3,\n",
       "        8,  2,  2,  2,  4,  0,  8,  2,  1, 11,  3,  1,  9, 13, 12,  1,  1,\n",
       "        3,  6,  4,  1,  3,  0,  8,  1,  7,  0,  1,  6,  2,  9,  9, 10,  2,\n",
       "        5,  1,  1])"
      ]
     },
     "execution_count": 6,
     "metadata": {},
     "output_type": "execute_result"
    }
   ],
   "source": [
    "data['Pregnancies'].values"
   ]
  },
  {
   "cell_type": "code",
   "execution_count": 7,
   "metadata": {
    "colab": {
     "base_uri": "https://localhost:8080/",
     "height": 206
    },
    "executionInfo": {
     "elapsed": 73,
     "status": "ok",
     "timestamp": 1683482798370,
     "user": {
      "displayName": "Pronay Ghosh",
      "userId": "02166950010115536194"
     },
     "user_tz": -330
    },
    "id": "SL4F5iWv_2UH",
    "outputId": "beb961f6-9efa-485b-ec2c-e8014996e72c"
   },
   "outputs": [
    {
     "data": {
      "text/html": [
       "\n",
       "  <div id=\"df-c8dfd266-28db-4efa-a316-9cfffabbe1f3\">\n",
       "    <div class=\"colab-df-container\">\n",
       "      <div>\n",
       "<style scoped>\n",
       "    .dataframe tbody tr th:only-of-type {\n",
       "        vertical-align: middle;\n",
       "    }\n",
       "\n",
       "    .dataframe tbody tr th {\n",
       "        vertical-align: top;\n",
       "    }\n",
       "\n",
       "    .dataframe thead th {\n",
       "        text-align: right;\n",
       "    }\n",
       "</style>\n",
       "<table border=\"1\" class=\"dataframe\">\n",
       "  <thead>\n",
       "    <tr style=\"text-align: right;\">\n",
       "      <th></th>\n",
       "      <th>Pregnancies</th>\n",
       "      <th>Glucose</th>\n",
       "      <th>BloodPressure</th>\n",
       "      <th>SkinThickness</th>\n",
       "      <th>Insulin</th>\n",
       "      <th>BMI</th>\n",
       "      <th>DiabetesPedigreeFunction</th>\n",
       "      <th>Age</th>\n",
       "      <th>Outcome</th>\n",
       "    </tr>\n",
       "  </thead>\n",
       "  <tbody>\n",
       "    <tr>\n",
       "      <th>0</th>\n",
       "      <td>6</td>\n",
       "      <td>148</td>\n",
       "      <td>72</td>\n",
       "      <td>35</td>\n",
       "      <td>0</td>\n",
       "      <td>33.6</td>\n",
       "      <td>0.627</td>\n",
       "      <td>50</td>\n",
       "      <td>1</td>\n",
       "    </tr>\n",
       "    <tr>\n",
       "      <th>1</th>\n",
       "      <td>1</td>\n",
       "      <td>85</td>\n",
       "      <td>66</td>\n",
       "      <td>29</td>\n",
       "      <td>0</td>\n",
       "      <td>26.6</td>\n",
       "      <td>0.351</td>\n",
       "      <td>31</td>\n",
       "      <td>0</td>\n",
       "    </tr>\n",
       "    <tr>\n",
       "      <th>2</th>\n",
       "      <td>8</td>\n",
       "      <td>183</td>\n",
       "      <td>64</td>\n",
       "      <td>0</td>\n",
       "      <td>0</td>\n",
       "      <td>23.3</td>\n",
       "      <td>0.672</td>\n",
       "      <td>32</td>\n",
       "      <td>1</td>\n",
       "    </tr>\n",
       "    <tr>\n",
       "      <th>3</th>\n",
       "      <td>1</td>\n",
       "      <td>89</td>\n",
       "      <td>66</td>\n",
       "      <td>23</td>\n",
       "      <td>94</td>\n",
       "      <td>28.1</td>\n",
       "      <td>0.167</td>\n",
       "      <td>21</td>\n",
       "      <td>0</td>\n",
       "    </tr>\n",
       "    <tr>\n",
       "      <th>4</th>\n",
       "      <td>0</td>\n",
       "      <td>137</td>\n",
       "      <td>40</td>\n",
       "      <td>35</td>\n",
       "      <td>168</td>\n",
       "      <td>43.1</td>\n",
       "      <td>2.288</td>\n",
       "      <td>33</td>\n",
       "      <td>1</td>\n",
       "    </tr>\n",
       "  </tbody>\n",
       "</table>\n",
       "</div>\n",
       "      <button class=\"colab-df-convert\" onclick=\"convertToInteractive('df-c8dfd266-28db-4efa-a316-9cfffabbe1f3')\"\n",
       "              title=\"Convert this dataframe to an interactive table.\"\n",
       "              style=\"display:none;\">\n",
       "        \n",
       "  <svg xmlns=\"http://www.w3.org/2000/svg\" height=\"24px\"viewBox=\"0 0 24 24\"\n",
       "       width=\"24px\">\n",
       "    <path d=\"M0 0h24v24H0V0z\" fill=\"none\"/>\n",
       "    <path d=\"M18.56 5.44l.94 2.06.94-2.06 2.06-.94-2.06-.94-.94-2.06-.94 2.06-2.06.94zm-11 1L8.5 8.5l.94-2.06 2.06-.94-2.06-.94L8.5 2.5l-.94 2.06-2.06.94zm10 10l.94 2.06.94-2.06 2.06-.94-2.06-.94-.94-2.06-.94 2.06-2.06.94z\"/><path d=\"M17.41 7.96l-1.37-1.37c-.4-.4-.92-.59-1.43-.59-.52 0-1.04.2-1.43.59L10.3 9.45l-7.72 7.72c-.78.78-.78 2.05 0 2.83L4 21.41c.39.39.9.59 1.41.59.51 0 1.02-.2 1.41-.59l7.78-7.78 2.81-2.81c.8-.78.8-2.07 0-2.86zM5.41 20L4 18.59l7.72-7.72 1.47 1.35L5.41 20z\"/>\n",
       "  </svg>\n",
       "      </button>\n",
       "      \n",
       "  <style>\n",
       "    .colab-df-container {\n",
       "      display:flex;\n",
       "      flex-wrap:wrap;\n",
       "      gap: 12px;\n",
       "    }\n",
       "\n",
       "    .colab-df-convert {\n",
       "      background-color: #E8F0FE;\n",
       "      border: none;\n",
       "      border-radius: 50%;\n",
       "      cursor: pointer;\n",
       "      display: none;\n",
       "      fill: #1967D2;\n",
       "      height: 32px;\n",
       "      padding: 0 0 0 0;\n",
       "      width: 32px;\n",
       "    }\n",
       "\n",
       "    .colab-df-convert:hover {\n",
       "      background-color: #E2EBFA;\n",
       "      box-shadow: 0px 1px 2px rgba(60, 64, 67, 0.3), 0px 1px 3px 1px rgba(60, 64, 67, 0.15);\n",
       "      fill: #174EA6;\n",
       "    }\n",
       "\n",
       "    [theme=dark] .colab-df-convert {\n",
       "      background-color: #3B4455;\n",
       "      fill: #D2E3FC;\n",
       "    }\n",
       "\n",
       "    [theme=dark] .colab-df-convert:hover {\n",
       "      background-color: #434B5C;\n",
       "      box-shadow: 0px 1px 3px 1px rgba(0, 0, 0, 0.15);\n",
       "      filter: drop-shadow(0px 1px 2px rgba(0, 0, 0, 0.3));\n",
       "      fill: #FFFFFF;\n",
       "    }\n",
       "  </style>\n",
       "\n",
       "      <script>\n",
       "        const buttonEl =\n",
       "          document.querySelector('#df-c8dfd266-28db-4efa-a316-9cfffabbe1f3 button.colab-df-convert');\n",
       "        buttonEl.style.display =\n",
       "          google.colab.kernel.accessAllowed ? 'block' : 'none';\n",
       "\n",
       "        async function convertToInteractive(key) {\n",
       "          const element = document.querySelector('#df-c8dfd266-28db-4efa-a316-9cfffabbe1f3');\n",
       "          const dataTable =\n",
       "            await google.colab.kernel.invokeFunction('convertToInteractive',\n",
       "                                                     [key], {});\n",
       "          if (!dataTable) return;\n",
       "\n",
       "          const docLinkHtml = 'Like what you see? Visit the ' +\n",
       "            '<a target=\"_blank\" href=https://colab.research.google.com/notebooks/data_table.ipynb>data table notebook</a>'\n",
       "            + ' to learn more about interactive tables.';\n",
       "          element.innerHTML = '';\n",
       "          dataTable['output_type'] = 'display_data';\n",
       "          await google.colab.output.renderOutput(dataTable, element);\n",
       "          const docLink = document.createElement('div');\n",
       "          docLink.innerHTML = docLinkHtml;\n",
       "          element.appendChild(docLink);\n",
       "        }\n",
       "      </script>\n",
       "    </div>\n",
       "  </div>\n",
       "  "
      ],
      "text/plain": [
       "   Pregnancies  Glucose  BloodPressure  SkinThickness  Insulin   BMI  \\\n",
       "0            6      148             72             35        0  33.6   \n",
       "1            1       85             66             29        0  26.6   \n",
       "2            8      183             64              0        0  23.3   \n",
       "3            1       89             66             23       94  28.1   \n",
       "4            0      137             40             35      168  43.1   \n",
       "\n",
       "   DiabetesPedigreeFunction  Age  Outcome  \n",
       "0                     0.627   50        1  \n",
       "1                     0.351   31        0  \n",
       "2                     0.672   32        1  \n",
       "3                     0.167   21        0  \n",
       "4                     2.288   33        1  "
      ]
     },
     "execution_count": 7,
     "metadata": {},
     "output_type": "execute_result"
    }
   ],
   "source": [
    "data.head()"
   ]
  },
  {
   "cell_type": "code",
   "execution_count": 8,
   "metadata": {
    "colab": {
     "base_uri": "https://localhost:8080/",
     "height": 364
    },
    "executionInfo": {
     "elapsed": 71,
     "status": "ok",
     "timestamp": 1683482798371,
     "user": {
      "displayName": "Pronay Ghosh",
      "userId": "02166950010115536194"
     },
     "user_tz": -330
    },
    "id": "n6KXpQen8pCy",
    "outputId": "2888e6a7-4ee7-439b-d479-baa055f46074"
   },
   "outputs": [
    {
     "data": {
      "text/html": [
       "\n",
       "  <div id=\"df-b7e385c3-42ae-4581-b428-349b65d53b61\">\n",
       "    <div class=\"colab-df-container\">\n",
       "      <div>\n",
       "<style scoped>\n",
       "    .dataframe tbody tr th:only-of-type {\n",
       "        vertical-align: middle;\n",
       "    }\n",
       "\n",
       "    .dataframe tbody tr th {\n",
       "        vertical-align: top;\n",
       "    }\n",
       "\n",
       "    .dataframe thead th {\n",
       "        text-align: right;\n",
       "    }\n",
       "</style>\n",
       "<table border=\"1\" class=\"dataframe\">\n",
       "  <thead>\n",
       "    <tr style=\"text-align: right;\">\n",
       "      <th></th>\n",
       "      <th>Pregnancies</th>\n",
       "      <th>Glucose</th>\n",
       "      <th>BloodPressure</th>\n",
       "      <th>SkinThickness</th>\n",
       "      <th>Insulin</th>\n",
       "      <th>BMI</th>\n",
       "      <th>DiabetesPedigreeFunction</th>\n",
       "      <th>Age</th>\n",
       "      <th>Outcome</th>\n",
       "    </tr>\n",
       "  </thead>\n",
       "  <tbody>\n",
       "    <tr>\n",
       "      <th>count</th>\n",
       "      <td>768.000000</td>\n",
       "      <td>768.000000</td>\n",
       "      <td>768.000000</td>\n",
       "      <td>768.000000</td>\n",
       "      <td>768.000000</td>\n",
       "      <td>768.000000</td>\n",
       "      <td>768.000000</td>\n",
       "      <td>768.000000</td>\n",
       "      <td>768.000000</td>\n",
       "    </tr>\n",
       "    <tr>\n",
       "      <th>mean</th>\n",
       "      <td>3.845052</td>\n",
       "      <td>120.894531</td>\n",
       "      <td>69.105469</td>\n",
       "      <td>20.536458</td>\n",
       "      <td>79.799479</td>\n",
       "      <td>31.992578</td>\n",
       "      <td>0.471876</td>\n",
       "      <td>33.240885</td>\n",
       "      <td>0.348958</td>\n",
       "    </tr>\n",
       "    <tr>\n",
       "      <th>std</th>\n",
       "      <td>3.369578</td>\n",
       "      <td>31.972618</td>\n",
       "      <td>19.355807</td>\n",
       "      <td>15.952218</td>\n",
       "      <td>115.244002</td>\n",
       "      <td>7.884160</td>\n",
       "      <td>0.331329</td>\n",
       "      <td>11.760232</td>\n",
       "      <td>0.476951</td>\n",
       "    </tr>\n",
       "    <tr>\n",
       "      <th>min</th>\n",
       "      <td>0.000000</td>\n",
       "      <td>0.000000</td>\n",
       "      <td>0.000000</td>\n",
       "      <td>0.000000</td>\n",
       "      <td>0.000000</td>\n",
       "      <td>0.000000</td>\n",
       "      <td>0.078000</td>\n",
       "      <td>21.000000</td>\n",
       "      <td>0.000000</td>\n",
       "    </tr>\n",
       "    <tr>\n",
       "      <th>25%</th>\n",
       "      <td>1.000000</td>\n",
       "      <td>99.000000</td>\n",
       "      <td>62.000000</td>\n",
       "      <td>0.000000</td>\n",
       "      <td>0.000000</td>\n",
       "      <td>27.300000</td>\n",
       "      <td>0.243750</td>\n",
       "      <td>24.000000</td>\n",
       "      <td>0.000000</td>\n",
       "    </tr>\n",
       "    <tr>\n",
       "      <th>50%</th>\n",
       "      <td>3.000000</td>\n",
       "      <td>117.000000</td>\n",
       "      <td>72.000000</td>\n",
       "      <td>23.000000</td>\n",
       "      <td>30.500000</td>\n",
       "      <td>32.000000</td>\n",
       "      <td>0.372500</td>\n",
       "      <td>29.000000</td>\n",
       "      <td>0.000000</td>\n",
       "    </tr>\n",
       "    <tr>\n",
       "      <th>75%</th>\n",
       "      <td>6.000000</td>\n",
       "      <td>140.250000</td>\n",
       "      <td>80.000000</td>\n",
       "      <td>32.000000</td>\n",
       "      <td>127.250000</td>\n",
       "      <td>36.600000</td>\n",
       "      <td>0.626250</td>\n",
       "      <td>41.000000</td>\n",
       "      <td>1.000000</td>\n",
       "    </tr>\n",
       "    <tr>\n",
       "      <th>max</th>\n",
       "      <td>17.000000</td>\n",
       "      <td>199.000000</td>\n",
       "      <td>122.000000</td>\n",
       "      <td>99.000000</td>\n",
       "      <td>846.000000</td>\n",
       "      <td>67.100000</td>\n",
       "      <td>2.420000</td>\n",
       "      <td>81.000000</td>\n",
       "      <td>1.000000</td>\n",
       "    </tr>\n",
       "  </tbody>\n",
       "</table>\n",
       "</div>\n",
       "      <button class=\"colab-df-convert\" onclick=\"convertToInteractive('df-b7e385c3-42ae-4581-b428-349b65d53b61')\"\n",
       "              title=\"Convert this dataframe to an interactive table.\"\n",
       "              style=\"display:none;\">\n",
       "        \n",
       "  <svg xmlns=\"http://www.w3.org/2000/svg\" height=\"24px\"viewBox=\"0 0 24 24\"\n",
       "       width=\"24px\">\n",
       "    <path d=\"M0 0h24v24H0V0z\" fill=\"none\"/>\n",
       "    <path d=\"M18.56 5.44l.94 2.06.94-2.06 2.06-.94-2.06-.94-.94-2.06-.94 2.06-2.06.94zm-11 1L8.5 8.5l.94-2.06 2.06-.94-2.06-.94L8.5 2.5l-.94 2.06-2.06.94zm10 10l.94 2.06.94-2.06 2.06-.94-2.06-.94-.94-2.06-.94 2.06-2.06.94z\"/><path d=\"M17.41 7.96l-1.37-1.37c-.4-.4-.92-.59-1.43-.59-.52 0-1.04.2-1.43.59L10.3 9.45l-7.72 7.72c-.78.78-.78 2.05 0 2.83L4 21.41c.39.39.9.59 1.41.59.51 0 1.02-.2 1.41-.59l7.78-7.78 2.81-2.81c.8-.78.8-2.07 0-2.86zM5.41 20L4 18.59l7.72-7.72 1.47 1.35L5.41 20z\"/>\n",
       "  </svg>\n",
       "      </button>\n",
       "      \n",
       "  <style>\n",
       "    .colab-df-container {\n",
       "      display:flex;\n",
       "      flex-wrap:wrap;\n",
       "      gap: 12px;\n",
       "    }\n",
       "\n",
       "    .colab-df-convert {\n",
       "      background-color: #E8F0FE;\n",
       "      border: none;\n",
       "      border-radius: 50%;\n",
       "      cursor: pointer;\n",
       "      display: none;\n",
       "      fill: #1967D2;\n",
       "      height: 32px;\n",
       "      padding: 0 0 0 0;\n",
       "      width: 32px;\n",
       "    }\n",
       "\n",
       "    .colab-df-convert:hover {\n",
       "      background-color: #E2EBFA;\n",
       "      box-shadow: 0px 1px 2px rgba(60, 64, 67, 0.3), 0px 1px 3px 1px rgba(60, 64, 67, 0.15);\n",
       "      fill: #174EA6;\n",
       "    }\n",
       "\n",
       "    [theme=dark] .colab-df-convert {\n",
       "      background-color: #3B4455;\n",
       "      fill: #D2E3FC;\n",
       "    }\n",
       "\n",
       "    [theme=dark] .colab-df-convert:hover {\n",
       "      background-color: #434B5C;\n",
       "      box-shadow: 0px 1px 3px 1px rgba(0, 0, 0, 0.15);\n",
       "      filter: drop-shadow(0px 1px 2px rgba(0, 0, 0, 0.3));\n",
       "      fill: #FFFFFF;\n",
       "    }\n",
       "  </style>\n",
       "\n",
       "      <script>\n",
       "        const buttonEl =\n",
       "          document.querySelector('#df-b7e385c3-42ae-4581-b428-349b65d53b61 button.colab-df-convert');\n",
       "        buttonEl.style.display =\n",
       "          google.colab.kernel.accessAllowed ? 'block' : 'none';\n",
       "\n",
       "        async function convertToInteractive(key) {\n",
       "          const element = document.querySelector('#df-b7e385c3-42ae-4581-b428-349b65d53b61');\n",
       "          const dataTable =\n",
       "            await google.colab.kernel.invokeFunction('convertToInteractive',\n",
       "                                                     [key], {});\n",
       "          if (!dataTable) return;\n",
       "\n",
       "          const docLinkHtml = 'Like what you see? Visit the ' +\n",
       "            '<a target=\"_blank\" href=https://colab.research.google.com/notebooks/data_table.ipynb>data table notebook</a>'\n",
       "            + ' to learn more about interactive tables.';\n",
       "          element.innerHTML = '';\n",
       "          dataTable['output_type'] = 'display_data';\n",
       "          await google.colab.output.renderOutput(dataTable, element);\n",
       "          const docLink = document.createElement('div');\n",
       "          docLink.innerHTML = docLinkHtml;\n",
       "          element.appendChild(docLink);\n",
       "        }\n",
       "      </script>\n",
       "    </div>\n",
       "  </div>\n",
       "  "
      ],
      "text/plain": [
       "       Pregnancies     Glucose  BloodPressure  SkinThickness     Insulin  \\\n",
       "count   768.000000  768.000000     768.000000     768.000000  768.000000   \n",
       "mean      3.845052  120.894531      69.105469      20.536458   79.799479   \n",
       "std       3.369578   31.972618      19.355807      15.952218  115.244002   \n",
       "min       0.000000    0.000000       0.000000       0.000000    0.000000   \n",
       "25%       1.000000   99.000000      62.000000       0.000000    0.000000   \n",
       "50%       3.000000  117.000000      72.000000      23.000000   30.500000   \n",
       "75%       6.000000  140.250000      80.000000      32.000000  127.250000   \n",
       "max      17.000000  199.000000     122.000000      99.000000  846.000000   \n",
       "\n",
       "              BMI  DiabetesPedigreeFunction         Age     Outcome  \n",
       "count  768.000000                768.000000  768.000000  768.000000  \n",
       "mean    31.992578                  0.471876   33.240885    0.348958  \n",
       "std      7.884160                  0.331329   11.760232    0.476951  \n",
       "min      0.000000                  0.078000   21.000000    0.000000  \n",
       "25%     27.300000                  0.243750   24.000000    0.000000  \n",
       "50%     32.000000                  0.372500   29.000000    0.000000  \n",
       "75%     36.600000                  0.626250   41.000000    1.000000  \n",
       "max     67.100000                  2.420000   81.000000    1.000000  "
      ]
     },
     "execution_count": 8,
     "metadata": {},
     "output_type": "execute_result"
    }
   ],
   "source": [
    "# data description\n",
    "data.describe()"
   ]
  },
  {
   "cell_type": "code",
   "execution_count": 9,
   "metadata": {
    "colab": {
     "base_uri": "https://localhost:8080/"
    },
    "executionInfo": {
     "elapsed": 70,
     "status": "ok",
     "timestamp": 1683482798372,
     "user": {
      "displayName": "Pronay Ghosh",
      "userId": "02166950010115536194"
     },
     "user_tz": -330
    },
    "id": "Df6Pah3M_w8I",
    "outputId": "6f4bf22e-d820-492e-b8d7-7ecd69565725"
   },
   "outputs": [
    {
     "name": "stdout",
     "output_type": "stream",
     "text": [
      "<class 'pandas.core.frame.DataFrame'>\n",
      "RangeIndex: 768 entries, 0 to 767\n",
      "Data columns (total 9 columns):\n",
      " #   Column                    Non-Null Count  Dtype  \n",
      "---  ------                    --------------  -----  \n",
      " 0   Pregnancies               768 non-null    int64  \n",
      " 1   Glucose                   768 non-null    int64  \n",
      " 2   BloodPressure             768 non-null    int64  \n",
      " 3   SkinThickness             768 non-null    int64  \n",
      " 4   Insulin                   768 non-null    int64  \n",
      " 5   BMI                       768 non-null    float64\n",
      " 6   DiabetesPedigreeFunction  768 non-null    float64\n",
      " 7   Age                       768 non-null    int64  \n",
      " 8   Outcome                   768 non-null    int64  \n",
      "dtypes: float64(2), int64(7)\n",
      "memory usage: 54.1 KB\n"
     ]
    }
   ],
   "source": [
    "# data info\n",
    "data.info()"
   ]
  },
  {
   "cell_type": "code",
   "execution_count": 10,
   "metadata": {
    "colab": {
     "base_uri": "https://localhost:8080/"
    },
    "executionInfo": {
     "elapsed": 65,
     "status": "ok",
     "timestamp": 1683482798374,
     "user": {
      "displayName": "Pronay Ghosh",
      "userId": "02166950010115536194"
     },
     "user_tz": -330
    },
    "id": "PNM5d1woBzbt",
    "outputId": "0f50c333-3a31-46d6-d4a2-ef7d9a0b275b"
   },
   "outputs": [
    {
     "data": {
      "text/plain": [
       "Pregnancies                 0\n",
       "Glucose                     0\n",
       "BloodPressure               0\n",
       "SkinThickness               0\n",
       "Insulin                     0\n",
       "BMI                         0\n",
       "DiabetesPedigreeFunction    0\n",
       "Age                         0\n",
       "Outcome                     0\n",
       "dtype: int64"
      ]
     },
     "execution_count": 10,
     "metadata": {},
     "output_type": "execute_result"
    }
   ],
   "source": [
    "# data null counts\n",
    "data.isnull().sum()"
   ]
  },
  {
   "cell_type": "code",
   "execution_count": 11,
   "metadata": {
    "executionInfo": {
     "elapsed": 65,
     "status": "ok",
     "timestamp": 1683482798379,
     "user": {
      "displayName": "Pronay Ghosh",
      "userId": "02166950010115536194"
     },
     "user_tz": -330
    },
    "id": "a3ZDRhSCEIs3"
   },
   "outputs": [],
   "source": [
    "# Dealing with data inconsistancy\n",
    "data[\"Pregnancies\"] = data[\"Pregnancies\"].astype(\"object\")"
   ]
  },
  {
   "cell_type": "code",
   "execution_count": 12,
   "metadata": {
    "colab": {
     "base_uri": "https://localhost:8080/"
    },
    "executionInfo": {
     "elapsed": 66,
     "status": "ok",
     "timestamp": 1683482798381,
     "user": {
      "displayName": "Pronay Ghosh",
      "userId": "02166950010115536194"
     },
     "user_tz": -330
    },
    "id": "qQE0YbuREmVv",
    "outputId": "5c2a45fd-9926-4279-cc64-acefff4778a3"
   },
   "outputs": [
    {
     "name": "stdout",
     "output_type": "stream",
     "text": [
      "<class 'pandas.core.frame.DataFrame'>\n",
      "RangeIndex: 768 entries, 0 to 767\n",
      "Data columns (total 9 columns):\n",
      " #   Column                    Non-Null Count  Dtype  \n",
      "---  ------                    --------------  -----  \n",
      " 0   Pregnancies               768 non-null    object \n",
      " 1   Glucose                   768 non-null    int64  \n",
      " 2   BloodPressure             768 non-null    int64  \n",
      " 3   SkinThickness             768 non-null    int64  \n",
      " 4   Insulin                   768 non-null    int64  \n",
      " 5   BMI                       768 non-null    float64\n",
      " 6   DiabetesPedigreeFunction  768 non-null    float64\n",
      " 7   Age                       768 non-null    int64  \n",
      " 8   Outcome                   768 non-null    int64  \n",
      "dtypes: float64(2), int64(6), object(1)\n",
      "memory usage: 54.1+ KB\n"
     ]
    }
   ],
   "source": [
    "# data info\n",
    "data.info()"
   ]
  },
  {
   "cell_type": "code",
   "execution_count": 14,
   "metadata": {
    "executionInfo": {
     "elapsed": 5,
     "status": "ok",
     "timestamp": 1683482809059,
     "user": {
      "displayName": "Pronay Ghosh",
      "userId": "02166950010115536194"
     },
     "user_tz": -330
    },
    "id": "qpKnYY2DHIcg"
   },
   "outputs": [],
   "source": [
    "# separate_categorical_and_continious()"
   ]
  },
  {
   "cell_type": "code",
   "execution_count": 15,
   "metadata": {
    "executionInfo": {
     "elapsed": 11,
     "status": "ok",
     "timestamp": 1683482811855,
     "user": {
      "displayName": "Pronay Ghosh",
      "userId": "02166950010115536194"
     },
     "user_tz": -330
    },
    "id": "uXI_Lb5cHXrp"
   },
   "outputs": [],
   "source": [
    "categorical = [var for var in data.columns if data[var].dtypes=='O']\n",
    "numerical = [var for var in data.columns if data[var].dtypes!='O']"
   ]
  },
  {
   "cell_type": "code",
   "execution_count": 16,
   "metadata": {
    "colab": {
     "base_uri": "https://localhost:8080/"
    },
    "executionInfo": {
     "elapsed": 16,
     "status": "ok",
     "timestamp": 1683482812577,
     "user": {
      "displayName": "Pronay Ghosh",
      "userId": "02166950010115536194"
     },
     "user_tz": -330
    },
    "id": "WpiEiKBDHi6w",
    "outputId": "5dee8cb2-b090-4098-9fc3-7c28dc32cd0a"
   },
   "outputs": [
    {
     "data": {
      "text/plain": [
       "['Pregnancies']"
      ]
     },
     "execution_count": 16,
     "metadata": {},
     "output_type": "execute_result"
    }
   ],
   "source": [
    "categorical"
   ]
  },
  {
   "cell_type": "code",
   "execution_count": 17,
   "metadata": {
    "colab": {
     "base_uri": "https://localhost:8080/"
    },
    "executionInfo": {
     "elapsed": 14,
     "status": "ok",
     "timestamp": 1683482812578,
     "user": {
      "displayName": "Pronay Ghosh",
      "userId": "02166950010115536194"
     },
     "user_tz": -330
    },
    "id": "5B73iGhTHkRf",
    "outputId": "582255e5-302b-4339-bc1b-c75e80043c29"
   },
   "outputs": [
    {
     "data": {
      "text/plain": [
       "['Glucose',\n",
       " 'BloodPressure',\n",
       " 'SkinThickness',\n",
       " 'Insulin',\n",
       " 'BMI',\n",
       " 'DiabetesPedigreeFunction',\n",
       " 'Age',\n",
       " 'Outcome']"
      ]
     },
     "execution_count": 17,
     "metadata": {},
     "output_type": "execute_result"
    }
   ],
   "source": [
    "numerical"
   ]
  },
  {
   "cell_type": "code",
   "execution_count": 18,
   "metadata": {
    "colab": {
     "base_uri": "https://localhost:8080/"
    },
    "executionInfo": {
     "elapsed": 48,
     "status": "ok",
     "timestamp": 1683482814502,
     "user": {
      "displayName": "Pronay Ghosh",
      "userId": "02166950010115536194"
     },
     "user_tz": -330
    },
    "id": "9qQ_inBHHpxM",
    "outputId": "ce8a6421-d01c-4f6f-f3b3-e971839cfa85"
   },
   "outputs": [
    {
     "data": {
      "text/plain": [
       "Index(['Pregnancies', 'Glucose', 'BloodPressure', 'SkinThickness', 'Insulin',\n",
       "       'BMI', 'DiabetesPedigreeFunction', 'Age', 'Outcome'],\n",
       "      dtype='object')"
      ]
     },
     "execution_count": 18,
     "metadata": {},
     "output_type": "execute_result"
    }
   ],
   "source": [
    "data.columns"
   ]
  },
  {
   "cell_type": "code",
   "execution_count": 19,
   "metadata": {
    "colab": {
     "base_uri": "https://localhost:8080/"
    },
    "executionInfo": {
     "elapsed": 46,
     "status": "ok",
     "timestamp": 1683482814504,
     "user": {
      "displayName": "Pronay Ghosh",
      "userId": "02166950010115536194"
     },
     "user_tz": -330
    },
    "id": "No9xQv3ZJJQi",
    "outputId": "0852c67f-deb6-4137-9526-b5d0db8bb504"
   },
   "outputs": [
    {
     "name": "stdout",
     "output_type": "stream",
     "text": [
      "Pregnancies\n",
      "Glucose\n",
      "BloodPressure\n",
      "SkinThickness\n",
      "Insulin\n",
      "BMI\n",
      "DiabetesPedigreeFunction\n",
      "Age\n",
      "Outcome\n"
     ]
    }
   ],
   "source": [
    "for i in data.columns:\n",
    "    print(i)"
   ]
  },
  {
   "cell_type": "code",
   "execution_count": null,
   "metadata": {
    "executionInfo": {
     "elapsed": 70,
     "status": "aborted",
     "timestamp": 1683482799317,
     "user": {
      "displayName": "Pronay Ghosh",
      "userId": "02166950010115536194"
     },
     "user_tz": -330
    },
    "id": "WsJ62kksJ8s7"
   },
   "outputs": [],
   "source": [
    "for i in data.columns:\n",
    "    print(data[i].dtypes)"
   ]
  },
  {
   "cell_type": "code",
   "execution_count": 20,
   "metadata": {
    "colab": {
     "base_uri": "https://localhost:8080/"
    },
    "executionInfo": {
     "elapsed": 114,
     "status": "ok",
     "timestamp": 1683482822262,
     "user": {
      "displayName": "Pronay Ghosh",
      "userId": "02166950010115536194"
     },
     "user_tz": -330
    },
    "id": "1cpewoWoJQtI",
    "outputId": "f4b0e48d-7dae-4271-def4-7bde7eba1906"
   },
   "outputs": [
    {
     "data": {
      "text/plain": [
       "dtype('O')"
      ]
     },
     "execution_count": 20,
     "metadata": {},
     "output_type": "execute_result"
    }
   ],
   "source": [
    "data['Pregnancies'].dtypes"
   ]
  },
  {
   "cell_type": "code",
   "execution_count": 21,
   "metadata": {
    "colab": {
     "base_uri": "https://localhost:8080/"
    },
    "executionInfo": {
     "elapsed": 107,
     "status": "ok",
     "timestamp": 1683482822264,
     "user": {
      "displayName": "Pronay Ghosh",
      "userId": "02166950010115536194"
     },
     "user_tz": -330
    },
    "id": "xQLYq29PHsS0",
    "outputId": "c2c726fb-d564-4002-a633-0863538f9bc0"
   },
   "outputs": [
    {
     "data": {
      "text/plain": [
       "dtype('int64')"
      ]
     },
     "execution_count": 21,
     "metadata": {},
     "output_type": "execute_result"
    }
   ],
   "source": [
    "data['Glucose'].dtypes"
   ]
  },
  {
   "cell_type": "code",
   "execution_count": 22,
   "metadata": {
    "executionInfo": {
     "elapsed": 74,
     "status": "ok",
     "timestamp": 1683482822267,
     "user": {
      "displayName": "Pronay Ghosh",
      "userId": "02166950010115536194"
     },
     "user_tz": -330
    },
    "id": "ExJWKY03Eopq"
   },
   "outputs": [],
   "source": [
    "def separate_categorical_and_continious(data):\n",
    "    categorical_cols, numerical_cols = [] , []\n",
    "    for cols in data.columns:\n",
    "        if data[cols].dtypes == \"object\":\n",
    "            categorical_cols.append(cols)\n",
    "        else:\n",
    "            numerical_cols.append(cols)\n",
    "    return categorical_cols, numerical_cols"
   ]
  },
  {
   "cell_type": "code",
   "execution_count": 23,
   "metadata": {
    "executionInfo": {
     "elapsed": 71,
     "status": "ok",
     "timestamp": 1683482822268,
     "user": {
      "displayName": "Pronay Ghosh",
      "userId": "02166950010115536194"
     },
     "user_tz": -330
    },
    "id": "xWT9UP7rH_h7"
   },
   "outputs": [],
   "source": [
    "# df = pd.read_csv(df_path)\n",
    "categorical_cols, numerical_cols = separate_categorical_and_continious(data)"
   ]
  },
  {
   "cell_type": "code",
   "execution_count": 24,
   "metadata": {
    "colab": {
     "base_uri": "https://localhost:8080/"
    },
    "executionInfo": {
     "elapsed": 86,
     "status": "ok",
     "timestamp": 1683482822285,
     "user": {
      "displayName": "Pronay Ghosh",
      "userId": "02166950010115536194"
     },
     "user_tz": -330
    },
    "id": "nTx9dyt_IP3w",
    "outputId": "e7d92b7b-81ab-4ac5-888f-d52e47428e40"
   },
   "outputs": [
    {
     "data": {
      "text/plain": [
       "(['Pregnancies'],\n",
       " ['Glucose',\n",
       "  'BloodPressure',\n",
       "  'SkinThickness',\n",
       "  'Insulin',\n",
       "  'BMI',\n",
       "  'DiabetesPedigreeFunction',\n",
       "  'Age',\n",
       "  'Outcome'])"
      ]
     },
     "execution_count": 24,
     "metadata": {},
     "output_type": "execute_result"
    }
   ],
   "source": [
    "categorical_cols, numerical_cols"
   ]
  },
  {
   "cell_type": "markdown",
   "metadata": {
    "id": "6SMdeLgzIWH6"
   },
   "source": [
    "# **Uni-Variate Analysis**"
   ]
  },
  {
   "cell_type": "code",
   "execution_count": 25,
   "metadata": {
    "colab": {
     "base_uri": "https://localhost:8080/"
    },
    "executionInfo": {
     "elapsed": 77,
     "status": "ok",
     "timestamp": 1683482822289,
     "user": {
      "displayName": "Pronay Ghosh",
      "userId": "02166950010115536194"
     },
     "user_tz": -330
    },
    "id": "VLfSN_iqPBnH",
    "outputId": "626b1a73-5b73-4f6e-80a7-3f87de288b13"
   },
   "outputs": [
    {
     "data": {
      "text/plain": [
       "1     135\n",
       "0     111\n",
       "2     103\n",
       "3      75\n",
       "4      68\n",
       "5      57\n",
       "6      50\n",
       "7      45\n",
       "8      38\n",
       "9      28\n",
       "10     24\n",
       "11     11\n",
       "13     10\n",
       "12      9\n",
       "14      2\n",
       "15      1\n",
       "17      1\n",
       "Name: Pregnancies, dtype: int64"
      ]
     },
     "execution_count": 25,
     "metadata": {},
     "output_type": "execute_result"
    }
   ],
   "source": [
    "data[\"Pregnancies\"].value_counts()"
   ]
  },
  {
   "cell_type": "code",
   "execution_count": 26,
   "metadata": {
    "colab": {
     "base_uri": "https://localhost:8080/"
    },
    "executionInfo": {
     "elapsed": 63,
     "status": "ok",
     "timestamp": 1683482822290,
     "user": {
      "displayName": "Pronay Ghosh",
      "userId": "02166950010115536194"
     },
     "user_tz": -330
    },
    "id": "5W_L0KuOOw1k",
    "outputId": "8f48c9e5-abcb-419b-cf80-a99ed14045e5"
   },
   "outputs": [
    {
     "data": {
      "text/plain": [
       "array([135, 111, 103,  75,  68,  57,  50,  45,  38,  28,  24,  11,  10,\n",
       "         9,   2,   1,   1])"
      ]
     },
     "execution_count": 26,
     "metadata": {},
     "output_type": "execute_result"
    }
   ],
   "source": [
    "data[\"Pregnancies\"].value_counts().values"
   ]
  },
  {
   "cell_type": "code",
   "execution_count": 27,
   "metadata": {
    "colab": {
     "base_uri": "https://localhost:8080/"
    },
    "executionInfo": {
     "elapsed": 19,
     "status": "ok",
     "timestamp": 1683482823419,
     "user": {
      "displayName": "Pronay Ghosh",
      "userId": "02166950010115536194"
     },
     "user_tz": -330
    },
    "id": "-JxMt-5vO9Hv",
    "outputId": "51a0df28-3703-4c70-b4fe-bbf6346d1c4c"
   },
   "outputs": [
    {
     "data": {
      "text/plain": [
       "Int64Index([1, 0, 2, 3, 4, 5, 6, 7, 8, 9, 10, 11, 13, 12, 14, 15, 17], dtype='int64')"
      ]
     },
     "execution_count": 27,
     "metadata": {},
     "output_type": "execute_result"
    }
   ],
   "source": [
    "data[\"Pregnancies\"].value_counts().index"
   ]
  },
  {
   "cell_type": "code",
   "execution_count": 28,
   "metadata": {
    "colab": {
     "base_uri": "https://localhost:8080/",
     "height": 447
    },
    "executionInfo": {
     "elapsed": 826,
     "status": "ok",
     "timestamp": 1683482824238,
     "user": {
      "displayName": "Pronay Ghosh",
      "userId": "02166950010115536194"
     },
     "user_tz": -330
    },
    "id": "XUOOY10hPFQT",
    "outputId": "fa755b3d-191d-4f24-91fe-a15cb2444c1a"
   },
   "outputs": [
    {
     "data": {
      "text/plain": [
       "<Axes: >"
      ]
     },
     "execution_count": 28,
     "metadata": {},
     "output_type": "execute_result"
    },
    {
     "data": {
      "image/png": "[encoded data removed]",
      "text/plain": [
       "<Figure size 640x480 with 1 Axes>"
      ]
     },
     "metadata": {},
     "output_type": "display_data"
    }
   ],
   "source": [
    "sns.barplot(x=data[\"Pregnancies\"].value_counts().index,\n",
    "            y=data[\"Pregnancies\"].value_counts().values, color = \"darkblue\", orient = \"h\")"
   ]
  },
  {
   "cell_type": "code",
   "execution_count": 29,
   "metadata": {
    "colab": {
     "base_uri": "https://localhost:8080/",
     "height": 406
    },
    "executionInfo": {
     "elapsed": 1060,
     "status": "ok",
     "timestamp": 1683482825283,
     "user": {
      "displayName": "Pronay Ghosh",
      "userId": "02166950010115536194"
     },
     "user_tz": -330
    },
    "id": "KcLpvw7IPcx4",
    "outputId": "f7f5cef2-d209-4563-82d8-f65ff4453949"
   },
   "outputs": [
    {
     "data": {
      "image/png": "[encoded data removed]",
      "text/plain": [
       "<Figure size 640x480 with 1 Axes>"
      ]
     },
     "metadata": {},
     "output_type": "display_data"
    }
   ],
   "source": [
    "plt.pie(labels=data[\"Pregnancies\"].value_counts().index,\n",
    "        x=data[\"Pregnancies\"].value_counts().values, autopct = '%1.2f%%')\n",
    "plt.show();"
   ]
  },
  {
   "cell_type": "code",
   "execution_count": 30,
   "metadata": {
    "colab": {
     "base_uri": "https://localhost:8080/",
     "height": 653
    },
    "executionInfo": {
     "elapsed": 85,
     "status": "error",
     "timestamp": 1683482825286,
     "user": {
      "displayName": "Pronay Ghosh",
      "userId": "02166950010115536194"
     },
     "user_tz": -330
    },
    "id": "u3OzEjyEOnx3",
    "outputId": "01a5ebeb-aa35-408a-ee19-ac7615620e9d"
   },
   "outputs": [
    {
     "ename": "TypeError",
     "evalue": "ignored",
     "output_type": "error",
     "traceback": [
      "\u001b[0;31m---------------------------------------------------------------------------\u001b[0m",
      "\u001b[0;31mTypeError\u001b[0m                                 Traceback (most recent call last)",
      "\u001b[0;32m<ipython-input-30-4a29b92928bf>\u001b[0m in \u001b[0;36m<cell line: 1>\u001b[0;34m()\u001b[0m\n\u001b[1;32m      1\u001b[0m \u001b[0;32mfor\u001b[0m \u001b[0mcol\u001b[0m \u001b[0;32min\u001b[0m \u001b[0mdata\u001b[0m\u001b[0;34m.\u001b[0m\u001b[0mcolumns\u001b[0m\u001b[0;34m:\u001b[0m\u001b[0;34m\u001b[0m\u001b[0;34m\u001b[0m\u001b[0m\n\u001b[1;32m      2\u001b[0m     \u001b[0mplt\u001b[0m\u001b[0;34m.\u001b[0m\u001b[0msubplot\u001b[0m\u001b[0;34m(\u001b[0m\u001b[0;36m1\u001b[0m\u001b[0;34m,\u001b[0m\u001b[0;36m2\u001b[0m\u001b[0;34m,\u001b[0m\u001b[0;36m1\u001b[0m\u001b[0;34m)\u001b[0m\u001b[0;34m\u001b[0m\u001b[0;34m\u001b[0m\u001b[0m\n\u001b[0;32m----> 3\u001b[0;31m     \u001b[0mplt\u001b[0m\u001b[0;34m.\u001b[0m\u001b[0mbar\u001b[0m\u001b[0;34m(\u001b[0m\u001b[0mdata\u001b[0m\u001b[0;34m=\u001b[0m\u001b[0mdata\u001b[0m\u001b[0;34m,\u001b[0m \u001b[0mx\u001b[0m\u001b[0;34m=\u001b[0m\u001b[0;34m\"Pregnancies\"\u001b[0m\u001b[0;34m,\u001b[0m \u001b[0my\u001b[0m\u001b[0;34m=\u001b[0m\u001b[0;34m\"DiabetesPedigreeFunction\"\u001b[0m\u001b[0;34m)\u001b[0m\u001b[0;34m\u001b[0m\u001b[0;34m\u001b[0m\u001b[0m\n\u001b[0m\u001b[1;32m      4\u001b[0m     \u001b[0mplt\u001b[0m\u001b[0;34m.\u001b[0m\u001b[0msubplot\u001b[0m\u001b[0;34m(\u001b[0m\u001b[0;36m1\u001b[0m\u001b[0;34m,\u001b[0m\u001b[0;36m2\u001b[0m\u001b[0;34m,\u001b[0m\u001b[0;36m2\u001b[0m\u001b[0;34m)\u001b[0m\u001b[0;34m\u001b[0m\u001b[0;34m\u001b[0m\u001b[0m\n\u001b[1;32m      5\u001b[0m     \u001b[0mplt\u001b[0m\u001b[0;34m.\u001b[0m\u001b[0mpie\u001b[0m\u001b[0;34m(\u001b[0m\u001b[0mdata\u001b[0m\u001b[0;34m=\u001b[0m\u001b[0mdata\u001b[0m\u001b[0;34m,\u001b[0m \u001b[0mx\u001b[0m\u001b[0;34m=\u001b[0m\u001b[0;34m\"Pregnancies\"\u001b[0m\u001b[0;34m,\u001b[0m \u001b[0my\u001b[0m\u001b[0;34m=\u001b[0m\u001b[0;34m\"DiabetesPedigreeFunction\"\u001b[0m\u001b[0;34m,\u001b[0m\u001b[0mautopct\u001b[0m \u001b[0;34m=\u001b[0m \u001b[0;34m'%.1f%%'\u001b[0m\u001b[0;34m)\u001b[0m\u001b[0;34m\u001b[0m\u001b[0;34m\u001b[0m\u001b[0m\n",
      "\u001b[0;31mTypeError\u001b[0m: bar() missing 1 required positional argument: 'height'"
     ]
    },
    {
     "data": {
      "image/png": "[encoded data removed]",
      "text/plain": [
       "<Figure size 640x480 with 1 Axes>"
      ]
     },
     "metadata": {},
     "output_type": "display_data"
    }
   ],
   "source": [
    "for col in data.columns:\n",
    "    plt.subplot(1,2,1)\n",
    "    plt.bar(data=data, x=\"Pregnancies\", y=\"DiabetesPedigreeFunction\")\n",
    "    plt.subplot(1,2,2)\n",
    "    plt.pie(data=data, x=\"Pregnancies\", y=\"DiabetesPedigreeFunction\",autopct = '%.1f%%')\n",
    "    plt.grid()\n",
    "    plt.show()"
   ]
  },
  {
   "cell_type": "code",
   "execution_count": null,
   "metadata": {
    "executionInfo": {
     "elapsed": 83,
     "status": "aborted",
     "timestamp": 1683482825288,
     "user": {
      "displayName": "Pronay Ghosh",
      "userId": "02166950010115536194"
     },
     "user_tz": -330
    },
    "id": "ZhiYoVpFIRL2"
   },
   "outputs": [],
   "source": [
    "def univariate_analysis(data):\n",
    "    # Plot cat charts --> bar and pie\n",
    "    # Plot contnious charts --> historam and boxplot\n",
    "    for cols in data.columns:\n",
    "        # If the col is representing a category\n",
    "        if data[cols].dtypes == \"object\":\n",
    "            plt.figure(figsize = [10,8])\n",
    "            # This is for the first subplot\n",
    "            plt.subplot(1,2,1)\n",
    "            sns.barplot(x=data[cols].value_counts().index,\n",
    "                        y=data[cols].value_counts().values,\n",
    "                        color = \"darkblue\",\n",
    "                        orient = \"h\")\n",
    "            # This is for the second subplot\n",
    "            plt.subplot(1,2,2)\n",
    "            plt.pie(labels=data[cols].value_counts().index,\n",
    "                    x=data[cols].value_counts().values,\n",
    "                    autopct = '%1.2f%%')\n",
    "            plt.title(\"Categorical Distribution of the {}\".format(cols))\n",
    "            plt.show();\n",
    "            \n",
    "        # If the col is representing a numerical field\n",
    "        else:\n",
    "            plt.figure(figsize = [10,8])\n",
    "            # This is for the first subplot\n",
    "            plt.subplot(1,2,1)\n",
    "            sns.histplot(x = cols, data = data, color = \"darkblue\")\n",
    "            # This is for the second subplot\n",
    "            plt.subplot(1,2,2)\n",
    "            sns.boxplot(x = cols, data = data, color = \"darkblue\")\n",
    "            plt.title(\"Continious Distribution of the {}\".format(cols))\n",
    "            plt.show();"
   ]
  },
  {
   "cell_type": "code",
   "execution_count": null,
   "metadata": {
    "executionInfo": {
     "elapsed": 84,
     "status": "aborted",
     "timestamp": 1683482825289,
     "user": {
      "displayName": "Pronay Ghosh",
      "userId": "02166950010115536194"
     },
     "user_tz": -330
    },
    "id": "_VNNAEU7RnAH"
   },
   "outputs": [],
   "source": [
    "univariate_analysis(data)"
   ]
  },
  {
   "cell_type": "markdown",
   "metadata": {
    "id": "7vQY-l1iUF09"
   },
   "source": [
    "# **Modelling**"
   ]
  },
  {
   "cell_type": "code",
   "execution_count": null,
   "metadata": {
    "executionInfo": {
     "elapsed": 84,
     "status": "aborted",
     "timestamp": 1683482825290,
     "user": {
      "displayName": "Pronay Ghosh",
      "userId": "02166950010115536194"
     },
     "user_tz": -330
    },
    "id": "CzlvJzd2Uial"
   },
   "outputs": [],
   "source": [
    "data.head()"
   ]
  },
  {
   "cell_type": "code",
   "execution_count": 31,
   "metadata": {
    "colab": {
     "base_uri": "https://localhost:8080/"
    },
    "executionInfo": {
     "elapsed": 8,
     "status": "ok",
     "timestamp": 1683482826126,
     "user": {
      "displayName": "Pronay Ghosh",
      "userId": "02166950010115536194"
     },
     "user_tz": -330
    },
    "id": "7rNGqU2oU6p7",
    "outputId": "e93466c0-f3a2-42c2-a8f6-cd0d68335687"
   },
   "outputs": [
    {
     "data": {
      "text/plain": [
       "(768, 9)"
      ]
     },
     "execution_count": 31,
     "metadata": {},
     "output_type": "execute_result"
    }
   ],
   "source": [
    "data.shape"
   ]
  },
  {
   "cell_type": "code",
   "execution_count": 32,
   "metadata": {
    "executionInfo": {
     "elapsed": 4,
     "status": "ok",
     "timestamp": 1683482829494,
     "user": {
      "displayName": "Pronay Ghosh",
      "userId": "02166950010115536194"
     },
     "user_tz": -330
    },
    "id": "86NW7862Roqi"
   },
   "outputs": [],
   "source": [
    "# Separate the features and the target\n",
    "# Separate X and y\n",
    "X = data.drop([\"Outcome\"], axis =1 )\n",
    "y = data[\"Outcome\"]"
   ]
  },
  {
   "cell_type": "code",
   "execution_count": 33,
   "metadata": {
    "colab": {
     "base_uri": "https://localhost:8080/"
    },
    "executionInfo": {
     "elapsed": 26,
     "status": "ok",
     "timestamp": 1683482830397,
     "user": {
      "displayName": "Pronay Ghosh",
      "userId": "02166950010115536194"
     },
     "user_tz": -330
    },
    "id": "N4kiOjXiU2H0",
    "outputId": "07fe6451-f9da-45cb-f3ee-a2304a8de6b3"
   },
   "outputs": [
    {
     "data": {
      "text/plain": [
       "(768, 8)"
      ]
     },
     "execution_count": 33,
     "metadata": {},
     "output_type": "execute_result"
    }
   ],
   "source": [
    "X.shape"
   ]
  },
  {
   "cell_type": "code",
   "execution_count": 34,
   "metadata": {
    "colab": {
     "base_uri": "https://localhost:8080/"
    },
    "executionInfo": {
     "elapsed": 24,
     "status": "ok",
     "timestamp": 1683482830397,
     "user": {
      "displayName": "Pronay Ghosh",
      "userId": "02166950010115536194"
     },
     "user_tz": -330
    },
    "id": "V3gMgz8CU3gL",
    "outputId": "34fd1cd3-2bb8-44d9-d84d-5ed172defc94"
   },
   "outputs": [
    {
     "data": {
      "text/plain": [
       "(768,)"
      ]
     },
     "execution_count": 34,
     "metadata": {},
     "output_type": "execute_result"
    }
   ],
   "source": [
    "y.shape"
   ]
  },
  {
   "cell_type": "code",
   "execution_count": 35,
   "metadata": {
    "executionInfo": {
     "elapsed": 20,
     "status": "ok",
     "timestamp": 1683482830398,
     "user": {
      "displayName": "Pronay Ghosh",
      "userId": "02166950010115536194"
     },
     "user_tz": -330
    },
    "id": "8blXufRaYr-T"
   },
   "outputs": [],
   "source": [
    "# pip install sklearn"
   ]
  },
  {
   "cell_type": "code",
   "execution_count": 36,
   "metadata": {
    "executionInfo": {
     "elapsed": 21,
     "status": "ok",
     "timestamp": 1683482830399,
     "user": {
      "displayName": "Pronay Ghosh",
      "userId": "02166950010115536194"
     },
     "user_tz": -330
    },
    "id": "fp4qNJGEU4Wy"
   },
   "outputs": [],
   "source": [
    "# Define the train and the test data\n",
    "from sklearn.model_selection import train_test_split\n",
    "X_train, X_test, y_train, y_test = train_test_split(X,y, test_size = 0.2)"
   ]
  },
  {
   "cell_type": "code",
   "execution_count": 37,
   "metadata": {
    "colab": {
     "base_uri": "https://localhost:8080/"
    },
    "executionInfo": {
     "elapsed": 21,
     "status": "ok",
     "timestamp": 1683482830400,
     "user": {
      "displayName": "Pronay Ghosh",
      "userId": "02166950010115536194"
     },
     "user_tz": -330
    },
    "id": "5sJbQoUsVtQF",
    "outputId": "912dcace-f7e0-44b1-e6a1-6aa16e47d529"
   },
   "outputs": [
    {
     "data": {
      "text/plain": [
       "((614, 8), (154, 8), (614,), (154,))"
      ]
     },
     "execution_count": 37,
     "metadata": {},
     "output_type": "execute_result"
    }
   ],
   "source": [
    "X_train.shape, X_test.shape, y_train.shape, y_test.shape"
   ]
  },
  {
   "cell_type": "code",
   "execution_count": 38,
   "metadata": {
    "executionInfo": {
     "elapsed": 5,
     "status": "ok",
     "timestamp": 1683482830848,
     "user": {
      "displayName": "Pronay Ghosh",
      "userId": "02166950010115536194"
     },
     "user_tz": -330
    },
    "id": "bJbpXOCnVwvI"
   },
   "outputs": [],
   "source": [
    "from sklearn.linear_model import LogisticRegression\n",
    "model = LogisticRegression()"
   ]
  },
  {
   "cell_type": "code",
   "execution_count": 39,
   "metadata": {
    "colab": {
     "base_uri": "https://localhost:8080/",
     "height": 234
    },
    "executionInfo": {
     "elapsed": 14,
     "status": "ok",
     "timestamp": 1683482836714,
     "user": {
      "displayName": "Pronay Ghosh",
      "userId": "02166950010115536194"
     },
     "user_tz": -330
    },
    "id": "TbXf3fsJWXAj",
    "outputId": "4faffd76-1146-404a-a311-2b8c5c26291e"
   },
   "outputs": [
    {
     "name": "stderr",
     "output_type": "stream",
     "text": [
      "/usr/local/lib/python3.10/dist-packages/sklearn/linear_model/_logistic.py:458: ConvergenceWarning: lbfgs failed to converge (status=1):\n",
      "STOP: TOTAL NO. of ITERATIONS REACHED LIMIT.\n",
      "\n",
      "Increase the number of iterations (max_iter) or scale the data as shown in:\n",
      "    https://scikit-learn.org/stable/modules/preprocessing.html\n",
      "Please also refer to the documentation for alternative solver options:\n",
      "    https://scikit-learn.org/stable/modules/linear_model.html#logistic-regression\n",
      "  n_iter_i = _check_optimize_result(\n"
     ]
    },
    {
     "data": {
      "text/html": [
       "<style>#sk-container-id-1 {color: black;background-color: white;}#sk-container-id-1 pre{padding: 0;}#sk-container-id-1 div.sk-toggleable {background-color: white;}#sk-container-id-1 label.sk-toggleable__label {cursor: pointer;display: block;width: 100%;margin-bottom: 0;padding: 0.3em;box-sizing: border-box;text-align: center;}#sk-container-id-1 label.sk-toggleable__label-arrow:before {content: \"▸\";float: left;margin-right: 0.25em;color: #696969;}#sk-container-id-1 label.sk-toggleable__label-arrow:hover:before {color: black;}#sk-container-id-1 div.sk-estimator:hover label.sk-toggleable__label-arrow:before {color: black;}#sk-container-id-1 div.sk-toggleable__content {max-height: 0;max-width: 0;overflow: hidden;text-align: left;background-color: #f0f8ff;}#sk-container-id-1 div.sk-toggleable__content pre {margin: 0.2em;color: black;border-radius: 0.25em;background-color: #f0f8ff;}#sk-container-id-1 input.sk-toggleable__control:checked~div.sk-toggleable__content {max-height: 200px;max-width: 100%;overflow: auto;}#sk-container-id-1 input.sk-toggleable__control:checked~label.sk-toggleable__label-arrow:before {content: \"▾\";}#sk-container-id-1 div.sk-estimator input.sk-toggleable__control:checked~label.sk-toggleable__label {background-color: #d4ebff;}#sk-container-id-1 div.sk-label input.sk-toggleable__control:checked~label.sk-toggleable__label {background-color: #d4ebff;}#sk-container-id-1 input.sk-hidden--visually {border: 0;clip: rect(1px 1px 1px 1px);clip: rect(1px, 1px, 1px, 1px);height: 1px;margin: -1px;overflow: hidden;padding: 0;position: absolute;width: 1px;}#sk-container-id-1 div.sk-estimator {font-family: monospace;background-color: #f0f8ff;border: 1px dotted black;border-radius: 0.25em;box-sizing: border-box;margin-bottom: 0.5em;}#sk-container-id-1 div.sk-estimator:hover {background-color: #d4ebff;}#sk-container-id-1 div.sk-parallel-item::after {content: \"\";width: 100%;border-bottom: 1px solid gray;flex-grow: 1;}#sk-container-id-1 div.sk-label:hover label.sk-toggleable__label {background-color: #d4ebff;}#sk-container-id-1 div.sk-serial::before {content: \"\";position: absolute;border-left: 1px solid gray;box-sizing: border-box;top: 0;bottom: 0;left: 50%;z-index: 0;}#sk-container-id-1 div.sk-serial {display: flex;flex-direction: column;align-items: center;background-color: white;padding-right: 0.2em;padding-left: 0.2em;position: relative;}#sk-container-id-1 div.sk-item {position: relative;z-index: 1;}#sk-container-id-1 div.sk-parallel {display: flex;align-items: stretch;justify-content: center;background-color: white;position: relative;}#sk-container-id-1 div.sk-item::before, #sk-container-id-1 div.sk-parallel-item::before {content: \"\";position: absolute;border-left: 1px solid gray;box-sizing: border-box;top: 0;bottom: 0;left: 50%;z-index: -1;}#sk-container-id-1 div.sk-parallel-item {display: flex;flex-direction: column;z-index: 1;position: relative;background-color: white;}#sk-container-id-1 div.sk-parallel-item:first-child::after {align-self: flex-end;width: 50%;}#sk-container-id-1 div.sk-parallel-item:last-child::after {align-self: flex-start;width: 50%;}#sk-container-id-1 div.sk-parallel-item:only-child::after {width: 0;}#sk-container-id-1 div.sk-dashed-wrapped {border: 1px dashed gray;margin: 0 0.4em 0.5em 0.4em;box-sizing: border-box;padding-bottom: 0.4em;background-color: white;}#sk-container-id-1 div.sk-label label {font-family: monospace;font-weight: bold;display: inline-block;line-height: 1.2em;}#sk-container-id-1 div.sk-label-container {text-align: center;}#sk-container-id-1 div.sk-container {/* jupyter's `normalize.less` sets `[hidden] { display: none; }` but bootstrap.min.css set `[hidden] { display: none !important; }` so we also need the `!important` here to be able to override the default hidden behavior on the sphinx rendered scikit-learn.org. See: https://github.com/scikit-learn/scikit-learn/issues/21755 */display: inline-block !important;position: relative;}#sk-container-id-1 div.sk-text-repr-fallback {display: none;}</style><div id=\"sk-container-id-1\" class=\"sk-top-container\"><div class=\"sk-text-repr-fallback\"><pre>LogisticRegression()</pre><b>In a Jupyter environment, please rerun this cell to show the HTML representation or trust the notebook. <br />On GitHub, the HTML representation is unable to render, please try loading this page with nbviewer.org.</b></div><div class=\"sk-container\" hidden><div class=\"sk-item\"><div class=\"sk-estimator sk-toggleable\"><input class=\"sk-toggleable__control sk-hidden--visually\" id=\"sk-estimator-id-1\" type=\"checkbox\" checked><label for=\"sk-estimator-id-1\" class=\"sk-toggleable__label sk-toggleable__label-arrow\">LogisticRegression</label><div class=\"sk-toggleable__content\"><pre>LogisticRegression()</pre></div></div></div></div></div>"
      ],
      "text/plain": [
       "LogisticRegression()"
      ]
     },
     "execution_count": 39,
     "metadata": {},
     "output_type": "execute_result"
    }
   ],
   "source": [
    "# Start the training\n",
    "# you tell the model based on your X data what is the corresponding y or target\n",
    "model.fit(X_train,y_train)"
   ]
  },
  {
   "cell_type": "code",
   "execution_count": 40,
   "metadata": {
    "executionInfo": {
     "elapsed": 29,
     "status": "ok",
     "timestamp": 1683482837260,
     "user": {
      "displayName": "Pronay Ghosh",
      "userId": "02166950010115536194"
     },
     "user_tz": -330
    },
    "id": "xA3dOOsRW-1h"
   },
   "outputs": [],
   "source": [
    "# Making predictions\n",
    "predictions = model.predict(X_test)"
   ]
  },
  {
   "cell_type": "code",
   "execution_count": 41,
   "metadata": {
    "colab": {
     "base_uri": "https://localhost:8080/"
    },
    "executionInfo": {
     "elapsed": 28,
     "status": "ok",
     "timestamp": 1683482837260,
     "user": {
      "displayName": "Pronay Ghosh",
      "userId": "02166950010115536194"
     },
     "user_tz": -330
    },
    "id": "VgAKEHhkXH_e",
    "outputId": "fa9832bb-0ca9-4425-cbe1-bf9c66e0b37a"
   },
   "outputs": [
    {
     "data": {
      "text/plain": [
       "array([0, 1, 0, 0, 0, 0, 0, 1, 1, 0, 1, 0, 1, 0, 0, 0, 1, 1, 1, 0, 1, 0,\n",
       "       0, 0, 0, 0, 1, 0, 0, 0, 1, 1, 0, 0, 0, 1, 1, 1, 1, 0, 0, 0, 1, 0,\n",
       "       0, 1, 1, 1, 0, 0, 0, 1, 1, 0, 0, 0, 1, 1, 1, 1, 0, 0, 1, 0, 0, 0,\n",
       "       0, 0, 0, 1, 0, 0, 0, 0, 0, 0, 0, 1, 1, 1, 0, 0, 0, 0, 0, 0, 1, 0,\n",
       "       0, 0, 0, 0, 0, 0, 1, 0, 0, 0, 0, 0, 0, 1, 0, 0, 0, 1, 0, 1, 1, 0,\n",
       "       1, 0, 1, 0, 0, 0, 0, 0, 0, 0, 1, 0, 0, 0, 0, 0, 0, 0, 0, 1, 1, 1,\n",
       "       0, 0, 0, 0, 0, 1, 0, 0, 1, 0, 0, 0, 0, 0, 0, 0, 0, 0, 0, 0, 0, 0])"
      ]
     },
     "execution_count": 41,
     "metadata": {},
     "output_type": "execute_result"
    }
   ],
   "source": [
    "predictions"
   ]
  },
  {
   "cell_type": "code",
   "execution_count": 42,
   "metadata": {
    "colab": {
     "base_uri": "https://localhost:8080/"
    },
    "executionInfo": {
     "elapsed": 28,
     "status": "ok",
     "timestamp": 1683482837261,
     "user": {
      "displayName": "Pronay Ghosh",
      "userId": "02166950010115536194"
     },
     "user_tz": -330
    },
    "id": "gvaEQs5dXJhf",
    "outputId": "9cabb01b-6cbe-4d3e-d68f-a6bc107986c0"
   },
   "outputs": [
    {
     "data": {
      "text/plain": [
       "array([0, 1, 1, 0, 0, 0, 0, 1, 1, 0, 0, 0, 0, 1, 0, 1, 0, 1, 1, 0, 1, 0,\n",
       "       0, 1, 0, 0, 1, 0, 1, 0, 0, 0, 1, 1, 0, 1, 1, 1, 1, 1, 0, 0, 0, 0,\n",
       "       1, 0, 1, 0, 0, 0, 0, 1, 0, 0, 0, 1, 1, 0, 1, 0, 0, 0, 1, 0, 0, 0,\n",
       "       0, 1, 0, 1, 0, 0, 0, 1, 0, 0, 0, 0, 1, 1, 0, 0, 0, 1, 1, 0, 1, 0,\n",
       "       1, 0, 0, 0, 1, 1, 1, 0, 0, 0, 0, 0, 0, 0, 0, 0, 1, 1, 0, 1, 0, 0,\n",
       "       0, 1, 1, 0, 0, 0, 0, 0, 0, 0, 1, 1, 0, 1, 1, 0, 0, 0, 0, 0, 1, 1,\n",
       "       0, 0, 1, 0, 0, 1, 0, 0, 1, 0, 0, 0, 0, 0, 1, 0, 0, 1, 0, 1, 0, 1])"
      ]
     },
     "execution_count": 42,
     "metadata": {},
     "output_type": "execute_result"
    }
   ],
   "source": [
    "y_test.values"
   ]
  },
  {
   "cell_type": "code",
   "execution_count": 43,
   "metadata": {
    "colab": {
     "base_uri": "https://localhost:8080/"
    },
    "executionInfo": {
     "elapsed": 22,
     "status": "ok",
     "timestamp": 1683482837261,
     "user": {
      "displayName": "Pronay Ghosh",
      "userId": "02166950010115536194"
     },
     "user_tz": -330
    },
    "id": "FrQ6aFQDXMRe",
    "outputId": "76e66295-827c-4e09-b721-fc1d44cd8c97"
   },
   "outputs": [
    {
     "name": "stdout",
     "output_type": "stream",
     "text": [
      "The accuracy of the logistic regression model is : 72.07792207792207\n"
     ]
    }
   ],
   "source": [
    "# Checking the accruacy of the model\n",
    "from sklearn.metrics import accuracy_score\n",
    "print(\"The accuracy of the logistic regression model is :\", accuracy_score(predictions,y_test)*100)"
   ]
  },
  {
   "cell_type": "markdown",
   "metadata": {
    "id": "_zQGu5VLYu2W"
   },
   "source": [
    "# **Support Vector Machines**"
   ]
  },
  {
   "cell_type": "code",
   "execution_count": 44,
   "metadata": {
    "executionInfo": {
     "elapsed": 5,
     "status": "ok",
     "timestamp": 1683482883676,
     "user": {
      "displayName": "Pronay Ghosh",
      "userId": "02166950010115536194"
     },
     "user_tz": -330
    },
    "id": "5-xAu_UJXlZt"
   },
   "outputs": [],
   "source": [
    "from sklearn.svm import SVC\n",
    "model_svm = SVC()\n",
    "\n",
    "# Start the training:\n",
    "model_svm.fit(X_train,y_train)\n",
    "svm_predictions = model_svm.predict(X_test)"
   ]
  },
  {
   "cell_type": "code",
   "execution_count": 46,
   "metadata": {
    "colab": {
     "base_uri": "https://localhost:8080/"
    },
    "executionInfo": {
     "elapsed": 13,
     "status": "ok",
     "timestamp": 1683482951987,
     "user": {
      "displayName": "Pronay Ghosh",
      "userId": "02166950010115536194"
     },
     "user_tz": -330
    },
    "id": "6GcHUkDtZqvq",
    "outputId": "fca89217-32b6-4934-cb19-917d8987a643"
   },
   "outputs": [
    {
     "name": "stdout",
     "output_type": "stream",
     "text": [
      "The Training accuracy of the SVM model is : 78.50162866449512\n"
     ]
    }
   ],
   "source": [
    "svm_predictions_train = model_svm.predict(X_train)\n",
    "print(\"The Training accuracy of the SVM model is :\", accuracy_score(svm_predictions_train,y_train)*100)"
   ]
  },
  {
   "cell_type": "code",
   "execution_count": 45,
   "metadata": {
    "colab": {
     "base_uri": "https://localhost:8080/"
    },
    "executionInfo": {
     "elapsed": 532,
     "status": "ok",
     "timestamp": 1683482908582,
     "user": {
      "displayName": "Pronay Ghosh",
      "userId": "02166950010115536194"
     },
     "user_tz": -330
    },
    "id": "fMxRrkAPZiwP",
    "outputId": "5b2b7ff5-fa98-43fd-bb8f-63d00329a765"
   },
   "outputs": [
    {
     "name": "stdout",
     "output_type": "stream",
     "text": [
      "The accuracy of the SVM model is : 68.83116883116884\n"
     ]
    }
   ],
   "source": [
    "print(\"The accuracy of the SVM model is :\", accuracy_score(svm_predictions,y_test)*100)"
   ]
  },
  {
   "cell_type": "code",
   "execution_count": 50,
   "metadata": {
    "colab": {
     "base_uri": "https://localhost:8080/"
    },
    "executionInfo": {
     "elapsed": 5,
     "status": "ok",
     "timestamp": 1683483145939,
     "user": {
      "displayName": "Pronay Ghosh",
      "userId": "02166950010115536194"
     },
     "user_tz": -330
    },
    "id": "Qu6QgxSUabYA",
    "outputId": "c3f97cd5-e2c3-4e28-d6cf-7a3c6a853e8d"
   },
   "outputs": [
    {
     "name": "stdout",
     "output_type": "stream",
     "text": [
      "The Training accuracy of the Log Reg model is : 78.99022801302932\n"
     ]
    }
   ],
   "source": [
    "log_reg_predictions_train = model.predict(X_train)\n",
    "print(\"The Training accuracy of the Log Reg model is :\", accuracy_score(log_reg_predictions_train,y_train)*100)"
   ]
  },
  {
   "cell_type": "code",
   "execution_count": 51,
   "metadata": {
    "colab": {
     "base_uri": "https://localhost:8080/",
     "height": 447
    },
    "executionInfo": {
     "elapsed": 12,
     "status": "ok",
     "timestamp": 1683483153073,
     "user": {
      "displayName": "Pronay Ghosh",
      "userId": "02166950010115536194"
     },
     "user_tz": -330
    },
    "id": "-bk0jGVPZpLL",
    "outputId": "35206d0b-c081-416e-8008-84b435b48a2d"
   },
   "outputs": [
    {
     "data": {
      "text/plain": [
       "<matplotlib.collections.PathCollection at 0x7fc404205480>"
      ]
     },
     "execution_count": 51,
     "metadata": {},
     "output_type": "execute_result"
    },
    {
     "data": {
      "image/png": "[encoded data removed]",
      "text/plain": [
       "<Figure size 640x480 with 1 Axes>"
      ]
     },
     "metadata": {},
     "output_type": "display_data"
    }
   ],
   "source": [
    "training_samples_index = range(0,len(y_train))\n",
    "test_samples_index = range(0,len(y_test))\n",
    "plt.scatter(training_samples_index, svm_predictions_train, color = \"red\")\n",
    "plt.scatter(training_samples_index, log_reg_predictions_train, color = \"blue\")"
   ]
  },
  {
   "cell_type": "code",
   "execution_count": 52,
   "metadata": {
    "colab": {
     "base_uri": "https://localhost:8080/",
     "height": 447
    },
    "executionInfo": {
     "elapsed": 517,
     "status": "ok",
     "timestamp": 1683483221698,
     "user": {
      "displayName": "Pronay Ghosh",
      "userId": "02166950010115536194"
     },
     "user_tz": -330
    },
    "id": "m65L3pz0aKdB",
    "outputId": "38224b74-fff3-4c0b-ddd5-ec8629e7a6e2"
   },
   "outputs": [
    {
     "data": {
      "text/plain": [
       "<matplotlib.collections.PathCollection at 0x7fc403fca860>"
      ]
     },
     "execution_count": 52,
     "metadata": {},
     "output_type": "execute_result"
    },
    {
     "data": {
      "image/png": "[encoded data removed]",
      "text/plain": [
       "<Figure size 640x480 with 1 Axes>"
      ]
     },
     "metadata": {},
     "output_type": "display_data"
    }
   ],
   "source": [
    "training_samples_index = range(0,len(y_train))\n",
    "test_samples_index = range(0,len(y_test))\n",
    "plt.scatter(test_samples_index, svm_predictions, color = \"red\")\n",
    "plt.scatter(test_samples_index, predictions, color = \"blue\")"
   ]
  },
  {
   "cell_type": "code",
   "execution_count": null,
   "metadata": {
    "id": "vz5Wl0rwa1Pg"
   },
   "outputs": [],
   "source": []
  }
 ],
 "metadata": {
  "colab": {
   "provenance": []
  },
  "kernelspec": {
   "display_name": "Python 3 (ipykernel)",
   "language": "python",
   "name": "python3"
  },
  "language_info": {
   "codemirror_mode": {
    "name": "ipython",
    "version": 3
   },
   "file_extension": ".py",
   "mimetype": "text/x-python",
   "name": "python",
   "nbconvert_exporter": "python",
   "pygments_lexer": "ipython3",
   "version": "3.10.9"
  }
 },
 "nbformat": 4,
 "nbformat_minor": 1
}
