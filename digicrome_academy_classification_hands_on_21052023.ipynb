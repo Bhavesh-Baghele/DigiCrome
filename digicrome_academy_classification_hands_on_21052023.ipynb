{
 "cells": [
  {
   "cell_type": "markdown",
   "metadata": {
    "id": "dWtn8Tlt77Hz"
   },
   "source": [
    "# **Importing the Libraries**"
   ]
  },
  {
   "cell_type": "code",
   "execution_count": 93,
   "metadata": {
    "colab": {
     "base_uri": "https://localhost:8080/"
    },
    "executionInfo": {
     "elapsed": 7317,
     "status": "ok",
     "timestamp": 1684693373076,
     "user": {
      "displayName": "Pronay Ghosh",
      "userId": "02166950010115536194"
     },
     "user_tz": -330
    },
    "id": "vyAMVlEhjKv6",
    "outputId": "60898e76-038c-4566-cb48-001680e6831b"
   },
   "outputs": [
    {
     "name": "stdout",
     "output_type": "stream",
     "text": [
      "Looking in indexes: https://pypi.org/simple, https://us-python.pkg.dev/colab-wheels/public/simple/\n",
      "Requirement already satisfied: catboost in /usr/local/lib/python3.10/dist-packages (1.2)\n",
      "Requirement already satisfied: graphviz in /usr/local/lib/python3.10/dist-packages (from catboost) (0.20.1)\n",
      "Requirement already satisfied: matplotlib in /usr/local/lib/python3.10/dist-packages (from catboost) (3.7.1)\n",
      "Requirement already satisfied: numpy>=1.16.0 in /usr/local/lib/python3.10/dist-packages (from catboost) (1.22.4)\n",
      "Requirement already satisfied: pandas>=0.24 in /usr/local/lib/python3.10/dist-packages (from catboost) (1.5.3)\n",
      "Requirement already satisfied: scipy in /usr/local/lib/python3.10/dist-packages (from catboost) (1.10.1)\n",
      "Requirement already satisfied: plotly in /usr/local/lib/python3.10/dist-packages (from catboost) (5.13.1)\n",
      "Requirement already satisfied: six in /usr/local/lib/python3.10/dist-packages (from catboost) (1.16.0)\n",
      "Requirement already satisfied: python-dateutil>=2.8.1 in /usr/local/lib/python3.10/dist-packages (from pandas>=0.24->catboost) (2.8.2)\n",
      "Requirement already satisfied: pytz>=2020.1 in /usr/local/lib/python3.10/dist-packages (from pandas>=0.24->catboost) (2022.7.1)\n",
      "Requirement already satisfied: contourpy>=1.0.1 in /usr/local/lib/python3.10/dist-packages (from matplotlib->catboost) (1.0.7)\n",
      "Requirement already satisfied: cycler>=0.10 in /usr/local/lib/python3.10/dist-packages (from matplotlib->catboost) (0.11.0)\n",
      "Requirement already satisfied: fonttools>=4.22.0 in /usr/local/lib/python3.10/dist-packages (from matplotlib->catboost) (4.39.3)\n",
      "Requirement already satisfied: kiwisolver>=1.0.1 in /usr/local/lib/python3.10/dist-packages (from matplotlib->catboost) (1.4.4)\n",
      "Requirement already satisfied: packaging>=20.0 in /usr/local/lib/python3.10/dist-packages (from matplotlib->catboost) (23.1)\n",
      "Requirement already satisfied: pillow>=6.2.0 in /usr/local/lib/python3.10/dist-packages (from matplotlib->catboost) (8.4.0)\n",
      "Requirement already satisfied: pyparsing>=2.3.1 in /usr/local/lib/python3.10/dist-packages (from matplotlib->catboost) (3.0.9)\n",
      "Requirement already satisfied: tenacity>=6.2.0 in /usr/local/lib/python3.10/dist-packages (from plotly->catboost) (8.2.2)\n",
      "Looking in indexes: https://pypi.org/simple, https://us-python.pkg.dev/colab-wheels/public/simple/\n",
      "Requirement already satisfied: xgboost in /usr/local/lib/python3.10/dist-packages (1.7.5)\n",
      "Requirement already satisfied: numpy in /usr/local/lib/python3.10/dist-packages (from xgboost) (1.22.4)\n",
      "Requirement already satisfied: scipy in /usr/local/lib/python3.10/dist-packages (from xgboost) (1.10.1)\n"
     ]
    }
   ],
   "source": [
    "!pip install catboost\n",
    "!pip install xgboost"
   ]
  },
  {
   "cell_type": "code",
   "execution_count": 94,
   "metadata": {
    "executionInfo": {
     "elapsed": 22,
     "status": "ok",
     "timestamp": 1684693373077,
     "user": {
      "displayName": "Pronay Ghosh",
      "userId": "02166950010115536194"
     },
     "user_tz": -330
    },
    "id": "Z9jbeeEV7a9Y"
   },
   "outputs": [],
   "source": [
    "import numpy as np\n",
    "import pandas as pd\n",
    "import matplotlib.pyplot as plt\n",
    "import seaborn as sns\n",
    "from catboost import CatBoostClassifier\n",
    "from xgboost import XGBClassifier\n",
    "from sklearn.linear_model import LogisticRegression\n",
    "from sklearn.metrics import accuracy_score\n",
    "from sklearn.svm import SVC\n",
    "from sklearn.tree import DecisionTreeClassifier\n",
    "from sklearn.model_selection import RandomizedSearchCV\n",
    "from sklearn.model_selection import GridSearchCV\n",
    "from sklearn.ensemble import RandomForestClassifier\n",
    "%matplotlib inline"
   ]
  },
  {
   "cell_type": "markdown",
   "metadata": {
    "id": "b6heoffw8G-B"
   },
   "source": [
    "# **Data Exploration**"
   ]
  },
  {
   "cell_type": "code",
   "execution_count": 2,
   "metadata": {
    "colab": {
     "base_uri": "https://localhost:8080/"
    },
    "executionInfo": {
     "elapsed": 770,
     "status": "ok",
     "timestamp": 1684692605477,
     "user": {
      "displayName": "Pronay Ghosh",
      "userId": "02166950010115536194"
     },
     "user_tz": -330
    },
    "id": "dY37axW48FCe",
    "outputId": "3a81d433-ccf6-4f83-8b01-01862533387f"
   },
   "outputs": [
    {
     "name": "stdout",
     "output_type": "stream",
     "text": [
      "The shape of the data is : (768, 9)\n",
      "The number of rows in the data is : 768\n",
      "The number of columns in the data is : 9\n"
     ]
    }
   ],
   "source": [
    "data = pd.read_csv(\"/content/diabetes.csv\", encoding_errors = \"ignore\")\n",
    "print(\"The shape of the data is :\", data.shape)\n",
    "print(\"The number of rows in the data is :\", data.shape[0])\n",
    "print(\"The number of columns in the data is :\", data.shape[1])"
   ]
  },
  {
   "cell_type": "code",
   "execution_count": 3,
   "metadata": {
    "colab": {
     "base_uri": "https://localhost:8080/"
    },
    "executionInfo": {
     "elapsed": 132,
     "status": "ok",
     "timestamp": 1684692605478,
     "user": {
      "displayName": "Pronay Ghosh",
      "userId": "02166950010115536194"
     },
     "user_tz": -330
    },
    "id": "4xE5EQznCLv1",
    "outputId": "66df8b09-5224-4dd5-82eb-17af7e5d9611"
   },
   "outputs": [
    {
     "data": {
      "text/plain": [
       "Pregnancies                   int64\n",
       "Glucose                       int64\n",
       "BloodPressure                 int64\n",
       "SkinThickness                 int64\n",
       "Insulin                       int64\n",
       "BMI                         float64\n",
       "DiabetesPedigreeFunction    float64\n",
       "Age                           int64\n",
       "Outcome                       int64\n",
       "dtype: object"
      ]
     },
     "execution_count": 3,
     "metadata": {},
     "output_type": "execute_result"
    }
   ],
   "source": [
    "data.dtypes"
   ]
  },
  {
   "cell_type": "code",
   "execution_count": 4,
   "metadata": {
    "colab": {
     "base_uri": "https://localhost:8080/"
    },
    "executionInfo": {
     "elapsed": 124,
     "status": "ok",
     "timestamp": 1684692605479,
     "user": {
      "displayName": "Pronay Ghosh",
      "userId": "02166950010115536194"
     },
     "user_tz": -330
    },
    "id": "OoRRRNp2Cedd",
    "outputId": "01dbf126-01fa-4cb6-d0bb-d21169ab3743"
   },
   "outputs": [
    {
     "data": {
      "text/plain": [
       "0"
      ]
     },
     "execution_count": 4,
     "metadata": {},
     "output_type": "execute_result"
    }
   ],
   "source": [
    "data['Pregnancies'].min()"
   ]
  },
  {
   "cell_type": "code",
   "execution_count": 5,
   "metadata": {
    "colab": {
     "base_uri": "https://localhost:8080/"
    },
    "executionInfo": {
     "elapsed": 117,
     "status": "ok",
     "timestamp": 1684692605480,
     "user": {
      "displayName": "Pronay Ghosh",
      "userId": "02166950010115536194"
     },
     "user_tz": -330
    },
    "id": "ypuYAfmFCdL2",
    "outputId": "bb48695b-6ef3-4d4b-9585-1f4f8af316f6"
   },
   "outputs": [
    {
     "data": {
      "text/plain": [
       "17"
      ]
     },
     "execution_count": 5,
     "metadata": {},
     "output_type": "execute_result"
    }
   ],
   "source": [
    "data['Pregnancies'].max()"
   ]
  },
  {
   "cell_type": "code",
   "execution_count": 6,
   "metadata": {
    "colab": {
     "base_uri": "https://localhost:8080/"
    },
    "executionInfo": {
     "elapsed": 114,
     "status": "ok",
     "timestamp": 1684692605480,
     "user": {
      "displayName": "Pronay Ghosh",
      "userId": "02166950010115536194"
     },
     "user_tz": -330
    },
    "id": "OBOsLK6rCTsn",
    "outputId": "b97d07cb-3d98-42cf-aa14-9191d64ef7e8"
   },
   "outputs": [
    {
     "data": {
      "text/plain": [
       "array([ 6,  1,  8,  1,  0,  5,  3, 10,  2,  8,  4, 10, 10,  1,  5,  7,  0,\n",
       "        7,  1,  1,  3,  8,  7,  9, 11, 10,  7,  1, 13,  5,  5,  3,  3,  6,\n",
       "       10,  4, 11,  9,  2,  4,  3,  7,  7,  9,  7,  0,  1,  2,  7,  7,  1,\n",
       "        1,  5,  8,  7,  1,  7,  0,  0,  0,  2,  8,  5,  2,  7,  5,  0,  2,\n",
       "        1,  4,  2,  5, 13,  4,  1,  1,  7,  5,  0,  2,  3,  2,  7,  0,  5,\n",
       "        2, 13,  2, 15,  1,  1,  4,  7,  4,  2,  6,  2,  1,  6,  1,  1,  1,\n",
       "        0,  1,  2,  1,  1,  4,  3,  0,  3,  8,  1,  4,  7,  4,  5,  5,  4,\n",
       "        4,  0,  6,  2,  5,  0,  1,  3,  1,  1,  0,  4,  9,  3,  8,  2,  2,\n",
       "        0,  0,  0,  5,  3,  5,  2, 10,  4,  0,  9,  2,  5,  2,  1,  4,  9,\n",
       "        1,  8,  7,  2,  1,  2, 17,  4,  7,  0,  2,  0,  6,  3,  4,  4,  3,\n",
       "        6,  6,  2,  1,  2,  8,  6,  0,  5,  5,  6,  0,  1,  5,  4,  7,  8,\n",
       "        1,  8,  5,  3,  9,  7, 11,  8,  5,  1,  3,  4,  4,  0,  1,  0,  2,\n",
       "        6,  5,  8,  5,  1,  7,  2,  0,  7,  0,  9, 12,  5,  6,  5,  5,  0,\n",
       "        2,  7,  7,  1,  1,  0,  3,  4,  0,  4,  6,  1,  4,  3,  4,  7,  0,\n",
       "        9,  0,  1,  4,  3,  6,  2,  9, 10,  0,  9,  1,  9,  2,  2,  0, 12,\n",
       "        1,  3,  2,  1, 11,  3,  3,  4,  3,  4,  5,  0,  2,  0,  2, 10,  2,\n",
       "        3,  1, 13,  2,  7,  0,  5,  2,  0, 10,  7,  7,  2,  7,  5,  1,  4,\n",
       "        5,  0,  0,  2,  1,  0,  6,  2,  0, 14,  8,  0,  2,  5,  5,  3,  2,\n",
       "       10,  0,  0,  2,  6,  0,  2,  3,  7,  2,  3,  3,  3,  6,  4,  3,  0,\n",
       "       13,  2,  1,  1, 10,  2,  6,  8,  2,  1, 12,  1,  0,  0,  5,  9,  7,\n",
       "        1,  1,  1,  5,  8,  8,  1,  3,  3,  5,  4,  4,  3,  1,  3,  9,  1,\n",
       "       13, 12,  1,  5,  5,  5,  4,  4,  5,  6,  0,  3,  1,  3,  0,  0,  2,\n",
       "        2, 12,  0,  1,  4,  0,  1,  0,  1,  1,  1,  1,  5,  8,  5,  3,  1,\n",
       "        5,  1,  4,  4,  2,  3,  0,  3,  3,  4,  6,  5,  9,  5,  2,  4,  0,\n",
       "        8,  1,  6,  1,  1,  1,  0,  3,  1,  4,  1,  3,  1,  2,  0,  2,  8,\n",
       "        4,  0,  1,  0,  1,  2,  3,  1,  2,  1,  0, 12,  5,  1,  6,  0,  2,\n",
       "        4,  8,  4,  0,  1,  0,  0,  0,  1,  2,  0,  2,  2, 14,  1,  5, 10,\n",
       "        9,  9,  1,  8,  5, 10,  0,  0,  0,  8,  6,  1,  0,  0,  7,  4,  0,\n",
       "        2,  7,  8,  4,  3,  0,  4,  0,  0,  0,  1,  0,  4,  8,  2,  2,  4,\n",
       "        4,  3,  6,  5,  2,  7,  6,  2,  3,  6,  7,  3, 10,  0,  1,  2,  8,\n",
       "       12,  0,  9,  2,  3,  3,  9,  7, 13,  6,  2,  3,  6,  9,  3,  3,  1,\n",
       "        3,  0,  0,  2,  0,  1,  6,  1,  4,  0,  0,  0,  3,  8,  3, 10,  4,\n",
       "        1,  8,  5,  4,  1,  4,  1,  3,  6,  1,  1,  7,  1,  8, 11, 11,  6,\n",
       "        0,  1,  6,  0,  2,  1,  6,  4,  0,  3,  2,  3,  2,  1,  1,  6,  2,\n",
       "       10,  2,  0,  6, 12,  8,  8,  1,  8,  6,  3,  0, 11,  2,  3,  2,  6,\n",
       "        0,  0,  1,  1,  1,  1,  6,  1,  7,  4,  1,  1,  1,  0,  1,  3,  3,\n",
       "        7,  6, 11,  3,  6,  2,  9,  0,  2,  2,  6,  0,  2,  4,  0,  0,  5,\n",
       "        4,  7,  0,  2,  1, 10, 13,  5,  2,  7,  1,  0,  4,  6,  4,  3,  2,\n",
       "        1,  0, 11,  0,  1,  1,  5,  2,  1,  2,  2,  1, 11,  3, 10,  1,  8,\n",
       "        9,  6,  1,  4, 10,  6,  9,  6,  1, 10,  3,  8,  6,  9,  0,  3,  2,\n",
       "        2,  0,  0,  4,  5,  2,  3,  1,  1,  1,  8, 13,  2,  7,  2,  7,  3,\n",
       "        0,  4,  4,  2,  6,  1,  2,  4,  6, 10,  2,  9,  2,  3,  5, 10,  0,\n",
       "        3,  7,  3, 10,  1,  5,  4,  1,  1,  5,  1,  4,  1,  0,  2,  2,  3,\n",
       "        8,  2,  2,  2,  4,  0,  8,  2,  1, 11,  3,  1,  9, 13, 12,  1,  1,\n",
       "        3,  6,  4,  1,  3,  0,  8,  1,  7,  0,  1,  6,  2,  9,  9, 10,  2,\n",
       "        5,  1,  1])"
      ]
     },
     "execution_count": 6,
     "metadata": {},
     "output_type": "execute_result"
    }
   ],
   "source": [
    "data['Pregnancies'].values"
   ]
  },
  {
   "cell_type": "code",
   "execution_count": 7,
   "metadata": {
    "colab": {
     "base_uri": "https://localhost:8080/",
     "height": 270
    },
    "executionInfo": {
     "elapsed": 113,
     "status": "ok",
     "timestamp": 1684692605484,
     "user": {
      "displayName": "Pronay Ghosh",
      "userId": "02166950010115536194"
     },
     "user_tz": -330
    },
    "id": "SL4F5iWv_2UH",
    "outputId": "85b2410e-9866-4268-ef21-c0a1bcce8a28"
   },
   "outputs": [
    {
     "data": {
      "text/html": [
       "\n",
       "  <div id=\"df-5c28fdca-d7ab-462b-af87-7d47fc7d3546\">\n",
       "    <div class=\"colab-df-container\">\n",
       "      <div>\n",
       "<style scoped>\n",
       "    .dataframe tbody tr th:only-of-type {\n",
       "        vertical-align: middle;\n",
       "    }\n",
       "\n",
       "    .dataframe tbody tr th {\n",
       "        vertical-align: top;\n",
       "    }\n",
       "\n",
       "    .dataframe thead th {\n",
       "        text-align: right;\n",
       "    }\n",
       "</style>\n",
       "<table border=\"1\" class=\"dataframe\">\n",
       "  <thead>\n",
       "    <tr style=\"text-align: right;\">\n",
       "      <th></th>\n",
       "      <th>Pregnancies</th>\n",
       "      <th>Glucose</th>\n",
       "      <th>BloodPressure</th>\n",
       "      <th>SkinThickness</th>\n",
       "      <th>Insulin</th>\n",
       "      <th>BMI</th>\n",
       "      <th>DiabetesPedigreeFunction</th>\n",
       "      <th>Age</th>\n",
       "      <th>Outcome</th>\n",
       "    </tr>\n",
       "  </thead>\n",
       "  <tbody>\n",
       "    <tr>\n",
       "      <th>0</th>\n",
       "      <td>6</td>\n",
       "      <td>148</td>\n",
       "      <td>72</td>\n",
       "      <td>35</td>\n",
       "      <td>0</td>\n",
       "      <td>33.6</td>\n",
       "      <td>0.627</td>\n",
       "      <td>50</td>\n",
       "      <td>1</td>\n",
       "    </tr>\n",
       "    <tr>\n",
       "      <th>1</th>\n",
       "      <td>1</td>\n",
       "      <td>85</td>\n",
       "      <td>66</td>\n",
       "      <td>29</td>\n",
       "      <td>0</td>\n",
       "      <td>26.6</td>\n",
       "      <td>0.351</td>\n",
       "      <td>31</td>\n",
       "      <td>0</td>\n",
       "    </tr>\n",
       "    <tr>\n",
       "      <th>2</th>\n",
       "      <td>8</td>\n",
       "      <td>183</td>\n",
       "      <td>64</td>\n",
       "      <td>0</td>\n",
       "      <td>0</td>\n",
       "      <td>23.3</td>\n",
       "      <td>0.672</td>\n",
       "      <td>32</td>\n",
       "      <td>1</td>\n",
       "    </tr>\n",
       "    <tr>\n",
       "      <th>3</th>\n",
       "      <td>1</td>\n",
       "      <td>89</td>\n",
       "      <td>66</td>\n",
       "      <td>23</td>\n",
       "      <td>94</td>\n",
       "      <td>28.1</td>\n",
       "      <td>0.167</td>\n",
       "      <td>21</td>\n",
       "      <td>0</td>\n",
       "    </tr>\n",
       "    <tr>\n",
       "      <th>4</th>\n",
       "      <td>0</td>\n",
       "      <td>137</td>\n",
       "      <td>40</td>\n",
       "      <td>35</td>\n",
       "      <td>168</td>\n",
       "      <td>43.1</td>\n",
       "      <td>2.288</td>\n",
       "      <td>33</td>\n",
       "      <td>1</td>\n",
       "    </tr>\n",
       "  </tbody>\n",
       "</table>\n",
       "</div>\n",
       "      <button class=\"colab-df-convert\" onclick=\"convertToInteractive('df-5c28fdca-d7ab-462b-af87-7d47fc7d3546')\"\n",
       "              title=\"Convert this dataframe to an interactive table.\"\n",
       "              style=\"display:none;\">\n",
       "        \n",
       "  <svg xmlns=\"http://www.w3.org/2000/svg\" height=\"24px\"viewBox=\"0 0 24 24\"\n",
       "       width=\"24px\">\n",
       "    <path d=\"M0 0h24v24H0V0z\" fill=\"none\"/>\n",
       "    <path d=\"M18.56 5.44l.94 2.06.94-2.06 2.06-.94-2.06-.94-.94-2.06-.94 2.06-2.06.94zm-11 1L8.5 8.5l.94-2.06 2.06-.94-2.06-.94L8.5 2.5l-.94 2.06-2.06.94zm10 10l.94 2.06.94-2.06 2.06-.94-2.06-.94-.94-2.06-.94 2.06-2.06.94z\"/><path d=\"M17.41 7.96l-1.37-1.37c-.4-.4-.92-.59-1.43-.59-.52 0-1.04.2-1.43.59L10.3 9.45l-7.72 7.72c-.78.78-.78 2.05 0 2.83L4 21.41c.39.39.9.59 1.41.59.51 0 1.02-.2 1.41-.59l7.78-7.78 2.81-2.81c.8-.78.8-2.07 0-2.86zM5.41 20L4 18.59l7.72-7.72 1.47 1.35L5.41 20z\"/>\n",
       "  </svg>\n",
       "      </button>\n",
       "      \n",
       "  <style>\n",
       "    .colab-df-container {\n",
       "      display:flex;\n",
       "      flex-wrap:wrap;\n",
       "      gap: 12px;\n",
       "    }\n",
       "\n",
       "    .colab-df-convert {\n",
       "      background-color: #E8F0FE;\n",
       "      border: none;\n",
       "      border-radius: 50%;\n",
       "      cursor: pointer;\n",
       "      display: none;\n",
       "      fill: #1967D2;\n",
       "      height: 32px;\n",
       "      padding: 0 0 0 0;\n",
       "      width: 32px;\n",
       "    }\n",
       "\n",
       "    .colab-df-convert:hover {\n",
       "      background-color: #E2EBFA;\n",
       "      box-shadow: 0px 1px 2px rgba(60, 64, 67, 0.3), 0px 1px 3px 1px rgba(60, 64, 67, 0.15);\n",
       "      fill: #174EA6;\n",
       "    }\n",
       "\n",
       "    [theme=dark] .colab-df-convert {\n",
       "      background-color: #3B4455;\n",
       "      fill: #D2E3FC;\n",
       "    }\n",
       "\n",
       "    [theme=dark] .colab-df-convert:hover {\n",
       "      background-color: #434B5C;\n",
       "      box-shadow: 0px 1px 3px 1px rgba(0, 0, 0, 0.15);\n",
       "      filter: drop-shadow(0px 1px 2px rgba(0, 0, 0, 0.3));\n",
       "      fill: #FFFFFF;\n",
       "    }\n",
       "  </style>\n",
       "\n",
       "      <script>\n",
       "        const buttonEl =\n",
       "          document.querySelector('#df-5c28fdca-d7ab-462b-af87-7d47fc7d3546 button.colab-df-convert');\n",
       "        buttonEl.style.display =\n",
       "          google.colab.kernel.accessAllowed ? 'block' : 'none';\n",
       "\n",
       "        async function convertToInteractive(key) {\n",
       "          const element = document.querySelector('#df-5c28fdca-d7ab-462b-af87-7d47fc7d3546');\n",
       "          const dataTable =\n",
       "            await google.colab.kernel.invokeFunction('convertToInteractive',\n",
       "                                                     [key], {});\n",
       "          if (!dataTable) return;\n",
       "\n",
       "          const docLinkHtml = 'Like what you see? Visit the ' +\n",
       "            '<a target=\"_blank\" href=https://colab.research.google.com/notebooks/data_table.ipynb>data table notebook</a>'\n",
       "            + ' to learn more about interactive tables.';\n",
       "          element.innerHTML = '';\n",
       "          dataTable['output_type'] = 'display_data';\n",
       "          await google.colab.output.renderOutput(dataTable, element);\n",
       "          const docLink = document.createElement('div');\n",
       "          docLink.innerHTML = docLinkHtml;\n",
       "          element.appendChild(docLink);\n",
       "        }\n",
       "      </script>\n",
       "    </div>\n",
       "  </div>\n",
       "  "
      ],
      "text/plain": [
       "   Pregnancies  Glucose  BloodPressure  SkinThickness  Insulin   BMI  \\\n",
       "0            6      148             72             35        0  33.6   \n",
       "1            1       85             66             29        0  26.6   \n",
       "2            8      183             64              0        0  23.3   \n",
       "3            1       89             66             23       94  28.1   \n",
       "4            0      137             40             35      168  43.1   \n",
       "\n",
       "   DiabetesPedigreeFunction  Age  Outcome  \n",
       "0                     0.627   50        1  \n",
       "1                     0.351   31        0  \n",
       "2                     0.672   32        1  \n",
       "3                     0.167   21        0  \n",
       "4                     2.288   33        1  "
      ]
     },
     "execution_count": 7,
     "metadata": {},
     "output_type": "execute_result"
    }
   ],
   "source": [
    "data.head()"
   ]
  },
  {
   "cell_type": "code",
   "execution_count": 8,
   "metadata": {
    "colab": {
     "base_uri": "https://localhost:8080/",
     "height": 364
    },
    "executionInfo": {
     "elapsed": 110,
     "status": "ok",
     "timestamp": 1684692605485,
     "user": {
      "displayName": "Pronay Ghosh",
      "userId": "02166950010115536194"
     },
     "user_tz": -330
    },
    "id": "n6KXpQen8pCy",
    "outputId": "bde50bc3-b801-4aca-e7b5-f591b6e31952"
   },
   "outputs": [
    {
     "data": {
      "text/html": [
       "\n",
       "  <div id=\"df-36cf2f36-def7-4538-b2bf-d2cd7d0079f1\">\n",
       "    <div class=\"colab-df-container\">\n",
       "      <div>\n",
       "<style scoped>\n",
       "    .dataframe tbody tr th:only-of-type {\n",
       "        vertical-align: middle;\n",
       "    }\n",
       "\n",
       "    .dataframe tbody tr th {\n",
       "        vertical-align: top;\n",
       "    }\n",
       "\n",
       "    .dataframe thead th {\n",
       "        text-align: right;\n",
       "    }\n",
       "</style>\n",
       "<table border=\"1\" class=\"dataframe\">\n",
       "  <thead>\n",
       "    <tr style=\"text-align: right;\">\n",
       "      <th></th>\n",
       "      <th>Pregnancies</th>\n",
       "      <th>Glucose</th>\n",
       "      <th>BloodPressure</th>\n",
       "      <th>SkinThickness</th>\n",
       "      <th>Insulin</th>\n",
       "      <th>BMI</th>\n",
       "      <th>DiabetesPedigreeFunction</th>\n",
       "      <th>Age</th>\n",
       "      <th>Outcome</th>\n",
       "    </tr>\n",
       "  </thead>\n",
       "  <tbody>\n",
       "    <tr>\n",
       "      <th>count</th>\n",
       "      <td>768.000000</td>\n",
       "      <td>768.000000</td>\n",
       "      <td>768.000000</td>\n",
       "      <td>768.000000</td>\n",
       "      <td>768.000000</td>\n",
       "      <td>768.000000</td>\n",
       "      <td>768.000000</td>\n",
       "      <td>768.000000</td>\n",
       "      <td>768.000000</td>\n",
       "    </tr>\n",
       "    <tr>\n",
       "      <th>mean</th>\n",
       "      <td>3.845052</td>\n",
       "      <td>120.894531</td>\n",
       "      <td>69.105469</td>\n",
       "      <td>20.536458</td>\n",
       "      <td>79.799479</td>\n",
       "      <td>31.992578</td>\n",
       "      <td>0.471876</td>\n",
       "      <td>33.240885</td>\n",
       "      <td>0.348958</td>\n",
       "    </tr>\n",
       "    <tr>\n",
       "      <th>std</th>\n",
       "      <td>3.369578</td>\n",
       "      <td>31.972618</td>\n",
       "      <td>19.355807</td>\n",
       "      <td>15.952218</td>\n",
       "      <td>115.244002</td>\n",
       "      <td>7.884160</td>\n",
       "      <td>0.331329</td>\n",
       "      <td>11.760232</td>\n",
       "      <td>0.476951</td>\n",
       "    </tr>\n",
       "    <tr>\n",
       "      <th>min</th>\n",
       "      <td>0.000000</td>\n",
       "      <td>0.000000</td>\n",
       "      <td>0.000000</td>\n",
       "      <td>0.000000</td>\n",
       "      <td>0.000000</td>\n",
       "      <td>0.000000</td>\n",
       "      <td>0.078000</td>\n",
       "      <td>21.000000</td>\n",
       "      <td>0.000000</td>\n",
       "    </tr>\n",
       "    <tr>\n",
       "      <th>25%</th>\n",
       "      <td>1.000000</td>\n",
       "      <td>99.000000</td>\n",
       "      <td>62.000000</td>\n",
       "      <td>0.000000</td>\n",
       "      <td>0.000000</td>\n",
       "      <td>27.300000</td>\n",
       "      <td>0.243750</td>\n",
       "      <td>24.000000</td>\n",
       "      <td>0.000000</td>\n",
       "    </tr>\n",
       "    <tr>\n",
       "      <th>50%</th>\n",
       "      <td>3.000000</td>\n",
       "      <td>117.000000</td>\n",
       "      <td>72.000000</td>\n",
       "      <td>23.000000</td>\n",
       "      <td>30.500000</td>\n",
       "      <td>32.000000</td>\n",
       "      <td>0.372500</td>\n",
       "      <td>29.000000</td>\n",
       "      <td>0.000000</td>\n",
       "    </tr>\n",
       "    <tr>\n",
       "      <th>75%</th>\n",
       "      <td>6.000000</td>\n",
       "      <td>140.250000</td>\n",
       "      <td>80.000000</td>\n",
       "      <td>32.000000</td>\n",
       "      <td>127.250000</td>\n",
       "      <td>36.600000</td>\n",
       "      <td>0.626250</td>\n",
       "      <td>41.000000</td>\n",
       "      <td>1.000000</td>\n",
       "    </tr>\n",
       "    <tr>\n",
       "      <th>max</th>\n",
       "      <td>17.000000</td>\n",
       "      <td>199.000000</td>\n",
       "      <td>122.000000</td>\n",
       "      <td>99.000000</td>\n",
       "      <td>846.000000</td>\n",
       "      <td>67.100000</td>\n",
       "      <td>2.420000</td>\n",
       "      <td>81.000000</td>\n",
       "      <td>1.000000</td>\n",
       "    </tr>\n",
       "  </tbody>\n",
       "</table>\n",
       "</div>\n",
       "      <button class=\"colab-df-convert\" onclick=\"convertToInteractive('df-36cf2f36-def7-4538-b2bf-d2cd7d0079f1')\"\n",
       "              title=\"Convert this dataframe to an interactive table.\"\n",
       "              style=\"display:none;\">\n",
       "        \n",
       "  <svg xmlns=\"http://www.w3.org/2000/svg\" height=\"24px\"viewBox=\"0 0 24 24\"\n",
       "       width=\"24px\">\n",
       "    <path d=\"M0 0h24v24H0V0z\" fill=\"none\"/>\n",
       "    <path d=\"M18.56 5.44l.94 2.06.94-2.06 2.06-.94-2.06-.94-.94-2.06-.94 2.06-2.06.94zm-11 1L8.5 8.5l.94-2.06 2.06-.94-2.06-.94L8.5 2.5l-.94 2.06-2.06.94zm10 10l.94 2.06.94-2.06 2.06-.94-2.06-.94-.94-2.06-.94 2.06-2.06.94z\"/><path d=\"M17.41 7.96l-1.37-1.37c-.4-.4-.92-.59-1.43-.59-.52 0-1.04.2-1.43.59L10.3 9.45l-7.72 7.72c-.78.78-.78 2.05 0 2.83L4 21.41c.39.39.9.59 1.41.59.51 0 1.02-.2 1.41-.59l7.78-7.78 2.81-2.81c.8-.78.8-2.07 0-2.86zM5.41 20L4 18.59l7.72-7.72 1.47 1.35L5.41 20z\"/>\n",
       "  </svg>\n",
       "      </button>\n",
       "      \n",
       "  <style>\n",
       "    .colab-df-container {\n",
       "      display:flex;\n",
       "      flex-wrap:wrap;\n",
       "      gap: 12px;\n",
       "    }\n",
       "\n",
       "    .colab-df-convert {\n",
       "      background-color: #E8F0FE;\n",
       "      border: none;\n",
       "      border-radius: 50%;\n",
       "      cursor: pointer;\n",
       "      display: none;\n",
       "      fill: #1967D2;\n",
       "      height: 32px;\n",
       "      padding: 0 0 0 0;\n",
       "      width: 32px;\n",
       "    }\n",
       "\n",
       "    .colab-df-convert:hover {\n",
       "      background-color: #E2EBFA;\n",
       "      box-shadow: 0px 1px 2px rgba(60, 64, 67, 0.3), 0px 1px 3px 1px rgba(60, 64, 67, 0.15);\n",
       "      fill: #174EA6;\n",
       "    }\n",
       "\n",
       "    [theme=dark] .colab-df-convert {\n",
       "      background-color: #3B4455;\n",
       "      fill: #D2E3FC;\n",
       "    }\n",
       "\n",
       "    [theme=dark] .colab-df-convert:hover {\n",
       "      background-color: #434B5C;\n",
       "      box-shadow: 0px 1px 3px 1px rgba(0, 0, 0, 0.15);\n",
       "      filter: drop-shadow(0px 1px 2px rgba(0, 0, 0, 0.3));\n",
       "      fill: #FFFFFF;\n",
       "    }\n",
       "  </style>\n",
       "\n",
       "      <script>\n",
       "        const buttonEl =\n",
       "          document.querySelector('#df-36cf2f36-def7-4538-b2bf-d2cd7d0079f1 button.colab-df-convert');\n",
       "        buttonEl.style.display =\n",
       "          google.colab.kernel.accessAllowed ? 'block' : 'none';\n",
       "\n",
       "        async function convertToInteractive(key) {\n",
       "          const element = document.querySelector('#df-36cf2f36-def7-4538-b2bf-d2cd7d0079f1');\n",
       "          const dataTable =\n",
       "            await google.colab.kernel.invokeFunction('convertToInteractive',\n",
       "                                                     [key], {});\n",
       "          if (!dataTable) return;\n",
       "\n",
       "          const docLinkHtml = 'Like what you see? Visit the ' +\n",
       "            '<a target=\"_blank\" href=https://colab.research.google.com/notebooks/data_table.ipynb>data table notebook</a>'\n",
       "            + ' to learn more about interactive tables.';\n",
       "          element.innerHTML = '';\n",
       "          dataTable['output_type'] = 'display_data';\n",
       "          await google.colab.output.renderOutput(dataTable, element);\n",
       "          const docLink = document.createElement('div');\n",
       "          docLink.innerHTML = docLinkHtml;\n",
       "          element.appendChild(docLink);\n",
       "        }\n",
       "      </script>\n",
       "    </div>\n",
       "  </div>\n",
       "  "
      ],
      "text/plain": [
       "       Pregnancies     Glucose  BloodPressure  SkinThickness     Insulin  \\\n",
       "count   768.000000  768.000000     768.000000     768.000000  768.000000   \n",
       "mean      3.845052  120.894531      69.105469      20.536458   79.799479   \n",
       "std       3.369578   31.972618      19.355807      15.952218  115.244002   \n",
       "min       0.000000    0.000000       0.000000       0.000000    0.000000   \n",
       "25%       1.000000   99.000000      62.000000       0.000000    0.000000   \n",
       "50%       3.000000  117.000000      72.000000      23.000000   30.500000   \n",
       "75%       6.000000  140.250000      80.000000      32.000000  127.250000   \n",
       "max      17.000000  199.000000     122.000000      99.000000  846.000000   \n",
       "\n",
       "              BMI  DiabetesPedigreeFunction         Age     Outcome  \n",
       "count  768.000000                768.000000  768.000000  768.000000  \n",
       "mean    31.992578                  0.471876   33.240885    0.348958  \n",
       "std      7.884160                  0.331329   11.760232    0.476951  \n",
       "min      0.000000                  0.078000   21.000000    0.000000  \n",
       "25%     27.300000                  0.243750   24.000000    0.000000  \n",
       "50%     32.000000                  0.372500   29.000000    0.000000  \n",
       "75%     36.600000                  0.626250   41.000000    1.000000  \n",
       "max     67.100000                  2.420000   81.000000    1.000000  "
      ]
     },
     "execution_count": 8,
     "metadata": {},
     "output_type": "execute_result"
    }
   ],
   "source": [
    "# data description\n",
    "data.describe()"
   ]
  },
  {
   "cell_type": "code",
   "execution_count": 9,
   "metadata": {
    "colab": {
     "base_uri": "https://localhost:8080/"
    },
    "executionInfo": {
     "elapsed": 110,
     "status": "ok",
     "timestamp": 1684692605486,
     "user": {
      "displayName": "Pronay Ghosh",
      "userId": "02166950010115536194"
     },
     "user_tz": -330
    },
    "id": "Df6Pah3M_w8I",
    "outputId": "bb0c337b-089a-4879-ce15-8b85b78d6210"
   },
   "outputs": [
    {
     "name": "stdout",
     "output_type": "stream",
     "text": [
      "<class 'pandas.core.frame.DataFrame'>\n",
      "RangeIndex: 768 entries, 0 to 767\n",
      "Data columns (total 9 columns):\n",
      " #   Column                    Non-Null Count  Dtype  \n",
      "---  ------                    --------------  -----  \n",
      " 0   Pregnancies               768 non-null    int64  \n",
      " 1   Glucose                   768 non-null    int64  \n",
      " 2   BloodPressure             768 non-null    int64  \n",
      " 3   SkinThickness             768 non-null    int64  \n",
      " 4   Insulin                   768 non-null    int64  \n",
      " 5   BMI                       768 non-null    float64\n",
      " 6   DiabetesPedigreeFunction  768 non-null    float64\n",
      " 7   Age                       768 non-null    int64  \n",
      " 8   Outcome                   768 non-null    int64  \n",
      "dtypes: float64(2), int64(7)\n",
      "memory usage: 54.1 KB\n"
     ]
    }
   ],
   "source": [
    "# data info\n",
    "data.info()"
   ]
  },
  {
   "cell_type": "code",
   "execution_count": 10,
   "metadata": {
    "colab": {
     "base_uri": "https://localhost:8080/"
    },
    "executionInfo": {
     "elapsed": 112,
     "status": "ok",
     "timestamp": 1684692605495,
     "user": {
      "displayName": "Pronay Ghosh",
      "userId": "02166950010115536194"
     },
     "user_tz": -330
    },
    "id": "PNM5d1woBzbt",
    "outputId": "1099c8aa-3578-4427-e6a7-52335aa67933"
   },
   "outputs": [
    {
     "data": {
      "text/plain": [
       "Pregnancies                 0\n",
       "Glucose                     0\n",
       "BloodPressure               0\n",
       "SkinThickness               0\n",
       "Insulin                     0\n",
       "BMI                         0\n",
       "DiabetesPedigreeFunction    0\n",
       "Age                         0\n",
       "Outcome                     0\n",
       "dtype: int64"
      ]
     },
     "execution_count": 10,
     "metadata": {},
     "output_type": "execute_result"
    }
   ],
   "source": [
    "# data null counts\n",
    "data.isnull().sum()"
   ]
  },
  {
   "cell_type": "code",
   "execution_count": 11,
   "metadata": {
    "executionInfo": {
     "elapsed": 113,
     "status": "ok",
     "timestamp": 1684692605500,
     "user": {
      "displayName": "Pronay Ghosh",
      "userId": "02166950010115536194"
     },
     "user_tz": -330
    },
    "id": "a3ZDRhSCEIs3"
   },
   "outputs": [],
   "source": [
    "# Dealing with data inconsistancy\n",
    "data[\"Pregnancies\"] = data[\"Pregnancies\"].astype(\"object\")"
   ]
  },
  {
   "cell_type": "code",
   "execution_count": 12,
   "metadata": {
    "colab": {
     "base_uri": "https://localhost:8080/"
    },
    "executionInfo": {
     "elapsed": 113,
     "status": "ok",
     "timestamp": 1684692605501,
     "user": {
      "displayName": "Pronay Ghosh",
      "userId": "02166950010115536194"
     },
     "user_tz": -330
    },
    "id": "qQE0YbuREmVv",
    "outputId": "22404c6e-a575-4ddb-805e-228e1a9f83ce"
   },
   "outputs": [
    {
     "name": "stdout",
     "output_type": "stream",
     "text": [
      "<class 'pandas.core.frame.DataFrame'>\n",
      "RangeIndex: 768 entries, 0 to 767\n",
      "Data columns (total 9 columns):\n",
      " #   Column                    Non-Null Count  Dtype  \n",
      "---  ------                    --------------  -----  \n",
      " 0   Pregnancies               768 non-null    object \n",
      " 1   Glucose                   768 non-null    int64  \n",
      " 2   BloodPressure             768 non-null    int64  \n",
      " 3   SkinThickness             768 non-null    int64  \n",
      " 4   Insulin                   768 non-null    int64  \n",
      " 5   BMI                       768 non-null    float64\n",
      " 6   DiabetesPedigreeFunction  768 non-null    float64\n",
      " 7   Age                       768 non-null    int64  \n",
      " 8   Outcome                   768 non-null    int64  \n",
      "dtypes: float64(2), int64(6), object(1)\n",
      "memory usage: 54.1+ KB\n"
     ]
    }
   ],
   "source": [
    "# data info\n",
    "data.info()"
   ]
  },
  {
   "cell_type": "code",
   "execution_count": 13,
   "metadata": {
    "executionInfo": {
     "elapsed": 110,
     "status": "ok",
     "timestamp": 1684692605502,
     "user": {
      "displayName": "Pronay Ghosh",
      "userId": "02166950010115536194"
     },
     "user_tz": -330
    },
    "id": "qpKnYY2DHIcg"
   },
   "outputs": [],
   "source": [
    "# separate_categorical_and_continious()"
   ]
  },
  {
   "cell_type": "code",
   "execution_count": 14,
   "metadata": {
    "executionInfo": {
     "elapsed": 112,
     "status": "ok",
     "timestamp": 1684692605504,
     "user": {
      "displayName": "Pronay Ghosh",
      "userId": "02166950010115536194"
     },
     "user_tz": -330
    },
    "id": "uXI_Lb5cHXrp"
   },
   "outputs": [],
   "source": [
    "categorical = [var for var in data.columns if data[var].dtypes=='O']\n",
    "numerical = [var for var in data.columns if data[var].dtypes!='O']"
   ]
  },
  {
   "cell_type": "code",
   "execution_count": 15,
   "metadata": {
    "colab": {
     "base_uri": "https://localhost:8080/"
    },
    "executionInfo": {
     "elapsed": 111,
     "status": "ok",
     "timestamp": 1684692605504,
     "user": {
      "displayName": "Pronay Ghosh",
      "userId": "02166950010115536194"
     },
     "user_tz": -330
    },
    "id": "WpiEiKBDHi6w",
    "outputId": "e08a57e3-ef59-412a-de3e-b713a1430134"
   },
   "outputs": [
    {
     "data": {
      "text/plain": [
       "['Pregnancies']"
      ]
     },
     "execution_count": 15,
     "metadata": {},
     "output_type": "execute_result"
    }
   ],
   "source": [
    "categorical"
   ]
  },
  {
   "cell_type": "code",
   "execution_count": 16,
   "metadata": {
    "colab": {
     "base_uri": "https://localhost:8080/"
    },
    "executionInfo": {
     "elapsed": 108,
     "status": "ok",
     "timestamp": 1684692605506,
     "user": {
      "displayName": "Pronay Ghosh",
      "userId": "02166950010115536194"
     },
     "user_tz": -330
    },
    "id": "5B73iGhTHkRf",
    "outputId": "4434f2e1-1b62-4267-8031-d2b746f77be3"
   },
   "outputs": [
    {
     "data": {
      "text/plain": [
       "['Glucose',\n",
       " 'BloodPressure',\n",
       " 'SkinThickness',\n",
       " 'Insulin',\n",
       " 'BMI',\n",
       " 'DiabetesPedigreeFunction',\n",
       " 'Age',\n",
       " 'Outcome']"
      ]
     },
     "execution_count": 16,
     "metadata": {},
     "output_type": "execute_result"
    }
   ],
   "source": [
    "numerical"
   ]
  },
  {
   "cell_type": "code",
   "execution_count": 17,
   "metadata": {
    "colab": {
     "base_uri": "https://localhost:8080/"
    },
    "executionInfo": {
     "elapsed": 107,
     "status": "ok",
     "timestamp": 1684692605509,
     "user": {
      "displayName": "Pronay Ghosh",
      "userId": "02166950010115536194"
     },
     "user_tz": -330
    },
    "id": "9qQ_inBHHpxM",
    "outputId": "9f5b0ff8-919d-4058-fff5-b3ffa54d3160"
   },
   "outputs": [
    {
     "data": {
      "text/plain": [
       "Index(['Pregnancies', 'Glucose', 'BloodPressure', 'SkinThickness', 'Insulin',\n",
       "       'BMI', 'DiabetesPedigreeFunction', 'Age', 'Outcome'],\n",
       "      dtype='object')"
      ]
     },
     "execution_count": 17,
     "metadata": {},
     "output_type": "execute_result"
    }
   ],
   "source": [
    "data.columns"
   ]
  },
  {
   "cell_type": "code",
   "execution_count": 18,
   "metadata": {
    "colab": {
     "base_uri": "https://localhost:8080/"
    },
    "executionInfo": {
     "elapsed": 102,
     "status": "ok",
     "timestamp": 1684692605510,
     "user": {
      "displayName": "Pronay Ghosh",
      "userId": "02166950010115536194"
     },
     "user_tz": -330
    },
    "id": "No9xQv3ZJJQi",
    "outputId": "6d203263-8af8-4d6e-c2d9-e9bb6552da7c"
   },
   "outputs": [
    {
     "name": "stdout",
     "output_type": "stream",
     "text": [
      "Pregnancies\n",
      "Glucose\n",
      "BloodPressure\n",
      "SkinThickness\n",
      "Insulin\n",
      "BMI\n",
      "DiabetesPedigreeFunction\n",
      "Age\n",
      "Outcome\n"
     ]
    }
   ],
   "source": [
    "for i in data.columns:\n",
    "    print(i)"
   ]
  },
  {
   "cell_type": "code",
   "execution_count": 19,
   "metadata": {
    "colab": {
     "base_uri": "https://localhost:8080/"
    },
    "executionInfo": {
     "elapsed": 98,
     "status": "ok",
     "timestamp": 1684692605511,
     "user": {
      "displayName": "Pronay Ghosh",
      "userId": "02166950010115536194"
     },
     "user_tz": -330
    },
    "id": "WsJ62kksJ8s7",
    "outputId": "0dca6550-12d5-455a-eb72-9ea91861697e"
   },
   "outputs": [
    {
     "name": "stdout",
     "output_type": "stream",
     "text": [
      "object\n",
      "int64\n",
      "int64\n",
      "int64\n",
      "int64\n",
      "float64\n",
      "float64\n",
      "int64\n",
      "int64\n"
     ]
    }
   ],
   "source": [
    "for i in data.columns:\n",
    "    print(data[i].dtypes)"
   ]
  },
  {
   "cell_type": "code",
   "execution_count": 20,
   "metadata": {
    "colab": {
     "base_uri": "https://localhost:8080/"
    },
    "executionInfo": {
     "elapsed": 95,
     "status": "ok",
     "timestamp": 1684692605512,
     "user": {
      "displayName": "Pronay Ghosh",
      "userId": "02166950010115536194"
     },
     "user_tz": -330
    },
    "id": "1cpewoWoJQtI",
    "outputId": "e684c28d-9b5f-4685-cf8e-dc7960da843b"
   },
   "outputs": [
    {
     "data": {
      "text/plain": [
       "dtype('O')"
      ]
     },
     "execution_count": 20,
     "metadata": {},
     "output_type": "execute_result"
    }
   ],
   "source": [
    "data['Pregnancies'].dtypes"
   ]
  },
  {
   "cell_type": "code",
   "execution_count": 21,
   "metadata": {
    "colab": {
     "base_uri": "https://localhost:8080/"
    },
    "executionInfo": {
     "elapsed": 92,
     "status": "ok",
     "timestamp": 1684692605514,
     "user": {
      "displayName": "Pronay Ghosh",
      "userId": "02166950010115536194"
     },
     "user_tz": -330
    },
    "id": "xQLYq29PHsS0",
    "outputId": "ae628cad-6345-4c37-bd05-ba23a405188c"
   },
   "outputs": [
    {
     "data": {
      "text/plain": [
       "dtype('int64')"
      ]
     },
     "execution_count": 21,
     "metadata": {},
     "output_type": "execute_result"
    }
   ],
   "source": [
    "data['Glucose'].dtypes"
   ]
  },
  {
   "cell_type": "code",
   "execution_count": 22,
   "metadata": {
    "executionInfo": {
     "elapsed": 89,
     "status": "ok",
     "timestamp": 1684692605515,
     "user": {
      "displayName": "Pronay Ghosh",
      "userId": "02166950010115536194"
     },
     "user_tz": -330
    },
    "id": "ExJWKY03Eopq"
   },
   "outputs": [],
   "source": [
    "def separate_categorical_and_continious(data):\n",
    "    categorical_cols, numerical_cols = [] , []\n",
    "    for cols in data.columns:\n",
    "        if data[cols].dtypes == \"object\":\n",
    "            categorical_cols.append(cols)\n",
    "        else:\n",
    "            numerical_cols.append(cols)\n",
    "    return categorical_cols, numerical_cols"
   ]
  },
  {
   "cell_type": "code",
   "execution_count": 23,
   "metadata": {
    "executionInfo": {
     "elapsed": 104,
     "status": "ok",
     "timestamp": 1684692605531,
     "user": {
      "displayName": "Pronay Ghosh",
      "userId": "02166950010115536194"
     },
     "user_tz": -330
    },
    "id": "xWT9UP7rH_h7"
   },
   "outputs": [],
   "source": [
    "# df = pd.read_csv(df_path)\n",
    "categorical_cols, numerical_cols = separate_categorical_and_continious(data)"
   ]
  },
  {
   "cell_type": "code",
   "execution_count": 24,
   "metadata": {
    "colab": {
     "base_uri": "https://localhost:8080/"
    },
    "executionInfo": {
     "elapsed": 105,
     "status": "ok",
     "timestamp": 1684692605533,
     "user": {
      "displayName": "Pronay Ghosh",
      "userId": "02166950010115536194"
     },
     "user_tz": -330
    },
    "id": "nTx9dyt_IP3w",
    "outputId": "b944a9ca-764a-4c07-f427-88b303e3cb1b"
   },
   "outputs": [
    {
     "data": {
      "text/plain": [
       "(['Pregnancies'],\n",
       " ['Glucose',\n",
       "  'BloodPressure',\n",
       "  'SkinThickness',\n",
       "  'Insulin',\n",
       "  'BMI',\n",
       "  'DiabetesPedigreeFunction',\n",
       "  'Age',\n",
       "  'Outcome'])"
      ]
     },
     "execution_count": 24,
     "metadata": {},
     "output_type": "execute_result"
    }
   ],
   "source": [
    "categorical_cols, numerical_cols"
   ]
  },
  {
   "cell_type": "markdown",
   "metadata": {
    "id": "6SMdeLgzIWH6"
   },
   "source": [
    "# **Uni-Variate Analysis**"
   ]
  },
  {
   "cell_type": "code",
   "execution_count": 25,
   "metadata": {
    "colab": {
     "base_uri": "https://localhost:8080/"
    },
    "executionInfo": {
     "elapsed": 103,
     "status": "ok",
     "timestamp": 1684692605534,
     "user": {
      "displayName": "Pronay Ghosh",
      "userId": "02166950010115536194"
     },
     "user_tz": -330
    },
    "id": "VLfSN_iqPBnH",
    "outputId": "6c7d59b5-3036-474f-a7db-80c970655ca3"
   },
   "outputs": [
    {
     "data": {
      "text/plain": [
       "1     135\n",
       "0     111\n",
       "2     103\n",
       "3      75\n",
       "4      68\n",
       "5      57\n",
       "6      50\n",
       "7      45\n",
       "8      38\n",
       "9      28\n",
       "10     24\n",
       "11     11\n",
       "13     10\n",
       "12      9\n",
       "14      2\n",
       "15      1\n",
       "17      1\n",
       "Name: Pregnancies, dtype: int64"
      ]
     },
     "execution_count": 25,
     "metadata": {},
     "output_type": "execute_result"
    }
   ],
   "source": [
    "data[\"Pregnancies\"].value_counts()"
   ]
  },
  {
   "cell_type": "code",
   "execution_count": 26,
   "metadata": {
    "colab": {
     "base_uri": "https://localhost:8080/"
    },
    "executionInfo": {
     "elapsed": 99,
     "status": "ok",
     "timestamp": 1684692605535,
     "user": {
      "displayName": "Pronay Ghosh",
      "userId": "02166950010115536194"
     },
     "user_tz": -330
    },
    "id": "5W_L0KuOOw1k",
    "outputId": "77009fa2-892b-4294-e8eb-37888a52733a"
   },
   "outputs": [
    {
     "data": {
      "text/plain": [
       "array([135, 111, 103,  75,  68,  57,  50,  45,  38,  28,  24,  11,  10,\n",
       "         9,   2,   1,   1])"
      ]
     },
     "execution_count": 26,
     "metadata": {},
     "output_type": "execute_result"
    }
   ],
   "source": [
    "data[\"Pregnancies\"].value_counts().values"
   ]
  },
  {
   "cell_type": "code",
   "execution_count": 27,
   "metadata": {
    "colab": {
     "base_uri": "https://localhost:8080/"
    },
    "executionInfo": {
     "elapsed": 97,
     "status": "ok",
     "timestamp": 1684692605537,
     "user": {
      "displayName": "Pronay Ghosh",
      "userId": "02166950010115536194"
     },
     "user_tz": -330
    },
    "id": "-JxMt-5vO9Hv",
    "outputId": "5d0c9388-230d-4ccd-ad1f-3470a21b47a1"
   },
   "outputs": [
    {
     "data": {
      "text/plain": [
       "Int64Index([1, 0, 2, 3, 4, 5, 6, 7, 8, 9, 10, 11, 13, 12, 14, 15, 17], dtype='int64')"
      ]
     },
     "execution_count": 27,
     "metadata": {},
     "output_type": "execute_result"
    }
   ],
   "source": [
    "data[\"Pregnancies\"].value_counts().index"
   ]
  },
  {
   "cell_type": "code",
   "execution_count": 28,
   "metadata": {
    "colab": {
     "base_uri": "https://localhost:8080/",
     "height": 448
    },
    "executionInfo": {
     "elapsed": 1789,
     "status": "ok",
     "timestamp": 1684692607234,
     "user": {
      "displayName": "Pronay Ghosh",
      "userId": "02166950010115536194"
     },
     "user_tz": -330
    },
    "id": "XUOOY10hPFQT",
    "outputId": "9693c1db-db83-4bdd-fd43-5cea89370312"
   },
   "outputs": [
    {
     "data": {
      "text/plain": [
       "<Axes: >"
      ]
     },
     "execution_count": 28,
     "metadata": {},
     "output_type": "execute_result"
    },
    {
     "data": {
      "image/png": "[encoded data removed]",
      "text/plain": [
       "<Figure size 640x480 with 1 Axes>"
      ]
     },
     "metadata": {},
     "output_type": "display_data"
    }
   ],
   "source": [
    "sns.barplot(x=data[\"Pregnancies\"].value_counts().index,\n",
    "            y=data[\"Pregnancies\"].value_counts().values, color = \"darkblue\", orient = \"h\")"
   ]
  },
  {
   "cell_type": "code",
   "execution_count": 29,
   "metadata": {
    "colab": {
     "base_uri": "https://localhost:8080/",
     "height": 406
    },
    "executionInfo": {
     "elapsed": 57,
     "status": "ok",
     "timestamp": 1684692607235,
     "user": {
      "displayName": "Pronay Ghosh",
      "userId": "02166950010115536194"
     },
     "user_tz": -330
    },
    "id": "KcLpvw7IPcx4",
    "outputId": "365e27e4-ee55-422f-8b3d-f8201bd2d566"
   },
   "outputs": [
    {
     "data": {
      "image/png": "[encoded data removed]",
      "text/plain": [
       "<Figure size 640x480 with 1 Axes>"
      ]
     },
     "metadata": {},
     "output_type": "display_data"
    }
   ],
   "source": [
    "plt.pie(labels=data[\"Pregnancies\"].value_counts().index,\n",
    "        x=data[\"Pregnancies\"].value_counts().values, autopct = '%1.2f%%')\n",
    "plt.show();"
   ]
  },
  {
   "cell_type": "code",
   "execution_count": 30,
   "metadata": {
    "executionInfo": {
     "elapsed": 52,
     "status": "ok",
     "timestamp": 1684692607238,
     "user": {
      "displayName": "Pronay Ghosh",
      "userId": "02166950010115536194"
     },
     "user_tz": -330
    },
    "id": "u3OzEjyEOnx3"
   },
   "outputs": [],
   "source": [
    "# for col in data.columns:\n",
    "#     plt.subplot(1,2,1)\n",
    "#     plt.bar(data=data, x=\"Pregnancies\", y=\"DiabetesPedigreeFunction\")\n",
    "#     plt.subplot(1,2,2)\n",
    "#     plt.pie(data=data, x=\"Pregnancies\", y=\"DiabetesPedigreeFunction\",autopct = '%.1f%%')\n",
    "#     plt.grid()\n",
    "#     plt.show()"
   ]
  },
  {
   "cell_type": "code",
   "execution_count": 31,
   "metadata": {
    "executionInfo": {
     "elapsed": 40,
     "status": "ok",
     "timestamp": 1684692607242,
     "user": {
      "displayName": "Pronay Ghosh",
      "userId": "02166950010115536194"
     },
     "user_tz": -330
    },
    "id": "ZhiYoVpFIRL2"
   },
   "outputs": [],
   "source": [
    "def univariate_analysis(data):\n",
    "    # Plot cat charts --> bar and pie\n",
    "    # Plot contnious charts --> historam and boxplot\n",
    "    for cols in data.columns:\n",
    "        # If the col is representing a category\n",
    "        if data[cols].dtypes == \"object\":\n",
    "            plt.figure(figsize = [10,8])\n",
    "            # This is for the first subplot\n",
    "            plt.subplot(1,2,1)\n",
    "            sns.barplot(x=data[cols].value_counts().index,\n",
    "                        y=data[cols].value_counts().values,\n",
    "                        color = \"darkblue\",\n",
    "                        orient = \"h\")\n",
    "            # This is for the second subplot\n",
    "            plt.subplot(1,2,2)\n",
    "            plt.pie(labels=data[cols].value_counts().index,\n",
    "                    x=data[cols].value_counts().values,\n",
    "                    autopct = '%1.2f%%')\n",
    "            plt.title(\"Categorical Distribution of the {}\".format(cols))\n",
    "            plt.show();\n",
    "            \n",
    "        # If the col is representing a numerical field\n",
    "        else:\n",
    "            plt.figure(figsize = [10,8])\n",
    "            # This is for the first subplot\n",
    "            plt.subplot(1,2,1)\n",
    "            sns.histplot(x = cols, data = data, color = \"darkblue\")\n",
    "            # This is for the second subplot\n",
    "            plt.subplot(1,2,2)\n",
    "            sns.boxplot(x = cols, data = data, color = \"darkblue\")\n",
    "            plt.title(\"Continious Distribution of the {}\".format(cols))\n",
    "            plt.show();"
   ]
  },
  {
   "cell_type": "code",
   "execution_count": 32,
   "metadata": {
    "colab": {
     "base_uri": "https://localhost:8080/",
     "height": 1000
    },
    "executionInfo": {
     "elapsed": 3229,
     "status": "ok",
     "timestamp": 1684692610432,
     "user": {
      "displayName": "Pronay Ghosh",
      "userId": "02166950010115536194"
     },
     "user_tz": -330
    },
    "id": "_VNNAEU7RnAH",
    "outputId": "a1d9d209-98b2-4ee7-dfe2-3ecbd907e761"
   },
   "outputs": [
    {
     "data": {
      "image/png": "[encoded data removed]",
      "text/plain": [
       "<Figure size 1000x800 with 2 Axes>"
      ]
     },
     "metadata": {},
     "output_type": "display_data"
    },
    {
     "data": {
      "image/png": "[encoded data removed]",
      "text/plain": [
       "<Figure size 1000x800 with 2 Axes>"
      ]
     },
     "metadata": {},
     "output_type": "display_data"
    },
    {
     "data": {
      "image/png": "[encoded data removed]",
      "text/plain": [
       "<Figure size 1000x800 with 2 Axes>"
      ]
     },
     "metadata": {},
     "output_type": "display_data"
    },
    {
     "data": {
      "image/png": "[encoded data removed]",
      "text/plain": [
       "<Figure size 1000x800 with 2 Axes>"
      ]
     },
     "metadata": {},
     "output_type": "display_data"
    },
    {
     "data": {
      "image/png": "[encoded data removed]",
      "text/plain": [
       "<Figure size 1000x800 with 2 Axes>"
      ]
     },
     "metadata": {},
     "output_type": "display_data"
    },
    {
     "data": {
      "image/png": "[encoded data removed]",
      "text/plain": [
       "<Figure size 1000x800 with 2 Axes>"
      ]
     },
     "metadata": {},
     "output_type": "display_data"
    },
    {
     "data": {
      "image/png": "[encoded data removed]",
      "text/plain": [
       "<Figure size 1000x800 with 2 Axes>"
      ]
     },
     "metadata": {},
     "output_type": "display_data"
    },
    {
     "data": {
      "image/png": "[encoded data removed]",
      "text/plain": [
       "<Figure size 1000x800 with 2 Axes>"
      ]
     },
     "metadata": {},
     "output_type": "display_data"
    },
    {
     "data": {
      "image/png": "[encoded data removed]",
      "text/plain": [
       "<Figure size 1000x800 with 2 Axes>"
      ]
     },
     "metadata": {},
     "output_type": "display_data"
    }
   ],
   "source": [
    "univariate_analysis(data)"
   ]
  },
  {
   "cell_type": "markdown",
   "metadata": {
    "id": "7vQY-l1iUF09"
   },
   "source": [
    "# **Modelling**"
   ]
  },
  {
   "cell_type": "code",
   "execution_count": 33,
   "metadata": {
    "colab": {
     "base_uri": "https://localhost:8080/",
     "height": 270
    },
    "executionInfo": {
     "elapsed": 200,
     "status": "ok",
     "timestamp": 1684692610433,
     "user": {
      "displayName": "Pronay Ghosh",
      "userId": "02166950010115536194"
     },
     "user_tz": -330
    },
    "id": "CzlvJzd2Uial",
    "outputId": "5b69646b-a1e6-4553-84d1-4f0084416763"
   },
   "outputs": [
    {
     "data": {
      "text/html": [
       "\n",
       "  <div id=\"df-aebf3674-9636-4ffc-bc51-e6ad0c5fd6bb\">\n",
       "    <div class=\"colab-df-container\">\n",
       "      <div>\n",
       "<style scoped>\n",
       "    .dataframe tbody tr th:only-of-type {\n",
       "        vertical-align: middle;\n",
       "    }\n",
       "\n",
       "    .dataframe tbody tr th {\n",
       "        vertical-align: top;\n",
       "    }\n",
       "\n",
       "    .dataframe thead th {\n",
       "        text-align: right;\n",
       "    }\n",
       "</style>\n",
       "<table border=\"1\" class=\"dataframe\">\n",
       "  <thead>\n",
       "    <tr style=\"text-align: right;\">\n",
       "      <th></th>\n",
       "      <th>Pregnancies</th>\n",
       "      <th>Glucose</th>\n",
       "      <th>BloodPressure</th>\n",
       "      <th>SkinThickness</th>\n",
       "      <th>Insulin</th>\n",
       "      <th>BMI</th>\n",
       "      <th>DiabetesPedigreeFunction</th>\n",
       "      <th>Age</th>\n",
       "      <th>Outcome</th>\n",
       "    </tr>\n",
       "  </thead>\n",
       "  <tbody>\n",
       "    <tr>\n",
       "      <th>0</th>\n",
       "      <td>6</td>\n",
       "      <td>148</td>\n",
       "      <td>72</td>\n",
       "      <td>35</td>\n",
       "      <td>0</td>\n",
       "      <td>33.6</td>\n",
       "      <td>0.627</td>\n",
       "      <td>50</td>\n",
       "      <td>1</td>\n",
       "    </tr>\n",
       "    <tr>\n",
       "      <th>1</th>\n",
       "      <td>1</td>\n",
       "      <td>85</td>\n",
       "      <td>66</td>\n",
       "      <td>29</td>\n",
       "      <td>0</td>\n",
       "      <td>26.6</td>\n",
       "      <td>0.351</td>\n",
       "      <td>31</td>\n",
       "      <td>0</td>\n",
       "    </tr>\n",
       "    <tr>\n",
       "      <th>2</th>\n",
       "      <td>8</td>\n",
       "      <td>183</td>\n",
       "      <td>64</td>\n",
       "      <td>0</td>\n",
       "      <td>0</td>\n",
       "      <td>23.3</td>\n",
       "      <td>0.672</td>\n",
       "      <td>32</td>\n",
       "      <td>1</td>\n",
       "    </tr>\n",
       "    <tr>\n",
       "      <th>3</th>\n",
       "      <td>1</td>\n",
       "      <td>89</td>\n",
       "      <td>66</td>\n",
       "      <td>23</td>\n",
       "      <td>94</td>\n",
       "      <td>28.1</td>\n",
       "      <td>0.167</td>\n",
       "      <td>21</td>\n",
       "      <td>0</td>\n",
       "    </tr>\n",
       "    <tr>\n",
       "      <th>4</th>\n",
       "      <td>0</td>\n",
       "      <td>137</td>\n",
       "      <td>40</td>\n",
       "      <td>35</td>\n",
       "      <td>168</td>\n",
       "      <td>43.1</td>\n",
       "      <td>2.288</td>\n",
       "      <td>33</td>\n",
       "      <td>1</td>\n",
       "    </tr>\n",
       "  </tbody>\n",
       "</table>\n",
       "</div>\n",
       "      <button class=\"colab-df-convert\" onclick=\"convertToInteractive('df-aebf3674-9636-4ffc-bc51-e6ad0c5fd6bb')\"\n",
       "              title=\"Convert this dataframe to an interactive table.\"\n",
       "              style=\"display:none;\">\n",
       "        \n",
       "  <svg xmlns=\"http://www.w3.org/2000/svg\" height=\"24px\"viewBox=\"0 0 24 24\"\n",
       "       width=\"24px\">\n",
       "    <path d=\"M0 0h24v24H0V0z\" fill=\"none\"/>\n",
       "    <path d=\"M18.56 5.44l.94 2.06.94-2.06 2.06-.94-2.06-.94-.94-2.06-.94 2.06-2.06.94zm-11 1L8.5 8.5l.94-2.06 2.06-.94-2.06-.94L8.5 2.5l-.94 2.06-2.06.94zm10 10l.94 2.06.94-2.06 2.06-.94-2.06-.94-.94-2.06-.94 2.06-2.06.94z\"/><path d=\"M17.41 7.96l-1.37-1.37c-.4-.4-.92-.59-1.43-.59-.52 0-1.04.2-1.43.59L10.3 9.45l-7.72 7.72c-.78.78-.78 2.05 0 2.83L4 21.41c.39.39.9.59 1.41.59.51 0 1.02-.2 1.41-.59l7.78-7.78 2.81-2.81c.8-.78.8-2.07 0-2.86zM5.41 20L4 18.59l7.72-7.72 1.47 1.35L5.41 20z\"/>\n",
       "  </svg>\n",
       "      </button>\n",
       "      \n",
       "  <style>\n",
       "    .colab-df-container {\n",
       "      display:flex;\n",
       "      flex-wrap:wrap;\n",
       "      gap: 12px;\n",
       "    }\n",
       "\n",
       "    .colab-df-convert {\n",
       "      background-color: #E8F0FE;\n",
       "      border: none;\n",
       "      border-radius: 50%;\n",
       "      cursor: pointer;\n",
       "      display: none;\n",
       "      fill: #1967D2;\n",
       "      height: 32px;\n",
       "      padding: 0 0 0 0;\n",
       "      width: 32px;\n",
       "    }\n",
       "\n",
       "    .colab-df-convert:hover {\n",
       "      background-color: #E2EBFA;\n",
       "      box-shadow: 0px 1px 2px rgba(60, 64, 67, 0.3), 0px 1px 3px 1px rgba(60, 64, 67, 0.15);\n",
       "      fill: #174EA6;\n",
       "    }\n",
       "\n",
       "    [theme=dark] .colab-df-convert {\n",
       "      background-color: #3B4455;\n",
       "      fill: #D2E3FC;\n",
       "    }\n",
       "\n",
       "    [theme=dark] .colab-df-convert:hover {\n",
       "      background-color: #434B5C;\n",
       "      box-shadow: 0px 1px 3px 1px rgba(0, 0, 0, 0.15);\n",
       "      filter: drop-shadow(0px 1px 2px rgba(0, 0, 0, 0.3));\n",
       "      fill: #FFFFFF;\n",
       "    }\n",
       "  </style>\n",
       "\n",
       "      <script>\n",
       "        const buttonEl =\n",
       "          document.querySelector('#df-aebf3674-9636-4ffc-bc51-e6ad0c5fd6bb button.colab-df-convert');\n",
       "        buttonEl.style.display =\n",
       "          google.colab.kernel.accessAllowed ? 'block' : 'none';\n",
       "\n",
       "        async function convertToInteractive(key) {\n",
       "          const element = document.querySelector('#df-aebf3674-9636-4ffc-bc51-e6ad0c5fd6bb');\n",
       "          const dataTable =\n",
       "            await google.colab.kernel.invokeFunction('convertToInteractive',\n",
       "                                                     [key], {});\n",
       "          if (!dataTable) return;\n",
       "\n",
       "          const docLinkHtml = 'Like what you see? Visit the ' +\n",
       "            '<a target=\"_blank\" href=https://colab.research.google.com/notebooks/data_table.ipynb>data table notebook</a>'\n",
       "            + ' to learn more about interactive tables.';\n",
       "          element.innerHTML = '';\n",
       "          dataTable['output_type'] = 'display_data';\n",
       "          await google.colab.output.renderOutput(dataTable, element);\n",
       "          const docLink = document.createElement('div');\n",
       "          docLink.innerHTML = docLinkHtml;\n",
       "          element.appendChild(docLink);\n",
       "        }\n",
       "      </script>\n",
       "    </div>\n",
       "  </div>\n",
       "  "
      ],
      "text/plain": [
       "  Pregnancies  Glucose  BloodPressure  SkinThickness  Insulin   BMI  \\\n",
       "0           6      148             72             35        0  33.6   \n",
       "1           1       85             66             29        0  26.6   \n",
       "2           8      183             64              0        0  23.3   \n",
       "3           1       89             66             23       94  28.1   \n",
       "4           0      137             40             35      168  43.1   \n",
       "\n",
       "   DiabetesPedigreeFunction  Age  Outcome  \n",
       "0                     0.627   50        1  \n",
       "1                     0.351   31        0  \n",
       "2                     0.672   32        1  \n",
       "3                     0.167   21        0  \n",
       "4                     2.288   33        1  "
      ]
     },
     "execution_count": 33,
     "metadata": {},
     "output_type": "execute_result"
    }
   ],
   "source": [
    "data.head()"
   ]
  },
  {
   "cell_type": "code",
   "execution_count": 34,
   "metadata": {
    "colab": {
     "base_uri": "https://localhost:8080/"
    },
    "executionInfo": {
     "elapsed": 180,
     "status": "ok",
     "timestamp": 1684692610434,
     "user": {
      "displayName": "Pronay Ghosh",
      "userId": "02166950010115536194"
     },
     "user_tz": -330
    },
    "id": "7rNGqU2oU6p7",
    "outputId": "6498969f-0aca-4e1f-dd14-13975dea47c5"
   },
   "outputs": [
    {
     "data": {
      "text/plain": [
       "(768, 9)"
      ]
     },
     "execution_count": 34,
     "metadata": {},
     "output_type": "execute_result"
    }
   ],
   "source": [
    "data.shape"
   ]
  },
  {
   "cell_type": "code",
   "execution_count": 35,
   "metadata": {
    "executionInfo": {
     "elapsed": 176,
     "status": "ok",
     "timestamp": 1684692610436,
     "user": {
      "displayName": "Pronay Ghosh",
      "userId": "02166950010115536194"
     },
     "user_tz": -330
    },
    "id": "86NW7862Roqi"
   },
   "outputs": [],
   "source": [
    "# Separate the features and the target\n",
    "# Separate X and y\n",
    "X = data.drop([\"Outcome\"], axis =1 )\n",
    "y = data[\"Outcome\"]"
   ]
  },
  {
   "cell_type": "code",
   "execution_count": 36,
   "metadata": {
    "colab": {
     "base_uri": "https://localhost:8080/"
    },
    "executionInfo": {
     "elapsed": 177,
     "status": "ok",
     "timestamp": 1684692610438,
     "user": {
      "displayName": "Pronay Ghosh",
      "userId": "02166950010115536194"
     },
     "user_tz": -330
    },
    "id": "N4kiOjXiU2H0",
    "outputId": "d2e07ad9-00f2-4606-dd1a-dab6d757a43a"
   },
   "outputs": [
    {
     "data": {
      "text/plain": [
       "(768, 8)"
      ]
     },
     "execution_count": 36,
     "metadata": {},
     "output_type": "execute_result"
    }
   ],
   "source": [
    "X.shape"
   ]
  },
  {
   "cell_type": "code",
   "execution_count": 37,
   "metadata": {
    "colab": {
     "base_uri": "https://localhost:8080/"
    },
    "executionInfo": {
     "elapsed": 174,
     "status": "ok",
     "timestamp": 1684692610439,
     "user": {
      "displayName": "Pronay Ghosh",
      "userId": "02166950010115536194"
     },
     "user_tz": -330
    },
    "id": "V3gMgz8CU3gL",
    "outputId": "0cab14fe-76dc-4897-b5d2-b973915c529d"
   },
   "outputs": [
    {
     "data": {
      "text/plain": [
       "(768,)"
      ]
     },
     "execution_count": 37,
     "metadata": {},
     "output_type": "execute_result"
    }
   ],
   "source": [
    "y.shape"
   ]
  },
  {
   "cell_type": "code",
   "execution_count": 38,
   "metadata": {
    "executionInfo": {
     "elapsed": 172,
     "status": "ok",
     "timestamp": 1684692610441,
     "user": {
      "displayName": "Pronay Ghosh",
      "userId": "02166950010115536194"
     },
     "user_tz": -330
    },
    "id": "8blXufRaYr-T"
   },
   "outputs": [],
   "source": [
    "# pip install sklearn"
   ]
  },
  {
   "cell_type": "code",
   "execution_count": 39,
   "metadata": {
    "executionInfo": {
     "elapsed": 172,
     "status": "ok",
     "timestamp": 1684692610442,
     "user": {
      "displayName": "Pronay Ghosh",
      "userId": "02166950010115536194"
     },
     "user_tz": -330
    },
    "id": "fp4qNJGEU4Wy"
   },
   "outputs": [],
   "source": [
    "# Define the train and the test data\n",
    "from sklearn.model_selection import train_test_split\n",
    "X_train, X_test, y_train, y_test = train_test_split(X,y, test_size = 0.2)"
   ]
  },
  {
   "cell_type": "code",
   "execution_count": 40,
   "metadata": {
    "colab": {
     "base_uri": "https://localhost:8080/"
    },
    "executionInfo": {
     "elapsed": 172,
     "status": "ok",
     "timestamp": 1684692610443,
     "user": {
      "displayName": "Pronay Ghosh",
      "userId": "02166950010115536194"
     },
     "user_tz": -330
    },
    "id": "5sJbQoUsVtQF",
    "outputId": "061eed7f-8f51-4ee4-bb7a-915b085513bb"
   },
   "outputs": [
    {
     "data": {
      "text/plain": [
       "((614, 8), (154, 8), (614,), (154,))"
      ]
     },
     "execution_count": 40,
     "metadata": {},
     "output_type": "execute_result"
    }
   ],
   "source": [
    "X_train.shape, X_test.shape, y_train.shape, y_test.shape"
   ]
  },
  {
   "cell_type": "code",
   "execution_count": 41,
   "metadata": {
    "executionInfo": {
     "elapsed": 169,
     "status": "ok",
     "timestamp": 1684692610444,
     "user": {
      "displayName": "Pronay Ghosh",
      "userId": "02166950010115536194"
     },
     "user_tz": -330
    },
    "id": "bJbpXOCnVwvI"
   },
   "outputs": [],
   "source": [
    "\n",
    "model = LogisticRegression()"
   ]
  },
  {
   "cell_type": "code",
   "execution_count": 42,
   "metadata": {
    "colab": {
     "base_uri": "https://localhost:8080/",
     "height": 241
    },
    "executionInfo": {
     "elapsed": 170,
     "status": "ok",
     "timestamp": 1684692610446,
     "user": {
      "displayName": "Pronay Ghosh",
      "userId": "02166950010115536194"
     },
     "user_tz": -330
    },
    "id": "TbXf3fsJWXAj",
    "outputId": "eb29b912-ee04-4b54-de14-fb9115ed2c06"
   },
   "outputs": [
    {
     "name": "stderr",
     "output_type": "stream",
     "text": [
      "/usr/local/lib/python3.10/dist-packages/sklearn/linear_model/_logistic.py:458: ConvergenceWarning: lbfgs failed to converge (status=1):\n",
      "STOP: TOTAL NO. of ITERATIONS REACHED LIMIT.\n",
      "\n",
      "Increase the number of iterations (max_iter) or scale the data as shown in:\n",
      "    https://scikit-learn.org/stable/modules/preprocessing.html\n",
      "Please also refer to the documentation for alternative solver options:\n",
      "    https://scikit-learn.org/stable/modules/linear_model.html#logistic-regression\n",
      "  n_iter_i = _check_optimize_result(\n"
     ]
    },
    {
     "data": {
      "text/html": [
       "<style>#sk-container-id-1 {color: black;background-color: white;}#sk-container-id-1 pre{padding: 0;}#sk-container-id-1 div.sk-toggleable {background-color: white;}#sk-container-id-1 label.sk-toggleable__label {cursor: pointer;display: block;width: 100%;margin-bottom: 0;padding: 0.3em;box-sizing: border-box;text-align: center;}#sk-container-id-1 label.sk-toggleable__label-arrow:before {content: \"▸\";float: left;margin-right: 0.25em;color: #696969;}#sk-container-id-1 label.sk-toggleable__label-arrow:hover:before {color: black;}#sk-container-id-1 div.sk-estimator:hover label.sk-toggleable__label-arrow:before {color: black;}#sk-container-id-1 div.sk-toggleable__content {max-height: 0;max-width: 0;overflow: hidden;text-align: left;background-color: #f0f8ff;}#sk-container-id-1 div.sk-toggleable__content pre {margin: 0.2em;color: black;border-radius: 0.25em;background-color: #f0f8ff;}#sk-container-id-1 input.sk-toggleable__control:checked~div.sk-toggleable__content {max-height: 200px;max-width: 100%;overflow: auto;}#sk-container-id-1 input.sk-toggleable__control:checked~label.sk-toggleable__label-arrow:before {content: \"▾\";}#sk-container-id-1 div.sk-estimator input.sk-toggleable__control:checked~label.sk-toggleable__label {background-color: #d4ebff;}#sk-container-id-1 div.sk-label input.sk-toggleable__control:checked~label.sk-toggleable__label {background-color: #d4ebff;}#sk-container-id-1 input.sk-hidden--visually {border: 0;clip: rect(1px 1px 1px 1px);clip: rect(1px, 1px, 1px, 1px);height: 1px;margin: -1px;overflow: hidden;padding: 0;position: absolute;width: 1px;}#sk-container-id-1 div.sk-estimator {font-family: monospace;background-color: #f0f8ff;border: 1px dotted black;border-radius: 0.25em;box-sizing: border-box;margin-bottom: 0.5em;}#sk-container-id-1 div.sk-estimator:hover {background-color: #d4ebff;}#sk-container-id-1 div.sk-parallel-item::after {content: \"\";width: 100%;border-bottom: 1px solid gray;flex-grow: 1;}#sk-container-id-1 div.sk-label:hover label.sk-toggleable__label {background-color: #d4ebff;}#sk-container-id-1 div.sk-serial::before {content: \"\";position: absolute;border-left: 1px solid gray;box-sizing: border-box;top: 0;bottom: 0;left: 50%;z-index: 0;}#sk-container-id-1 div.sk-serial {display: flex;flex-direction: column;align-items: center;background-color: white;padding-right: 0.2em;padding-left: 0.2em;position: relative;}#sk-container-id-1 div.sk-item {position: relative;z-index: 1;}#sk-container-id-1 div.sk-parallel {display: flex;align-items: stretch;justify-content: center;background-color: white;position: relative;}#sk-container-id-1 div.sk-item::before, #sk-container-id-1 div.sk-parallel-item::before {content: \"\";position: absolute;border-left: 1px solid gray;box-sizing: border-box;top: 0;bottom: 0;left: 50%;z-index: -1;}#sk-container-id-1 div.sk-parallel-item {display: flex;flex-direction: column;z-index: 1;position: relative;background-color: white;}#sk-container-id-1 div.sk-parallel-item:first-child::after {align-self: flex-end;width: 50%;}#sk-container-id-1 div.sk-parallel-item:last-child::after {align-self: flex-start;width: 50%;}#sk-container-id-1 div.sk-parallel-item:only-child::after {width: 0;}#sk-container-id-1 div.sk-dashed-wrapped {border: 1px dashed gray;margin: 0 0.4em 0.5em 0.4em;box-sizing: border-box;padding-bottom: 0.4em;background-color: white;}#sk-container-id-1 div.sk-label label {font-family: monospace;font-weight: bold;display: inline-block;line-height: 1.2em;}#sk-container-id-1 div.sk-label-container {text-align: center;}#sk-container-id-1 div.sk-container {/* jupyter's `normalize.less` sets `[hidden] { display: none; }` but bootstrap.min.css set `[hidden] { display: none !important; }` so we also need the `!important` here to be able to override the default hidden behavior on the sphinx rendered scikit-learn.org. See: https://github.com/scikit-learn/scikit-learn/issues/21755 */display: inline-block !important;position: relative;}#sk-container-id-1 div.sk-text-repr-fallback {display: none;}</style><div id=\"sk-container-id-1\" class=\"sk-top-container\"><div class=\"sk-text-repr-fallback\"><pre>LogisticRegression()</pre><b>In a Jupyter environment, please rerun this cell to show the HTML representation or trust the notebook. <br />On GitHub, the HTML representation is unable to render, please try loading this page with nbviewer.org.</b></div><div class=\"sk-container\" hidden><div class=\"sk-item\"><div class=\"sk-estimator sk-toggleable\"><input class=\"sk-toggleable__control sk-hidden--visually\" id=\"sk-estimator-id-1\" type=\"checkbox\" checked><label for=\"sk-estimator-id-1\" class=\"sk-toggleable__label sk-toggleable__label-arrow\">LogisticRegression</label><div class=\"sk-toggleable__content\"><pre>LogisticRegression()</pre></div></div></div></div></div>"
      ],
      "text/plain": [
       "LogisticRegression()"
      ]
     },
     "execution_count": 42,
     "metadata": {},
     "output_type": "execute_result"
    }
   ],
   "source": [
    "# Start the training\n",
    "# you tell the model based on your X data what is the corresponding y or target\n",
    "model.fit(X_train,y_train)"
   ]
  },
  {
   "cell_type": "code",
   "execution_count": 43,
   "metadata": {
    "executionInfo": {
     "elapsed": 163,
     "status": "ok",
     "timestamp": 1684692610447,
     "user": {
      "displayName": "Pronay Ghosh",
      "userId": "02166950010115536194"
     },
     "user_tz": -330
    },
    "id": "xA3dOOsRW-1h"
   },
   "outputs": [],
   "source": [
    "# Making predictions\n",
    "predictions = model.predict(X_test)"
   ]
  },
  {
   "cell_type": "code",
   "execution_count": 44,
   "metadata": {
    "colab": {
     "base_uri": "https://localhost:8080/"
    },
    "executionInfo": {
     "elapsed": 161,
     "status": "ok",
     "timestamp": 1684692610448,
     "user": {
      "displayName": "Pronay Ghosh",
      "userId": "02166950010115536194"
     },
     "user_tz": -330
    },
    "id": "VgAKEHhkXH_e",
    "outputId": "2ac92daa-0a17-4cfb-f570-24725a49486a"
   },
   "outputs": [
    {
     "data": {
      "text/plain": [
       "array([0, 0, 0, 0, 0, 0, 0, 0, 0, 0, 0, 1, 0, 0, 0, 0, 0, 1, 0, 1, 0, 0,\n",
       "       0, 1, 0, 0, 0, 0, 0, 0, 1, 1, 1, 0, 0, 0, 0, 0, 0, 0, 0, 1, 1, 1,\n",
       "       0, 0, 0, 0, 0, 0, 0, 0, 0, 0, 1, 0, 0, 1, 1, 1, 0, 0, 0, 0, 0, 0,\n",
       "       1, 0, 0, 0, 1, 0, 0, 0, 1, 0, 0, 1, 0, 1, 1, 0, 1, 0, 1, 0, 0, 0,\n",
       "       0, 0, 0, 0, 0, 0, 0, 0, 0, 0, 1, 0, 0, 0, 0, 0, 1, 0, 0, 0, 0, 0,\n",
       "       0, 1, 0, 0, 0, 0, 1, 0, 0, 0, 0, 0, 0, 0, 0, 0, 0, 0, 0, 0, 0, 0,\n",
       "       1, 0, 0, 0, 0, 0, 0, 0, 0, 0, 0, 0, 0, 0, 0, 0, 0, 0, 0, 0, 1, 0])"
      ]
     },
     "execution_count": 44,
     "metadata": {},
     "output_type": "execute_result"
    }
   ],
   "source": [
    "predictions"
   ]
  },
  {
   "cell_type": "code",
   "execution_count": 45,
   "metadata": {
    "colab": {
     "base_uri": "https://localhost:8080/"
    },
    "executionInfo": {
     "elapsed": 157,
     "status": "ok",
     "timestamp": 1684692610449,
     "user": {
      "displayName": "Pronay Ghosh",
      "userId": "02166950010115536194"
     },
     "user_tz": -330
    },
    "id": "gvaEQs5dXJhf",
    "outputId": "3a4b452f-a34c-4b93-af85-73d50c40c880"
   },
   "outputs": [
    {
     "data": {
      "text/plain": [
       "array([0, 0, 0, 0, 1, 0, 0, 0, 0, 0, 0, 1, 0, 1, 0, 1, 0, 1, 0, 1, 1, 1,\n",
       "       0, 1, 0, 0, 0, 0, 0, 0, 0, 1, 1, 0, 0, 0, 0, 0, 0, 1, 0, 1, 1, 1,\n",
       "       1, 0, 0, 0, 0, 1, 0, 0, 0, 0, 1, 0, 0, 1, 1, 1, 0, 1, 0, 0, 0, 0,\n",
       "       1, 0, 0, 0, 0, 0, 0, 0, 0, 0, 0, 1, 0, 0, 0, 0, 1, 0, 1, 0, 1, 0,\n",
       "       0, 1, 1, 0, 1, 0, 0, 0, 0, 0, 1, 0, 1, 0, 0, 0, 1, 1, 0, 0, 0, 1,\n",
       "       1, 1, 0, 0, 0, 0, 1, 1, 0, 1, 0, 1, 0, 0, 0, 0, 0, 1, 0, 0, 0, 0,\n",
       "       0, 0, 0, 1, 0, 0, 0, 1, 1, 0, 0, 0, 0, 0, 0, 1, 0, 0, 0, 0, 1, 0])"
      ]
     },
     "execution_count": 45,
     "metadata": {},
     "output_type": "execute_result"
    }
   ],
   "source": [
    "y_test.values"
   ]
  },
  {
   "cell_type": "code",
   "execution_count": 46,
   "metadata": {
    "colab": {
     "base_uri": "https://localhost:8080/"
    },
    "executionInfo": {
     "elapsed": 154,
     "status": "ok",
     "timestamp": 1684692610450,
     "user": {
      "displayName": "Pronay Ghosh",
      "userId": "02166950010115536194"
     },
     "user_tz": -330
    },
    "id": "FrQ6aFQDXMRe",
    "outputId": "b99884b1-0007-45de-80b2-0d9788975205"
   },
   "outputs": [
    {
     "name": "stdout",
     "output_type": "stream",
     "text": [
      "The accuracy of the logistic regression model is : 79.87012987012987\n"
     ]
    }
   ],
   "source": [
    "# Checking the accruacy of the model\n",
    "\n",
    "print(\"The accuracy of the logistic regression model is :\", accuracy_score(predictions,y_test)*100)"
   ]
  },
  {
   "cell_type": "markdown",
   "metadata": {
    "id": "_zQGu5VLYu2W"
   },
   "source": [
    "# **Support Vector Machines**"
   ]
  },
  {
   "cell_type": "code",
   "execution_count": 47,
   "metadata": {
    "executionInfo": {
     "elapsed": 151,
     "status": "ok",
     "timestamp": 1684692610452,
     "user": {
      "displayName": "Pronay Ghosh",
      "userId": "02166950010115536194"
     },
     "user_tz": -330
    },
    "id": "5-xAu_UJXlZt"
   },
   "outputs": [],
   "source": [
    "\n",
    "model_svm = SVC()\n",
    "\n",
    "# Start the training:\n",
    "model_svm.fit(X_train,y_train)\n",
    "svm_predictions = model_svm.predict(X_test)"
   ]
  },
  {
   "cell_type": "code",
   "execution_count": 48,
   "metadata": {
    "colab": {
     "base_uri": "https://localhost:8080/"
    },
    "executionInfo": {
     "elapsed": 156,
     "status": "ok",
     "timestamp": 1684692610458,
     "user": {
      "displayName": "Pronay Ghosh",
      "userId": "02166950010115536194"
     },
     "user_tz": -330
    },
    "id": "6GcHUkDtZqvq",
    "outputId": "87e0fc08-66e6-45d3-a436-ff2090119bd1"
   },
   "outputs": [
    {
     "name": "stdout",
     "output_type": "stream",
     "text": [
      "The Training accuracy of the SVM model is : 76.38436482084691\n"
     ]
    }
   ],
   "source": [
    "svm_predictions_train = model_svm.predict(X_train)\n",
    "print(\"The Training accuracy of the SVM model is :\", accuracy_score(svm_predictions_train,y_train)*100)"
   ]
  },
  {
   "cell_type": "code",
   "execution_count": 49,
   "metadata": {
    "colab": {
     "base_uri": "https://localhost:8080/"
    },
    "executionInfo": {
     "elapsed": 152,
     "status": "ok",
     "timestamp": 1684692610460,
     "user": {
      "displayName": "Pronay Ghosh",
      "userId": "02166950010115536194"
     },
     "user_tz": -330
    },
    "id": "fMxRrkAPZiwP",
    "outputId": "54180c84-2610-445e-dc42-e8c5fa281e16"
   },
   "outputs": [
    {
     "name": "stdout",
     "output_type": "stream",
     "text": [
      "The accuracy of the SVM model is : 78.57142857142857\n"
     ]
    }
   ],
   "source": [
    "print(\"The accuracy of the SVM model is :\", accuracy_score(svm_predictions,y_test)*100)"
   ]
  },
  {
   "cell_type": "code",
   "execution_count": 50,
   "metadata": {
    "colab": {
     "base_uri": "https://localhost:8080/"
    },
    "executionInfo": {
     "elapsed": 155,
     "status": "ok",
     "timestamp": 1684692610467,
     "user": {
      "displayName": "Pronay Ghosh",
      "userId": "02166950010115536194"
     },
     "user_tz": -330
    },
    "id": "Qu6QgxSUabYA",
    "outputId": "92e6f102-cb8e-457c-adfd-55ab4eeccdfd"
   },
   "outputs": [
    {
     "name": "stdout",
     "output_type": "stream",
     "text": [
      "The Training accuracy of the Log Reg model is : 77.52442996742671\n"
     ]
    }
   ],
   "source": [
    "log_reg_predictions_train = model.predict(X_train)\n",
    "print(\"The Training accuracy of the Log Reg model is :\", accuracy_score(log_reg_predictions_train,y_train)*100)"
   ]
  },
  {
   "cell_type": "code",
   "execution_count": 51,
   "metadata": {
    "colab": {
     "base_uri": "https://localhost:8080/",
     "height": 448
    },
    "executionInfo": {
     "elapsed": 146,
     "status": "ok",
     "timestamp": 1684692610469,
     "user": {
      "displayName": "Pronay Ghosh",
      "userId": "02166950010115536194"
     },
     "user_tz": -330
    },
    "id": "-bk0jGVPZpLL",
    "outputId": "a1ad6421-6d9b-4cec-a386-94611f9e781f"
   },
   "outputs": [
    {
     "data": {
      "text/plain": [
       "<matplotlib.collections.PathCollection at 0x7f1baa48b430>"
      ]
     },
     "execution_count": 51,
     "metadata": {},
     "output_type": "execute_result"
    },
    {
     "data": {
      "image/png": "[encoded data removed]",
      "text/plain": [
       "<Figure size 640x480 with 1 Axes>"
      ]
     },
     "metadata": {},
     "output_type": "display_data"
    }
   ],
   "source": [
    "training_samples_index = range(0,len(y_train))\n",
    "test_samples_index = range(0,len(y_test))\n",
    "plt.scatter(training_samples_index, svm_predictions_train, color = \"red\")\n",
    "plt.scatter(training_samples_index, log_reg_predictions_train, color = \"blue\")"
   ]
  },
  {
   "cell_type": "code",
   "execution_count": 52,
   "metadata": {
    "colab": {
     "base_uri": "https://localhost:8080/",
     "height": 448
    },
    "executionInfo": {
     "elapsed": 143,
     "status": "ok",
     "timestamp": 1684692610470,
     "user": {
      "displayName": "Pronay Ghosh",
      "userId": "02166950010115536194"
     },
     "user_tz": -330
    },
    "id": "m65L3pz0aKdB",
    "outputId": "99dfe244-34ec-4187-dd21-46d5e4bc4ca9"
   },
   "outputs": [
    {
     "data": {
      "text/plain": [
       "<matplotlib.collections.PathCollection at 0x7f1ba8017430>"
      ]
     },
     "execution_count": 52,
     "metadata": {},
     "output_type": "execute_result"
    },
    {
     "data": {
      "image/png": "[encoded data removed]",
      "text/plain": [
       "<Figure size 640x480 with 1 Axes>"
      ]
     },
     "metadata": {},
     "output_type": "display_data"
    }
   ],
   "source": [
    "training_samples_index = range(0,len(y_train))\n",
    "test_samples_index = range(0,len(y_test))\n",
    "plt.scatter(test_samples_index, svm_predictions, color = \"red\")\n",
    "plt.scatter(test_samples_index, predictions, color = \"blue\")"
   ]
  },
  {
   "cell_type": "markdown",
   "metadata": {
    "id": "n_wLFzcTRT1A"
   },
   "source": [
    "# **Decision Trees**"
   ]
  },
  {
   "cell_type": "code",
   "execution_count": 53,
   "metadata": {
    "executionInfo": {
     "elapsed": 139,
     "status": "ok",
     "timestamp": 1684692610471,
     "user": {
      "displayName": "Pronay Ghosh",
      "userId": "02166950010115536194"
     },
     "user_tz": -330
    },
    "id": "vz5Wl0rwa1Pg"
   },
   "outputs": [],
   "source": []
  },
  {
   "cell_type": "code",
   "execution_count": 54,
   "metadata": {
    "executionInfo": {
     "elapsed": 140,
     "status": "ok",
     "timestamp": 1684692610472,
     "user": {
      "displayName": "Pronay Ghosh",
      "userId": "02166950010115536194"
     },
     "user_tz": -330
    },
    "id": "OMxc22BBSCMa"
   },
   "outputs": [],
   "source": [
    "decision_tree = DecisionTreeClassifier()"
   ]
  },
  {
   "cell_type": "code",
   "execution_count": 55,
   "metadata": {
    "executionInfo": {
     "elapsed": 140,
     "status": "ok",
     "timestamp": 1684692610473,
     "user": {
      "displayName": "Pronay Ghosh",
      "userId": "02166950010115536194"
     },
     "user_tz": -330
    },
    "id": "7suBBV6gSGKb"
   },
   "outputs": [],
   "source": [
    "# Start the Training:\n",
    "decision_tree.fit(X_train , y_train)\n",
    "# Getting predictions\n",
    "dt_predictions = decision_tree.predict(X_test)"
   ]
  },
  {
   "cell_type": "code",
   "execution_count": 56,
   "metadata": {
    "colab": {
     "base_uri": "https://localhost:8080/"
    },
    "executionInfo": {
     "elapsed": 142,
     "status": "ok",
     "timestamp": 1684692610475,
     "user": {
      "displayName": "Pronay Ghosh",
      "userId": "02166950010115536194"
     },
     "user_tz": -330
    },
    "id": "j9yPKQiPSUNF",
    "outputId": "e8721176-fe45-4888-aaf5-b7d935a87120"
   },
   "outputs": [
    {
     "data": {
      "text/plain": [
       "array([0, 0, 0, 0, 1, 0, 1, 0, 0, 0, 1, 1, 0, 1, 0, 0, 0, 0, 1, 1, 0, 0,\n",
       "       0, 1, 1, 0, 0, 1, 0, 0, 1, 1, 1, 0, 0, 0, 0, 1, 0, 0, 0, 1, 1, 1,\n",
       "       1, 0, 0, 0, 0, 0, 1, 0, 1, 0, 1, 0, 1, 1, 0, 1, 0, 0, 0, 0, 0, 0,\n",
       "       0, 0, 0, 0, 1, 0, 0, 0, 0, 0, 0, 0, 1, 1, 0, 0, 1, 1, 1, 0, 0, 0,\n",
       "       0, 0, 1, 0, 1, 1, 0, 0, 0, 1, 1, 0, 0, 0, 0, 0, 0, 1, 0, 0, 1, 0,\n",
       "       0, 0, 0, 1, 0, 0, 1, 1, 1, 1, 0, 0, 0, 1, 0, 0, 1, 0, 0, 0, 0, 0,\n",
       "       1, 0, 0, 0, 0, 1, 1, 1, 1, 0, 0, 0, 0, 0, 0, 1, 1, 0, 0, 0, 0, 1])"
      ]
     },
     "execution_count": 56,
     "metadata": {},
     "output_type": "execute_result"
    }
   ],
   "source": [
    "dt_predictions"
   ]
  },
  {
   "cell_type": "markdown",
   "metadata": {
    "id": "ViEtFnLJSmV-"
   },
   "source": [
    "# **Performimg Hyperparameter Tuning**"
   ]
  },
  {
   "cell_type": "code",
   "execution_count": 57,
   "metadata": {
    "executionInfo": {
     "elapsed": 137,
     "status": "ok",
     "timestamp": 1684692610478,
     "user": {
      "displayName": "Pronay Ghosh",
      "userId": "02166950010115536194"
     },
     "user_tz": -330
    },
    "id": "NiWiR_NDSWlJ"
   },
   "outputs": [],
   "source": []
  },
  {
   "cell_type": "code",
   "execution_count": 58,
   "metadata": {
    "executionInfo": {
     "elapsed": 140,
     "status": "ok",
     "timestamp": 1684692610481,
     "user": {
      "displayName": "Pronay Ghosh",
      "userId": "02166950010115536194"
     },
     "user_tz": -330
    },
    "id": "1jg28PnLSvca"
   },
   "outputs": [],
   "source": [
    "param_grid = {\"criterion\" : [\"gini\", \"entropy\", \"log_loss\"],\n",
    "            \"splitter\" : [\"best\", \"random\"],\n",
    "            \"max_features\" : [\"auto\", \"sqrt\", \"log2\"]}\n",
    "\n",
    "grid_search  = GridSearchCV(estimator = decision_tree , param_grid = param_grid)\n",
    "random_search = RandomizedSearchCV(estimator = decision_tree , param_distributions = param_grid)"
   ]
  },
  {
   "cell_type": "code",
   "execution_count": 59,
   "metadata": {
    "colab": {
     "base_uri": "https://localhost:8080/",
     "height": 1000
    },
    "executionInfo": {
     "elapsed": 1172,
     "status": "ok",
     "timestamp": 1684692611514,
     "user": {
      "displayName": "Pronay Ghosh",
      "userId": "02166950010115536194"
     },
     "user_tz": -330
    },
    "id": "zeb3CVe7Tz2N",
    "outputId": "106f5a0a-ba78-4fc2-b22f-08096f642052"
   },
   "outputs": [
    {
     "name": "stderr",
     "output_type": "stream",
     "text": [
      "/usr/local/lib/python3.10/dist-packages/sklearn/tree/_classes.py:269: FutureWarning: `max_features='auto'` has been deprecated in 1.1 and will be removed in 1.3. To keep the past behaviour, explicitly set `max_features='sqrt'`.\n",
      "  warnings.warn(\n",
      "/usr/local/lib/python3.10/dist-packages/sklearn/tree/_classes.py:269: FutureWarning: `max_features='auto'` has been deprecated in 1.1 and will be removed in 1.3. To keep the past behaviour, explicitly set `max_features='sqrt'`.\n",
      "  warnings.warn(\n",
      "/usr/local/lib/python3.10/dist-packages/sklearn/tree/_classes.py:269: FutureWarning: `max_features='auto'` has been deprecated in 1.1 and will be removed in 1.3. To keep the past behaviour, explicitly set `max_features='sqrt'`.\n",
      "  warnings.warn(\n",
      "/usr/local/lib/python3.10/dist-packages/sklearn/tree/_classes.py:269: FutureWarning: `max_features='auto'` has been deprecated in 1.1 and will be removed in 1.3. To keep the past behaviour, explicitly set `max_features='sqrt'`.\n",
      "  warnings.warn(\n",
      "/usr/local/lib/python3.10/dist-packages/sklearn/tree/_classes.py:269: FutureWarning: `max_features='auto'` has been deprecated in 1.1 and will be removed in 1.3. To keep the past behaviour, explicitly set `max_features='sqrt'`.\n",
      "  warnings.warn(\n",
      "/usr/local/lib/python3.10/dist-packages/sklearn/tree/_classes.py:269: FutureWarning: `max_features='auto'` has been deprecated in 1.1 and will be removed in 1.3. To keep the past behaviour, explicitly set `max_features='sqrt'`.\n",
      "  warnings.warn(\n",
      "/usr/local/lib/python3.10/dist-packages/sklearn/tree/_classes.py:269: FutureWarning: `max_features='auto'` has been deprecated in 1.1 and will be removed in 1.3. To keep the past behaviour, explicitly set `max_features='sqrt'`.\n",
      "  warnings.warn(\n",
      "/usr/local/lib/python3.10/dist-packages/sklearn/tree/_classes.py:269: FutureWarning: `max_features='auto'` has been deprecated in 1.1 and will be removed in 1.3. To keep the past behaviour, explicitly set `max_features='sqrt'`.\n",
      "  warnings.warn(\n",
      "/usr/local/lib/python3.10/dist-packages/sklearn/tree/_classes.py:269: FutureWarning: `max_features='auto'` has been deprecated in 1.1 and will be removed in 1.3. To keep the past behaviour, explicitly set `max_features='sqrt'`.\n",
      "  warnings.warn(\n",
      "/usr/local/lib/python3.10/dist-packages/sklearn/tree/_classes.py:269: FutureWarning: `max_features='auto'` has been deprecated in 1.1 and will be removed in 1.3. To keep the past behaviour, explicitly set `max_features='sqrt'`.\n",
      "  warnings.warn(\n",
      "/usr/local/lib/python3.10/dist-packages/sklearn/tree/_classes.py:269: FutureWarning: `max_features='auto'` has been deprecated in 1.1 and will be removed in 1.3. To keep the past behaviour, explicitly set `max_features='sqrt'`.\n",
      "  warnings.warn(\n",
      "/usr/local/lib/python3.10/dist-packages/sklearn/tree/_classes.py:269: FutureWarning: `max_features='auto'` has been deprecated in 1.1 and will be removed in 1.3. To keep the past behaviour, explicitly set `max_features='sqrt'`.\n",
      "  warnings.warn(\n",
      "/usr/local/lib/python3.10/dist-packages/sklearn/tree/_classes.py:269: FutureWarning: `max_features='auto'` has been deprecated in 1.1 and will be removed in 1.3. To keep the past behaviour, explicitly set `max_features='sqrt'`.\n",
      "  warnings.warn(\n",
      "/usr/local/lib/python3.10/dist-packages/sklearn/tree/_classes.py:269: FutureWarning: `max_features='auto'` has been deprecated in 1.1 and will be removed in 1.3. To keep the past behaviour, explicitly set `max_features='sqrt'`.\n",
      "  warnings.warn(\n",
      "/usr/local/lib/python3.10/dist-packages/sklearn/tree/_classes.py:269: FutureWarning: `max_features='auto'` has been deprecated in 1.1 and will be removed in 1.3. To keep the past behaviour, explicitly set `max_features='sqrt'`.\n",
      "  warnings.warn(\n",
      "/usr/local/lib/python3.10/dist-packages/sklearn/tree/_classes.py:269: FutureWarning: `max_features='auto'` has been deprecated in 1.1 and will be removed in 1.3. To keep the past behaviour, explicitly set `max_features='sqrt'`.\n",
      "  warnings.warn(\n",
      "/usr/local/lib/python3.10/dist-packages/sklearn/tree/_classes.py:269: FutureWarning: `max_features='auto'` has been deprecated in 1.1 and will be removed in 1.3. To keep the past behaviour, explicitly set `max_features='sqrt'`.\n",
      "  warnings.warn(\n",
      "/usr/local/lib/python3.10/dist-packages/sklearn/tree/_classes.py:269: FutureWarning: `max_features='auto'` has been deprecated in 1.1 and will be removed in 1.3. To keep the past behaviour, explicitly set `max_features='sqrt'`.\n",
      "  warnings.warn(\n",
      "/usr/local/lib/python3.10/dist-packages/sklearn/tree/_classes.py:269: FutureWarning: `max_features='auto'` has been deprecated in 1.1 and will be removed in 1.3. To keep the past behaviour, explicitly set `max_features='sqrt'`.\n",
      "  warnings.warn(\n",
      "/usr/local/lib/python3.10/dist-packages/sklearn/tree/_classes.py:269: FutureWarning: `max_features='auto'` has been deprecated in 1.1 and will be removed in 1.3. To keep the past behaviour, explicitly set `max_features='sqrt'`.\n",
      "  warnings.warn(\n",
      "/usr/local/lib/python3.10/dist-packages/sklearn/tree/_classes.py:269: FutureWarning: `max_features='auto'` has been deprecated in 1.1 and will be removed in 1.3. To keep the past behaviour, explicitly set `max_features='sqrt'`.\n",
      "  warnings.warn(\n",
      "/usr/local/lib/python3.10/dist-packages/sklearn/tree/_classes.py:269: FutureWarning: `max_features='auto'` has been deprecated in 1.1 and will be removed in 1.3. To keep the past behaviour, explicitly set `max_features='sqrt'`.\n",
      "  warnings.warn(\n",
      "/usr/local/lib/python3.10/dist-packages/sklearn/tree/_classes.py:269: FutureWarning: `max_features='auto'` has been deprecated in 1.1 and will be removed in 1.3. To keep the past behaviour, explicitly set `max_features='sqrt'`.\n",
      "  warnings.warn(\n",
      "/usr/local/lib/python3.10/dist-packages/sklearn/tree/_classes.py:269: FutureWarning: `max_features='auto'` has been deprecated in 1.1 and will be removed in 1.3. To keep the past behaviour, explicitly set `max_features='sqrt'`.\n",
      "  warnings.warn(\n",
      "/usr/local/lib/python3.10/dist-packages/sklearn/tree/_classes.py:269: FutureWarning: `max_features='auto'` has been deprecated in 1.1 and will be removed in 1.3. To keep the past behaviour, explicitly set `max_features='sqrt'`.\n",
      "  warnings.warn(\n",
      "/usr/local/lib/python3.10/dist-packages/sklearn/tree/_classes.py:269: FutureWarning: `max_features='auto'` has been deprecated in 1.1 and will be removed in 1.3. To keep the past behaviour, explicitly set `max_features='sqrt'`.\n",
      "  warnings.warn(\n",
      "/usr/local/lib/python3.10/dist-packages/sklearn/tree/_classes.py:269: FutureWarning: `max_features='auto'` has been deprecated in 1.1 and will be removed in 1.3. To keep the past behaviour, explicitly set `max_features='sqrt'`.\n",
      "  warnings.warn(\n",
      "/usr/local/lib/python3.10/dist-packages/sklearn/tree/_classes.py:269: FutureWarning: `max_features='auto'` has been deprecated in 1.1 and will be removed in 1.3. To keep the past behaviour, explicitly set `max_features='sqrt'`.\n",
      "  warnings.warn(\n",
      "/usr/local/lib/python3.10/dist-packages/sklearn/tree/_classes.py:269: FutureWarning: `max_features='auto'` has been deprecated in 1.1 and will be removed in 1.3. To keep the past behaviour, explicitly set `max_features='sqrt'`.\n",
      "  warnings.warn(\n",
      "/usr/local/lib/python3.10/dist-packages/sklearn/tree/_classes.py:269: FutureWarning: `max_features='auto'` has been deprecated in 1.1 and will be removed in 1.3. To keep the past behaviour, explicitly set `max_features='sqrt'`.\n",
      "  warnings.warn(\n"
     ]
    },
    {
     "data": {
      "text/html": [
       "<style>#sk-container-id-2 {color: black;background-color: white;}#sk-container-id-2 pre{padding: 0;}#sk-container-id-2 div.sk-toggleable {background-color: white;}#sk-container-id-2 label.sk-toggleable__label {cursor: pointer;display: block;width: 100%;margin-bottom: 0;padding: 0.3em;box-sizing: border-box;text-align: center;}#sk-container-id-2 label.sk-toggleable__label-arrow:before {content: \"▸\";float: left;margin-right: 0.25em;color: #696969;}#sk-container-id-2 label.sk-toggleable__label-arrow:hover:before {color: black;}#sk-container-id-2 div.sk-estimator:hover label.sk-toggleable__label-arrow:before {color: black;}#sk-container-id-2 div.sk-toggleable__content {max-height: 0;max-width: 0;overflow: hidden;text-align: left;background-color: #f0f8ff;}#sk-container-id-2 div.sk-toggleable__content pre {margin: 0.2em;color: black;border-radius: 0.25em;background-color: #f0f8ff;}#sk-container-id-2 input.sk-toggleable__control:checked~div.sk-toggleable__content {max-height: 200px;max-width: 100%;overflow: auto;}#sk-container-id-2 input.sk-toggleable__control:checked~label.sk-toggleable__label-arrow:before {content: \"▾\";}#sk-container-id-2 div.sk-estimator input.sk-toggleable__control:checked~label.sk-toggleable__label {background-color: #d4ebff;}#sk-container-id-2 div.sk-label input.sk-toggleable__control:checked~label.sk-toggleable__label {background-color: #d4ebff;}#sk-container-id-2 input.sk-hidden--visually {border: 0;clip: rect(1px 1px 1px 1px);clip: rect(1px, 1px, 1px, 1px);height: 1px;margin: -1px;overflow: hidden;padding: 0;position: absolute;width: 1px;}#sk-container-id-2 div.sk-estimator {font-family: monospace;background-color: #f0f8ff;border: 1px dotted black;border-radius: 0.25em;box-sizing: border-box;margin-bottom: 0.5em;}#sk-container-id-2 div.sk-estimator:hover {background-color: #d4ebff;}#sk-container-id-2 div.sk-parallel-item::after {content: \"\";width: 100%;border-bottom: 1px solid gray;flex-grow: 1;}#sk-container-id-2 div.sk-label:hover label.sk-toggleable__label {background-color: #d4ebff;}#sk-container-id-2 div.sk-serial::before {content: \"\";position: absolute;border-left: 1px solid gray;box-sizing: border-box;top: 0;bottom: 0;left: 50%;z-index: 0;}#sk-container-id-2 div.sk-serial {display: flex;flex-direction: column;align-items: center;background-color: white;padding-right: 0.2em;padding-left: 0.2em;position: relative;}#sk-container-id-2 div.sk-item {position: relative;z-index: 1;}#sk-container-id-2 div.sk-parallel {display: flex;align-items: stretch;justify-content: center;background-color: white;position: relative;}#sk-container-id-2 div.sk-item::before, #sk-container-id-2 div.sk-parallel-item::before {content: \"\";position: absolute;border-left: 1px solid gray;box-sizing: border-box;top: 0;bottom: 0;left: 50%;z-index: -1;}#sk-container-id-2 div.sk-parallel-item {display: flex;flex-direction: column;z-index: 1;position: relative;background-color: white;}#sk-container-id-2 div.sk-parallel-item:first-child::after {align-self: flex-end;width: 50%;}#sk-container-id-2 div.sk-parallel-item:last-child::after {align-self: flex-start;width: 50%;}#sk-container-id-2 div.sk-parallel-item:only-child::after {width: 0;}#sk-container-id-2 div.sk-dashed-wrapped {border: 1px dashed gray;margin: 0 0.4em 0.5em 0.4em;box-sizing: border-box;padding-bottom: 0.4em;background-color: white;}#sk-container-id-2 div.sk-label label {font-family: monospace;font-weight: bold;display: inline-block;line-height: 1.2em;}#sk-container-id-2 div.sk-label-container {text-align: center;}#sk-container-id-2 div.sk-container {/* jupyter's `normalize.less` sets `[hidden] { display: none; }` but bootstrap.min.css set `[hidden] { display: none !important; }` so we also need the `!important` here to be able to override the default hidden behavior on the sphinx rendered scikit-learn.org. See: https://github.com/scikit-learn/scikit-learn/issues/21755 */display: inline-block !important;position: relative;}#sk-container-id-2 div.sk-text-repr-fallback {display: none;}</style><div id=\"sk-container-id-2\" class=\"sk-top-container\"><div class=\"sk-text-repr-fallback\"><pre>GridSearchCV(estimator=DecisionTreeClassifier(),\n",
       "             param_grid={&#x27;criterion&#x27;: [&#x27;gini&#x27;, &#x27;entropy&#x27;, &#x27;log_loss&#x27;],\n",
       "                         &#x27;max_features&#x27;: [&#x27;auto&#x27;, &#x27;sqrt&#x27;, &#x27;log2&#x27;],\n",
       "                         &#x27;splitter&#x27;: [&#x27;best&#x27;, &#x27;random&#x27;]})</pre><b>In a Jupyter environment, please rerun this cell to show the HTML representation or trust the notebook. <br />On GitHub, the HTML representation is unable to render, please try loading this page with nbviewer.org.</b></div><div class=\"sk-container\" hidden><div class=\"sk-item sk-dashed-wrapped\"><div class=\"sk-label-container\"><div class=\"sk-label sk-toggleable\"><input class=\"sk-toggleable__control sk-hidden--visually\" id=\"sk-estimator-id-2\" type=\"checkbox\" ><label for=\"sk-estimator-id-2\" class=\"sk-toggleable__label sk-toggleable__label-arrow\">GridSearchCV</label><div class=\"sk-toggleable__content\"><pre>GridSearchCV(estimator=DecisionTreeClassifier(),\n",
       "             param_grid={&#x27;criterion&#x27;: [&#x27;gini&#x27;, &#x27;entropy&#x27;, &#x27;log_loss&#x27;],\n",
       "                         &#x27;max_features&#x27;: [&#x27;auto&#x27;, &#x27;sqrt&#x27;, &#x27;log2&#x27;],\n",
       "                         &#x27;splitter&#x27;: [&#x27;best&#x27;, &#x27;random&#x27;]})</pre></div></div></div><div class=\"sk-parallel\"><div class=\"sk-parallel-item\"><div class=\"sk-item\"><div class=\"sk-label-container\"><div class=\"sk-label sk-toggleable\"><input class=\"sk-toggleable__control sk-hidden--visually\" id=\"sk-estimator-id-3\" type=\"checkbox\" ><label for=\"sk-estimator-id-3\" class=\"sk-toggleable__label sk-toggleable__label-arrow\">estimator: DecisionTreeClassifier</label><div class=\"sk-toggleable__content\"><pre>DecisionTreeClassifier()</pre></div></div></div><div class=\"sk-serial\"><div class=\"sk-item\"><div class=\"sk-estimator sk-toggleable\"><input class=\"sk-toggleable__control sk-hidden--visually\" id=\"sk-estimator-id-4\" type=\"checkbox\" ><label for=\"sk-estimator-id-4\" class=\"sk-toggleable__label sk-toggleable__label-arrow\">DecisionTreeClassifier</label><div class=\"sk-toggleable__content\"><pre>DecisionTreeClassifier()</pre></div></div></div></div></div></div></div></div></div></div>"
      ],
      "text/plain": [
       "GridSearchCV(estimator=DecisionTreeClassifier(),\n",
       "             param_grid={'criterion': ['gini', 'entropy', 'log_loss'],\n",
       "                         'max_features': ['auto', 'sqrt', 'log2'],\n",
       "                         'splitter': ['best', 'random']})"
      ]
     },
     "execution_count": 59,
     "metadata": {},
     "output_type": "execute_result"
    }
   ],
   "source": [
    "# grid_search tuning\n",
    "grid_search.fit(X_train, y_train)"
   ]
  },
  {
   "cell_type": "code",
   "execution_count": 60,
   "metadata": {
    "colab": {
     "base_uri": "https://localhost:8080/",
     "height": 1000
    },
    "executionInfo": {
     "elapsed": 124,
     "status": "ok",
     "timestamp": 1684692611515,
     "user": {
      "displayName": "Pronay Ghosh",
      "userId": "02166950010115536194"
     },
     "user_tz": -330
    },
    "id": "Lvck49o6UOgb",
    "outputId": "4c04616c-43bc-447d-fcbd-4aa01813eb1a"
   },
   "outputs": [
    {
     "name": "stderr",
     "output_type": "stream",
     "text": [
      "/usr/local/lib/python3.10/dist-packages/sklearn/tree/_classes.py:269: FutureWarning: `max_features='auto'` has been deprecated in 1.1 and will be removed in 1.3. To keep the past behaviour, explicitly set `max_features='sqrt'`.\n",
      "  warnings.warn(\n",
      "/usr/local/lib/python3.10/dist-packages/sklearn/tree/_classes.py:269: FutureWarning: `max_features='auto'` has been deprecated in 1.1 and will be removed in 1.3. To keep the past behaviour, explicitly set `max_features='sqrt'`.\n",
      "  warnings.warn(\n",
      "/usr/local/lib/python3.10/dist-packages/sklearn/tree/_classes.py:269: FutureWarning: `max_features='auto'` has been deprecated in 1.1 and will be removed in 1.3. To keep the past behaviour, explicitly set `max_features='sqrt'`.\n",
      "  warnings.warn(\n",
      "/usr/local/lib/python3.10/dist-packages/sklearn/tree/_classes.py:269: FutureWarning: `max_features='auto'` has been deprecated in 1.1 and will be removed in 1.3. To keep the past behaviour, explicitly set `max_features='sqrt'`.\n",
      "  warnings.warn(\n",
      "/usr/local/lib/python3.10/dist-packages/sklearn/tree/_classes.py:269: FutureWarning: `max_features='auto'` has been deprecated in 1.1 and will be removed in 1.3. To keep the past behaviour, explicitly set `max_features='sqrt'`.\n",
      "  warnings.warn(\n",
      "/usr/local/lib/python3.10/dist-packages/sklearn/tree/_classes.py:269: FutureWarning: `max_features='auto'` has been deprecated in 1.1 and will be removed in 1.3. To keep the past behaviour, explicitly set `max_features='sqrt'`.\n",
      "  warnings.warn(\n",
      "/usr/local/lib/python3.10/dist-packages/sklearn/tree/_classes.py:269: FutureWarning: `max_features='auto'` has been deprecated in 1.1 and will be removed in 1.3. To keep the past behaviour, explicitly set `max_features='sqrt'`.\n",
      "  warnings.warn(\n",
      "/usr/local/lib/python3.10/dist-packages/sklearn/tree/_classes.py:269: FutureWarning: `max_features='auto'` has been deprecated in 1.1 and will be removed in 1.3. To keep the past behaviour, explicitly set `max_features='sqrt'`.\n",
      "  warnings.warn(\n",
      "/usr/local/lib/python3.10/dist-packages/sklearn/tree/_classes.py:269: FutureWarning: `max_features='auto'` has been deprecated in 1.1 and will be removed in 1.3. To keep the past behaviour, explicitly set `max_features='sqrt'`.\n",
      "  warnings.warn(\n",
      "/usr/local/lib/python3.10/dist-packages/sklearn/tree/_classes.py:269: FutureWarning: `max_features='auto'` has been deprecated in 1.1 and will be removed in 1.3. To keep the past behaviour, explicitly set `max_features='sqrt'`.\n",
      "  warnings.warn(\n",
      "/usr/local/lib/python3.10/dist-packages/sklearn/tree/_classes.py:269: FutureWarning: `max_features='auto'` has been deprecated in 1.1 and will be removed in 1.3. To keep the past behaviour, explicitly set `max_features='sqrt'`.\n",
      "  warnings.warn(\n",
      "/usr/local/lib/python3.10/dist-packages/sklearn/tree/_classes.py:269: FutureWarning: `max_features='auto'` has been deprecated in 1.1 and will be removed in 1.3. To keep the past behaviour, explicitly set `max_features='sqrt'`.\n",
      "  warnings.warn(\n",
      "/usr/local/lib/python3.10/dist-packages/sklearn/tree/_classes.py:269: FutureWarning: `max_features='auto'` has been deprecated in 1.1 and will be removed in 1.3. To keep the past behaviour, explicitly set `max_features='sqrt'`.\n",
      "  warnings.warn(\n",
      "/usr/local/lib/python3.10/dist-packages/sklearn/tree/_classes.py:269: FutureWarning: `max_features='auto'` has been deprecated in 1.1 and will be removed in 1.3. To keep the past behaviour, explicitly set `max_features='sqrt'`.\n",
      "  warnings.warn(\n",
      "/usr/local/lib/python3.10/dist-packages/sklearn/tree/_classes.py:269: FutureWarning: `max_features='auto'` has been deprecated in 1.1 and will be removed in 1.3. To keep the past behaviour, explicitly set `max_features='sqrt'`.\n",
      "  warnings.warn(\n",
      "/usr/local/lib/python3.10/dist-packages/sklearn/tree/_classes.py:269: FutureWarning: `max_features='auto'` has been deprecated in 1.1 and will be removed in 1.3. To keep the past behaviour, explicitly set `max_features='sqrt'`.\n",
      "  warnings.warn(\n",
      "/usr/local/lib/python3.10/dist-packages/sklearn/tree/_classes.py:269: FutureWarning: `max_features='auto'` has been deprecated in 1.1 and will be removed in 1.3. To keep the past behaviour, explicitly set `max_features='sqrt'`.\n",
      "  warnings.warn(\n",
      "/usr/local/lib/python3.10/dist-packages/sklearn/tree/_classes.py:269: FutureWarning: `max_features='auto'` has been deprecated in 1.1 and will be removed in 1.3. To keep the past behaviour, explicitly set `max_features='sqrt'`.\n",
      "  warnings.warn(\n",
      "/usr/local/lib/python3.10/dist-packages/sklearn/tree/_classes.py:269: FutureWarning: `max_features='auto'` has been deprecated in 1.1 and will be removed in 1.3. To keep the past behaviour, explicitly set `max_features='sqrt'`.\n",
      "  warnings.warn(\n",
      "/usr/local/lib/python3.10/dist-packages/sklearn/tree/_classes.py:269: FutureWarning: `max_features='auto'` has been deprecated in 1.1 and will be removed in 1.3. To keep the past behaviour, explicitly set `max_features='sqrt'`.\n",
      "  warnings.warn(\n",
      "/usr/local/lib/python3.10/dist-packages/sklearn/tree/_classes.py:269: FutureWarning: `max_features='auto'` has been deprecated in 1.1 and will be removed in 1.3. To keep the past behaviour, explicitly set `max_features='sqrt'`.\n",
      "  warnings.warn(\n",
      "/usr/local/lib/python3.10/dist-packages/sklearn/tree/_classes.py:269: FutureWarning: `max_features='auto'` has been deprecated in 1.1 and will be removed in 1.3. To keep the past behaviour, explicitly set `max_features='sqrt'`.\n",
      "  warnings.warn(\n",
      "/usr/local/lib/python3.10/dist-packages/sklearn/tree/_classes.py:269: FutureWarning: `max_features='auto'` has been deprecated in 1.1 and will be removed in 1.3. To keep the past behaviour, explicitly set `max_features='sqrt'`.\n",
      "  warnings.warn(\n",
      "/usr/local/lib/python3.10/dist-packages/sklearn/tree/_classes.py:269: FutureWarning: `max_features='auto'` has been deprecated in 1.1 and will be removed in 1.3. To keep the past behaviour, explicitly set `max_features='sqrt'`.\n",
      "  warnings.warn(\n",
      "/usr/local/lib/python3.10/dist-packages/sklearn/tree/_classes.py:269: FutureWarning: `max_features='auto'` has been deprecated in 1.1 and will be removed in 1.3. To keep the past behaviour, explicitly set `max_features='sqrt'`.\n",
      "  warnings.warn(\n"
     ]
    },
    {
     "data": {
      "text/html": [
       "<style>#sk-container-id-3 {color: black;background-color: white;}#sk-container-id-3 pre{padding: 0;}#sk-container-id-3 div.sk-toggleable {background-color: white;}#sk-container-id-3 label.sk-toggleable__label {cursor: pointer;display: block;width: 100%;margin-bottom: 0;padding: 0.3em;box-sizing: border-box;text-align: center;}#sk-container-id-3 label.sk-toggleable__label-arrow:before {content: \"▸\";float: left;margin-right: 0.25em;color: #696969;}#sk-container-id-3 label.sk-toggleable__label-arrow:hover:before {color: black;}#sk-container-id-3 div.sk-estimator:hover label.sk-toggleable__label-arrow:before {color: black;}#sk-container-id-3 div.sk-toggleable__content {max-height: 0;max-width: 0;overflow: hidden;text-align: left;background-color: #f0f8ff;}#sk-container-id-3 div.sk-toggleable__content pre {margin: 0.2em;color: black;border-radius: 0.25em;background-color: #f0f8ff;}#sk-container-id-3 input.sk-toggleable__control:checked~div.sk-toggleable__content {max-height: 200px;max-width: 100%;overflow: auto;}#sk-container-id-3 input.sk-toggleable__control:checked~label.sk-toggleable__label-arrow:before {content: \"▾\";}#sk-container-id-3 div.sk-estimator input.sk-toggleable__control:checked~label.sk-toggleable__label {background-color: #d4ebff;}#sk-container-id-3 div.sk-label input.sk-toggleable__control:checked~label.sk-toggleable__label {background-color: #d4ebff;}#sk-container-id-3 input.sk-hidden--visually {border: 0;clip: rect(1px 1px 1px 1px);clip: rect(1px, 1px, 1px, 1px);height: 1px;margin: -1px;overflow: hidden;padding: 0;position: absolute;width: 1px;}#sk-container-id-3 div.sk-estimator {font-family: monospace;background-color: #f0f8ff;border: 1px dotted black;border-radius: 0.25em;box-sizing: border-box;margin-bottom: 0.5em;}#sk-container-id-3 div.sk-estimator:hover {background-color: #d4ebff;}#sk-container-id-3 div.sk-parallel-item::after {content: \"\";width: 100%;border-bottom: 1px solid gray;flex-grow: 1;}#sk-container-id-3 div.sk-label:hover label.sk-toggleable__label {background-color: #d4ebff;}#sk-container-id-3 div.sk-serial::before {content: \"\";position: absolute;border-left: 1px solid gray;box-sizing: border-box;top: 0;bottom: 0;left: 50%;z-index: 0;}#sk-container-id-3 div.sk-serial {display: flex;flex-direction: column;align-items: center;background-color: white;padding-right: 0.2em;padding-left: 0.2em;position: relative;}#sk-container-id-3 div.sk-item {position: relative;z-index: 1;}#sk-container-id-3 div.sk-parallel {display: flex;align-items: stretch;justify-content: center;background-color: white;position: relative;}#sk-container-id-3 div.sk-item::before, #sk-container-id-3 div.sk-parallel-item::before {content: \"\";position: absolute;border-left: 1px solid gray;box-sizing: border-box;top: 0;bottom: 0;left: 50%;z-index: -1;}#sk-container-id-3 div.sk-parallel-item {display: flex;flex-direction: column;z-index: 1;position: relative;background-color: white;}#sk-container-id-3 div.sk-parallel-item:first-child::after {align-self: flex-end;width: 50%;}#sk-container-id-3 div.sk-parallel-item:last-child::after {align-self: flex-start;width: 50%;}#sk-container-id-3 div.sk-parallel-item:only-child::after {width: 0;}#sk-container-id-3 div.sk-dashed-wrapped {border: 1px dashed gray;margin: 0 0.4em 0.5em 0.4em;box-sizing: border-box;padding-bottom: 0.4em;background-color: white;}#sk-container-id-3 div.sk-label label {font-family: monospace;font-weight: bold;display: inline-block;line-height: 1.2em;}#sk-container-id-3 div.sk-label-container {text-align: center;}#sk-container-id-3 div.sk-container {/* jupyter's `normalize.less` sets `[hidden] { display: none; }` but bootstrap.min.css set `[hidden] { display: none !important; }` so we also need the `!important` here to be able to override the default hidden behavior on the sphinx rendered scikit-learn.org. See: https://github.com/scikit-learn/scikit-learn/issues/21755 */display: inline-block !important;position: relative;}#sk-container-id-3 div.sk-text-repr-fallback {display: none;}</style><div id=\"sk-container-id-3\" class=\"sk-top-container\"><div class=\"sk-text-repr-fallback\"><pre>RandomizedSearchCV(estimator=DecisionTreeClassifier(),\n",
       "                   param_distributions={&#x27;criterion&#x27;: [&#x27;gini&#x27;, &#x27;entropy&#x27;,\n",
       "                                                      &#x27;log_loss&#x27;],\n",
       "                                        &#x27;max_features&#x27;: [&#x27;auto&#x27;, &#x27;sqrt&#x27;,\n",
       "                                                         &#x27;log2&#x27;],\n",
       "                                        &#x27;splitter&#x27;: [&#x27;best&#x27;, &#x27;random&#x27;]})</pre><b>In a Jupyter environment, please rerun this cell to show the HTML representation or trust the notebook. <br />On GitHub, the HTML representation is unable to render, please try loading this page with nbviewer.org.</b></div><div class=\"sk-container\" hidden><div class=\"sk-item sk-dashed-wrapped\"><div class=\"sk-label-container\"><div class=\"sk-label sk-toggleable\"><input class=\"sk-toggleable__control sk-hidden--visually\" id=\"sk-estimator-id-5\" type=\"checkbox\" ><label for=\"sk-estimator-id-5\" class=\"sk-toggleable__label sk-toggleable__label-arrow\">RandomizedSearchCV</label><div class=\"sk-toggleable__content\"><pre>RandomizedSearchCV(estimator=DecisionTreeClassifier(),\n",
       "                   param_distributions={&#x27;criterion&#x27;: [&#x27;gini&#x27;, &#x27;entropy&#x27;,\n",
       "                                                      &#x27;log_loss&#x27;],\n",
       "                                        &#x27;max_features&#x27;: [&#x27;auto&#x27;, &#x27;sqrt&#x27;,\n",
       "                                                         &#x27;log2&#x27;],\n",
       "                                        &#x27;splitter&#x27;: [&#x27;best&#x27;, &#x27;random&#x27;]})</pre></div></div></div><div class=\"sk-parallel\"><div class=\"sk-parallel-item\"><div class=\"sk-item\"><div class=\"sk-label-container\"><div class=\"sk-label sk-toggleable\"><input class=\"sk-toggleable__control sk-hidden--visually\" id=\"sk-estimator-id-6\" type=\"checkbox\" ><label for=\"sk-estimator-id-6\" class=\"sk-toggleable__label sk-toggleable__label-arrow\">estimator: DecisionTreeClassifier</label><div class=\"sk-toggleable__content\"><pre>DecisionTreeClassifier()</pre></div></div></div><div class=\"sk-serial\"><div class=\"sk-item\"><div class=\"sk-estimator sk-toggleable\"><input class=\"sk-toggleable__control sk-hidden--visually\" id=\"sk-estimator-id-7\" type=\"checkbox\" ><label for=\"sk-estimator-id-7\" class=\"sk-toggleable__label sk-toggleable__label-arrow\">DecisionTreeClassifier</label><div class=\"sk-toggleable__content\"><pre>DecisionTreeClassifier()</pre></div></div></div></div></div></div></div></div></div></div>"
      ],
      "text/plain": [
       "RandomizedSearchCV(estimator=DecisionTreeClassifier(),\n",
       "                   param_distributions={'criterion': ['gini', 'entropy',\n",
       "                                                      'log_loss'],\n",
       "                                        'max_features': ['auto', 'sqrt',\n",
       "                                                         'log2'],\n",
       "                                        'splitter': ['best', 'random']})"
      ]
     },
     "execution_count": 60,
     "metadata": {},
     "output_type": "execute_result"
    }
   ],
   "source": [
    "# grid_search tuning\n",
    "random_search.fit(X_train, y_train)"
   ]
  },
  {
   "cell_type": "code",
   "execution_count": 61,
   "metadata": {
    "colab": {
     "base_uri": "https://localhost:8080/"
    },
    "executionInfo": {
     "elapsed": 122,
     "status": "ok",
     "timestamp": 1684692611518,
     "user": {
      "displayName": "Pronay Ghosh",
      "userId": "02166950010115536194"
     },
     "user_tz": -330
    },
    "id": "AZHA_ePAURUu",
    "outputId": "4fa58a8c-4a1e-4520-bc8c-92bdaa47474d"
   },
   "outputs": [
    {
     "data": {
      "text/plain": [
       "{'splitter': 'best', 'max_features': 'log2', 'criterion': 'log_loss'}"
      ]
     },
     "execution_count": 61,
     "metadata": {},
     "output_type": "execute_result"
    }
   ],
   "source": [
    "random_search.best_params_"
   ]
  },
  {
   "cell_type": "code",
   "execution_count": 62,
   "metadata": {
    "colab": {
     "base_uri": "https://localhost:8080/"
    },
    "executionInfo": {
     "elapsed": 117,
     "status": "ok",
     "timestamp": 1684692611519,
     "user": {
      "displayName": "Pronay Ghosh",
      "userId": "02166950010115536194"
     },
     "user_tz": -330
    },
    "id": "vinhtvDmUW17",
    "outputId": "c25de967-94e8-4e73-f29a-2ef7dae7344f"
   },
   "outputs": [
    {
     "data": {
      "text/plain": [
       "{'criterion': 'entropy', 'max_features': 'sqrt', 'splitter': 'best'}"
      ]
     },
     "execution_count": 62,
     "metadata": {},
     "output_type": "execute_result"
    }
   ],
   "source": [
    "grid_search.best_params_"
   ]
  },
  {
   "cell_type": "code",
   "execution_count": 63,
   "metadata": {
    "executionInfo": {
     "elapsed": 111,
     "status": "ok",
     "timestamp": 1684692611520,
     "user": {
      "displayName": "Pronay Ghosh",
      "userId": "02166950010115536194"
     },
     "user_tz": -330
    },
    "id": "dSmcYvmDUiMx"
   },
   "outputs": [],
   "source": [
    "dt_tuned_grid_search = DecisionTreeClassifier(criterion='log_loss',\n",
    "                                              max_features= 'sqrt',\n",
    "                                              splitter= 'best')"
   ]
  },
  {
   "cell_type": "code",
   "execution_count": 64,
   "metadata": {
    "executionInfo": {
     "elapsed": 111,
     "status": "ok",
     "timestamp": 1684692611521,
     "user": {
      "displayName": "Pronay Ghosh",
      "userId": "02166950010115536194"
     },
     "user_tz": -330
    },
    "id": "HPxvfiwfU8Dd"
   },
   "outputs": [],
   "source": [
    "dt_tuned_random_search = DecisionTreeClassifier(criterion='gini',\n",
    "                                              max_features= 'sqrt',\n",
    "                                              splitter= 'best')"
   ]
  },
  {
   "cell_type": "code",
   "execution_count": 65,
   "metadata": {
    "colab": {
     "base_uri": "https://localhost:8080/",
     "height": 74
    },
    "executionInfo": {
     "elapsed": 112,
     "status": "ok",
     "timestamp": 1684692611522,
     "user": {
      "displayName": "Pronay Ghosh",
      "userId": "02166950010115536194"
     },
     "user_tz": -330
    },
    "id": "KGuAxiCHVRzb",
    "outputId": "adb0a6d8-0902-42c7-8045-930ef53e9ac0"
   },
   "outputs": [
    {
     "data": {
      "text/html": [
       "<style>#sk-container-id-4 {color: black;background-color: white;}#sk-container-id-4 pre{padding: 0;}#sk-container-id-4 div.sk-toggleable {background-color: white;}#sk-container-id-4 label.sk-toggleable__label {cursor: pointer;display: block;width: 100%;margin-bottom: 0;padding: 0.3em;box-sizing: border-box;text-align: center;}#sk-container-id-4 label.sk-toggleable__label-arrow:before {content: \"▸\";float: left;margin-right: 0.25em;color: #696969;}#sk-container-id-4 label.sk-toggleable__label-arrow:hover:before {color: black;}#sk-container-id-4 div.sk-estimator:hover label.sk-toggleable__label-arrow:before {color: black;}#sk-container-id-4 div.sk-toggleable__content {max-height: 0;max-width: 0;overflow: hidden;text-align: left;background-color: #f0f8ff;}#sk-container-id-4 div.sk-toggleable__content pre {margin: 0.2em;color: black;border-radius: 0.25em;background-color: #f0f8ff;}#sk-container-id-4 input.sk-toggleable__control:checked~div.sk-toggleable__content {max-height: 200px;max-width: 100%;overflow: auto;}#sk-container-id-4 input.sk-toggleable__control:checked~label.sk-toggleable__label-arrow:before {content: \"▾\";}#sk-container-id-4 div.sk-estimator input.sk-toggleable__control:checked~label.sk-toggleable__label {background-color: #d4ebff;}#sk-container-id-4 div.sk-label input.sk-toggleable__control:checked~label.sk-toggleable__label {background-color: #d4ebff;}#sk-container-id-4 input.sk-hidden--visually {border: 0;clip: rect(1px 1px 1px 1px);clip: rect(1px, 1px, 1px, 1px);height: 1px;margin: -1px;overflow: hidden;padding: 0;position: absolute;width: 1px;}#sk-container-id-4 div.sk-estimator {font-family: monospace;background-color: #f0f8ff;border: 1px dotted black;border-radius: 0.25em;box-sizing: border-box;margin-bottom: 0.5em;}#sk-container-id-4 div.sk-estimator:hover {background-color: #d4ebff;}#sk-container-id-4 div.sk-parallel-item::after {content: \"\";width: 100%;border-bottom: 1px solid gray;flex-grow: 1;}#sk-container-id-4 div.sk-label:hover label.sk-toggleable__label {background-color: #d4ebff;}#sk-container-id-4 div.sk-serial::before {content: \"\";position: absolute;border-left: 1px solid gray;box-sizing: border-box;top: 0;bottom: 0;left: 50%;z-index: 0;}#sk-container-id-4 div.sk-serial {display: flex;flex-direction: column;align-items: center;background-color: white;padding-right: 0.2em;padding-left: 0.2em;position: relative;}#sk-container-id-4 div.sk-item {position: relative;z-index: 1;}#sk-container-id-4 div.sk-parallel {display: flex;align-items: stretch;justify-content: center;background-color: white;position: relative;}#sk-container-id-4 div.sk-item::before, #sk-container-id-4 div.sk-parallel-item::before {content: \"\";position: absolute;border-left: 1px solid gray;box-sizing: border-box;top: 0;bottom: 0;left: 50%;z-index: -1;}#sk-container-id-4 div.sk-parallel-item {display: flex;flex-direction: column;z-index: 1;position: relative;background-color: white;}#sk-container-id-4 div.sk-parallel-item:first-child::after {align-self: flex-end;width: 50%;}#sk-container-id-4 div.sk-parallel-item:last-child::after {align-self: flex-start;width: 50%;}#sk-container-id-4 div.sk-parallel-item:only-child::after {width: 0;}#sk-container-id-4 div.sk-dashed-wrapped {border: 1px dashed gray;margin: 0 0.4em 0.5em 0.4em;box-sizing: border-box;padding-bottom: 0.4em;background-color: white;}#sk-container-id-4 div.sk-label label {font-family: monospace;font-weight: bold;display: inline-block;line-height: 1.2em;}#sk-container-id-4 div.sk-label-container {text-align: center;}#sk-container-id-4 div.sk-container {/* jupyter's `normalize.less` sets `[hidden] { display: none; }` but bootstrap.min.css set `[hidden] { display: none !important; }` so we also need the `!important` here to be able to override the default hidden behavior on the sphinx rendered scikit-learn.org. See: https://github.com/scikit-learn/scikit-learn/issues/21755 */display: inline-block !important;position: relative;}#sk-container-id-4 div.sk-text-repr-fallback {display: none;}</style><div id=\"sk-container-id-4\" class=\"sk-top-container\"><div class=\"sk-text-repr-fallback\"><pre>DecisionTreeClassifier(max_features=&#x27;sqrt&#x27;)</pre><b>In a Jupyter environment, please rerun this cell to show the HTML representation or trust the notebook. <br />On GitHub, the HTML representation is unable to render, please try loading this page with nbviewer.org.</b></div><div class=\"sk-container\" hidden><div class=\"sk-item\"><div class=\"sk-estimator sk-toggleable\"><input class=\"sk-toggleable__control sk-hidden--visually\" id=\"sk-estimator-id-8\" type=\"checkbox\" checked><label for=\"sk-estimator-id-8\" class=\"sk-toggleable__label sk-toggleable__label-arrow\">DecisionTreeClassifier</label><div class=\"sk-toggleable__content\"><pre>DecisionTreeClassifier(max_features=&#x27;sqrt&#x27;)</pre></div></div></div></div></div>"
      ],
      "text/plain": [
       "DecisionTreeClassifier(max_features='sqrt')"
      ]
     },
     "execution_count": 65,
     "metadata": {},
     "output_type": "execute_result"
    }
   ],
   "source": [
    "dt_tuned_grid_search.fit(X_train, y_train)\n",
    "dt_tuned_random_search.fit(X_train, y_train)"
   ]
  },
  {
   "cell_type": "code",
   "execution_count": 66,
   "metadata": {
    "executionInfo": {
     "elapsed": 111,
     "status": "ok",
     "timestamp": 1684692611523,
     "user": {
      "displayName": "Pronay Ghosh",
      "userId": "02166950010115536194"
     },
     "user_tz": -330
    },
    "id": "Ytvc8borVEe9"
   },
   "outputs": [],
   "source": [
    "tuned_dt_predictions_grid_search = dt_tuned_grid_search.predict(X_test)\n",
    "tuned_dt_predictions_random_search = dt_tuned_random_search.predict(X_test)"
   ]
  },
  {
   "cell_type": "code",
   "execution_count": 67,
   "metadata": {
    "colab": {
     "base_uri": "https://localhost:8080/"
    },
    "executionInfo": {
     "elapsed": 110,
     "status": "ok",
     "timestamp": 1684692611524,
     "user": {
      "displayName": "Pronay Ghosh",
      "userId": "02166950010115536194"
     },
     "user_tz": -330
    },
    "id": "ZKKkC4kRVMeM",
    "outputId": "b4d26676-0a3c-4150-8052-9e7d6654dfdc"
   },
   "outputs": [
    {
     "name": "stdout",
     "output_type": "stream",
     "text": [
      "Accuracy Score tuned_dt_predictions_grid_search : 0.7012987012987013\n",
      "Accuracy Score tuned_dt_predictions_random_search : 0.7012987012987013\n"
     ]
    }
   ],
   "source": [
    "print(\"Accuracy Score tuned_dt_predictions_grid_search :\", accuracy_score(tuned_dt_predictions_grid_search,\n",
    "                                                                          y_test))\n",
    "print(\"Accuracy Score tuned_dt_predictions_random_search :\", accuracy_score(tuned_dt_predictions_random_search,\n",
    "                                                                          y_test))"
   ]
  },
  {
   "cell_type": "markdown",
   "metadata": {
    "id": "Crblvd_oYwVR"
   },
   "source": [
    "# **Random Forest Classifier**"
   ]
  },
  {
   "cell_type": "code",
   "execution_count": 69,
   "metadata": {
    "executionInfo": {
     "elapsed": 104,
     "status": "ok",
     "timestamp": 1684692611527,
     "user": {
      "displayName": "Pronay Ghosh",
      "userId": "02166950010115536194"
     },
     "user_tz": -330
    },
    "id": "YXS9bp_FY6Ma"
   },
   "outputs": [],
   "source": [
    "random_forest = RandomForestClassifier()"
   ]
  },
  {
   "cell_type": "code",
   "execution_count": 70,
   "metadata": {
    "colab": {
     "base_uri": "https://localhost:8080/",
     "height": 74
    },
    "executionInfo": {
     "elapsed": 104,
     "status": "ok",
     "timestamp": 1684692611528,
     "user": {
      "displayName": "Pronay Ghosh",
      "userId": "02166950010115536194"
     },
     "user_tz": -330
    },
    "id": "CPQzN4pRY_1M",
    "outputId": "03346bf1-4a2e-4773-d88f-eb9f0dd48248"
   },
   "outputs": [
    {
     "data": {
      "text/html": [
       "<style>#sk-container-id-5 {color: black;background-color: white;}#sk-container-id-5 pre{padding: 0;}#sk-container-id-5 div.sk-toggleable {background-color: white;}#sk-container-id-5 label.sk-toggleable__label {cursor: pointer;display: block;width: 100%;margin-bottom: 0;padding: 0.3em;box-sizing: border-box;text-align: center;}#sk-container-id-5 label.sk-toggleable__label-arrow:before {content: \"▸\";float: left;margin-right: 0.25em;color: #696969;}#sk-container-id-5 label.sk-toggleable__label-arrow:hover:before {color: black;}#sk-container-id-5 div.sk-estimator:hover label.sk-toggleable__label-arrow:before {color: black;}#sk-container-id-5 div.sk-toggleable__content {max-height: 0;max-width: 0;overflow: hidden;text-align: left;background-color: #f0f8ff;}#sk-container-id-5 div.sk-toggleable__content pre {margin: 0.2em;color: black;border-radius: 0.25em;background-color: #f0f8ff;}#sk-container-id-5 input.sk-toggleable__control:checked~div.sk-toggleable__content {max-height: 200px;max-width: 100%;overflow: auto;}#sk-container-id-5 input.sk-toggleable__control:checked~label.sk-toggleable__label-arrow:before {content: \"▾\";}#sk-container-id-5 div.sk-estimator input.sk-toggleable__control:checked~label.sk-toggleable__label {background-color: #d4ebff;}#sk-container-id-5 div.sk-label input.sk-toggleable__control:checked~label.sk-toggleable__label {background-color: #d4ebff;}#sk-container-id-5 input.sk-hidden--visually {border: 0;clip: rect(1px 1px 1px 1px);clip: rect(1px, 1px, 1px, 1px);height: 1px;margin: -1px;overflow: hidden;padding: 0;position: absolute;width: 1px;}#sk-container-id-5 div.sk-estimator {font-family: monospace;background-color: #f0f8ff;border: 1px dotted black;border-radius: 0.25em;box-sizing: border-box;margin-bottom: 0.5em;}#sk-container-id-5 div.sk-estimator:hover {background-color: #d4ebff;}#sk-container-id-5 div.sk-parallel-item::after {content: \"\";width: 100%;border-bottom: 1px solid gray;flex-grow: 1;}#sk-container-id-5 div.sk-label:hover label.sk-toggleable__label {background-color: #d4ebff;}#sk-container-id-5 div.sk-serial::before {content: \"\";position: absolute;border-left: 1px solid gray;box-sizing: border-box;top: 0;bottom: 0;left: 50%;z-index: 0;}#sk-container-id-5 div.sk-serial {display: flex;flex-direction: column;align-items: center;background-color: white;padding-right: 0.2em;padding-left: 0.2em;position: relative;}#sk-container-id-5 div.sk-item {position: relative;z-index: 1;}#sk-container-id-5 div.sk-parallel {display: flex;align-items: stretch;justify-content: center;background-color: white;position: relative;}#sk-container-id-5 div.sk-item::before, #sk-container-id-5 div.sk-parallel-item::before {content: \"\";position: absolute;border-left: 1px solid gray;box-sizing: border-box;top: 0;bottom: 0;left: 50%;z-index: -1;}#sk-container-id-5 div.sk-parallel-item {display: flex;flex-direction: column;z-index: 1;position: relative;background-color: white;}#sk-container-id-5 div.sk-parallel-item:first-child::after {align-self: flex-end;width: 50%;}#sk-container-id-5 div.sk-parallel-item:last-child::after {align-self: flex-start;width: 50%;}#sk-container-id-5 div.sk-parallel-item:only-child::after {width: 0;}#sk-container-id-5 div.sk-dashed-wrapped {border: 1px dashed gray;margin: 0 0.4em 0.5em 0.4em;box-sizing: border-box;padding-bottom: 0.4em;background-color: white;}#sk-container-id-5 div.sk-label label {font-family: monospace;font-weight: bold;display: inline-block;line-height: 1.2em;}#sk-container-id-5 div.sk-label-container {text-align: center;}#sk-container-id-5 div.sk-container {/* jupyter's `normalize.less` sets `[hidden] { display: none; }` but bootstrap.min.css set `[hidden] { display: none !important; }` so we also need the `!important` here to be able to override the default hidden behavior on the sphinx rendered scikit-learn.org. See: https://github.com/scikit-learn/scikit-learn/issues/21755 */display: inline-block !important;position: relative;}#sk-container-id-5 div.sk-text-repr-fallback {display: none;}</style><div id=\"sk-container-id-5\" class=\"sk-top-container\"><div class=\"sk-text-repr-fallback\"><pre>RandomForestClassifier()</pre><b>In a Jupyter environment, please rerun this cell to show the HTML representation or trust the notebook. <br />On GitHub, the HTML representation is unable to render, please try loading this page with nbviewer.org.</b></div><div class=\"sk-container\" hidden><div class=\"sk-item\"><div class=\"sk-estimator sk-toggleable\"><input class=\"sk-toggleable__control sk-hidden--visually\" id=\"sk-estimator-id-9\" type=\"checkbox\" checked><label for=\"sk-estimator-id-9\" class=\"sk-toggleable__label sk-toggleable__label-arrow\">RandomForestClassifier</label><div class=\"sk-toggleable__content\"><pre>RandomForestClassifier()</pre></div></div></div></div></div>"
      ],
      "text/plain": [
       "RandomForestClassifier()"
      ]
     },
     "execution_count": 70,
     "metadata": {},
     "output_type": "execute_result"
    }
   ],
   "source": [
    "random_forest.fit(X_train, y_train)"
   ]
  },
  {
   "cell_type": "code",
   "execution_count": 71,
   "metadata": {
    "executionInfo": {
     "elapsed": 104,
     "status": "ok",
     "timestamp": 1684692611529,
     "user": {
      "displayName": "Pronay Ghosh",
      "userId": "02166950010115536194"
     },
     "user_tz": -330
    },
    "id": "CNuyQXBHZEUh"
   },
   "outputs": [],
   "source": [
    "# Getting the predictions for both train and test data\n",
    "random_forest_predicitons_train = random_forest.predict(X_train)\n",
    "random_forest_predicitons_test = random_forest.predict(X_test)"
   ]
  },
  {
   "cell_type": "code",
   "execution_count": 72,
   "metadata": {
    "colab": {
     "base_uri": "https://localhost:8080/"
    },
    "executionInfo": {
     "elapsed": 114,
     "status": "ok",
     "timestamp": 1684692611540,
     "user": {
      "displayName": "Pronay Ghosh",
      "userId": "02166950010115536194"
     },
     "user_tz": -330
    },
    "id": "_nUZA2j2ZUOX",
    "outputId": "aca28ac8-d11b-489f-cf1d-c4e2a3339e07"
   },
   "outputs": [
    {
     "name": "stdout",
     "output_type": "stream",
     "text": [
      "The random forest accuracy score in training data is :  1.0\n",
      "The random forest accuracy score in test data is :  0.7727272727272727\n"
     ]
    }
   ],
   "source": [
    "print(\"The random forest accuracy score in training data is : \", accuracy_score(random_forest_predicitons_train, y_train))\n",
    "print(\"The random forest accuracy score in test data is : \", accuracy_score(random_forest_predicitons_test, y_test))"
   ]
  },
  {
   "cell_type": "markdown",
   "metadata": {
    "id": "cySoFxhfZtLT"
   },
   "source": [
    "# **Hyperparameter Tuning (Random Forest)**"
   ]
  },
  {
   "cell_type": "code",
   "execution_count": 74,
   "metadata": {
    "executionInfo": {
     "elapsed": 7,
     "status": "ok",
     "timestamp": 1684692906020,
     "user": {
      "displayName": "Pronay Ghosh",
      "userId": "02166950010115536194"
     },
     "user_tz": -330
    },
    "id": "F3p2q1XBZo5e"
   },
   "outputs": [],
   "source": [
    "# from sklearn.model_selection import RandomizedSearchCV\n",
    "# from sklearn.model_selection import GridSearchCV\n",
    "\n",
    "# param_grid = {\"n_estimators\" : [10,20,30,40,50,60,70,80,90,100],\n",
    "#             \"criterion\" : [\"gini\", \"entropy\", \"log_loss\"],\n",
    "#             \"max_depth\" : [1,2,3,4,5,6,7,8,9,10],\n",
    "#             \"max_features\": [\"sqrt\", \"log2\", None]}\n",
    "\n",
    "# grid_search  = GridSearchCV(estimator = random_forest , param_grid = param_grid)\n",
    "# random_search = RandomizedSearchCV(estimator = random_forest , param_distributions = param_grid)\n",
    "# # grid_search tuning\n",
    "# grid_search.fit(X_train, y_train)\n",
    "# # grid_search tuning\n",
    "# random_search.fit(X_train, y_train)"
   ]
  },
  {
   "cell_type": "code",
   "execution_count": 75,
   "metadata": {
    "executionInfo": {
     "elapsed": 547,
     "status": "ok",
     "timestamp": 1684692911653,
     "user": {
      "displayName": "Pronay Ghosh",
      "userId": "02166950010115536194"
     },
     "user_tz": -330
    },
    "id": "IJkJLNqka58m"
   },
   "outputs": [],
   "source": [
    "# random_search.best_params_"
   ]
  },
  {
   "cell_type": "code",
   "execution_count": 76,
   "metadata": {
    "executionInfo": {
     "elapsed": 5,
     "status": "ok",
     "timestamp": 1684692913675,
     "user": {
      "displayName": "Pronay Ghosh",
      "userId": "02166950010115536194"
     },
     "user_tz": -330
    },
    "id": "eUhvt7ePa7Ge"
   },
   "outputs": [],
   "source": [
    "# grid_search.best_params_"
   ]
  },
  {
   "cell_type": "code",
   "execution_count": 77,
   "metadata": {
    "executionInfo": {
     "elapsed": 6,
     "status": "ok",
     "timestamp": 1684692916705,
     "user": {
      "displayName": "Pronay Ghosh",
      "userId": "02166950010115536194"
     },
     "user_tz": -330
    },
    "id": "7FisTQCYdu9E"
   },
   "outputs": [],
   "source": [
    "# random_forest_grid_search_tuned = RandomForestClassifier(criterion = 'entropy',\n",
    "#                                                          max_depth = 5,\n",
    "#                                                          max_features = None,\n",
    "#                                                          n_estimators= 10)"
   ]
  },
  {
   "cell_type": "code",
   "execution_count": 78,
   "metadata": {
    "executionInfo": {
     "elapsed": 6,
     "status": "ok",
     "timestamp": 1684692918554,
     "user": {
      "displayName": "Pronay Ghosh",
      "userId": "02166950010115536194"
     },
     "user_tz": -330
    },
    "id": "qnIoltkFePib"
   },
   "outputs": [],
   "source": [
    "# random_forest_random_search_tuned = RandomForestClassifier(criterion = 'log_loss',\n",
    "#                                                          max_depth = 4,\n",
    "#                                                          max_features = None,\n",
    "#                                                          n_estimators= 20)"
   ]
  },
  {
   "cell_type": "code",
   "execution_count": 79,
   "metadata": {
    "executionInfo": {
     "elapsed": 25,
     "status": "ok",
     "timestamp": 1684692920225,
     "user": {
      "displayName": "Pronay Ghosh",
      "userId": "02166950010115536194"
     },
     "user_tz": -330
    },
    "id": "Fbb6rCJUeZnq"
   },
   "outputs": [],
   "source": [
    "# random_forest_grid_search_tuned.fit(X_train, y_train)"
   ]
  },
  {
   "cell_type": "code",
   "execution_count": 80,
   "metadata": {
    "executionInfo": {
     "elapsed": 6,
     "status": "ok",
     "timestamp": 1684692922000,
     "user": {
      "displayName": "Pronay Ghosh",
      "userId": "02166950010115536194"
     },
     "user_tz": -330
    },
    "id": "DdGdY5Q5edMu"
   },
   "outputs": [],
   "source": [
    "# random_forest_random_search_tuned.fit(X_train, y_train)"
   ]
  },
  {
   "cell_type": "code",
   "execution_count": 81,
   "metadata": {
    "executionInfo": {
     "elapsed": 17,
     "status": "ok",
     "timestamp": 1684692924227,
     "user": {
      "displayName": "Pronay Ghosh",
      "userId": "02166950010115536194"
     },
     "user_tz": -330
    },
    "id": "LHnt1lVXe1bt"
   },
   "outputs": [],
   "source": [
    "# rf_tuned_grid_search_pred_train =random_forest_grid_search_tuned.predict(X_train)\n",
    "# rf_tuned_random_search_pred_train =random_forest_random_search_tuned.predict(X_train)"
   ]
  },
  {
   "cell_type": "code",
   "execution_count": 82,
   "metadata": {
    "executionInfo": {
     "elapsed": 6,
     "status": "ok",
     "timestamp": 1684692926603,
     "user": {
      "displayName": "Pronay Ghosh",
      "userId": "02166950010115536194"
     },
     "user_tz": -330
    },
    "id": "R1wHHAJ6egGc"
   },
   "outputs": [],
   "source": [
    "# rf_tuned_grid_search_pred =random_forest_grid_search_tuned.predict(X_test)\n",
    "# rf_tuned_random_search_pred =random_forest_grid_search_tuned.predict(X_test)"
   ]
  },
  {
   "cell_type": "code",
   "execution_count": 83,
   "metadata": {
    "executionInfo": {
     "elapsed": 824,
     "status": "ok",
     "timestamp": 1684692931113,
     "user": {
      "displayName": "Pronay Ghosh",
      "userId": "02166950010115536194"
     },
     "user_tz": -330
    },
    "id": "bq3oPdGce8Z4"
   },
   "outputs": [],
   "source": [
    "# print(\"The random forest accuracy score in training data is (RSCV): \", accuracy_score(rf_tuned_random_search_pred_train, y_train))\n",
    "# print(\"The random forest accuracy score in test data is (RSCV): \", accuracy_score(rf_tuned_random_search_pred, y_test))"
   ]
  },
  {
   "cell_type": "code",
   "execution_count": 84,
   "metadata": {
    "executionInfo": {
     "elapsed": 3,
     "status": "ok",
     "timestamp": 1684692932851,
     "user": {
      "displayName": "Pronay Ghosh",
      "userId": "02166950010115536194"
     },
     "user_tz": -330
    },
    "id": "qJIioolZeq4h"
   },
   "outputs": [],
   "source": [
    "# print(\"The random forest accuracy score in training data is (GSCV): \", accuracy_score(rf_tuned_grid_search_pred_train, y_train))\n",
    "# print(\"The random forest accuracy score in test data is : (GSCV)\", accuracy_score(rf_tuned_grid_search_pred, y_test))"
   ]
  },
  {
   "cell_type": "code",
   "execution_count": 85,
   "metadata": {
    "executionInfo": {
     "elapsed": 4,
     "status": "ok",
     "timestamp": 1684692934876,
     "user": {
      "displayName": "Pronay Ghosh",
      "userId": "02166950010115536194"
     },
     "user_tz": -330
    },
    "id": "XMvIPGi4fJzT"
   },
   "outputs": [],
   "source": [
    "# data_rf_scores = {\"Model\": [\"RF-Base\", \"RF-RSCV\", \"RF-GSCV\"],\n",
    "#                 \"Train Score\":[accuracy_score(random_forest_predicitons_train,y_train),\n",
    "#                                 accuracy_score(rf_tuned_random_search_pred_train,y_train),\n",
    "#                                 accuracy_score(rf_tuned_grid_search_pred_train,y_train)],\n",
    "#                 \"Test_Score\": [accuracy_score(random_forest_predicitons_test,y_test),\n",
    "#                                 accuracy_score(rf_tuned_random_search_pred,y_test),\n",
    "#                                 accuracy_score(rf_tuned_grid_search_pred,y_test)]}"
   ]
  },
  {
   "cell_type": "code",
   "execution_count": 86,
   "metadata": {
    "executionInfo": {
     "elapsed": 24,
     "status": "ok",
     "timestamp": 1684692938676,
     "user": {
      "displayName": "Pronay Ghosh",
      "userId": "02166950010115536194"
     },
     "user_tz": -330
    },
    "id": "R2v-H39UgKaD"
   },
   "outputs": [],
   "source": [
    "# pd.DataFrame(data_rf_scores)"
   ]
  },
  {
   "cell_type": "markdown",
   "metadata": {
    "id": "iaIvymhOjT6e"
   },
   "source": [
    "# CatboostClassifier"
   ]
  },
  {
   "cell_type": "code",
   "execution_count": 95,
   "metadata": {
    "executionInfo": {
     "elapsed": 22,
     "status": "ok",
     "timestamp": 1684693469649,
     "user": {
      "displayName": "Pronay Ghosh",
      "userId": "02166950010115536194"
     },
     "user_tz": -330
    },
    "id": "fcr3r0-vhpPy"
   },
   "outputs": [],
   "source": [
    "# from catboost import CatBoostClassifier\n",
    "# from xgboost import XGBClassifier\n",
    "cat_boost_clf =CatBoostClassifier()\n",
    "xg_boost_classifier = XGBClassifier()"
   ]
  },
  {
   "cell_type": "code",
   "execution_count": 96,
   "metadata": {
    "colab": {
     "base_uri": "https://localhost:8080/"
    },
    "executionInfo": {
     "elapsed": 2141,
     "status": "ok",
     "timestamp": 1684693492699,
     "user": {
      "displayName": "Pronay Ghosh",
      "userId": "02166950010115536194"
     },
     "user_tz": -330
    },
    "id": "JqICOyR_itOV",
    "outputId": "2f1c5264-adc1-421a-988c-0cb4b230c2bf"
   },
   "outputs": [
    {
     "name": "stdout",
     "output_type": "stream",
     "text": [
      "Learning rate set to 0.008365\n",
      "0:\tlearn: 0.6887745\ttotal: 49.3ms\tremaining: 49.3s\n",
      "1:\tlearn: 0.6852868\ttotal: 52.7ms\tremaining: 26.3s\n",
      "2:\tlearn: 0.6812513\ttotal: 55ms\tremaining: 18.3s\n",
      "3:\tlearn: 0.6772460\ttotal: 57.8ms\tremaining: 14.4s\n",
      "4:\tlearn: 0.6735288\ttotal: 60.5ms\tremaining: 12s\n",
      "5:\tlearn: 0.6692726\ttotal: 62.9ms\tremaining: 10.4s\n",
      "6:\tlearn: 0.6658221\ttotal: 65.2ms\tremaining: 9.24s\n",
      "7:\tlearn: 0.6621491\ttotal: 67.7ms\tremaining: 8.39s\n",
      "8:\tlearn: 0.6580729\ttotal: 70.2ms\tremaining: 7.73s\n",
      "9:\tlearn: 0.6547257\ttotal: 73ms\tremaining: 7.23s\n",
      "10:\tlearn: 0.6511247\ttotal: 76.4ms\tremaining: 6.87s\n",
      "11:\tlearn: 0.6478674\ttotal: 78.6ms\tremaining: 6.47s\n",
      "12:\tlearn: 0.6441688\ttotal: 81.2ms\tremaining: 6.16s\n",
      "13:\tlearn: 0.6407091\ttotal: 83.7ms\tremaining: 5.89s\n",
      "14:\tlearn: 0.6368613\ttotal: 86ms\tremaining: 5.65s\n",
      "15:\tlearn: 0.6330223\ttotal: 88.7ms\tremaining: 5.46s\n",
      "16:\tlearn: 0.6292344\ttotal: 91.3ms\tremaining: 5.28s\n",
      "17:\tlearn: 0.6267707\ttotal: 93.6ms\tremaining: 5.11s\n",
      "18:\tlearn: 0.6237440\ttotal: 96.1ms\tremaining: 4.96s\n",
      "19:\tlearn: 0.6208862\ttotal: 98.7ms\tremaining: 4.83s\n",
      "20:\tlearn: 0.6169488\ttotal: 101ms\tremaining: 4.72s\n",
      "21:\tlearn: 0.6141405\ttotal: 104ms\tremaining: 4.61s\n",
      "22:\tlearn: 0.6115383\ttotal: 106ms\tremaining: 4.51s\n",
      "23:\tlearn: 0.6079514\ttotal: 109ms\tremaining: 4.42s\n",
      "24:\tlearn: 0.6052223\ttotal: 111ms\tremaining: 4.33s\n",
      "25:\tlearn: 0.6028258\ttotal: 114ms\tremaining: 4.25s\n",
      "26:\tlearn: 0.5996891\ttotal: 116ms\tremaining: 4.17s\n",
      "27:\tlearn: 0.5969483\ttotal: 119ms\tremaining: 4.13s\n",
      "28:\tlearn: 0.5945439\ttotal: 122ms\tremaining: 4.1s\n",
      "29:\tlearn: 0.5907444\ttotal: 125ms\tremaining: 4.04s\n",
      "30:\tlearn: 0.5879547\ttotal: 128ms\tremaining: 3.99s\n",
      "31:\tlearn: 0.5848329\ttotal: 131ms\tremaining: 3.95s\n",
      "32:\tlearn: 0.5818920\ttotal: 133ms\tremaining: 3.9s\n",
      "33:\tlearn: 0.5797396\ttotal: 136ms\tremaining: 3.85s\n",
      "34:\tlearn: 0.5770948\ttotal: 143ms\tremaining: 3.94s\n",
      "35:\tlearn: 0.5744824\ttotal: 147ms\tremaining: 3.93s\n",
      "36:\tlearn: 0.5720933\ttotal: 148ms\tremaining: 3.86s\n",
      "37:\tlearn: 0.5694118\ttotal: 151ms\tremaining: 3.82s\n",
      "38:\tlearn: 0.5671353\ttotal: 154ms\tremaining: 3.78s\n",
      "39:\tlearn: 0.5645211\ttotal: 156ms\tremaining: 3.75s\n",
      "40:\tlearn: 0.5624340\ttotal: 159ms\tremaining: 3.71s\n",
      "41:\tlearn: 0.5601828\ttotal: 161ms\tremaining: 3.68s\n",
      "42:\tlearn: 0.5585963\ttotal: 164ms\tremaining: 3.65s\n",
      "43:\tlearn: 0.5561107\ttotal: 166ms\tremaining: 3.62s\n",
      "44:\tlearn: 0.5539816\ttotal: 169ms\tremaining: 3.59s\n",
      "45:\tlearn: 0.5520786\ttotal: 172ms\tremaining: 3.56s\n",
      "46:\tlearn: 0.5503881\ttotal: 174ms\tremaining: 3.53s\n",
      "47:\tlearn: 0.5481270\ttotal: 177ms\tremaining: 3.51s\n",
      "48:\tlearn: 0.5460715\ttotal: 179ms\tremaining: 3.48s\n",
      "49:\tlearn: 0.5445412\ttotal: 182ms\tremaining: 3.46s\n",
      "50:\tlearn: 0.5423071\ttotal: 185ms\tremaining: 3.44s\n",
      "51:\tlearn: 0.5403816\ttotal: 187ms\tremaining: 3.41s\n",
      "52:\tlearn: 0.5381995\ttotal: 190ms\tremaining: 3.39s\n",
      "53:\tlearn: 0.5363342\ttotal: 197ms\tremaining: 3.45s\n",
      "54:\tlearn: 0.5347573\ttotal: 199ms\tremaining: 3.42s\n",
      "55:\tlearn: 0.5328132\ttotal: 202ms\tremaining: 3.4s\n",
      "56:\tlearn: 0.5316446\ttotal: 207ms\tremaining: 3.43s\n",
      "57:\tlearn: 0.5296639\ttotal: 210ms\tremaining: 3.41s\n",
      "58:\tlearn: 0.5278424\ttotal: 213ms\tremaining: 3.4s\n",
      "59:\tlearn: 0.5262054\ttotal: 227ms\tremaining: 3.55s\n",
      "60:\tlearn: 0.5246032\ttotal: 233ms\tremaining: 3.59s\n",
      "61:\tlearn: 0.5234146\ttotal: 235ms\tremaining: 3.56s\n",
      "62:\tlearn: 0.5218681\ttotal: 238ms\tremaining: 3.54s\n",
      "63:\tlearn: 0.5196005\ttotal: 244ms\tremaining: 3.57s\n",
      "64:\tlearn: 0.5178297\ttotal: 250ms\tremaining: 3.6s\n",
      "65:\tlearn: 0.5160888\ttotal: 254ms\tremaining: 3.59s\n",
      "66:\tlearn: 0.5148224\ttotal: 260ms\tremaining: 3.62s\n",
      "67:\tlearn: 0.5135541\ttotal: 263ms\tremaining: 3.6s\n",
      "68:\tlearn: 0.5125798\ttotal: 265ms\tremaining: 3.58s\n",
      "69:\tlearn: 0.5112996\ttotal: 268ms\tremaining: 3.56s\n",
      "70:\tlearn: 0.5097628\ttotal: 271ms\tremaining: 3.54s\n",
      "71:\tlearn: 0.5085473\ttotal: 273ms\tremaining: 3.52s\n",
      "72:\tlearn: 0.5071712\ttotal: 280ms\tremaining: 3.56s\n",
      "73:\tlearn: 0.5054863\ttotal: 283ms\tremaining: 3.54s\n",
      "74:\tlearn: 0.5040048\ttotal: 286ms\tremaining: 3.53s\n",
      "75:\tlearn: 0.5022630\ttotal: 289ms\tremaining: 3.51s\n",
      "76:\tlearn: 0.5003134\ttotal: 291ms\tremaining: 3.49s\n",
      "77:\tlearn: 0.4988087\ttotal: 295ms\tremaining: 3.48s\n",
      "78:\tlearn: 0.4978013\ttotal: 313ms\tremaining: 3.65s\n",
      "79:\tlearn: 0.4962949\ttotal: 320ms\tremaining: 3.68s\n",
      "80:\tlearn: 0.4950863\ttotal: 323ms\tremaining: 3.67s\n",
      "81:\tlearn: 0.4935612\ttotal: 326ms\tremaining: 3.65s\n",
      "82:\tlearn: 0.4922505\ttotal: 333ms\tremaining: 3.67s\n",
      "83:\tlearn: 0.4912281\ttotal: 339ms\tremaining: 3.7s\n",
      "84:\tlearn: 0.4898925\ttotal: 342ms\tremaining: 3.68s\n",
      "85:\tlearn: 0.4886268\ttotal: 345ms\tremaining: 3.66s\n",
      "86:\tlearn: 0.4871059\ttotal: 348ms\tremaining: 3.65s\n",
      "87:\tlearn: 0.4858583\ttotal: 352ms\tremaining: 3.64s\n",
      "88:\tlearn: 0.4848690\ttotal: 354ms\tremaining: 3.63s\n",
      "89:\tlearn: 0.4834436\ttotal: 357ms\tremaining: 3.61s\n",
      "90:\tlearn: 0.4825234\ttotal: 360ms\tremaining: 3.6s\n",
      "91:\tlearn: 0.4811601\ttotal: 365ms\tremaining: 3.6s\n",
      "92:\tlearn: 0.4798750\ttotal: 369ms\tremaining: 3.6s\n",
      "93:\tlearn: 0.4790895\ttotal: 371ms\tremaining: 3.58s\n",
      "94:\tlearn: 0.4773750\ttotal: 374ms\tremaining: 3.56s\n",
      "95:\tlearn: 0.4764890\ttotal: 376ms\tremaining: 3.54s\n",
      "96:\tlearn: 0.4753131\ttotal: 378ms\tremaining: 3.52s\n",
      "97:\tlearn: 0.4744993\ttotal: 381ms\tremaining: 3.5s\n",
      "98:\tlearn: 0.4736182\ttotal: 384ms\tremaining: 3.49s\n",
      "99:\tlearn: 0.4723562\ttotal: 386ms\tremaining: 3.48s\n",
      "100:\tlearn: 0.4714025\ttotal: 389ms\tremaining: 3.46s\n",
      "101:\tlearn: 0.4701129\ttotal: 392ms\tremaining: 3.45s\n",
      "102:\tlearn: 0.4694820\ttotal: 394ms\tremaining: 3.43s\n",
      "103:\tlearn: 0.4687085\ttotal: 397ms\tremaining: 3.42s\n",
      "104:\tlearn: 0.4677690\ttotal: 399ms\tremaining: 3.4s\n",
      "105:\tlearn: 0.4666207\ttotal: 402ms\tremaining: 3.39s\n",
      "106:\tlearn: 0.4657938\ttotal: 405ms\tremaining: 3.38s\n",
      "107:\tlearn: 0.4649760\ttotal: 407ms\tremaining: 3.36s\n",
      "108:\tlearn: 0.4638258\ttotal: 410ms\tremaining: 3.35s\n",
      "109:\tlearn: 0.4626494\ttotal: 413ms\tremaining: 3.34s\n",
      "110:\tlearn: 0.4617466\ttotal: 416ms\tremaining: 3.33s\n",
      "111:\tlearn: 0.4603464\ttotal: 418ms\tremaining: 3.32s\n",
      "112:\tlearn: 0.4593524\ttotal: 421ms\tremaining: 3.31s\n",
      "113:\tlearn: 0.4583501\ttotal: 424ms\tremaining: 3.3s\n",
      "114:\tlearn: 0.4577199\ttotal: 427ms\tremaining: 3.28s\n",
      "115:\tlearn: 0.4571917\ttotal: 430ms\tremaining: 3.27s\n",
      "116:\tlearn: 0.4564634\ttotal: 432ms\tremaining: 3.26s\n",
      "117:\tlearn: 0.4555375\ttotal: 435ms\tremaining: 3.25s\n",
      "118:\tlearn: 0.4545885\ttotal: 438ms\tremaining: 3.24s\n",
      "119:\tlearn: 0.4536216\ttotal: 441ms\tremaining: 3.23s\n",
      "120:\tlearn: 0.4529047\ttotal: 445ms\tremaining: 3.23s\n",
      "121:\tlearn: 0.4519754\ttotal: 448ms\tremaining: 3.22s\n",
      "122:\tlearn: 0.4514099\ttotal: 451ms\tremaining: 3.21s\n",
      "123:\tlearn: 0.4503692\ttotal: 453ms\tremaining: 3.2s\n",
      "124:\tlearn: 0.4496783\ttotal: 456ms\tremaining: 3.19s\n",
      "125:\tlearn: 0.4490290\ttotal: 458ms\tremaining: 3.18s\n",
      "126:\tlearn: 0.4482014\ttotal: 461ms\tremaining: 3.17s\n",
      "127:\tlearn: 0.4477363\ttotal: 464ms\tremaining: 3.16s\n",
      "128:\tlearn: 0.4469656\ttotal: 467ms\tremaining: 3.15s\n",
      "129:\tlearn: 0.4459452\ttotal: 470ms\tremaining: 3.14s\n",
      "130:\tlearn: 0.4453129\ttotal: 473ms\tremaining: 3.14s\n",
      "131:\tlearn: 0.4446146\ttotal: 476ms\tremaining: 3.13s\n",
      "132:\tlearn: 0.4437554\ttotal: 479ms\tremaining: 3.12s\n",
      "133:\tlearn: 0.4429023\ttotal: 482ms\tremaining: 3.11s\n",
      "134:\tlearn: 0.4420771\ttotal: 484ms\tremaining: 3.1s\n",
      "135:\tlearn: 0.4411144\ttotal: 487ms\tremaining: 3.09s\n",
      "136:\tlearn: 0.4405896\ttotal: 490ms\tremaining: 3.08s\n",
      "137:\tlearn: 0.4398019\ttotal: 492ms\tremaining: 3.07s\n",
      "138:\tlearn: 0.4389553\ttotal: 495ms\tremaining: 3.07s\n",
      "139:\tlearn: 0.4382528\ttotal: 499ms\tremaining: 3.06s\n",
      "140:\tlearn: 0.4373508\ttotal: 502ms\tremaining: 3.06s\n",
      "141:\tlearn: 0.4364891\ttotal: 504ms\tremaining: 3.05s\n",
      "142:\tlearn: 0.4360223\ttotal: 507ms\tremaining: 3.04s\n",
      "143:\tlearn: 0.4350901\ttotal: 509ms\tremaining: 3.03s\n",
      "144:\tlearn: 0.4344550\ttotal: 512ms\tremaining: 3.02s\n",
      "145:\tlearn: 0.4337853\ttotal: 515ms\tremaining: 3.01s\n",
      "146:\tlearn: 0.4332245\ttotal: 517ms\tremaining: 3s\n",
      "147:\tlearn: 0.4324476\ttotal: 520ms\tremaining: 3s\n",
      "148:\tlearn: 0.4317542\ttotal: 523ms\tremaining: 2.99s\n",
      "149:\tlearn: 0.4311346\ttotal: 526ms\tremaining: 2.98s\n",
      "150:\tlearn: 0.4305623\ttotal: 528ms\tremaining: 2.97s\n",
      "151:\tlearn: 0.4301755\ttotal: 531ms\tremaining: 2.96s\n",
      "152:\tlearn: 0.4292125\ttotal: 534ms\tremaining: 2.96s\n",
      "153:\tlearn: 0.4285416\ttotal: 539ms\tremaining: 2.96s\n",
      "154:\tlearn: 0.4280294\ttotal: 541ms\tremaining: 2.95s\n",
      "155:\tlearn: 0.4275579\ttotal: 544ms\tremaining: 2.94s\n",
      "156:\tlearn: 0.4268179\ttotal: 547ms\tremaining: 2.94s\n",
      "157:\tlearn: 0.4264828\ttotal: 550ms\tremaining: 2.93s\n",
      "158:\tlearn: 0.4256904\ttotal: 553ms\tremaining: 2.92s\n",
      "159:\tlearn: 0.4251552\ttotal: 555ms\tremaining: 2.92s\n",
      "160:\tlearn: 0.4245833\ttotal: 558ms\tremaining: 2.91s\n",
      "161:\tlearn: 0.4239457\ttotal: 561ms\tremaining: 2.9s\n",
      "162:\tlearn: 0.4233760\ttotal: 564ms\tremaining: 2.89s\n",
      "163:\tlearn: 0.4226460\ttotal: 567ms\tremaining: 2.89s\n",
      "164:\tlearn: 0.4221437\ttotal: 569ms\tremaining: 2.88s\n",
      "165:\tlearn: 0.4216970\ttotal: 575ms\tremaining: 2.89s\n",
      "166:\tlearn: 0.4210059\ttotal: 577ms\tremaining: 2.88s\n",
      "167:\tlearn: 0.4202233\ttotal: 580ms\tremaining: 2.87s\n",
      "168:\tlearn: 0.4198196\ttotal: 583ms\tremaining: 2.87s\n",
      "169:\tlearn: 0.4193012\ttotal: 586ms\tremaining: 2.86s\n",
      "170:\tlearn: 0.4188381\ttotal: 588ms\tremaining: 2.85s\n",
      "171:\tlearn: 0.4182044\ttotal: 591ms\tremaining: 2.84s\n",
      "172:\tlearn: 0.4175745\ttotal: 594ms\tremaining: 2.84s\n",
      "173:\tlearn: 0.4169702\ttotal: 596ms\tremaining: 2.83s\n",
      "174:\tlearn: 0.4164196\ttotal: 599ms\tremaining: 2.82s\n",
      "175:\tlearn: 0.4158331\ttotal: 602ms\tremaining: 2.82s\n",
      "176:\tlearn: 0.4150910\ttotal: 605ms\tremaining: 2.81s\n",
      "177:\tlearn: 0.4143495\ttotal: 607ms\tremaining: 2.81s\n",
      "178:\tlearn: 0.4136799\ttotal: 610ms\tremaining: 2.8s\n",
      "179:\tlearn: 0.4130056\ttotal: 613ms\tremaining: 2.79s\n",
      "180:\tlearn: 0.4124728\ttotal: 616ms\tremaining: 2.79s\n",
      "181:\tlearn: 0.4117263\ttotal: 618ms\tremaining: 2.78s\n",
      "182:\tlearn: 0.4111796\ttotal: 621ms\tremaining: 2.77s\n",
      "183:\tlearn: 0.4105850\ttotal: 624ms\tremaining: 2.77s\n",
      "184:\tlearn: 0.4097351\ttotal: 627ms\tremaining: 2.76s\n",
      "185:\tlearn: 0.4091360\ttotal: 630ms\tremaining: 2.75s\n",
      "186:\tlearn: 0.4083884\ttotal: 632ms\tremaining: 2.75s\n",
      "187:\tlearn: 0.4077657\ttotal: 637ms\tremaining: 2.75s\n",
      "188:\tlearn: 0.4071515\ttotal: 639ms\tremaining: 2.74s\n",
      "189:\tlearn: 0.4068124\ttotal: 642ms\tremaining: 2.74s\n",
      "190:\tlearn: 0.4062556\ttotal: 647ms\tremaining: 2.74s\n",
      "191:\tlearn: 0.4053932\ttotal: 651ms\tremaining: 2.74s\n",
      "192:\tlearn: 0.4047970\ttotal: 655ms\tremaining: 2.74s\n",
      "193:\tlearn: 0.4043311\ttotal: 656ms\tremaining: 2.73s\n",
      "194:\tlearn: 0.4038564\ttotal: 658ms\tremaining: 2.71s\n",
      "195:\tlearn: 0.4036122\ttotal: 659ms\tremaining: 2.7s\n",
      "196:\tlearn: 0.4032675\ttotal: 660ms\tremaining: 2.69s\n",
      "197:\tlearn: 0.4028566\ttotal: 661ms\tremaining: 2.67s\n",
      "198:\tlearn: 0.4024859\ttotal: 662ms\tremaining: 2.66s\n",
      "199:\tlearn: 0.4020325\ttotal: 663ms\tremaining: 2.65s\n",
      "200:\tlearn: 0.4016803\ttotal: 664ms\tremaining: 2.64s\n",
      "201:\tlearn: 0.4006766\ttotal: 665ms\tremaining: 2.63s\n",
      "202:\tlearn: 0.4002771\ttotal: 667ms\tremaining: 2.62s\n",
      "203:\tlearn: 0.3996592\ttotal: 668ms\tremaining: 2.6s\n",
      "204:\tlearn: 0.3992612\ttotal: 669ms\tremaining: 2.59s\n",
      "205:\tlearn: 0.3988023\ttotal: 670ms\tremaining: 2.58s\n",
      "206:\tlearn: 0.3980570\ttotal: 671ms\tremaining: 2.57s\n",
      "207:\tlearn: 0.3975550\ttotal: 672ms\tremaining: 2.56s\n",
      "208:\tlearn: 0.3970546\ttotal: 673ms\tremaining: 2.55s\n",
      "209:\tlearn: 0.3965185\ttotal: 675ms\tremaining: 2.54s\n",
      "210:\tlearn: 0.3960637\ttotal: 676ms\tremaining: 2.53s\n",
      "211:\tlearn: 0.3955964\ttotal: 677ms\tremaining: 2.52s\n",
      "212:\tlearn: 0.3949606\ttotal: 678ms\tremaining: 2.5s\n",
      "213:\tlearn: 0.3943067\ttotal: 679ms\tremaining: 2.49s\n",
      "214:\tlearn: 0.3936940\ttotal: 680ms\tremaining: 2.48s\n",
      "215:\tlearn: 0.3930640\ttotal: 681ms\tremaining: 2.47s\n",
      "216:\tlearn: 0.3924998\ttotal: 682ms\tremaining: 2.46s\n",
      "217:\tlearn: 0.3919291\ttotal: 684ms\tremaining: 2.45s\n",
      "218:\tlearn: 0.3912146\ttotal: 685ms\tremaining: 2.44s\n",
      "219:\tlearn: 0.3907078\ttotal: 686ms\tremaining: 2.43s\n",
      "220:\tlearn: 0.3902461\ttotal: 687ms\tremaining: 2.42s\n",
      "221:\tlearn: 0.3897910\ttotal: 688ms\tremaining: 2.41s\n",
      "222:\tlearn: 0.3893087\ttotal: 689ms\tremaining: 2.4s\n",
      "223:\tlearn: 0.3887610\ttotal: 690ms\tremaining: 2.39s\n",
      "224:\tlearn: 0.3883901\ttotal: 691ms\tremaining: 2.38s\n",
      "225:\tlearn: 0.3881243\ttotal: 693ms\tremaining: 2.37s\n",
      "226:\tlearn: 0.3876768\ttotal: 694ms\tremaining: 2.36s\n",
      "227:\tlearn: 0.3873697\ttotal: 695ms\tremaining: 2.35s\n",
      "228:\tlearn: 0.3868920\ttotal: 696ms\tremaining: 2.34s\n",
      "229:\tlearn: 0.3865551\ttotal: 697ms\tremaining: 2.33s\n",
      "230:\tlearn: 0.3862131\ttotal: 698ms\tremaining: 2.32s\n",
      "231:\tlearn: 0.3859391\ttotal: 699ms\tremaining: 2.31s\n",
      "232:\tlearn: 0.3855722\ttotal: 700ms\tremaining: 2.3s\n",
      "233:\tlearn: 0.3852398\ttotal: 701ms\tremaining: 2.29s\n",
      "234:\tlearn: 0.3847578\ttotal: 702ms\tremaining: 2.29s\n",
      "235:\tlearn: 0.3842952\ttotal: 703ms\tremaining: 2.28s\n",
      "236:\tlearn: 0.3839640\ttotal: 705ms\tremaining: 2.27s\n",
      "237:\tlearn: 0.3836752\ttotal: 706ms\tremaining: 2.26s\n",
      "238:\tlearn: 0.3833451\ttotal: 707ms\tremaining: 2.25s\n",
      "239:\tlearn: 0.3830634\ttotal: 709ms\tremaining: 2.24s\n",
      "240:\tlearn: 0.3826228\ttotal: 710ms\tremaining: 2.24s\n",
      "241:\tlearn: 0.3821786\ttotal: 712ms\tremaining: 2.23s\n",
      "242:\tlearn: 0.3816213\ttotal: 713ms\tremaining: 2.22s\n",
      "243:\tlearn: 0.3813613\ttotal: 714ms\tremaining: 2.21s\n",
      "244:\tlearn: 0.3808068\ttotal: 715ms\tremaining: 2.2s\n",
      "245:\tlearn: 0.3805184\ttotal: 717ms\tremaining: 2.2s\n",
      "246:\tlearn: 0.3801921\ttotal: 718ms\tremaining: 2.19s\n",
      "247:\tlearn: 0.3798100\ttotal: 719ms\tremaining: 2.18s\n",
      "248:\tlearn: 0.3792935\ttotal: 720ms\tremaining: 2.17s\n",
      "249:\tlearn: 0.3789749\ttotal: 721ms\tremaining: 2.16s\n",
      "250:\tlearn: 0.3784657\ttotal: 722ms\tremaining: 2.15s\n",
      "251:\tlearn: 0.3779589\ttotal: 723ms\tremaining: 2.15s\n",
      "252:\tlearn: 0.3775535\ttotal: 724ms\tremaining: 2.14s\n",
      "253:\tlearn: 0.3772388\ttotal: 726ms\tremaining: 2.13s\n",
      "254:\tlearn: 0.3769216\ttotal: 727ms\tremaining: 2.12s\n",
      "255:\tlearn: 0.3765759\ttotal: 728ms\tremaining: 2.12s\n",
      "256:\tlearn: 0.3760434\ttotal: 729ms\tremaining: 2.11s\n",
      "257:\tlearn: 0.3756057\ttotal: 730ms\tremaining: 2.1s\n",
      "258:\tlearn: 0.3752654\ttotal: 731ms\tremaining: 2.09s\n",
      "259:\tlearn: 0.3748637\ttotal: 732ms\tremaining: 2.08s\n",
      "260:\tlearn: 0.3746078\ttotal: 734ms\tremaining: 2.08s\n",
      "261:\tlearn: 0.3742391\ttotal: 735ms\tremaining: 2.07s\n",
      "262:\tlearn: 0.3738963\ttotal: 736ms\tremaining: 2.06s\n",
      "263:\tlearn: 0.3735442\ttotal: 737ms\tremaining: 2.06s\n",
      "264:\tlearn: 0.3730742\ttotal: 738ms\tremaining: 2.05s\n",
      "265:\tlearn: 0.3727941\ttotal: 739ms\tremaining: 2.04s\n",
      "266:\tlearn: 0.3725677\ttotal: 740ms\tremaining: 2.03s\n",
      "267:\tlearn: 0.3722431\ttotal: 741ms\tremaining: 2.02s\n",
      "268:\tlearn: 0.3716866\ttotal: 743ms\tremaining: 2.02s\n",
      "269:\tlearn: 0.3714272\ttotal: 744ms\tremaining: 2.01s\n",
      "270:\tlearn: 0.3709330\ttotal: 745ms\tremaining: 2s\n",
      "271:\tlearn: 0.3705981\ttotal: 746ms\tremaining: 2s\n",
      "272:\tlearn: 0.3701060\ttotal: 747ms\tremaining: 1.99s\n",
      "273:\tlearn: 0.3695405\ttotal: 748ms\tremaining: 1.98s\n",
      "274:\tlearn: 0.3692954\ttotal: 749ms\tremaining: 1.97s\n",
      "275:\tlearn: 0.3687537\ttotal: 750ms\tremaining: 1.97s\n",
      "276:\tlearn: 0.3683903\ttotal: 751ms\tremaining: 1.96s\n",
      "277:\tlearn: 0.3680001\ttotal: 753ms\tremaining: 1.95s\n",
      "278:\tlearn: 0.3675569\ttotal: 754ms\tremaining: 1.95s\n",
      "279:\tlearn: 0.3667415\ttotal: 755ms\tremaining: 1.94s\n",
      "280:\tlearn: 0.3663640\ttotal: 757ms\tremaining: 1.94s\n",
      "281:\tlearn: 0.3659878\ttotal: 758ms\tremaining: 1.93s\n",
      "282:\tlearn: 0.3655493\ttotal: 759ms\tremaining: 1.92s\n",
      "283:\tlearn: 0.3649823\ttotal: 760ms\tremaining: 1.92s\n",
      "284:\tlearn: 0.3645980\ttotal: 761ms\tremaining: 1.91s\n",
      "285:\tlearn: 0.3643217\ttotal: 762ms\tremaining: 1.9s\n",
      "286:\tlearn: 0.3639812\ttotal: 763ms\tremaining: 1.9s\n",
      "287:\tlearn: 0.3637303\ttotal: 764ms\tremaining: 1.89s\n",
      "288:\tlearn: 0.3632801\ttotal: 765ms\tremaining: 1.88s\n",
      "289:\tlearn: 0.3630604\ttotal: 767ms\tremaining: 1.88s\n",
      "290:\tlearn: 0.3630083\ttotal: 767ms\tremaining: 1.87s\n",
      "291:\tlearn: 0.3627276\ttotal: 768ms\tremaining: 1.86s\n",
      "292:\tlearn: 0.3623364\ttotal: 769ms\tremaining: 1.86s\n",
      "293:\tlearn: 0.3620107\ttotal: 770ms\tremaining: 1.85s\n",
      "294:\tlearn: 0.3617666\ttotal: 771ms\tremaining: 1.84s\n",
      "295:\tlearn: 0.3614950\ttotal: 772ms\tremaining: 1.84s\n",
      "296:\tlearn: 0.3612842\ttotal: 773ms\tremaining: 1.83s\n",
      "297:\tlearn: 0.3608682\ttotal: 775ms\tremaining: 1.82s\n",
      "298:\tlearn: 0.3605535\ttotal: 776ms\tremaining: 1.82s\n",
      "299:\tlearn: 0.3600838\ttotal: 777ms\tremaining: 1.81s\n",
      "300:\tlearn: 0.3599027\ttotal: 779ms\tremaining: 1.81s\n",
      "301:\tlearn: 0.3595920\ttotal: 787ms\tremaining: 1.82s\n",
      "302:\tlearn: 0.3594345\ttotal: 788ms\tremaining: 1.81s\n",
      "303:\tlearn: 0.3592802\ttotal: 789ms\tremaining: 1.8s\n",
      "304:\tlearn: 0.3589293\ttotal: 790ms\tremaining: 1.8s\n",
      "305:\tlearn: 0.3582701\ttotal: 791ms\tremaining: 1.79s\n",
      "306:\tlearn: 0.3578782\ttotal: 792ms\tremaining: 1.79s\n",
      "307:\tlearn: 0.3575560\ttotal: 793ms\tremaining: 1.78s\n",
      "308:\tlearn: 0.3571976\ttotal: 795ms\tremaining: 1.78s\n",
      "309:\tlearn: 0.3569383\ttotal: 797ms\tremaining: 1.77s\n",
      "310:\tlearn: 0.3566761\ttotal: 798ms\tremaining: 1.77s\n",
      "311:\tlearn: 0.3563989\ttotal: 800ms\tremaining: 1.76s\n",
      "312:\tlearn: 0.3560937\ttotal: 801ms\tremaining: 1.76s\n",
      "313:\tlearn: 0.3555810\ttotal: 802ms\tremaining: 1.75s\n",
      "314:\tlearn: 0.3550261\ttotal: 803ms\tremaining: 1.75s\n",
      "315:\tlearn: 0.3548220\ttotal: 804ms\tremaining: 1.74s\n",
      "316:\tlearn: 0.3544307\ttotal: 805ms\tremaining: 1.73s\n",
      "317:\tlearn: 0.3539690\ttotal: 806ms\tremaining: 1.73s\n",
      "318:\tlearn: 0.3536602\ttotal: 807ms\tremaining: 1.72s\n",
      "319:\tlearn: 0.3534878\ttotal: 809ms\tremaining: 1.72s\n",
      "320:\tlearn: 0.3529772\ttotal: 810ms\tremaining: 1.71s\n",
      "321:\tlearn: 0.3526660\ttotal: 811ms\tremaining: 1.71s\n",
      "322:\tlearn: 0.3523933\ttotal: 812ms\tremaining: 1.7s\n",
      "323:\tlearn: 0.3520672\ttotal: 813ms\tremaining: 1.7s\n",
      "324:\tlearn: 0.3518743\ttotal: 814ms\tremaining: 1.69s\n",
      "325:\tlearn: 0.3514124\ttotal: 815ms\tremaining: 1.69s\n",
      "326:\tlearn: 0.3510375\ttotal: 817ms\tremaining: 1.68s\n",
      "327:\tlearn: 0.3506816\ttotal: 818ms\tremaining: 1.68s\n",
      "328:\tlearn: 0.3503000\ttotal: 819ms\tremaining: 1.67s\n",
      "329:\tlearn: 0.3500498\ttotal: 821ms\tremaining: 1.67s\n",
      "330:\tlearn: 0.3497242\ttotal: 822ms\tremaining: 1.66s\n",
      "331:\tlearn: 0.3494998\ttotal: 824ms\tremaining: 1.66s\n",
      "332:\tlearn: 0.3491164\ttotal: 830ms\tremaining: 1.66s\n",
      "333:\tlearn: 0.3487092\ttotal: 831ms\tremaining: 1.66s\n",
      "334:\tlearn: 0.3485913\ttotal: 832ms\tremaining: 1.65s\n",
      "335:\tlearn: 0.3483883\ttotal: 834ms\tremaining: 1.65s\n",
      "336:\tlearn: 0.3480608\ttotal: 835ms\tremaining: 1.64s\n",
      "337:\tlearn: 0.3476835\ttotal: 836ms\tremaining: 1.64s\n",
      "338:\tlearn: 0.3474652\ttotal: 837ms\tremaining: 1.63s\n",
      "339:\tlearn: 0.3470545\ttotal: 837ms\tremaining: 1.63s\n",
      "340:\tlearn: 0.3468760\ttotal: 838ms\tremaining: 1.62s\n",
      "341:\tlearn: 0.3463420\ttotal: 839ms\tremaining: 1.61s\n",
      "342:\tlearn: 0.3459059\ttotal: 841ms\tremaining: 1.61s\n",
      "343:\tlearn: 0.3456017\ttotal: 842ms\tremaining: 1.61s\n",
      "344:\tlearn: 0.3453328\ttotal: 843ms\tremaining: 1.6s\n",
      "345:\tlearn: 0.3450795\ttotal: 844ms\tremaining: 1.6s\n",
      "346:\tlearn: 0.3448522\ttotal: 845ms\tremaining: 1.59s\n",
      "347:\tlearn: 0.3443276\ttotal: 846ms\tremaining: 1.58s\n",
      "348:\tlearn: 0.3441340\ttotal: 847ms\tremaining: 1.58s\n",
      "349:\tlearn: 0.3438864\ttotal: 848ms\tremaining: 1.57s\n",
      "350:\tlearn: 0.3436382\ttotal: 850ms\tremaining: 1.57s\n",
      "351:\tlearn: 0.3431203\ttotal: 851ms\tremaining: 1.57s\n",
      "352:\tlearn: 0.3428620\ttotal: 852ms\tremaining: 1.56s\n",
      "353:\tlearn: 0.3425388\ttotal: 853ms\tremaining: 1.56s\n",
      "354:\tlearn: 0.3422845\ttotal: 854ms\tremaining: 1.55s\n",
      "355:\tlearn: 0.3420395\ttotal: 855ms\tremaining: 1.55s\n",
      "356:\tlearn: 0.3417784\ttotal: 856ms\tremaining: 1.54s\n",
      "357:\tlearn: 0.3414476\ttotal: 858ms\tremaining: 1.54s\n",
      "358:\tlearn: 0.3411769\ttotal: 859ms\tremaining: 1.53s\n",
      "359:\tlearn: 0.3409217\ttotal: 861ms\tremaining: 1.53s\n",
      "360:\tlearn: 0.3407664\ttotal: 862ms\tremaining: 1.52s\n",
      "361:\tlearn: 0.3402904\ttotal: 863ms\tremaining: 1.52s\n",
      "362:\tlearn: 0.3398057\ttotal: 864ms\tremaining: 1.52s\n",
      "363:\tlearn: 0.3396078\ttotal: 865ms\tremaining: 1.51s\n",
      "364:\tlearn: 0.3390482\ttotal: 867ms\tremaining: 1.51s\n",
      "365:\tlearn: 0.3388365\ttotal: 868ms\tremaining: 1.5s\n",
      "366:\tlearn: 0.3386334\ttotal: 869ms\tremaining: 1.5s\n",
      "367:\tlearn: 0.3382616\ttotal: 871ms\tremaining: 1.5s\n",
      "368:\tlearn: 0.3381488\ttotal: 872ms\tremaining: 1.49s\n",
      "369:\tlearn: 0.3379001\ttotal: 873ms\tremaining: 1.49s\n",
      "370:\tlearn: 0.3376766\ttotal: 875ms\tremaining: 1.48s\n",
      "371:\tlearn: 0.3374700\ttotal: 876ms\tremaining: 1.48s\n",
      "372:\tlearn: 0.3372693\ttotal: 877ms\tremaining: 1.47s\n",
      "373:\tlearn: 0.3371130\ttotal: 878ms\tremaining: 1.47s\n",
      "374:\tlearn: 0.3365636\ttotal: 879ms\tremaining: 1.46s\n",
      "375:\tlearn: 0.3363364\ttotal: 880ms\tremaining: 1.46s\n",
      "376:\tlearn: 0.3361596\ttotal: 881ms\tremaining: 1.46s\n",
      "377:\tlearn: 0.3358471\ttotal: 882ms\tremaining: 1.45s\n",
      "378:\tlearn: 0.3354973\ttotal: 883ms\tremaining: 1.45s\n",
      "379:\tlearn: 0.3353667\ttotal: 885ms\tremaining: 1.44s\n",
      "380:\tlearn: 0.3350442\ttotal: 886ms\tremaining: 1.44s\n",
      "381:\tlearn: 0.3347882\ttotal: 887ms\tremaining: 1.44s\n",
      "382:\tlearn: 0.3345401\ttotal: 889ms\tremaining: 1.43s\n",
      "383:\tlearn: 0.3343264\ttotal: 890ms\tremaining: 1.43s\n",
      "384:\tlearn: 0.3340515\ttotal: 891ms\tremaining: 1.42s\n",
      "385:\tlearn: 0.3337552\ttotal: 892ms\tremaining: 1.42s\n",
      "386:\tlearn: 0.3334587\ttotal: 893ms\tremaining: 1.41s\n",
      "387:\tlearn: 0.3330979\ttotal: 894ms\tremaining: 1.41s\n",
      "388:\tlearn: 0.3327170\ttotal: 895ms\tremaining: 1.41s\n",
      "389:\tlearn: 0.3325281\ttotal: 896ms\tremaining: 1.4s\n",
      "390:\tlearn: 0.3322097\ttotal: 898ms\tremaining: 1.4s\n",
      "391:\tlearn: 0.3318684\ttotal: 899ms\tremaining: 1.39s\n",
      "392:\tlearn: 0.3316207\ttotal: 900ms\tremaining: 1.39s\n",
      "393:\tlearn: 0.3313610\ttotal: 901ms\tremaining: 1.39s\n",
      "394:\tlearn: 0.3311509\ttotal: 902ms\tremaining: 1.38s\n",
      "395:\tlearn: 0.3308043\ttotal: 903ms\tremaining: 1.38s\n",
      "396:\tlearn: 0.3303562\ttotal: 904ms\tremaining: 1.37s\n",
      "397:\tlearn: 0.3300912\ttotal: 905ms\tremaining: 1.37s\n",
      "398:\tlearn: 0.3297167\ttotal: 907ms\tremaining: 1.37s\n",
      "399:\tlearn: 0.3294412\ttotal: 908ms\tremaining: 1.36s\n",
      "400:\tlearn: 0.3292939\ttotal: 909ms\tremaining: 1.36s\n",
      "401:\tlearn: 0.3290553\ttotal: 910ms\tremaining: 1.35s\n",
      "402:\tlearn: 0.3288574\ttotal: 911ms\tremaining: 1.35s\n",
      "403:\tlearn: 0.3284216\ttotal: 912ms\tremaining: 1.34s\n",
      "404:\tlearn: 0.3279476\ttotal: 913ms\tremaining: 1.34s\n",
      "405:\tlearn: 0.3277538\ttotal: 915ms\tremaining: 1.34s\n",
      "406:\tlearn: 0.3276175\ttotal: 916ms\tremaining: 1.33s\n",
      "407:\tlearn: 0.3273788\ttotal: 917ms\tremaining: 1.33s\n",
      "408:\tlearn: 0.3271320\ttotal: 918ms\tremaining: 1.33s\n",
      "409:\tlearn: 0.3268597\ttotal: 919ms\tremaining: 1.32s\n",
      "410:\tlearn: 0.3265114\ttotal: 920ms\tremaining: 1.32s\n",
      "411:\tlearn: 0.3263685\ttotal: 921ms\tremaining: 1.31s\n",
      "412:\tlearn: 0.3259635\ttotal: 922ms\tremaining: 1.31s\n",
      "413:\tlearn: 0.3257151\ttotal: 923ms\tremaining: 1.31s\n",
      "414:\tlearn: 0.3254293\ttotal: 925ms\tremaining: 1.3s\n",
      "415:\tlearn: 0.3252291\ttotal: 926ms\tremaining: 1.3s\n",
      "416:\tlearn: 0.3250254\ttotal: 927ms\tremaining: 1.3s\n",
      "417:\tlearn: 0.3246722\ttotal: 928ms\tremaining: 1.29s\n",
      "418:\tlearn: 0.3244452\ttotal: 929ms\tremaining: 1.29s\n",
      "419:\tlearn: 0.3242492\ttotal: 930ms\tremaining: 1.28s\n",
      "420:\tlearn: 0.3240362\ttotal: 932ms\tremaining: 1.28s\n",
      "421:\tlearn: 0.3238410\ttotal: 934ms\tremaining: 1.28s\n",
      "422:\tlearn: 0.3237070\ttotal: 935ms\tremaining: 1.27s\n",
      "423:\tlearn: 0.3235678\ttotal: 937ms\tremaining: 1.27s\n",
      "424:\tlearn: 0.3233998\ttotal: 938ms\tremaining: 1.27s\n",
      "425:\tlearn: 0.3231125\ttotal: 939ms\tremaining: 1.26s\n",
      "426:\tlearn: 0.3229436\ttotal: 940ms\tremaining: 1.26s\n",
      "427:\tlearn: 0.3225554\ttotal: 941ms\tremaining: 1.26s\n",
      "428:\tlearn: 0.3224177\ttotal: 942ms\tremaining: 1.25s\n",
      "429:\tlearn: 0.3222414\ttotal: 943ms\tremaining: 1.25s\n",
      "430:\tlearn: 0.3220528\ttotal: 944ms\tremaining: 1.25s\n",
      "431:\tlearn: 0.3218484\ttotal: 946ms\tremaining: 1.24s\n",
      "432:\tlearn: 0.3216779\ttotal: 947ms\tremaining: 1.24s\n",
      "433:\tlearn: 0.3213317\ttotal: 948ms\tremaining: 1.24s\n",
      "434:\tlearn: 0.3211322\ttotal: 949ms\tremaining: 1.23s\n",
      "435:\tlearn: 0.3208965\ttotal: 950ms\tremaining: 1.23s\n",
      "436:\tlearn: 0.3206622\ttotal: 951ms\tremaining: 1.23s\n",
      "437:\tlearn: 0.3204663\ttotal: 952ms\tremaining: 1.22s\n",
      "438:\tlearn: 0.3202540\ttotal: 953ms\tremaining: 1.22s\n",
      "439:\tlearn: 0.3199491\ttotal: 955ms\tremaining: 1.21s\n",
      "440:\tlearn: 0.3197088\ttotal: 956ms\tremaining: 1.21s\n",
      "441:\tlearn: 0.3194030\ttotal: 958ms\tremaining: 1.21s\n",
      "442:\tlearn: 0.3192712\ttotal: 959ms\tremaining: 1.21s\n",
      "443:\tlearn: 0.3189032\ttotal: 960ms\tremaining: 1.2s\n",
      "444:\tlearn: 0.3186997\ttotal: 961ms\tremaining: 1.2s\n",
      "445:\tlearn: 0.3185493\ttotal: 962ms\tremaining: 1.2s\n",
      "446:\tlearn: 0.3183366\ttotal: 964ms\tremaining: 1.19s\n",
      "447:\tlearn: 0.3179806\ttotal: 966ms\tremaining: 1.19s\n",
      "448:\tlearn: 0.3177969\ttotal: 967ms\tremaining: 1.19s\n",
      "449:\tlearn: 0.3177217\ttotal: 968ms\tremaining: 1.18s\n",
      "450:\tlearn: 0.3174075\ttotal: 969ms\tremaining: 1.18s\n",
      "451:\tlearn: 0.3171535\ttotal: 970ms\tremaining: 1.18s\n",
      "452:\tlearn: 0.3170073\ttotal: 971ms\tremaining: 1.17s\n",
      "453:\tlearn: 0.3166226\ttotal: 972ms\tremaining: 1.17s\n",
      "454:\tlearn: 0.3163926\ttotal: 973ms\tremaining: 1.17s\n",
      "455:\tlearn: 0.3161395\ttotal: 974ms\tremaining: 1.16s\n",
      "456:\tlearn: 0.3159104\ttotal: 976ms\tremaining: 1.16s\n",
      "457:\tlearn: 0.3156387\ttotal: 977ms\tremaining: 1.16s\n",
      "458:\tlearn: 0.3153947\ttotal: 978ms\tremaining: 1.15s\n",
      "459:\tlearn: 0.3148240\ttotal: 979ms\tremaining: 1.15s\n",
      "460:\tlearn: 0.3146379\ttotal: 980ms\tremaining: 1.15s\n",
      "461:\tlearn: 0.3144452\ttotal: 981ms\tremaining: 1.14s\n",
      "462:\tlearn: 0.3142273\ttotal: 982ms\tremaining: 1.14s\n",
      "463:\tlearn: 0.3140177\ttotal: 984ms\tremaining: 1.14s\n",
      "464:\tlearn: 0.3138639\ttotal: 985ms\tremaining: 1.13s\n",
      "465:\tlearn: 0.3136508\ttotal: 986ms\tremaining: 1.13s\n",
      "466:\tlearn: 0.3134273\ttotal: 987ms\tremaining: 1.13s\n",
      "467:\tlearn: 0.3131590\ttotal: 988ms\tremaining: 1.12s\n",
      "468:\tlearn: 0.3130337\ttotal: 989ms\tremaining: 1.12s\n",
      "469:\tlearn: 0.3126513\ttotal: 990ms\tremaining: 1.12s\n",
      "470:\tlearn: 0.3125187\ttotal: 991ms\tremaining: 1.11s\n",
      "471:\tlearn: 0.3121427\ttotal: 992ms\tremaining: 1.11s\n",
      "472:\tlearn: 0.3119198\ttotal: 993ms\tremaining: 1.11s\n",
      "473:\tlearn: 0.3116346\ttotal: 994ms\tremaining: 1.1s\n",
      "474:\tlearn: 0.3114233\ttotal: 996ms\tremaining: 1.1s\n",
      "475:\tlearn: 0.3111613\ttotal: 997ms\tremaining: 1.1s\n",
      "476:\tlearn: 0.3109224\ttotal: 998ms\tremaining: 1.09s\n",
      "477:\tlearn: 0.3107491\ttotal: 999ms\tremaining: 1.09s\n",
      "478:\tlearn: 0.3104477\ttotal: 1s\tremaining: 1.09s\n",
      "479:\tlearn: 0.3102079\ttotal: 1s\tremaining: 1.08s\n",
      "480:\tlearn: 0.3099423\ttotal: 1s\tremaining: 1.08s\n",
      "481:\tlearn: 0.3097041\ttotal: 1s\tremaining: 1.08s\n",
      "482:\tlearn: 0.3094600\ttotal: 1s\tremaining: 1.08s\n",
      "483:\tlearn: 0.3092876\ttotal: 1.01s\tremaining: 1.07s\n",
      "484:\tlearn: 0.3088382\ttotal: 1.01s\tremaining: 1.07s\n",
      "485:\tlearn: 0.3084445\ttotal: 1.01s\tremaining: 1.07s\n",
      "486:\tlearn: 0.3082725\ttotal: 1.01s\tremaining: 1.06s\n",
      "487:\tlearn: 0.3079758\ttotal: 1.01s\tremaining: 1.06s\n",
      "488:\tlearn: 0.3078209\ttotal: 1.01s\tremaining: 1.06s\n",
      "489:\tlearn: 0.3075818\ttotal: 1.01s\tremaining: 1.05s\n",
      "490:\tlearn: 0.3074693\ttotal: 1.01s\tremaining: 1.05s\n",
      "491:\tlearn: 0.3072899\ttotal: 1.01s\tremaining: 1.05s\n",
      "492:\tlearn: 0.3071937\ttotal: 1.02s\tremaining: 1.04s\n",
      "493:\tlearn: 0.3068689\ttotal: 1.02s\tremaining: 1.04s\n",
      "494:\tlearn: 0.3066207\ttotal: 1.02s\tremaining: 1.04s\n",
      "495:\tlearn: 0.3064401\ttotal: 1.02s\tremaining: 1.04s\n",
      "496:\tlearn: 0.3061847\ttotal: 1.02s\tremaining: 1.03s\n",
      "497:\tlearn: 0.3060277\ttotal: 1.02s\tremaining: 1.03s\n",
      "498:\tlearn: 0.3056759\ttotal: 1.02s\tremaining: 1.03s\n",
      "499:\tlearn: 0.3054486\ttotal: 1.03s\tremaining: 1.03s\n",
      "500:\tlearn: 0.3052676\ttotal: 1.03s\tremaining: 1.02s\n",
      "501:\tlearn: 0.3050062\ttotal: 1.03s\tremaining: 1.02s\n",
      "502:\tlearn: 0.3048591\ttotal: 1.03s\tremaining: 1.02s\n",
      "503:\tlearn: 0.3046891\ttotal: 1.03s\tremaining: 1.02s\n",
      "504:\tlearn: 0.3044823\ttotal: 1.03s\tremaining: 1.01s\n",
      "505:\tlearn: 0.3043832\ttotal: 1.03s\tremaining: 1.01s\n",
      "506:\tlearn: 0.3040686\ttotal: 1.03s\tremaining: 1.01s\n",
      "507:\tlearn: 0.3039234\ttotal: 1.04s\tremaining: 1s\n",
      "508:\tlearn: 0.3036913\ttotal: 1.04s\tremaining: 1s\n",
      "509:\tlearn: 0.3035196\ttotal: 1.04s\tremaining: 999ms\n",
      "510:\tlearn: 0.3033518\ttotal: 1.04s\tremaining: 996ms\n",
      "511:\tlearn: 0.3030362\ttotal: 1.04s\tremaining: 993ms\n",
      "512:\tlearn: 0.3028115\ttotal: 1.04s\tremaining: 990ms\n",
      "513:\tlearn: 0.3026490\ttotal: 1.04s\tremaining: 987ms\n",
      "514:\tlearn: 0.3023814\ttotal: 1.04s\tremaining: 984ms\n",
      "515:\tlearn: 0.3021943\ttotal: 1.05s\tremaining: 981ms\n",
      "516:\tlearn: 0.3018777\ttotal: 1.05s\tremaining: 979ms\n",
      "517:\tlearn: 0.3016946\ttotal: 1.05s\tremaining: 976ms\n",
      "518:\tlearn: 0.3014792\ttotal: 1.05s\tremaining: 973ms\n",
      "519:\tlearn: 0.3011761\ttotal: 1.05s\tremaining: 970ms\n",
      "520:\tlearn: 0.3008634\ttotal: 1.05s\tremaining: 967ms\n",
      "521:\tlearn: 0.3006494\ttotal: 1.05s\tremaining: 964ms\n",
      "522:\tlearn: 0.3003779\ttotal: 1.05s\tremaining: 961ms\n",
      "523:\tlearn: 0.3002168\ttotal: 1.05s\tremaining: 959ms\n",
      "524:\tlearn: 0.3000948\ttotal: 1.06s\tremaining: 956ms\n",
      "525:\tlearn: 0.2999265\ttotal: 1.06s\tremaining: 953ms\n",
      "526:\tlearn: 0.2995532\ttotal: 1.06s\tremaining: 950ms\n",
      "527:\tlearn: 0.2993361\ttotal: 1.06s\tremaining: 948ms\n",
      "528:\tlearn: 0.2991956\ttotal: 1.06s\tremaining: 945ms\n",
      "529:\tlearn: 0.2989553\ttotal: 1.06s\tremaining: 942ms\n",
      "530:\tlearn: 0.2986215\ttotal: 1.06s\tremaining: 939ms\n",
      "531:\tlearn: 0.2984931\ttotal: 1.06s\tremaining: 936ms\n",
      "532:\tlearn: 0.2983430\ttotal: 1.06s\tremaining: 934ms\n",
      "533:\tlearn: 0.2981840\ttotal: 1.07s\tremaining: 931ms\n",
      "534:\tlearn: 0.2980141\ttotal: 1.07s\tremaining: 928ms\n",
      "535:\tlearn: 0.2976315\ttotal: 1.07s\tremaining: 925ms\n",
      "536:\tlearn: 0.2973872\ttotal: 1.07s\tremaining: 922ms\n",
      "537:\tlearn: 0.2971993\ttotal: 1.07s\tremaining: 919ms\n",
      "538:\tlearn: 0.2969830\ttotal: 1.07s\tremaining: 917ms\n",
      "539:\tlearn: 0.2968388\ttotal: 1.07s\tremaining: 914ms\n",
      "540:\tlearn: 0.2965696\ttotal: 1.07s\tremaining: 912ms\n",
      "541:\tlearn: 0.2962925\ttotal: 1.07s\tremaining: 909ms\n",
      "542:\tlearn: 0.2960853\ttotal: 1.08s\tremaining: 907ms\n",
      "543:\tlearn: 0.2959428\ttotal: 1.08s\tremaining: 904ms\n",
      "544:\tlearn: 0.2958079\ttotal: 1.08s\tremaining: 901ms\n",
      "545:\tlearn: 0.2957562\ttotal: 1.08s\tremaining: 899ms\n",
      "546:\tlearn: 0.2953382\ttotal: 1.08s\tremaining: 896ms\n",
      "547:\tlearn: 0.2951577\ttotal: 1.08s\tremaining: 893ms\n",
      "548:\tlearn: 0.2949240\ttotal: 1.08s\tremaining: 890ms\n",
      "549:\tlearn: 0.2946778\ttotal: 1.08s\tremaining: 888ms\n",
      "550:\tlearn: 0.2945257\ttotal: 1.09s\tremaining: 885ms\n",
      "551:\tlearn: 0.2944307\ttotal: 1.09s\tremaining: 883ms\n",
      "552:\tlearn: 0.2940901\ttotal: 1.09s\tremaining: 880ms\n",
      "553:\tlearn: 0.2938031\ttotal: 1.09s\tremaining: 877ms\n",
      "554:\tlearn: 0.2934561\ttotal: 1.09s\tremaining: 874ms\n",
      "555:\tlearn: 0.2932660\ttotal: 1.09s\tremaining: 872ms\n",
      "556:\tlearn: 0.2929916\ttotal: 1.09s\tremaining: 869ms\n",
      "557:\tlearn: 0.2927933\ttotal: 1.09s\tremaining: 866ms\n",
      "558:\tlearn: 0.2925328\ttotal: 1.09s\tremaining: 864ms\n",
      "559:\tlearn: 0.2922303\ttotal: 1.1s\tremaining: 862ms\n",
      "560:\tlearn: 0.2920765\ttotal: 1.1s\tremaining: 859ms\n",
      "561:\tlearn: 0.2918145\ttotal: 1.1s\tremaining: 856ms\n",
      "562:\tlearn: 0.2916375\ttotal: 1.1s\tremaining: 854ms\n",
      "563:\tlearn: 0.2914829\ttotal: 1.1s\tremaining: 851ms\n",
      "564:\tlearn: 0.2910638\ttotal: 1.1s\tremaining: 848ms\n",
      "565:\tlearn: 0.2908958\ttotal: 1.1s\tremaining: 846ms\n",
      "566:\tlearn: 0.2907343\ttotal: 1.1s\tremaining: 843ms\n",
      "567:\tlearn: 0.2905174\ttotal: 1.1s\tremaining: 841ms\n",
      "568:\tlearn: 0.2902585\ttotal: 1.11s\tremaining: 838ms\n",
      "569:\tlearn: 0.2901180\ttotal: 1.11s\tremaining: 836ms\n",
      "570:\tlearn: 0.2899184\ttotal: 1.11s\tremaining: 833ms\n",
      "571:\tlearn: 0.2896542\ttotal: 1.11s\tremaining: 830ms\n",
      "572:\tlearn: 0.2894509\ttotal: 1.11s\tremaining: 828ms\n",
      "573:\tlearn: 0.2891526\ttotal: 1.11s\tremaining: 825ms\n",
      "574:\tlearn: 0.2887725\ttotal: 1.11s\tremaining: 823ms\n",
      "575:\tlearn: 0.2885916\ttotal: 1.11s\tremaining: 820ms\n",
      "576:\tlearn: 0.2880820\ttotal: 1.11s\tremaining: 818ms\n",
      "577:\tlearn: 0.2878858\ttotal: 1.12s\tremaining: 815ms\n",
      "578:\tlearn: 0.2876501\ttotal: 1.12s\tremaining: 813ms\n",
      "579:\tlearn: 0.2875170\ttotal: 1.12s\tremaining: 810ms\n",
      "580:\tlearn: 0.2874345\ttotal: 1.12s\tremaining: 807ms\n",
      "581:\tlearn: 0.2872715\ttotal: 1.12s\tremaining: 806ms\n",
      "582:\tlearn: 0.2871782\ttotal: 1.12s\tremaining: 803ms\n",
      "583:\tlearn: 0.2870287\ttotal: 1.12s\tremaining: 801ms\n",
      "584:\tlearn: 0.2867327\ttotal: 1.13s\tremaining: 798ms\n",
      "585:\tlearn: 0.2864891\ttotal: 1.13s\tremaining: 796ms\n",
      "586:\tlearn: 0.2862786\ttotal: 1.13s\tremaining: 793ms\n",
      "587:\tlearn: 0.2861177\ttotal: 1.13s\tremaining: 791ms\n",
      "588:\tlearn: 0.2859050\ttotal: 1.13s\tremaining: 789ms\n",
      "589:\tlearn: 0.2858156\ttotal: 1.13s\tremaining: 786ms\n",
      "590:\tlearn: 0.2855058\ttotal: 1.13s\tremaining: 784ms\n",
      "591:\tlearn: 0.2854036\ttotal: 1.13s\tremaining: 781ms\n",
      "592:\tlearn: 0.2850342\ttotal: 1.13s\tremaining: 779ms\n",
      "593:\tlearn: 0.2848310\ttotal: 1.14s\tremaining: 776ms\n",
      "594:\tlearn: 0.2846381\ttotal: 1.14s\tremaining: 773ms\n",
      "595:\tlearn: 0.2844612\ttotal: 1.14s\tremaining: 771ms\n",
      "596:\tlearn: 0.2842541\ttotal: 1.14s\tremaining: 769ms\n",
      "597:\tlearn: 0.2839596\ttotal: 1.14s\tremaining: 767ms\n",
      "598:\tlearn: 0.2837934\ttotal: 1.14s\tremaining: 764ms\n",
      "599:\tlearn: 0.2836341\ttotal: 1.14s\tremaining: 762ms\n",
      "600:\tlearn: 0.2834750\ttotal: 1.14s\tremaining: 759ms\n",
      "601:\tlearn: 0.2832998\ttotal: 1.14s\tremaining: 757ms\n",
      "602:\tlearn: 0.2830953\ttotal: 1.15s\tremaining: 754ms\n",
      "603:\tlearn: 0.2828291\ttotal: 1.15s\tremaining: 752ms\n",
      "604:\tlearn: 0.2827950\ttotal: 1.15s\tremaining: 750ms\n",
      "605:\tlearn: 0.2826416\ttotal: 1.15s\tremaining: 747ms\n",
      "606:\tlearn: 0.2825216\ttotal: 1.15s\tremaining: 745ms\n",
      "607:\tlearn: 0.2823220\ttotal: 1.15s\tremaining: 742ms\n",
      "608:\tlearn: 0.2820694\ttotal: 1.15s\tremaining: 740ms\n",
      "609:\tlearn: 0.2819678\ttotal: 1.15s\tremaining: 737ms\n",
      "610:\tlearn: 0.2815668\ttotal: 1.15s\tremaining: 735ms\n",
      "611:\tlearn: 0.2814008\ttotal: 1.16s\tremaining: 733ms\n",
      "612:\tlearn: 0.2811170\ttotal: 1.16s\tremaining: 730ms\n",
      "613:\tlearn: 0.2808980\ttotal: 1.16s\tremaining: 728ms\n",
      "614:\tlearn: 0.2807355\ttotal: 1.16s\tremaining: 726ms\n",
      "615:\tlearn: 0.2803307\ttotal: 1.16s\tremaining: 724ms\n",
      "616:\tlearn: 0.2802327\ttotal: 1.16s\tremaining: 721ms\n",
      "617:\tlearn: 0.2799626\ttotal: 1.16s\tremaining: 719ms\n",
      "618:\tlearn: 0.2796249\ttotal: 1.16s\tremaining: 716ms\n",
      "619:\tlearn: 0.2793893\ttotal: 1.16s\tremaining: 714ms\n",
      "620:\tlearn: 0.2792129\ttotal: 1.17s\tremaining: 712ms\n",
      "621:\tlearn: 0.2790486\ttotal: 1.17s\tremaining: 709ms\n",
      "622:\tlearn: 0.2789348\ttotal: 1.17s\tremaining: 707ms\n",
      "623:\tlearn: 0.2788127\ttotal: 1.17s\tremaining: 705ms\n",
      "624:\tlearn: 0.2787384\ttotal: 1.17s\tremaining: 702ms\n",
      "625:\tlearn: 0.2785405\ttotal: 1.17s\tremaining: 700ms\n",
      "626:\tlearn: 0.2783477\ttotal: 1.17s\tremaining: 697ms\n",
      "627:\tlearn: 0.2781907\ttotal: 1.17s\tremaining: 695ms\n",
      "628:\tlearn: 0.2778617\ttotal: 1.17s\tremaining: 693ms\n",
      "629:\tlearn: 0.2776334\ttotal: 1.18s\tremaining: 691ms\n",
      "630:\tlearn: 0.2774292\ttotal: 1.18s\tremaining: 688ms\n",
      "631:\tlearn: 0.2773664\ttotal: 1.18s\tremaining: 686ms\n",
      "632:\tlearn: 0.2771717\ttotal: 1.18s\tremaining: 684ms\n",
      "633:\tlearn: 0.2770201\ttotal: 1.18s\tremaining: 681ms\n",
      "634:\tlearn: 0.2769057\ttotal: 1.18s\tremaining: 679ms\n",
      "635:\tlearn: 0.2767446\ttotal: 1.18s\tremaining: 677ms\n",
      "636:\tlearn: 0.2765379\ttotal: 1.18s\tremaining: 674ms\n",
      "637:\tlearn: 0.2762667\ttotal: 1.18s\tremaining: 672ms\n",
      "638:\tlearn: 0.2760866\ttotal: 1.19s\tremaining: 670ms\n",
      "639:\tlearn: 0.2758506\ttotal: 1.19s\tremaining: 668ms\n",
      "640:\tlearn: 0.2756689\ttotal: 1.19s\tremaining: 666ms\n",
      "641:\tlearn: 0.2753938\ttotal: 1.19s\tremaining: 665ms\n",
      "642:\tlearn: 0.2752421\ttotal: 1.19s\tremaining: 662ms\n",
      "643:\tlearn: 0.2751555\ttotal: 1.19s\tremaining: 660ms\n",
      "644:\tlearn: 0.2748933\ttotal: 1.19s\tremaining: 658ms\n",
      "645:\tlearn: 0.2744921\ttotal: 1.2s\tremaining: 655ms\n",
      "646:\tlearn: 0.2741317\ttotal: 1.2s\tremaining: 654ms\n",
      "647:\tlearn: 0.2740254\ttotal: 1.21s\tremaining: 657ms\n",
      "648:\tlearn: 0.2738274\ttotal: 1.21s\tremaining: 654ms\n",
      "649:\tlearn: 0.2735327\ttotal: 1.21s\tremaining: 652ms\n",
      "650:\tlearn: 0.2734540\ttotal: 1.21s\tremaining: 650ms\n",
      "651:\tlearn: 0.2732052\ttotal: 1.21s\tremaining: 647ms\n",
      "652:\tlearn: 0.2730031\ttotal: 1.21s\tremaining: 645ms\n",
      "653:\tlearn: 0.2727649\ttotal: 1.22s\tremaining: 643ms\n",
      "654:\tlearn: 0.2726743\ttotal: 1.22s\tremaining: 641ms\n",
      "655:\tlearn: 0.2723929\ttotal: 1.22s\tremaining: 639ms\n",
      "656:\tlearn: 0.2720814\ttotal: 1.22s\tremaining: 637ms\n",
      "657:\tlearn: 0.2719703\ttotal: 1.22s\tremaining: 634ms\n",
      "658:\tlearn: 0.2718384\ttotal: 1.22s\tremaining: 632ms\n",
      "659:\tlearn: 0.2717044\ttotal: 1.22s\tremaining: 630ms\n",
      "660:\tlearn: 0.2712515\ttotal: 1.22s\tremaining: 628ms\n",
      "661:\tlearn: 0.2709756\ttotal: 1.23s\tremaining: 626ms\n",
      "662:\tlearn: 0.2706663\ttotal: 1.23s\tremaining: 623ms\n",
      "663:\tlearn: 0.2704372\ttotal: 1.23s\tremaining: 621ms\n",
      "664:\tlearn: 0.2702347\ttotal: 1.23s\tremaining: 619ms\n",
      "665:\tlearn: 0.2700628\ttotal: 1.23s\tremaining: 616ms\n",
      "666:\tlearn: 0.2697994\ttotal: 1.23s\tremaining: 614ms\n",
      "667:\tlearn: 0.2696124\ttotal: 1.23s\tremaining: 612ms\n",
      "668:\tlearn: 0.2694786\ttotal: 1.23s\tremaining: 610ms\n",
      "669:\tlearn: 0.2693099\ttotal: 1.23s\tremaining: 608ms\n",
      "670:\tlearn: 0.2692976\ttotal: 1.23s\tremaining: 605ms\n",
      "671:\tlearn: 0.2690187\ttotal: 1.24s\tremaining: 603ms\n",
      "672:\tlearn: 0.2688330\ttotal: 1.24s\tremaining: 601ms\n",
      "673:\tlearn: 0.2685534\ttotal: 1.24s\tremaining: 599ms\n",
      "674:\tlearn: 0.2684033\ttotal: 1.24s\tremaining: 597ms\n",
      "675:\tlearn: 0.2681168\ttotal: 1.24s\tremaining: 595ms\n",
      "676:\tlearn: 0.2680188\ttotal: 1.24s\tremaining: 592ms\n",
      "677:\tlearn: 0.2678082\ttotal: 1.24s\tremaining: 590ms\n",
      "678:\tlearn: 0.2677092\ttotal: 1.24s\tremaining: 588ms\n",
      "679:\tlearn: 0.2674263\ttotal: 1.25s\tremaining: 586ms\n",
      "680:\tlearn: 0.2672121\ttotal: 1.25s\tremaining: 584ms\n",
      "681:\tlearn: 0.2670251\ttotal: 1.25s\tremaining: 582ms\n",
      "682:\tlearn: 0.2667625\ttotal: 1.25s\tremaining: 580ms\n",
      "683:\tlearn: 0.2666524\ttotal: 1.25s\tremaining: 577ms\n",
      "684:\tlearn: 0.2664308\ttotal: 1.25s\tremaining: 575ms\n",
      "685:\tlearn: 0.2661045\ttotal: 1.25s\tremaining: 573ms\n",
      "686:\tlearn: 0.2658124\ttotal: 1.25s\tremaining: 572ms\n",
      "687:\tlearn: 0.2656007\ttotal: 1.25s\tremaining: 569ms\n",
      "688:\tlearn: 0.2653347\ttotal: 1.26s\tremaining: 567ms\n",
      "689:\tlearn: 0.2651038\ttotal: 1.26s\tremaining: 565ms\n",
      "690:\tlearn: 0.2648409\ttotal: 1.26s\tremaining: 563ms\n",
      "691:\tlearn: 0.2646753\ttotal: 1.26s\tremaining: 561ms\n",
      "692:\tlearn: 0.2644925\ttotal: 1.26s\tremaining: 559ms\n",
      "693:\tlearn: 0.2643239\ttotal: 1.26s\tremaining: 557ms\n",
      "694:\tlearn: 0.2640864\ttotal: 1.26s\tremaining: 555ms\n",
      "695:\tlearn: 0.2638871\ttotal: 1.26s\tremaining: 552ms\n",
      "696:\tlearn: 0.2637321\ttotal: 1.26s\tremaining: 550ms\n",
      "697:\tlearn: 0.2635630\ttotal: 1.27s\tremaining: 548ms\n",
      "698:\tlearn: 0.2633182\ttotal: 1.27s\tremaining: 546ms\n",
      "699:\tlearn: 0.2631249\ttotal: 1.27s\tremaining: 544ms\n",
      "700:\tlearn: 0.2629278\ttotal: 1.27s\tremaining: 542ms\n",
      "701:\tlearn: 0.2628406\ttotal: 1.27s\tremaining: 540ms\n",
      "702:\tlearn: 0.2626252\ttotal: 1.27s\tremaining: 538ms\n",
      "703:\tlearn: 0.2622706\ttotal: 1.27s\tremaining: 535ms\n",
      "704:\tlearn: 0.2620255\ttotal: 1.27s\tremaining: 533ms\n",
      "705:\tlearn: 0.2619225\ttotal: 1.27s\tremaining: 531ms\n",
      "706:\tlearn: 0.2618279\ttotal: 1.28s\tremaining: 529ms\n",
      "707:\tlearn: 0.2615475\ttotal: 1.28s\tremaining: 527ms\n",
      "708:\tlearn: 0.2613515\ttotal: 1.28s\tremaining: 525ms\n",
      "709:\tlearn: 0.2611595\ttotal: 1.28s\tremaining: 523ms\n",
      "710:\tlearn: 0.2609607\ttotal: 1.28s\tremaining: 521ms\n",
      "711:\tlearn: 0.2604662\ttotal: 1.28s\tremaining: 519ms\n",
      "712:\tlearn: 0.2600896\ttotal: 1.28s\tremaining: 517ms\n",
      "713:\tlearn: 0.2597291\ttotal: 1.28s\tremaining: 515ms\n",
      "714:\tlearn: 0.2596141\ttotal: 1.29s\tremaining: 513ms\n",
      "715:\tlearn: 0.2594429\ttotal: 1.29s\tremaining: 511ms\n",
      "716:\tlearn: 0.2592497\ttotal: 1.29s\tremaining: 509ms\n",
      "717:\tlearn: 0.2591491\ttotal: 1.29s\tremaining: 507ms\n",
      "718:\tlearn: 0.2588871\ttotal: 1.29s\tremaining: 504ms\n",
      "719:\tlearn: 0.2586671\ttotal: 1.29s\tremaining: 502ms\n",
      "720:\tlearn: 0.2584366\ttotal: 1.29s\tremaining: 500ms\n",
      "721:\tlearn: 0.2582377\ttotal: 1.29s\tremaining: 498ms\n",
      "722:\tlearn: 0.2581016\ttotal: 1.29s\tremaining: 496ms\n",
      "723:\tlearn: 0.2578429\ttotal: 1.3s\tremaining: 494ms\n",
      "724:\tlearn: 0.2576522\ttotal: 1.3s\tremaining: 492ms\n",
      "725:\tlearn: 0.2573882\ttotal: 1.3s\tremaining: 490ms\n",
      "726:\tlearn: 0.2571777\ttotal: 1.3s\tremaining: 488ms\n",
      "727:\tlearn: 0.2570321\ttotal: 1.3s\tremaining: 486ms\n",
      "728:\tlearn: 0.2567242\ttotal: 1.3s\tremaining: 484ms\n",
      "729:\tlearn: 0.2564814\ttotal: 1.3s\tremaining: 482ms\n",
      "730:\tlearn: 0.2563081\ttotal: 1.3s\tremaining: 480ms\n",
      "731:\tlearn: 0.2562308\ttotal: 1.3s\tremaining: 478ms\n",
      "732:\tlearn: 0.2559605\ttotal: 1.31s\tremaining: 476ms\n",
      "733:\tlearn: 0.2556401\ttotal: 1.31s\tremaining: 474ms\n",
      "734:\tlearn: 0.2553211\ttotal: 1.31s\tremaining: 472ms\n",
      "735:\tlearn: 0.2551964\ttotal: 1.31s\tremaining: 470ms\n",
      "736:\tlearn: 0.2550896\ttotal: 1.31s\tremaining: 468ms\n",
      "737:\tlearn: 0.2548862\ttotal: 1.31s\tremaining: 466ms\n",
      "738:\tlearn: 0.2545915\ttotal: 1.31s\tremaining: 464ms\n",
      "739:\tlearn: 0.2543029\ttotal: 1.31s\tremaining: 462ms\n",
      "740:\tlearn: 0.2539261\ttotal: 1.32s\tremaining: 460ms\n",
      "741:\tlearn: 0.2537772\ttotal: 1.32s\tremaining: 458ms\n",
      "742:\tlearn: 0.2534928\ttotal: 1.32s\tremaining: 456ms\n",
      "743:\tlearn: 0.2529877\ttotal: 1.32s\tremaining: 454ms\n",
      "744:\tlearn: 0.2527308\ttotal: 1.32s\tremaining: 452ms\n",
      "745:\tlearn: 0.2526199\ttotal: 1.32s\tremaining: 450ms\n",
      "746:\tlearn: 0.2524224\ttotal: 1.32s\tremaining: 449ms\n",
      "747:\tlearn: 0.2521966\ttotal: 1.32s\tremaining: 446ms\n",
      "748:\tlearn: 0.2519460\ttotal: 1.33s\tremaining: 444ms\n",
      "749:\tlearn: 0.2517535\ttotal: 1.33s\tremaining: 442ms\n",
      "750:\tlearn: 0.2515405\ttotal: 1.33s\tremaining: 440ms\n",
      "751:\tlearn: 0.2513685\ttotal: 1.33s\tremaining: 438ms\n",
      "752:\tlearn: 0.2512397\ttotal: 1.33s\tremaining: 436ms\n",
      "753:\tlearn: 0.2510898\ttotal: 1.33s\tremaining: 435ms\n",
      "754:\tlearn: 0.2510034\ttotal: 1.33s\tremaining: 433ms\n",
      "755:\tlearn: 0.2508167\ttotal: 1.33s\tremaining: 431ms\n",
      "756:\tlearn: 0.2507036\ttotal: 1.33s\tremaining: 429ms\n",
      "757:\tlearn: 0.2504257\ttotal: 1.34s\tremaining: 427ms\n",
      "758:\tlearn: 0.2501445\ttotal: 1.34s\tremaining: 425ms\n",
      "759:\tlearn: 0.2499587\ttotal: 1.34s\tremaining: 423ms\n",
      "760:\tlearn: 0.2497951\ttotal: 1.34s\tremaining: 421ms\n",
      "761:\tlearn: 0.2496530\ttotal: 1.34s\tremaining: 419ms\n",
      "762:\tlearn: 0.2495441\ttotal: 1.34s\tremaining: 417ms\n",
      "763:\tlearn: 0.2493524\ttotal: 1.34s\tremaining: 415ms\n",
      "764:\tlearn: 0.2492126\ttotal: 1.34s\tremaining: 413ms\n",
      "765:\tlearn: 0.2489815\ttotal: 1.34s\tremaining: 411ms\n",
      "766:\tlearn: 0.2487241\ttotal: 1.35s\tremaining: 409ms\n",
      "767:\tlearn: 0.2486119\ttotal: 1.35s\tremaining: 407ms\n",
      "768:\tlearn: 0.2483800\ttotal: 1.35s\tremaining: 405ms\n",
      "769:\tlearn: 0.2481891\ttotal: 1.35s\tremaining: 404ms\n",
      "770:\tlearn: 0.2480304\ttotal: 1.35s\tremaining: 402ms\n",
      "771:\tlearn: 0.2477586\ttotal: 1.35s\tremaining: 400ms\n",
      "772:\tlearn: 0.2476493\ttotal: 1.35s\tremaining: 398ms\n",
      "773:\tlearn: 0.2475263\ttotal: 1.36s\tremaining: 396ms\n",
      "774:\tlearn: 0.2474748\ttotal: 1.36s\tremaining: 394ms\n",
      "775:\tlearn: 0.2470361\ttotal: 1.36s\tremaining: 392ms\n",
      "776:\tlearn: 0.2468177\ttotal: 1.36s\tremaining: 390ms\n",
      "777:\tlearn: 0.2465496\ttotal: 1.36s\tremaining: 388ms\n",
      "778:\tlearn: 0.2462541\ttotal: 1.36s\tremaining: 387ms\n",
      "779:\tlearn: 0.2460835\ttotal: 1.36s\tremaining: 385ms\n",
      "780:\tlearn: 0.2458763\ttotal: 1.36s\tremaining: 383ms\n",
      "781:\tlearn: 0.2457387\ttotal: 1.36s\tremaining: 381ms\n",
      "782:\tlearn: 0.2455367\ttotal: 1.37s\tremaining: 380ms\n",
      "783:\tlearn: 0.2454400\ttotal: 1.37s\tremaining: 378ms\n",
      "784:\tlearn: 0.2453002\ttotal: 1.37s\tremaining: 376ms\n",
      "785:\tlearn: 0.2452213\ttotal: 1.37s\tremaining: 374ms\n",
      "786:\tlearn: 0.2450467\ttotal: 1.37s\tremaining: 372ms\n",
      "787:\tlearn: 0.2446165\ttotal: 1.37s\tremaining: 370ms\n",
      "788:\tlearn: 0.2444768\ttotal: 1.38s\tremaining: 368ms\n",
      "789:\tlearn: 0.2442164\ttotal: 1.38s\tremaining: 366ms\n",
      "790:\tlearn: 0.2441131\ttotal: 1.38s\tremaining: 364ms\n",
      "791:\tlearn: 0.2438779\ttotal: 1.38s\tremaining: 362ms\n",
      "792:\tlearn: 0.2437026\ttotal: 1.38s\tremaining: 360ms\n",
      "793:\tlearn: 0.2434532\ttotal: 1.38s\tremaining: 358ms\n",
      "794:\tlearn: 0.2431456\ttotal: 1.38s\tremaining: 357ms\n",
      "795:\tlearn: 0.2429198\ttotal: 1.38s\tremaining: 355ms\n",
      "796:\tlearn: 0.2426809\ttotal: 1.39s\tremaining: 353ms\n",
      "797:\tlearn: 0.2425748\ttotal: 1.39s\tremaining: 351ms\n",
      "798:\tlearn: 0.2423704\ttotal: 1.39s\tremaining: 349ms\n",
      "799:\tlearn: 0.2420648\ttotal: 1.39s\tremaining: 347ms\n",
      "800:\tlearn: 0.2418617\ttotal: 1.39s\tremaining: 345ms\n",
      "801:\tlearn: 0.2418102\ttotal: 1.39s\tremaining: 343ms\n",
      "802:\tlearn: 0.2416288\ttotal: 1.39s\tremaining: 342ms\n",
      "803:\tlearn: 0.2415248\ttotal: 1.39s\tremaining: 340ms\n",
      "804:\tlearn: 0.2413315\ttotal: 1.4s\tremaining: 338ms\n",
      "805:\tlearn: 0.2411531\ttotal: 1.4s\tremaining: 336ms\n",
      "806:\tlearn: 0.2409396\ttotal: 1.4s\tremaining: 334ms\n",
      "807:\tlearn: 0.2408484\ttotal: 1.4s\tremaining: 332ms\n",
      "808:\tlearn: 0.2407713\ttotal: 1.4s\tremaining: 330ms\n",
      "809:\tlearn: 0.2405669\ttotal: 1.4s\tremaining: 329ms\n",
      "810:\tlearn: 0.2403683\ttotal: 1.4s\tremaining: 327ms\n",
      "811:\tlearn: 0.2401415\ttotal: 1.4s\tremaining: 325ms\n",
      "812:\tlearn: 0.2398810\ttotal: 1.4s\tremaining: 323ms\n",
      "813:\tlearn: 0.2396168\ttotal: 1.41s\tremaining: 321ms\n",
      "814:\tlearn: 0.2394929\ttotal: 1.41s\tremaining: 319ms\n",
      "815:\tlearn: 0.2393984\ttotal: 1.41s\tremaining: 317ms\n",
      "816:\tlearn: 0.2391809\ttotal: 1.41s\tremaining: 316ms\n",
      "817:\tlearn: 0.2390085\ttotal: 1.41s\tremaining: 314ms\n",
      "818:\tlearn: 0.2389566\ttotal: 1.41s\tremaining: 312ms\n",
      "819:\tlearn: 0.2387644\ttotal: 1.41s\tremaining: 310ms\n",
      "820:\tlearn: 0.2385693\ttotal: 1.41s\tremaining: 308ms\n",
      "821:\tlearn: 0.2385125\ttotal: 1.41s\tremaining: 306ms\n",
      "822:\tlearn: 0.2382347\ttotal: 1.42s\tremaining: 305ms\n",
      "823:\tlearn: 0.2380055\ttotal: 1.42s\tremaining: 303ms\n",
      "824:\tlearn: 0.2378713\ttotal: 1.42s\tremaining: 301ms\n",
      "825:\tlearn: 0.2377857\ttotal: 1.42s\tremaining: 299ms\n",
      "826:\tlearn: 0.2376570\ttotal: 1.42s\tremaining: 297ms\n",
      "827:\tlearn: 0.2374430\ttotal: 1.42s\tremaining: 295ms\n",
      "828:\tlearn: 0.2373438\ttotal: 1.42s\tremaining: 294ms\n",
      "829:\tlearn: 0.2371173\ttotal: 1.42s\tremaining: 292ms\n",
      "830:\tlearn: 0.2369217\ttotal: 1.43s\tremaining: 290ms\n",
      "831:\tlearn: 0.2367691\ttotal: 1.43s\tremaining: 288ms\n",
      "832:\tlearn: 0.2365094\ttotal: 1.43s\tremaining: 286ms\n",
      "833:\tlearn: 0.2363532\ttotal: 1.43s\tremaining: 284ms\n",
      "834:\tlearn: 0.2362692\ttotal: 1.43s\tremaining: 283ms\n",
      "835:\tlearn: 0.2361532\ttotal: 1.43s\tremaining: 281ms\n",
      "836:\tlearn: 0.2360501\ttotal: 1.43s\tremaining: 279ms\n",
      "837:\tlearn: 0.2358318\ttotal: 1.43s\tremaining: 277ms\n",
      "838:\tlearn: 0.2356800\ttotal: 1.43s\tremaining: 275ms\n",
      "839:\tlearn: 0.2355494\ttotal: 1.44s\tremaining: 273ms\n",
      "840:\tlearn: 0.2353386\ttotal: 1.44s\tremaining: 272ms\n",
      "841:\tlearn: 0.2350860\ttotal: 1.44s\tremaining: 270ms\n",
      "842:\tlearn: 0.2348276\ttotal: 1.44s\tremaining: 268ms\n",
      "843:\tlearn: 0.2347700\ttotal: 1.44s\tremaining: 266ms\n",
      "844:\tlearn: 0.2346035\ttotal: 1.44s\tremaining: 265ms\n",
      "845:\tlearn: 0.2344866\ttotal: 1.45s\tremaining: 264ms\n",
      "846:\tlearn: 0.2343780\ttotal: 1.45s\tremaining: 263ms\n",
      "847:\tlearn: 0.2342792\ttotal: 1.45s\tremaining: 261ms\n",
      "848:\tlearn: 0.2342294\ttotal: 1.46s\tremaining: 259ms\n",
      "849:\tlearn: 0.2340902\ttotal: 1.46s\tremaining: 257ms\n",
      "850:\tlearn: 0.2338694\ttotal: 1.46s\tremaining: 255ms\n",
      "851:\tlearn: 0.2336225\ttotal: 1.46s\tremaining: 254ms\n",
      "852:\tlearn: 0.2335010\ttotal: 1.46s\tremaining: 252ms\n",
      "853:\tlearn: 0.2332473\ttotal: 1.46s\tremaining: 250ms\n",
      "854:\tlearn: 0.2330636\ttotal: 1.46s\tremaining: 248ms\n",
      "855:\tlearn: 0.2330233\ttotal: 1.46s\tremaining: 246ms\n",
      "856:\tlearn: 0.2328620\ttotal: 1.46s\tremaining: 244ms\n",
      "857:\tlearn: 0.2327725\ttotal: 1.47s\tremaining: 243ms\n",
      "858:\tlearn: 0.2326455\ttotal: 1.47s\tremaining: 241ms\n",
      "859:\tlearn: 0.2324203\ttotal: 1.47s\tremaining: 239ms\n",
      "860:\tlearn: 0.2323364\ttotal: 1.47s\tremaining: 237ms\n",
      "861:\tlearn: 0.2321011\ttotal: 1.47s\tremaining: 235ms\n",
      "862:\tlearn: 0.2319261\ttotal: 1.47s\tremaining: 234ms\n",
      "863:\tlearn: 0.2316577\ttotal: 1.47s\tremaining: 232ms\n",
      "864:\tlearn: 0.2315225\ttotal: 1.47s\tremaining: 230ms\n",
      "865:\tlearn: 0.2313921\ttotal: 1.47s\tremaining: 228ms\n",
      "866:\tlearn: 0.2311811\ttotal: 1.48s\tremaining: 226ms\n",
      "867:\tlearn: 0.2310573\ttotal: 1.48s\tremaining: 225ms\n",
      "868:\tlearn: 0.2308479\ttotal: 1.48s\tremaining: 223ms\n",
      "869:\tlearn: 0.2307758\ttotal: 1.48s\tremaining: 221ms\n",
      "870:\tlearn: 0.2305234\ttotal: 1.48s\tremaining: 219ms\n",
      "871:\tlearn: 0.2303138\ttotal: 1.48s\tremaining: 217ms\n",
      "872:\tlearn: 0.2301118\ttotal: 1.48s\tremaining: 216ms\n",
      "873:\tlearn: 0.2299341\ttotal: 1.48s\tremaining: 214ms\n",
      "874:\tlearn: 0.2298421\ttotal: 1.49s\tremaining: 212ms\n",
      "875:\tlearn: 0.2296537\ttotal: 1.49s\tremaining: 210ms\n",
      "876:\tlearn: 0.2295320\ttotal: 1.49s\tremaining: 209ms\n",
      "877:\tlearn: 0.2293323\ttotal: 1.49s\tremaining: 207ms\n",
      "878:\tlearn: 0.2291065\ttotal: 1.49s\tremaining: 205ms\n",
      "879:\tlearn: 0.2290056\ttotal: 1.49s\tremaining: 203ms\n",
      "880:\tlearn: 0.2288441\ttotal: 1.49s\tremaining: 201ms\n",
      "881:\tlearn: 0.2286488\ttotal: 1.49s\tremaining: 200ms\n",
      "882:\tlearn: 0.2284458\ttotal: 1.49s\tremaining: 198ms\n",
      "883:\tlearn: 0.2282241\ttotal: 1.5s\tremaining: 196ms\n",
      "884:\tlearn: 0.2281035\ttotal: 1.5s\tremaining: 194ms\n",
      "885:\tlearn: 0.2279590\ttotal: 1.5s\tremaining: 193ms\n",
      "886:\tlearn: 0.2276715\ttotal: 1.5s\tremaining: 191ms\n",
      "887:\tlearn: 0.2274361\ttotal: 1.5s\tremaining: 189ms\n",
      "888:\tlearn: 0.2273725\ttotal: 1.5s\tremaining: 187ms\n",
      "889:\tlearn: 0.2272726\ttotal: 1.5s\tremaining: 186ms\n",
      "890:\tlearn: 0.2271302\ttotal: 1.5s\tremaining: 184ms\n",
      "891:\tlearn: 0.2269765\ttotal: 1.5s\tremaining: 182ms\n",
      "892:\tlearn: 0.2267137\ttotal: 1.5s\tremaining: 180ms\n",
      "893:\tlearn: 0.2266409\ttotal: 1.51s\tremaining: 179ms\n",
      "894:\tlearn: 0.2263844\ttotal: 1.51s\tremaining: 177ms\n",
      "895:\tlearn: 0.2261899\ttotal: 1.51s\tremaining: 175ms\n",
      "896:\tlearn: 0.2261499\ttotal: 1.51s\tremaining: 173ms\n",
      "897:\tlearn: 0.2257565\ttotal: 1.51s\tremaining: 172ms\n",
      "898:\tlearn: 0.2255875\ttotal: 1.51s\tremaining: 170ms\n",
      "899:\tlearn: 0.2252948\ttotal: 1.51s\tremaining: 168ms\n",
      "900:\tlearn: 0.2251146\ttotal: 1.51s\tremaining: 166ms\n",
      "901:\tlearn: 0.2248593\ttotal: 1.51s\tremaining: 165ms\n",
      "902:\tlearn: 0.2247346\ttotal: 1.52s\tremaining: 163ms\n",
      "903:\tlearn: 0.2246133\ttotal: 1.52s\tremaining: 161ms\n",
      "904:\tlearn: 0.2245159\ttotal: 1.52s\tremaining: 159ms\n",
      "905:\tlearn: 0.2242970\ttotal: 1.52s\tremaining: 158ms\n",
      "906:\tlearn: 0.2240381\ttotal: 1.52s\tremaining: 156ms\n",
      "907:\tlearn: 0.2238475\ttotal: 1.52s\tremaining: 154ms\n",
      "908:\tlearn: 0.2236161\ttotal: 1.52s\tremaining: 153ms\n",
      "909:\tlearn: 0.2234240\ttotal: 1.52s\tremaining: 151ms\n",
      "910:\tlearn: 0.2231558\ttotal: 1.52s\tremaining: 149ms\n",
      "911:\tlearn: 0.2229292\ttotal: 1.53s\tremaining: 147ms\n",
      "912:\tlearn: 0.2228464\ttotal: 1.53s\tremaining: 146ms\n",
      "913:\tlearn: 0.2225148\ttotal: 1.53s\tremaining: 144ms\n",
      "914:\tlearn: 0.2224393\ttotal: 1.53s\tremaining: 142ms\n",
      "915:\tlearn: 0.2222425\ttotal: 1.53s\tremaining: 140ms\n",
      "916:\tlearn: 0.2220787\ttotal: 1.53s\tremaining: 139ms\n",
      "917:\tlearn: 0.2219868\ttotal: 1.53s\tremaining: 137ms\n",
      "918:\tlearn: 0.2218976\ttotal: 1.53s\tremaining: 135ms\n",
      "919:\tlearn: 0.2216930\ttotal: 1.53s\tremaining: 134ms\n",
      "920:\tlearn: 0.2214784\ttotal: 1.54s\tremaining: 132ms\n",
      "921:\tlearn: 0.2213507\ttotal: 1.54s\tremaining: 130ms\n",
      "922:\tlearn: 0.2212816\ttotal: 1.54s\tremaining: 128ms\n",
      "923:\tlearn: 0.2211031\ttotal: 1.54s\tremaining: 127ms\n",
      "924:\tlearn: 0.2209999\ttotal: 1.54s\tremaining: 125ms\n",
      "925:\tlearn: 0.2208673\ttotal: 1.54s\tremaining: 123ms\n",
      "926:\tlearn: 0.2207393\ttotal: 1.54s\tremaining: 122ms\n",
      "927:\tlearn: 0.2204510\ttotal: 1.54s\tremaining: 120ms\n",
      "928:\tlearn: 0.2202894\ttotal: 1.54s\tremaining: 118ms\n",
      "929:\tlearn: 0.2202116\ttotal: 1.55s\tremaining: 116ms\n",
      "930:\tlearn: 0.2200540\ttotal: 1.55s\tremaining: 115ms\n",
      "931:\tlearn: 0.2199345\ttotal: 1.55s\tremaining: 113ms\n",
      "932:\tlearn: 0.2197472\ttotal: 1.55s\tremaining: 111ms\n",
      "933:\tlearn: 0.2195557\ttotal: 1.55s\tremaining: 110ms\n",
      "934:\tlearn: 0.2194389\ttotal: 1.55s\tremaining: 108ms\n",
      "935:\tlearn: 0.2193325\ttotal: 1.55s\tremaining: 106ms\n",
      "936:\tlearn: 0.2190529\ttotal: 1.55s\tremaining: 105ms\n",
      "937:\tlearn: 0.2189235\ttotal: 1.55s\tremaining: 103ms\n",
      "938:\tlearn: 0.2185791\ttotal: 1.56s\tremaining: 101ms\n",
      "939:\tlearn: 0.2184105\ttotal: 1.56s\tremaining: 99.4ms\n",
      "940:\tlearn: 0.2181993\ttotal: 1.56s\tremaining: 97.7ms\n",
      "941:\tlearn: 0.2180981\ttotal: 1.56s\tremaining: 96.1ms\n",
      "942:\tlearn: 0.2179667\ttotal: 1.56s\tremaining: 94.4ms\n",
      "943:\tlearn: 0.2178364\ttotal: 1.56s\tremaining: 92.7ms\n",
      "944:\tlearn: 0.2177071\ttotal: 1.56s\tremaining: 91ms\n",
      "945:\tlearn: 0.2175402\ttotal: 1.56s\tremaining: 89.3ms\n",
      "946:\tlearn: 0.2174386\ttotal: 1.57s\tremaining: 87.6ms\n",
      "947:\tlearn: 0.2173972\ttotal: 1.57s\tremaining: 86ms\n",
      "948:\tlearn: 0.2172897\ttotal: 1.57s\tremaining: 84.3ms\n",
      "949:\tlearn: 0.2170862\ttotal: 1.57s\tremaining: 82.6ms\n",
      "950:\tlearn: 0.2169793\ttotal: 1.57s\tremaining: 80.9ms\n",
      "951:\tlearn: 0.2168968\ttotal: 1.57s\tremaining: 79.3ms\n",
      "952:\tlearn: 0.2168267\ttotal: 1.57s\tremaining: 77.6ms\n",
      "953:\tlearn: 0.2166571\ttotal: 1.57s\tremaining: 75.9ms\n",
      "954:\tlearn: 0.2165493\ttotal: 1.57s\tremaining: 74.2ms\n",
      "955:\tlearn: 0.2163538\ttotal: 1.57s\tremaining: 72.5ms\n",
      "956:\tlearn: 0.2162095\ttotal: 1.58s\tremaining: 70.8ms\n",
      "957:\tlearn: 0.2160724\ttotal: 1.58s\tremaining: 69.2ms\n",
      "958:\tlearn: 0.2159167\ttotal: 1.58s\tremaining: 67.5ms\n",
      "959:\tlearn: 0.2157891\ttotal: 1.58s\tremaining: 65.9ms\n",
      "960:\tlearn: 0.2155311\ttotal: 1.58s\tremaining: 64.2ms\n",
      "961:\tlearn: 0.2154318\ttotal: 1.58s\tremaining: 62.5ms\n",
      "962:\tlearn: 0.2153672\ttotal: 1.58s\tremaining: 60.8ms\n",
      "963:\tlearn: 0.2151293\ttotal: 1.58s\tremaining: 59.2ms\n",
      "964:\tlearn: 0.2148266\ttotal: 1.59s\tremaining: 57.5ms\n",
      "965:\tlearn: 0.2146542\ttotal: 1.59s\tremaining: 55.9ms\n",
      "966:\tlearn: 0.2145753\ttotal: 1.59s\tremaining: 54.2ms\n",
      "967:\tlearn: 0.2144827\ttotal: 1.59s\tremaining: 52.6ms\n",
      "968:\tlearn: 0.2143169\ttotal: 1.59s\tremaining: 50.9ms\n",
      "969:\tlearn: 0.2142141\ttotal: 1.59s\tremaining: 49.2ms\n",
      "970:\tlearn: 0.2141830\ttotal: 1.59s\tremaining: 47.6ms\n",
      "971:\tlearn: 0.2140259\ttotal: 1.59s\tremaining: 45.9ms\n",
      "972:\tlearn: 0.2139473\ttotal: 1.59s\tremaining: 44.3ms\n",
      "973:\tlearn: 0.2136573\ttotal: 1.6s\tremaining: 42.6ms\n",
      "974:\tlearn: 0.2135865\ttotal: 1.6s\tremaining: 41ms\n",
      "975:\tlearn: 0.2134838\ttotal: 1.6s\tremaining: 39.3ms\n",
      "976:\tlearn: 0.2132243\ttotal: 1.6s\tremaining: 37.7ms\n",
      "977:\tlearn: 0.2129105\ttotal: 1.6s\tremaining: 36ms\n",
      "978:\tlearn: 0.2126416\ttotal: 1.6s\tremaining: 34.4ms\n",
      "979:\tlearn: 0.2124126\ttotal: 1.6s\tremaining: 32.7ms\n",
      "980:\tlearn: 0.2122915\ttotal: 1.6s\tremaining: 31.1ms\n",
      "981:\tlearn: 0.2120374\ttotal: 1.61s\tremaining: 29.4ms\n",
      "982:\tlearn: 0.2118776\ttotal: 1.61s\tremaining: 27.8ms\n",
      "983:\tlearn: 0.2116502\ttotal: 1.61s\tremaining: 26.1ms\n",
      "984:\tlearn: 0.2115693\ttotal: 1.61s\tremaining: 24.5ms\n",
      "985:\tlearn: 0.2114943\ttotal: 1.61s\tremaining: 22.9ms\n",
      "986:\tlearn: 0.2111702\ttotal: 1.61s\tremaining: 21.2ms\n",
      "987:\tlearn: 0.2110497\ttotal: 1.61s\tremaining: 19.6ms\n",
      "988:\tlearn: 0.2109954\ttotal: 1.61s\tremaining: 17.9ms\n",
      "989:\tlearn: 0.2109651\ttotal: 1.61s\tremaining: 16.3ms\n",
      "990:\tlearn: 0.2108885\ttotal: 1.62s\tremaining: 14.7ms\n",
      "991:\tlearn: 0.2107505\ttotal: 1.62s\tremaining: 13ms\n",
      "992:\tlearn: 0.2106227\ttotal: 1.62s\tremaining: 11.4ms\n",
      "993:\tlearn: 0.2105033\ttotal: 1.62s\tremaining: 9.77ms\n",
      "994:\tlearn: 0.2103500\ttotal: 1.62s\tremaining: 8.14ms\n",
      "995:\tlearn: 0.2102837\ttotal: 1.62s\tremaining: 6.51ms\n",
      "996:\tlearn: 0.2100934\ttotal: 1.62s\tremaining: 4.88ms\n",
      "997:\tlearn: 0.2100280\ttotal: 1.62s\tremaining: 3.25ms\n",
      "998:\tlearn: 0.2098796\ttotal: 1.62s\tremaining: 1.63ms\n",
      "999:\tlearn: 0.2098113\ttotal: 1.63s\tremaining: 0us\n"
     ]
    },
    {
     "data": {
      "text/plain": [
       "<catboost.core.CatBoostClassifier at 0x7f1baa4028f0>"
      ]
     },
     "execution_count": 96,
     "metadata": {},
     "output_type": "execute_result"
    }
   ],
   "source": [
    "# Begin training for catboost\n",
    "cat_boost_clf.fit(X_train, y_train)"
   ]
  },
  {
   "cell_type": "code",
   "execution_count": 101,
   "metadata": {
    "executionInfo": {
     "elapsed": 7,
     "status": "ok",
     "timestamp": 1684693617833,
     "user": {
      "displayName": "Pronay Ghosh",
      "userId": "02166950010115536194"
     },
     "user_tz": -330
    },
    "id": "FskqWj8bjzK2"
   },
   "outputs": [],
   "source": [
    "X_train[\"Pregnancies\"] = X_train[\"Pregnancies\"].astype(int)\n",
    "X_test[\"Pregnancies\"] = X_test[\"Pregnancies\"].astype(int)"
   ]
  },
  {
   "cell_type": "code",
   "execution_count": 102,
   "metadata": {
    "colab": {
     "base_uri": "https://localhost:8080/",
     "height": 248
    },
    "executionInfo": {
     "elapsed": 17,
     "status": "ok",
     "timestamp": 1684693621339,
     "user": {
      "displayName": "Pronay Ghosh",
      "userId": "02166950010115536194"
     },
     "user_tz": -330
    },
    "id": "hOSm3-zJimPs",
    "outputId": "c7522a60-8900-4fec-e860-9c4ff244e05c"
   },
   "outputs": [
    {
     "data": {
      "text/html": [
       "<style>#sk-container-id-6 {color: black;background-color: white;}#sk-container-id-6 pre{padding: 0;}#sk-container-id-6 div.sk-toggleable {background-color: white;}#sk-container-id-6 label.sk-toggleable__label {cursor: pointer;display: block;width: 100%;margin-bottom: 0;padding: 0.3em;box-sizing: border-box;text-align: center;}#sk-container-id-6 label.sk-toggleable__label-arrow:before {content: \"▸\";float: left;margin-right: 0.25em;color: #696969;}#sk-container-id-6 label.sk-toggleable__label-arrow:hover:before {color: black;}#sk-container-id-6 div.sk-estimator:hover label.sk-toggleable__label-arrow:before {color: black;}#sk-container-id-6 div.sk-toggleable__content {max-height: 0;max-width: 0;overflow: hidden;text-align: left;background-color: #f0f8ff;}#sk-container-id-6 div.sk-toggleable__content pre {margin: 0.2em;color: black;border-radius: 0.25em;background-color: #f0f8ff;}#sk-container-id-6 input.sk-toggleable__control:checked~div.sk-toggleable__content {max-height: 200px;max-width: 100%;overflow: auto;}#sk-container-id-6 input.sk-toggleable__control:checked~label.sk-toggleable__label-arrow:before {content: \"▾\";}#sk-container-id-6 div.sk-estimator input.sk-toggleable__control:checked~label.sk-toggleable__label {background-color: #d4ebff;}#sk-container-id-6 div.sk-label input.sk-toggleable__control:checked~label.sk-toggleable__label {background-color: #d4ebff;}#sk-container-id-6 input.sk-hidden--visually {border: 0;clip: rect(1px 1px 1px 1px);clip: rect(1px, 1px, 1px, 1px);height: 1px;margin: -1px;overflow: hidden;padding: 0;position: absolute;width: 1px;}#sk-container-id-6 div.sk-estimator {font-family: monospace;background-color: #f0f8ff;border: 1px dotted black;border-radius: 0.25em;box-sizing: border-box;margin-bottom: 0.5em;}#sk-container-id-6 div.sk-estimator:hover {background-color: #d4ebff;}#sk-container-id-6 div.sk-parallel-item::after {content: \"\";width: 100%;border-bottom: 1px solid gray;flex-grow: 1;}#sk-container-id-6 div.sk-label:hover label.sk-toggleable__label {background-color: #d4ebff;}#sk-container-id-6 div.sk-serial::before {content: \"\";position: absolute;border-left: 1px solid gray;box-sizing: border-box;top: 0;bottom: 0;left: 50%;z-index: 0;}#sk-container-id-6 div.sk-serial {display: flex;flex-direction: column;align-items: center;background-color: white;padding-right: 0.2em;padding-left: 0.2em;position: relative;}#sk-container-id-6 div.sk-item {position: relative;z-index: 1;}#sk-container-id-6 div.sk-parallel {display: flex;align-items: stretch;justify-content: center;background-color: white;position: relative;}#sk-container-id-6 div.sk-item::before, #sk-container-id-6 div.sk-parallel-item::before {content: \"\";position: absolute;border-left: 1px solid gray;box-sizing: border-box;top: 0;bottom: 0;left: 50%;z-index: -1;}#sk-container-id-6 div.sk-parallel-item {display: flex;flex-direction: column;z-index: 1;position: relative;background-color: white;}#sk-container-id-6 div.sk-parallel-item:first-child::after {align-self: flex-end;width: 50%;}#sk-container-id-6 div.sk-parallel-item:last-child::after {align-self: flex-start;width: 50%;}#sk-container-id-6 div.sk-parallel-item:only-child::after {width: 0;}#sk-container-id-6 div.sk-dashed-wrapped {border: 1px dashed gray;margin: 0 0.4em 0.5em 0.4em;box-sizing: border-box;padding-bottom: 0.4em;background-color: white;}#sk-container-id-6 div.sk-label label {font-family: monospace;font-weight: bold;display: inline-block;line-height: 1.2em;}#sk-container-id-6 div.sk-label-container {text-align: center;}#sk-container-id-6 div.sk-container {/* jupyter's `normalize.less` sets `[hidden] { display: none; }` but bootstrap.min.css set `[hidden] { display: none !important; }` so we also need the `!important` here to be able to override the default hidden behavior on the sphinx rendered scikit-learn.org. See: https://github.com/scikit-learn/scikit-learn/issues/21755 */display: inline-block !important;position: relative;}#sk-container-id-6 div.sk-text-repr-fallback {display: none;}</style><div id=\"sk-container-id-6\" class=\"sk-top-container\"><div class=\"sk-text-repr-fallback\"><pre>XGBClassifier(base_score=None, booster=None, callbacks=None,\n",
       "              colsample_bylevel=None, colsample_bynode=None,\n",
       "              colsample_bytree=None, early_stopping_rounds=None,\n",
       "              enable_categorical=False, eval_metric=None, feature_types=None,\n",
       "              gamma=None, gpu_id=None, grow_policy=None, importance_type=None,\n",
       "              interaction_constraints=None, learning_rate=None, max_bin=None,\n",
       "              max_cat_threshold=None, max_cat_to_onehot=None,\n",
       "              max_delta_step=None, max_depth=None, max_leaves=None,\n",
       "              min_child_weight=None, missing=nan, monotone_constraints=None,\n",
       "              n_estimators=100, n_jobs=None, num_parallel_tree=None,\n",
       "              predictor=None, random_state=None, ...)</pre><b>In a Jupyter environment, please rerun this cell to show the HTML representation or trust the notebook. <br />On GitHub, the HTML representation is unable to render, please try loading this page with nbviewer.org.</b></div><div class=\"sk-container\" hidden><div class=\"sk-item\"><div class=\"sk-estimator sk-toggleable\"><input class=\"sk-toggleable__control sk-hidden--visually\" id=\"sk-estimator-id-10\" type=\"checkbox\" checked><label for=\"sk-estimator-id-10\" class=\"sk-toggleable__label sk-toggleable__label-arrow\">XGBClassifier</label><div class=\"sk-toggleable__content\"><pre>XGBClassifier(base_score=None, booster=None, callbacks=None,\n",
       "              colsample_bylevel=None, colsample_bynode=None,\n",
       "              colsample_bytree=None, early_stopping_rounds=None,\n",
       "              enable_categorical=False, eval_metric=None, feature_types=None,\n",
       "              gamma=None, gpu_id=None, grow_policy=None, importance_type=None,\n",
       "              interaction_constraints=None, learning_rate=None, max_bin=None,\n",
       "              max_cat_threshold=None, max_cat_to_onehot=None,\n",
       "              max_delta_step=None, max_depth=None, max_leaves=None,\n",
       "              min_child_weight=None, missing=nan, monotone_constraints=None,\n",
       "              n_estimators=100, n_jobs=None, num_parallel_tree=None,\n",
       "              predictor=None, random_state=None, ...)</pre></div></div></div></div></div>"
      ],
      "text/plain": [
       "XGBClassifier(base_score=None, booster=None, callbacks=None,\n",
       "              colsample_bylevel=None, colsample_bynode=None,\n",
       "              colsample_bytree=None, early_stopping_rounds=None,\n",
       "              enable_categorical=False, eval_metric=None, feature_types=None,\n",
       "              gamma=None, gpu_id=None, grow_policy=None, importance_type=None,\n",
       "              interaction_constraints=None, learning_rate=None, max_bin=None,\n",
       "              max_cat_threshold=None, max_cat_to_onehot=None,\n",
       "              max_delta_step=None, max_depth=None, max_leaves=None,\n",
       "              min_child_weight=None, missing=nan, monotone_constraints=None,\n",
       "              n_estimators=100, n_jobs=None, num_parallel_tree=None,\n",
       "              predictor=None, random_state=None, ...)"
      ]
     },
     "execution_count": 102,
     "metadata": {},
     "output_type": "execute_result"
    }
   ],
   "source": [
    "xg_boost_classifier.fit(X_train, y_train)"
   ]
  },
  {
   "cell_type": "code",
   "execution_count": 103,
   "metadata": {
    "executionInfo": {
     "elapsed": 5,
     "status": "ok",
     "timestamp": 1684693688752,
     "user": {
      "displayName": "Pronay Ghosh",
      "userId": "02166950010115536194"
     },
     "user_tz": -330
    },
    "id": "FbP4pxSrjtao"
   },
   "outputs": [],
   "source": [
    "catboost_predictions = cat_boost_clf.predict(X_test)"
   ]
  },
  {
   "cell_type": "code",
   "execution_count": 104,
   "metadata": {
    "executionInfo": {
     "elapsed": 9,
     "status": "ok",
     "timestamp": 1684693711117,
     "user": {
      "displayName": "Pronay Ghosh",
      "userId": "02166950010115536194"
     },
     "user_tz": -330
    },
    "id": "zfCkJubakZzF"
   },
   "outputs": [],
   "source": [
    "xg_boost_classifier_predictions = xg_boost_classifier.predict(X_test)"
   ]
  },
  {
   "cell_type": "code",
   "execution_count": 106,
   "metadata": {
    "colab": {
     "base_uri": "https://localhost:8080/"
    },
    "executionInfo": {
     "elapsed": 6,
     "status": "ok",
     "timestamp": 1684693836249,
     "user": {
      "displayName": "Pronay Ghosh",
      "userId": "02166950010115536194"
     },
     "user_tz": -330
    },
    "id": "Vo973ECkkvwS",
    "outputId": "623091ec-2c5f-4e71-cc72-64a5839dff88"
   },
   "outputs": [
    {
     "name": "stdout",
     "output_type": "stream",
     "text": [
      "The accuracy score for xg_boost_classifier is : 1.0\n",
      "The accuracy score for catboost_predictions is : 0.9576547231270358\n"
     ]
    }
   ],
   "source": [
    "print(\"The accuracy score for xg_boost_classifier is :\", accuracy_score(xg_boost_classifier.predict(X_train), y_train))\n",
    "print(\"The accuracy score for catboost_predictions is :\", accuracy_score(cat_boost_clf.predict(X_train), y_train))"
   ]
  },
  {
   "cell_type": "code",
   "execution_count": 105,
   "metadata": {
    "colab": {
     "base_uri": "https://localhost:8080/"
    },
    "executionInfo": {
     "elapsed": 546,
     "status": "ok",
     "timestamp": 1684693767114,
     "user": {
      "displayName": "Pronay Ghosh",
      "userId": "02166950010115536194"
     },
     "user_tz": -330
    },
    "id": "oKbEnwdLkfTC",
    "outputId": "dbc69980-9553-4d94-982c-654f4024f291"
   },
   "outputs": [
    {
     "name": "stdout",
     "output_type": "stream",
     "text": [
      "The accuracy score for xg_boost_classifier is : 0.7207792207792207\n",
      "The accuracy score for catboost_predictions is : 0.7662337662337663\n"
     ]
    }
   ],
   "source": [
    "print(\"The accuracy score for xg_boost_classifier is :\", accuracy_score(xg_boost_classifier_predictions, y_test))\n",
    "print(\"The accuracy score for catboost_predictions is :\", accuracy_score(catboost_predictions, y_test))"
   ]
  },
  {
   "cell_type": "code",
   "execution_count": null,
   "metadata": {
    "id": "AHnBDDNNksu2"
   },
   "outputs": [],
   "source": []
  }
 ],
 "metadata": {
  "colab": {
   "provenance": []
  },
  "kernelspec": {
   "display_name": "Python 3 (ipykernel)",
   "language": "python",
   "name": "python3"
  },
  "language_info": {
   "codemirror_mode": {
    "name": "ipython",
    "version": 3
   },
   "file_extension": ".py",
   "mimetype": "text/x-python",
   "name": "python",
   "nbconvert_exporter": "python",
   "pygments_lexer": "ipython3",
   "version": "3.10.9"
  }
 },
 "nbformat": 4,
 "nbformat_minor": 1
}
